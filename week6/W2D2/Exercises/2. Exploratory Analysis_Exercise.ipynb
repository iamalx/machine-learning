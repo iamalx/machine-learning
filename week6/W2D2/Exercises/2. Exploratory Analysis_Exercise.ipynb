{
 "cells": [
  {
   "cell_type": "markdown",
   "metadata": {
    "colab_type": "text",
    "id": "RsLXTMOumAIG"
   },
   "source": [
    "<h1 style=\"font-size:42px; text-align:center; margin-bottom:30px;\"><span style=\"color:SteelBlue\">Your Turn: </span> Exploratory Analysis</h1>\n",
    "\n",
    "\n",
    "<br><hr id=\"toc\">\n",
    "\n",
    "### In this module...\n",
    "\n",
    "In this module, we'll go through the essential exploratory analysis steps:\n",
    "1. [Basic information](#basic)\n",
    "2. [Distributions of numeric features](#numeric)\n",
    "3. [Distributions of categorical features](#categorical)\n",
    "4. [Segmentations](#segmentations)\n",
    "5. [Advanced segmentations](#advanced-segmentations) \n",
    "\n",
    "\n",
    "This time, however, you'll be in the driver's seat.\n",
    "<br><hr>"
   ]
  },
  {
   "cell_type": "markdown",
   "metadata": {
    "colab_type": "text",
    "id": "KQ6pXVfrmAII"
   },
   "source": [
    "### First, let's import libraries and load the dataset."
   ]
  },
  {
   "cell_type": "code",
   "execution_count": null,
   "metadata": {
    "colab": {},
    "colab_type": "code",
    "id": "wcXsguyXmAIK"
   },
   "outputs": [],
   "source": [
    "# NumPy for numerical computing\n",
    "# Numerical\n",
    "import numpy as np\n",
    "import pandas as pd\n",
    "pd.set_option('display.max_columns', 100)\n",
    "\n",
    "# Data Viz\n",
    "import matplotlib.pyplot as plt\n",
    "import seaborn as sns\n",
    "\n",
    "# Pandas for DataFrames\n",
    "\n",
    "# Special Pandas option that adds a scroll bar, instead of \"...\"\n",
    "# for dataframes with lots of columns.\n",
    "\n",
    "\n",
    "# Matplotlib for visualization\n",
    "\n",
    "# Seaborn for easier visualization"
   ]
  },
  {
   "cell_type": "markdown",
   "metadata": {
    "colab_type": "text",
    "id": "EIFgTxX-mAIP"
   },
   "source": [
    "Next, let's import the dataset.\n",
    "* The file path is <code style=\"color:crimson\">'../../data/employee_data.csv'</code>"
   ]
  },
  {
   "cell_type": "code",
   "execution_count": null,
   "metadata": {
    "colab": {},
    "colab_type": "code",
    "id": "br9PdASmmAIR"
   },
   "outputs": [],
   "source": [
    "# Load employee data from CSV\n",
    "df = pd.read_csv('../data/employee_data.csv')\n",
    "df"
   ]
  },
  {
   "cell_type": "markdown",
   "metadata": {
    "colab_type": "text",
    "id": "uZLVnZxdmAIV"
   },
   "source": [
    "Now we're ready to jump into exploring the data!"
   ]
  },
  {
   "cell_type": "markdown",
   "metadata": {
    "colab_type": "text",
    "id": "2XcqLvMZmAIX"
   },
   "source": [
    "<span id=\"basic\"></span>\n",
    "# 1. Basic information\n",
    "\n",
    "Let's begin by displaying the dataset's basic information.\n",
    "\n",
    "<br>\n",
    "\n",
    "**First, display the <span style=\"color:royalblue\">dimensions</span> (a.k.a. shape) of the dataset.**"
   ]
  },
  {
   "cell_type": "code",
   "execution_count": null,
   "metadata": {
    "colab": {},
    "colab_type": "code",
    "id": "coBQYoC1mAIY"
   },
   "outputs": [],
   "source": [
    "# Dataframe dimensions\n",
    "df.shape"
   ]
  },
  {
   "cell_type": "markdown",
   "metadata": {
    "colab_type": "text",
    "id": "1AARuwXgmAId"
   },
   "source": [
    "**Next, display the <span style=\"color:royalblue\">datatypes</span> of the features.**\n",
    "* Which are the **numeric** features?\n",
    "* Which are the **categorical** features?"
   ]
  },
  {
   "cell_type": "code",
   "execution_count": 6,
   "metadata": {
    "colab": {},
    "colab_type": "code",
    "id": "i3eJ7k0WmAIe"
   },
   "outputs": [
    {
     "data": {
      "text/plain": [
       "avg_monthly_hrs        int64\n",
       "department            object\n",
       "filed_complaint      float64\n",
       "last_evaluation      float64\n",
       "n_projects             int64\n",
       "recently_promoted    float64\n",
       "salary                object\n",
       "satisfaction         float64\n",
       "status                object\n",
       "tenure               float64\n",
       "dtype: object"
      ]
     },
     "execution_count": 6,
     "metadata": {},
     "output_type": "execute_result"
    }
   ],
   "source": [
    "# Column datatypes\n",
    "df.dtypes"
   ]
  },
  {
   "cell_type": "markdown",
   "metadata": {
    "colab_type": "text",
    "id": "RnkLFepMmAIh"
   },
   "source": [
    "**Next, display the first 10 <span style=\"color:royalblue\">example observations</span> from the dataset.**\n",
    "* Remember, the purpose is not to perform rigorous analysis. \n",
    "* Instead, it's to get a **qualitative \"feel\"** for the dataset."
   ]
  },
  {
   "cell_type": "code",
   "execution_count": null,
   "metadata": {
    "colab": {},
    "colab_type": "code",
    "id": "RHvCkZNjmAIj"
   },
   "outputs": [],
   "source": [
    "# First 10 rows of data\n",
    "df.head(10)"
   ]
  },
  {
   "cell_type": "markdown",
   "metadata": {
    "colab_type": "text",
    "id": "_FkQBH2pmAIn"
   },
   "source": [
    "**Finally, display the last 10 rows of data to check for any signs of <span style=\"color:royalblue\">corrupted data</span>.**\n",
    "* Corrupted data will usually appear as a bunch of gibberish. It will be obvious.\n",
    "* Most of the time, you won't have corrupted data... but this is still a quick and easy check."
   ]
  },
  {
   "cell_type": "code",
   "execution_count": null,
   "metadata": {
    "colab": {},
    "colab_type": "code",
    "id": "r5oPtlwsmAIo"
   },
   "outputs": [],
   "source": [
    "# Last 10 rows of data\n",
    "df.tail(10)"
   ]
  },
  {
   "cell_type": "markdown",
   "metadata": {
    "colab_type": "text",
    "id": "_MddVmGXmAIu"
   },
   "source": [
    "<div style=\"text-align:center; margin: 40px 0 40px 0; font-weight:bold\">\n",
    "    \n",
    "[Back to Contents](#toc)\n",
    "</div>"
   ]
  },
  {
   "cell_type": "markdown",
   "metadata": {
    "colab_type": "text",
    "id": "S4LKzSHjmAIw"
   },
   "source": [
    "<span id=\"numeric\"></span>\n",
    "# 2. Distributions of numeric features\n",
    "\n",
    "One of the most enlightening data exploration tasks is plotting the distributions of your features.\n",
    "\n",
    "<br>\n",
    "\n",
    "**First, plot the Pandas <span style=\"color:royalblue\">histogram grid</span> for all the numeric features.** \n",
    "\n",
    "Feel free to mess around with the settings and formatting, but here are the settings we used for reference:\n",
    "* We made the figure size 10x10\n",
    "* We also rotated x-labels by -45 degrees"
   ]
  },
  {
   "cell_type": "code",
   "execution_count": 10,
   "metadata": {
    "colab": {},
    "colab_type": "code",
    "id": "iYt42lWVmAI0"
   },
   "outputs": [
    {
     "data": {
      "image/png": "[encoded data removed]",
      "text/plain": [
       "<Figure size 720x720 with 9 Axes>"
      ]
     },
     "metadata": {
      "needs_background": "light"
     },
     "output_type": "display_data"
    }
   ],
   "source": [
    "# # Plot histogram grid\n",
    "# plt.hist(df['status'])\n",
    "df.hist(xrot=45, figsize=(10,10))\n",
    "plt.show()"
   ]
  },
  {
   "cell_type": "code",
   "execution_count": null,
   "metadata": {},
   "outputs": [],
   "source": [
    "\n",
    "sns.countplot(df['avg_monthly_hrs'])\n"
   ]
  },
  {
   "cell_type": "markdown",
   "metadata": {
    "colab_type": "text",
    "id": "IB36WDiPmAI_"
   },
   "source": [
    "**Next, display formal <span style=\"color:royalblue\">summary statistics</span> for the numeric features.**"
   ]
  },
  {
   "cell_type": "code",
   "execution_count": 3,
   "metadata": {
    "colab": {},
    "colab_type": "code",
    "id": "CcwZq1WjmAJA",
    "scrolled": true
   },
   "outputs": [
    {
     "data": {
      "text/html": [
       "<div>\n",
       "<style scoped>\n",
       "    .dataframe tbody tr th:only-of-type {\n",
       "        vertical-align: middle;\n",
       "    }\n",
       "\n",
       "    .dataframe tbody tr th {\n",
       "        vertical-align: top;\n",
       "    }\n",
       "\n",
       "    .dataframe thead th {\n",
       "        text-align: right;\n",
       "    }\n",
       "</style>\n",
       "<table border=\"1\" class=\"dataframe\">\n",
       "  <thead>\n",
       "    <tr style=\"text-align: right;\">\n",
       "      <th></th>\n",
       "      <th>avg_monthly_hrs</th>\n",
       "      <th>filed_complaint</th>\n",
       "      <th>last_evaluation</th>\n",
       "      <th>n_projects</th>\n",
       "      <th>recently_promoted</th>\n",
       "      <th>satisfaction</th>\n",
       "      <th>tenure</th>\n",
       "    </tr>\n",
       "  </thead>\n",
       "  <tbody>\n",
       "    <tr>\n",
       "      <th>count</th>\n",
       "      <td>14249.000000</td>\n",
       "      <td>2058.0</td>\n",
       "      <td>12717.000000</td>\n",
       "      <td>14249.000000</td>\n",
       "      <td>300.0</td>\n",
       "      <td>14068.000000</td>\n",
       "      <td>14068.000000</td>\n",
       "    </tr>\n",
       "    <tr>\n",
       "      <th>mean</th>\n",
       "      <td>199.795775</td>\n",
       "      <td>1.0</td>\n",
       "      <td>0.718477</td>\n",
       "      <td>3.773809</td>\n",
       "      <td>1.0</td>\n",
       "      <td>0.621295</td>\n",
       "      <td>3.497228</td>\n",
       "    </tr>\n",
       "    <tr>\n",
       "      <th>std</th>\n",
       "      <td>50.998714</td>\n",
       "      <td>0.0</td>\n",
       "      <td>0.173062</td>\n",
       "      <td>1.253126</td>\n",
       "      <td>0.0</td>\n",
       "      <td>0.250469</td>\n",
       "      <td>1.460917</td>\n",
       "    </tr>\n",
       "    <tr>\n",
       "      <th>min</th>\n",
       "      <td>49.000000</td>\n",
       "      <td>1.0</td>\n",
       "      <td>0.316175</td>\n",
       "      <td>1.000000</td>\n",
       "      <td>1.0</td>\n",
       "      <td>0.040058</td>\n",
       "      <td>2.000000</td>\n",
       "    </tr>\n",
       "    <tr>\n",
       "      <th>25%</th>\n",
       "      <td>155.000000</td>\n",
       "      <td>1.0</td>\n",
       "      <td>0.563866</td>\n",
       "      <td>3.000000</td>\n",
       "      <td>1.0</td>\n",
       "      <td>0.450390</td>\n",
       "      <td>3.000000</td>\n",
       "    </tr>\n",
       "    <tr>\n",
       "      <th>50%</th>\n",
       "      <td>199.000000</td>\n",
       "      <td>1.0</td>\n",
       "      <td>0.724939</td>\n",
       "      <td>4.000000</td>\n",
       "      <td>1.0</td>\n",
       "      <td>0.652527</td>\n",
       "      <td>3.000000</td>\n",
       "    </tr>\n",
       "    <tr>\n",
       "      <th>75%</th>\n",
       "      <td>245.000000</td>\n",
       "      <td>1.0</td>\n",
       "      <td>0.871358</td>\n",
       "      <td>5.000000</td>\n",
       "      <td>1.0</td>\n",
       "      <td>0.824951</td>\n",
       "      <td>4.000000</td>\n",
       "    </tr>\n",
       "    <tr>\n",
       "      <th>max</th>\n",
       "      <td>310.000000</td>\n",
       "      <td>1.0</td>\n",
       "      <td>1.000000</td>\n",
       "      <td>7.000000</td>\n",
       "      <td>1.0</td>\n",
       "      <td>1.000000</td>\n",
       "      <td>10.000000</td>\n",
       "    </tr>\n",
       "  </tbody>\n",
       "</table>\n",
       "</div>"
      ],
      "text/plain": [
       "       avg_monthly_hrs  filed_complaint  last_evaluation    n_projects  \\\n",
       "count     14249.000000           2058.0     12717.000000  14249.000000   \n",
       "mean        199.795775              1.0         0.718477      3.773809   \n",
       "std          50.998714              0.0         0.173062      1.253126   \n",
       "min          49.000000              1.0         0.316175      1.000000   \n",
       "25%         155.000000              1.0         0.563866      3.000000   \n",
       "50%         199.000000              1.0         0.724939      4.000000   \n",
       "75%         245.000000              1.0         0.871358      5.000000   \n",
       "max         310.000000              1.0         1.000000      7.000000   \n",
       "\n",
       "       recently_promoted  satisfaction        tenure  \n",
       "count              300.0  14068.000000  14068.000000  \n",
       "mean                 1.0      0.621295      3.497228  \n",
       "std                  0.0      0.250469      1.460917  \n",
       "min                  1.0      0.040058      2.000000  \n",
       "25%                  1.0      0.450390      3.000000  \n",
       "50%                  1.0      0.652527      3.000000  \n",
       "75%                  1.0      0.824951      4.000000  \n",
       "max                  1.0      1.000000     10.000000  "
      ]
     },
     "execution_count": 3,
     "metadata": {},
     "output_type": "execute_result"
    }
   ],
   "source": [
    "# Summarize numerical features\n",
    "df.describe()\n"
   ]
  },
  {
   "cell_type": "markdown",
   "metadata": {
    "colab_type": "text",
    "id": "S4bwOSjWmAJE"
   },
   "source": [
    "<div style=\"text-align:center; margin: 40px 0 40px 0; font-weight:bold\">\n",
    "    \n",
    "[Back to Contents](#toc)\n",
    "</div>"
   ]
  },
  {
   "cell_type": "markdown",
   "metadata": {
    "colab_type": "text",
    "id": "MEfdLJVemAJF"
   },
   "source": [
    "<span id=\"categorical\"></span>\n",
    "# 3. Distributions of categorical features\n",
    "\n",
    "Next, let's take a look at the distributions of our categorical features.\n",
    "\n",
    "<br>\n",
    "\n",
    "**First, display the <span style=\"color:royalblue\">summary statistics</span> for categorical features in the dataset.**"
   ]
  },
  {
   "cell_type": "code",
   "execution_count": 13,
   "metadata": {
    "colab": {},
    "colab_type": "code",
    "id": "7eqkVgbYmAJG"
   },
   "outputs": [
    {
     "data": {
      "text/html": [
       "<div>\n",
       "<style scoped>\n",
       "    .dataframe tbody tr th:only-of-type {\n",
       "        vertical-align: middle;\n",
       "    }\n",
       "\n",
       "    .dataframe tbody tr th {\n",
       "        vertical-align: top;\n",
       "    }\n",
       "\n",
       "    .dataframe thead th {\n",
       "        text-align: right;\n",
       "    }\n",
       "</style>\n",
       "<table border=\"1\" class=\"dataframe\">\n",
       "  <thead>\n",
       "    <tr style=\"text-align: right;\">\n",
       "      <th></th>\n",
       "      <th>department</th>\n",
       "      <th>salary</th>\n",
       "      <th>status</th>\n",
       "    </tr>\n",
       "  </thead>\n",
       "  <tbody>\n",
       "    <tr>\n",
       "      <th>count</th>\n",
       "      <td>13540</td>\n",
       "      <td>14249</td>\n",
       "      <td>14249</td>\n",
       "    </tr>\n",
       "    <tr>\n",
       "      <th>unique</th>\n",
       "      <td>12</td>\n",
       "      <td>3</td>\n",
       "      <td>2</td>\n",
       "    </tr>\n",
       "    <tr>\n",
       "      <th>top</th>\n",
       "      <td>sales</td>\n",
       "      <td>low</td>\n",
       "      <td>Employed</td>\n",
       "    </tr>\n",
       "    <tr>\n",
       "      <th>freq</th>\n",
       "      <td>3923</td>\n",
       "      <td>6952</td>\n",
       "      <td>10857</td>\n",
       "    </tr>\n",
       "  </tbody>\n",
       "</table>\n",
       "</div>"
      ],
      "text/plain": [
       "       department salary    status\n",
       "count       13540  14249     14249\n",
       "unique         12      3         2\n",
       "top         sales    low  Employed\n",
       "freq         3923   6952     10857"
      ]
     },
     "execution_count": 13,
     "metadata": {},
     "output_type": "execute_result"
    }
   ],
   "source": [
    "# Summarize categorical features\n",
    "df.describe(include='object')"
   ]
  },
  {
   "cell_type": "markdown",
   "metadata": {
    "colab_type": "text",
    "id": "Mt3CGrchmAJJ"
   },
   "source": [
    "**Using a loop, display <span style=\"color:royalblue\">bar plots</span> for each of the categorical features.**"
   ]
  },
  {
   "cell_type": "code",
   "execution_count": 15,
   "metadata": {
    "colab": {},
    "colab_type": "code",
    "id": "mcH5wFRImAJK"
   },
   "outputs": [
    {
     "data": {
      "image/png": "[encoded data removed]",
      "text/plain": [
       "<Figure size 432x288 with 1 Axes>"
      ]
     },
     "metadata": {
      "needs_background": "light"
     },
     "output_type": "display_data"
    },
    {
     "data": {
      "image/png": "[encoded data removed]",
      "text/plain": [
       "<Figure size 432x288 with 1 Axes>"
      ]
     },
     "metadata": {
      "needs_background": "light"
     },
     "output_type": "display_data"
    },
    {
     "data": {
      "image/png": "[encoded data removed]",
      "text/plain": [
       "<Figure size 432x288 with 1 Axes>"
      ]
     },
     "metadata": {
      "needs_background": "light"
     },
     "output_type": "display_data"
    }
   ],
   "source": [
    "# Plot bar plot for each categorical feature\n",
    "\n",
    "for wasa in df.dtypes[df.dtypes == 'object'].index:\n",
    "    sns.countplot(y=wasa, data=df)\n",
    "#     or sns.countplot([cat_feature])\n",
    "    plt.show()"
   ]
  },
  {
   "cell_type": "markdown",
   "metadata": {
    "colab_type": "text",
    "id": "FL0b67_fmAJP"
   },
   "source": [
    "<div style=\"text-align:center; margin: 40px 0 40px 0; font-weight:bold\">\n",
    "    \n",
    "[Back to Contents](#toc)\n",
    "</div>"
   ]
  },
  {
   "cell_type": "markdown",
   "metadata": {
    "colab_type": "text",
    "id": "7ohQw61HmAJQ"
   },
   "source": [
    "<span id=\"segmentations\"></span>\n",
    "# 4. Segmentations\n",
    "\n",
    "Next, let's create some segmentations. Segmentations are powerful ways to cut the data to observe the relationship between categorical features and numeric features.\n",
    "\n",
    "The code is provided in this section as we didn't cover it in our lesson. If everything was done properly upto this point, you should be able to just execute the code below to display the charts.\n",
    "\n",
    "**First, display a <span style=\"color:royalblue\">violin plot</span> with <code style=\"color:steelblue\">'status'</code> on the y-axis and <code style=\"color:steelblue\">'satisfaction'</code> on the x-axis.**"
   ]
  },
  {
   "cell_type": "code",
   "execution_count": null,
   "metadata": {
    "colab": {},
    "colab_type": "code",
    "id": "-3BvZQI4mAJS"
   },
   "outputs": [],
   "source": [
    "# Segment satisfaction by status and plot distributions\n",
    "sns.violinplot(y=\"status\", x=\"satisfaction\", data=df)"
   ]
  },
  {
   "cell_type": "markdown",
   "metadata": {
    "colab_type": "text",
    "id": "zhCjfX8imAJW"
   },
   "source": [
    "**Next, display a violin plot that segments <code style=\"color:steelblue\">'last_evaluation'</code> by <code style=\"color:steelblue\">'status'</code>.**"
   ]
  },
  {
   "cell_type": "code",
   "execution_count": null,
   "metadata": {
    "colab": {},
    "colab_type": "code",
    "id": "xEH6VMhbmAJY"
   },
   "outputs": [],
   "source": [
    "# Segment last_evaluation by status and plot distributions\n",
    "sns.violinplot(y=\"status\", x=\"last_evaluation\", data=df)"
   ]
  },
  {
   "cell_type": "markdown",
   "metadata": {
    "colab_type": "text",
    "id": "luoQJb2NmAJe"
   },
   "source": [
    "**<span style=\"color:royalblue\">Group by</span> <code style=\"color:steelblue\">'status'</code> and calculate the average value of each feature within each class.**"
   ]
  },
  {
   "cell_type": "code",
   "execution_count": null,
   "metadata": {
    "colab": {},
    "colab_type": "code",
    "id": "kruNN-PGmAJf"
   },
   "outputs": [],
   "source": [
    "# Segment by status and display the means within each class\n",
    "df.groupby('status').mean()"
   ]
  },
  {
   "cell_type": "markdown",
   "metadata": {
    "colab_type": "text",
    "id": "31n3dxCimAJp"
   },
   "source": [
    "<div style=\"text-align:center; margin: 40px 0 40px 0; font-weight:bold\">\n",
    "    \n",
    "[Back to Contents](#toc)\n",
    "</div>"
   ]
  },
  {
   "cell_type": "markdown",
   "metadata": {
    "colab_type": "text",
    "id": "zk-9-2b6mAJq"
   },
   "source": [
    "<span id=\"advanced-segmentations\"></span>\n",
    "# 5. Advanced segmentations\n",
    "\n",
    "Because the target variable is categorical, it can often be helpful to expand your segmentation analysis. \n",
    "\n",
    "<br>\n",
    "\n",
    "**Now, we'll see how to do bivariate segmentations, which can be produced with the <code style=\"color:steelblue\">sns.lmplot()</code> function from the Seaborn library.**\n",
    "* <code style=\"color:steelblue\">sns.lmplot()</code> is essentially a regular **scatterplot** with additional options.\n",
    "* For example, we can color each point based on its <code style=\"color:steelblue\">'status'</code>.\n",
    "* To do so, we'll use the <code style=\"color:steelblue\">hue=</code> argument."
   ]
  },
  {
   "cell_type": "code",
   "execution_count": null,
   "metadata": {
    "colab": {},
    "colab_type": "code",
    "id": "RBjfMVJ8mAJs"
   },
   "outputs": [],
   "source": [
    "# Scatterplot of satisfaction vs. last_evaluation\n",
    "sns.lmplot(y=\"satisfaction\", x=\"last_evaluation\", data=df, hue='status', fit_reg=None)"
   ]
  },
  {
   "cell_type": "markdown",
   "metadata": {
    "colab_type": "text",
    "id": "8Ck8XRj-mAJy"
   },
   "source": [
    "**Plot another scatterplot of <code style=\"color:steelblue\">'satisfaction'</code> and <code style=\"color:steelblue\">'last_evaluation'</code>, but only for employees who have <code style=\"color:crimson\">'Left'</code>.**\n",
    "* **Hint:** Do you still need the <code style=\"color:steelblue\">hue=</code> argument?\n",
    "* **Hint:** How might you change the <code style=\"color:steelblue\">data=df</code> argument?"
   ]
  },
  {
   "cell_type": "code",
   "execution_count": null,
   "metadata": {
    "colab": {},
    "colab_type": "code",
    "id": "Mkp1e1HPmAJ0"
   },
   "outputs": [],
   "source": [
    "# Scatterplot of satisfaction vs. last_evaluation, only those who have left\n",
    "sns.lmplot(y=\"satisfaction\", x=\"last_evaluation\", data=df[df.status == 'Left'], hue='status', fit_reg=None)"
   ]
  },
  {
   "cell_type": "markdown",
   "metadata": {
    "colab_type": "text",
    "id": "DM2RegxTmAJ4"
   },
   "source": [
    "<div style=\"text-align:center; margin: 40px 0 40px 0; font-weight:bold\">\n",
    "    \n",
    "[Back to Contents](#toc)\n",
    "   \n",
    "</div>"
   ]
  },
  {
   "cell_type": "markdown",
   "metadata": {
    "colab_type": "text",
    "id": "3kRvyQo9mAJ5"
   },
   "source": [
    "<br>\n",
    "\n",
    "Congratulations for making through Exploratory Analysis!\n",
    "\n",
    "As a reminder, here are a few things you did in this module:\n",
    "* You explored basic information about your dataset.\n",
    "* You plotted distributions of numeric and categorical features.\n",
    "* You segmented your dataset by <code style=\"color:steelblue\">'status'</code>.\n",
    "* And you dove into some advanced, bivariate segmentations.\n",
    "\n",
    "<div style=\"text-align:center; margin: 40px 0 40px 0; font-weight:bold\">\n",
    "    \n",
    "[Back to Contents](#toc)\n",
    "\n",
    "</div>"
   ]
  },
  {
   "cell_type": "code",
   "execution_count": null,
   "metadata": {},
   "outputs": [],
   "source": []
  },
  {
   "cell_type": "code",
   "execution_count": null,
   "metadata": {},
   "outputs": [],
   "source": []
  }
 ],
 "metadata": {
  "colab": {
   "name": "Exercise 1 - Exploratory Analysis.ipynb",
   "provenance": [],
   "version": "0.3.2"
  },
  "kernelspec": {
   "display_name": "Python 3",
   "language": "python",
   "name": "python3"
  },
  "language_info": {
   "codemirror_mode": {
    "name": "ipython",
    "version": 3
   },
   "file_extension": ".py",
   "mimetype": "text/x-python",
   "name": "python",
   "nbconvert_exporter": "python",
   "pygments_lexer": "ipython3",
   "version": "3.7.3"
  }
 },
 "nbformat": 4,
 "nbformat_minor": 1
}
