{
 "cells": [
  {
   "cell_type": "code",
   "execution_count": 3,
   "metadata": {},
   "outputs": [],
   "source": [
    "import numpy as np\n",
    "import pandas as pd\n",
    "import matplotlib.pyplot as plt\n",
    "import matplotlib.ticker as ticker\n",
    "import seaborn as sns; sns.set()"
   ]
  },
  {
   "cell_type": "code",
   "execution_count": 17,
   "metadata": {},
   "outputs": [],
   "source": [
    "usa = pd.read_csv('../../DS201-1 W1D2/data/census_2015/acs2015_county_data.csv')"
   ]
  },
  {
   "cell_type": "code",
   "execution_count": 18,
   "metadata": {},
   "outputs": [],
   "source": [
    "mi = usa[usa['State'] == 'Michigan']"
   ]
  },
  {
   "cell_type": "code",
   "execution_count": 19,
   "metadata": {
    "scrolled": false
   },
   "outputs": [
    {
     "name": "stdout",
     "output_type": "stream",
     "text": [
      "<class 'pandas.core.frame.DataFrame'>\n",
      "Int64Index: 83 entries, 1231 to 1313\n",
      "Data columns (total 37 columns):\n",
      "CensusId           83 non-null int64\n",
      "State              83 non-null object\n",
      "County             83 non-null object\n",
      "TotalPop           83 non-null int64\n",
      "Men                83 non-null int64\n",
      "Women              83 non-null int64\n",
      "Hispanic           83 non-null float64\n",
      "White              83 non-null float64\n",
      "Black              83 non-null float64\n",
      "Native             83 non-null float64\n",
      "Asian              83 non-null float64\n",
      "Pacific            83 non-null float64\n",
      "Citizen            83 non-null int64\n",
      "Income             83 non-null float64\n",
      "IncomeErr          83 non-null float64\n",
      "IncomePerCap       83 non-null int64\n",
      "IncomePerCapErr    83 non-null int64\n",
      "Poverty            83 non-null float64\n",
      "ChildPoverty       83 non-null float64\n",
      "Professional       83 non-null float64\n",
      "Service            83 non-null float64\n",
      "Office             83 non-null float64\n",
      "Construction       83 non-null float64\n",
      "Production         83 non-null float64\n",
      "Drive              83 non-null float64\n",
      "Carpool            83 non-null float64\n",
      "Transit            83 non-null float64\n",
      "Walk               83 non-null float64\n",
      "OtherTransp        83 non-null float64\n",
      "WorkAtHome         83 non-null float64\n",
      "MeanCommute        83 non-null float64\n",
      "Employed           83 non-null int64\n",
      "PrivateWork        83 non-null float64\n",
      "PublicWork         83 non-null float64\n",
      "SelfEmployed       83 non-null float64\n",
      "FamilyWork         83 non-null float64\n",
      "Unemployment       83 non-null float64\n",
      "dtypes: float64(27), int64(8), object(2)\n",
      "memory usage: 24.6+ KB\n"
     ]
    }
   ],
   "source": [
    "mi.info()"
   ]
  },
  {
   "cell_type": "markdown",
   "metadata": {},
   "source": [
    "<br>"
   ]
  },
  {
   "cell_type": "markdown",
   "metadata": {},
   "source": [
    "### Scatter"
   ]
  },
  {
   "cell_type": "code",
   "execution_count": 20,
   "metadata": {
    "scrolled": true
   },
   "outputs": [
    {
     "data": {
      "image/png": "[encoded data removed]",
      "text/plain": [
       "<Figure size 432x288 with 1 Axes>"
      ]
     },
     "metadata": {
      "needs_background": "light"
     },
     "output_type": "display_data"
    }
   ],
   "source": [
    "feat1 = \"TotalPop\"\n",
    "feat2 = \"SelfEmployed\"\n",
    "# feat3 = \"Income\"\n",
    "\n",
    "sns.scatterplot(x= feat2, y= feat1, data=mi)\n",
    "plt.show()"
   ]
  },
  {
   "cell_type": "markdown",
   "metadata": {},
   "source": [
    "### Covariance"
   ]
  },
  {
   "cell_type": "code",
   "execution_count": 21,
   "metadata": {},
   "outputs": [
    {
     "data": {
      "text/plain": [
       "array([[ 5.30749045e+00, -4.58600567e+03],\n",
       "       [-4.58600567e+03,  1.46926888e+07]])"
      ]
     },
     "execution_count": 21,
     "metadata": {},
     "output_type": "execute_result"
    }
   ],
   "source": [
    "np.cov(mi[\"Unemployment\"], mi[\"IncomePerCap\"])"
   ]
  },
  {
   "cell_type": "markdown",
   "metadata": {},
   "source": [
    "<br>"
   ]
  },
  {
   "cell_type": "markdown",
   "metadata": {},
   "source": [
    "### Pearson Correlation Coefficient\n",
    "\n",
    "Between -1 and 1"
   ]
  },
  {
   "cell_type": "code",
   "execution_count": 22,
   "metadata": {},
   "outputs": [],
   "source": [
    "def pearson_coeff(feat_1, feat_2, df):\n",
    "    \n",
    "    x = df[feat_1]\n",
    "    y = df[feat_2]\n",
    "    \n",
    "    covar = np.cov(x,y)[0,1]\n",
    "    std_x = np.std(x)\n",
    "    std_y = np.std(y)\n",
    "    \n",
    "    \n",
    "    print('Pearson Correlation Coefficient:')\n",
    "    print(feat_1, \"VS.\", feat_2)\n",
    "    \n",
    "    return covar / (std_x * std_y)"
   ]
  },
  {
   "cell_type": "code",
   "execution_count": 23,
   "metadata": {},
   "outputs": [
    {
     "name": "stdout",
     "output_type": "stream",
     "text": [
      "Pearson Correlation Coefficient:\n",
      "TotalPop VS. SelfEmployed\n"
     ]
    },
    {
     "data": {
      "text/plain": [
       "-0.42842554972729674"
      ]
     },
     "execution_count": 23,
     "metadata": {},
     "output_type": "execute_result"
    }
   ],
   "source": [
    "pearson_coeff(feat1, feat2, mi)"
   ]
  }
 ],
 "metadata": {
  "kernelspec": {
   "display_name": "Python 3",
   "language": "python",
   "name": "python3"
  },
  "language_info": {
   "codemirror_mode": {
    "name": "ipython",
    "version": 3
   },
   "file_extension": ".py",
   "mimetype": "text/x-python",
   "name": "python",
   "nbconvert_exporter": "python",
   "pygments_lexer": "ipython3",
   "version": "3.7.3"
  }
 },
 "nbformat": 4,
 "nbformat_minor": 2
}
