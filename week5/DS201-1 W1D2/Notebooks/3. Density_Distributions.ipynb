{
 "cells": [
  {
   "cell_type": "markdown",
   "metadata": {},
   "source": [
    "# Density Distributions"
   ]
  },
  {
   "cell_type": "markdown",
   "metadata": {},
   "source": [
    "#### Import Libraries"
   ]
  },
  {
   "cell_type": "code",
   "execution_count": 1,
   "metadata": {},
   "outputs": [],
   "source": [
    "import numpy as np\n",
    "import pandas as pd\n",
    "\n",
    "import matplotlib.pyplot as plt\n",
    "import seaborn as sns; sns.set()"
   ]
  },
  {
   "cell_type": "markdown",
   "metadata": {},
   "source": [
    "<br>"
   ]
  },
  {
   "cell_type": "markdown",
   "metadata": {},
   "source": [
    "#### Import Data"
   ]
  },
  {
   "cell_type": "code",
   "execution_count": 3,
   "metadata": {},
   "outputs": [],
   "source": [
    "usa = pd.read_csv('../data/census_2015/acs2015_census_tract_data.csv')"
   ]
  },
  {
   "cell_type": "markdown",
   "metadata": {},
   "source": [
    "<br>"
   ]
  },
  {
   "cell_type": "code",
   "execution_count": 12,
   "metadata": {},
   "outputs": [
    {
     "data": {
      "text/html": [
       "<div>\n",
       "<style scoped>\n",
       "    .dataframe tbody tr th:only-of-type {\n",
       "        vertical-align: middle;\n",
       "    }\n",
       "\n",
       "    .dataframe tbody tr th {\n",
       "        vertical-align: top;\n",
       "    }\n",
       "\n",
       "    .dataframe thead th {\n",
       "        text-align: right;\n",
       "    }\n",
       "</style>\n",
       "<table border=\"1\" class=\"dataframe\">\n",
       "  <thead>\n",
       "    <tr style=\"text-align: right;\">\n",
       "      <th></th>\n",
       "      <th>CensusTract</th>\n",
       "      <th>State</th>\n",
       "      <th>County</th>\n",
       "      <th>TotalPop</th>\n",
       "      <th>Men</th>\n",
       "      <th>Women</th>\n",
       "      <th>Hispanic</th>\n",
       "      <th>White</th>\n",
       "      <th>Black</th>\n",
       "      <th>Native</th>\n",
       "      <th>...</th>\n",
       "      <th>Walk</th>\n",
       "      <th>OtherTransp</th>\n",
       "      <th>WorkAtHome</th>\n",
       "      <th>MeanCommute</th>\n",
       "      <th>Employed</th>\n",
       "      <th>PrivateWork</th>\n",
       "      <th>PublicWork</th>\n",
       "      <th>SelfEmployed</th>\n",
       "      <th>FamilyWork</th>\n",
       "      <th>Unemployment</th>\n",
       "    </tr>\n",
       "  </thead>\n",
       "  <tbody>\n",
       "    <tr>\n",
       "      <th>0</th>\n",
       "      <td>1001020100</td>\n",
       "      <td>Alabama</td>\n",
       "      <td>Autauga</td>\n",
       "      <td>1948</td>\n",
       "      <td>940</td>\n",
       "      <td>1008</td>\n",
       "      <td>0.9</td>\n",
       "      <td>87.4</td>\n",
       "      <td>7.7</td>\n",
       "      <td>0.3</td>\n",
       "      <td>...</td>\n",
       "      <td>0.5</td>\n",
       "      <td>2.3</td>\n",
       "      <td>2.1</td>\n",
       "      <td>25.0</td>\n",
       "      <td>943</td>\n",
       "      <td>77.1</td>\n",
       "      <td>18.3</td>\n",
       "      <td>4.6</td>\n",
       "      <td>0.0</td>\n",
       "      <td>5.4</td>\n",
       "    </tr>\n",
       "    <tr>\n",
       "      <th>1</th>\n",
       "      <td>1001020200</td>\n",
       "      <td>Alabama</td>\n",
       "      <td>Autauga</td>\n",
       "      <td>2156</td>\n",
       "      <td>1059</td>\n",
       "      <td>1097</td>\n",
       "      <td>0.8</td>\n",
       "      <td>40.4</td>\n",
       "      <td>53.3</td>\n",
       "      <td>0.0</td>\n",
       "      <td>...</td>\n",
       "      <td>0.0</td>\n",
       "      <td>0.7</td>\n",
       "      <td>0.0</td>\n",
       "      <td>23.4</td>\n",
       "      <td>753</td>\n",
       "      <td>77.0</td>\n",
       "      <td>16.9</td>\n",
       "      <td>6.1</td>\n",
       "      <td>0.0</td>\n",
       "      <td>13.3</td>\n",
       "    </tr>\n",
       "    <tr>\n",
       "      <th>2</th>\n",
       "      <td>1001020300</td>\n",
       "      <td>Alabama</td>\n",
       "      <td>Autauga</td>\n",
       "      <td>2968</td>\n",
       "      <td>1364</td>\n",
       "      <td>1604</td>\n",
       "      <td>0.0</td>\n",
       "      <td>74.5</td>\n",
       "      <td>18.6</td>\n",
       "      <td>0.5</td>\n",
       "      <td>...</td>\n",
       "      <td>0.0</td>\n",
       "      <td>0.0</td>\n",
       "      <td>2.5</td>\n",
       "      <td>19.6</td>\n",
       "      <td>1373</td>\n",
       "      <td>64.1</td>\n",
       "      <td>23.6</td>\n",
       "      <td>12.3</td>\n",
       "      <td>0.0</td>\n",
       "      <td>6.2</td>\n",
       "    </tr>\n",
       "    <tr>\n",
       "      <th>3</th>\n",
       "      <td>1001020400</td>\n",
       "      <td>Alabama</td>\n",
       "      <td>Autauga</td>\n",
       "      <td>4423</td>\n",
       "      <td>2172</td>\n",
       "      <td>2251</td>\n",
       "      <td>10.5</td>\n",
       "      <td>82.8</td>\n",
       "      <td>3.7</td>\n",
       "      <td>1.6</td>\n",
       "      <td>...</td>\n",
       "      <td>0.0</td>\n",
       "      <td>2.6</td>\n",
       "      <td>1.6</td>\n",
       "      <td>25.3</td>\n",
       "      <td>1782</td>\n",
       "      <td>75.7</td>\n",
       "      <td>21.2</td>\n",
       "      <td>3.1</td>\n",
       "      <td>0.0</td>\n",
       "      <td>10.8</td>\n",
       "    </tr>\n",
       "    <tr>\n",
       "      <th>4</th>\n",
       "      <td>1001020500</td>\n",
       "      <td>Alabama</td>\n",
       "      <td>Autauga</td>\n",
       "      <td>10763</td>\n",
       "      <td>4922</td>\n",
       "      <td>5841</td>\n",
       "      <td>0.7</td>\n",
       "      <td>68.5</td>\n",
       "      <td>24.8</td>\n",
       "      <td>0.0</td>\n",
       "      <td>...</td>\n",
       "      <td>0.0</td>\n",
       "      <td>0.6</td>\n",
       "      <td>0.9</td>\n",
       "      <td>24.8</td>\n",
       "      <td>5037</td>\n",
       "      <td>67.1</td>\n",
       "      <td>27.6</td>\n",
       "      <td>5.3</td>\n",
       "      <td>0.0</td>\n",
       "      <td>4.2</td>\n",
       "    </tr>\n",
       "  </tbody>\n",
       "</table>\n",
       "<p>5 rows × 37 columns</p>\n",
       "</div>"
      ],
      "text/plain": [
       "   CensusTract    State   County  TotalPop   Men  Women  Hispanic  White  \\\n",
       "0   1001020100  Alabama  Autauga      1948   940   1008       0.9   87.4   \n",
       "1   1001020200  Alabama  Autauga      2156  1059   1097       0.8   40.4   \n",
       "2   1001020300  Alabama  Autauga      2968  1364   1604       0.0   74.5   \n",
       "3   1001020400  Alabama  Autauga      4423  2172   2251      10.5   82.8   \n",
       "4   1001020500  Alabama  Autauga     10763  4922   5841       0.7   68.5   \n",
       "\n",
       "   Black  Native  ...  Walk  OtherTransp  WorkAtHome  MeanCommute  Employed  \\\n",
       "0    7.7     0.3  ...   0.5          2.3         2.1         25.0       943   \n",
       "1   53.3     0.0  ...   0.0          0.7         0.0         23.4       753   \n",
       "2   18.6     0.5  ...   0.0          0.0         2.5         19.6      1373   \n",
       "3    3.7     1.6  ...   0.0          2.6         1.6         25.3      1782   \n",
       "4   24.8     0.0  ...   0.0          0.6         0.9         24.8      5037   \n",
       "\n",
       "   PrivateWork  PublicWork  SelfEmployed  FamilyWork  Unemployment  \n",
       "0         77.1        18.3           4.6         0.0           5.4  \n",
       "1         77.0        16.9           6.1         0.0          13.3  \n",
       "2         64.1        23.6          12.3         0.0           6.2  \n",
       "3         75.7        21.2           3.1         0.0          10.8  \n",
       "4         67.1        27.6           5.3         0.0           4.2  \n",
       "\n",
       "[5 rows x 37 columns]"
      ]
     },
     "execution_count": 12,
     "metadata": {},
     "output_type": "execute_result"
    }
   ],
   "source": [
    "usa.head()"
   ]
  },
  {
   "cell_type": "markdown",
   "metadata": {},
   "source": [
    "#### Extract The Census Data for California"
   ]
  },
  {
   "cell_type": "code",
   "execution_count": 10,
   "metadata": {},
   "outputs": [],
   "source": [
    "ca = usa[usa['State'] == 'California']\n",
    "\n"
   ]
  },
  {
   "cell_type": "markdown",
   "metadata": {},
   "source": [
    "<br>"
   ]
  },
  {
   "cell_type": "markdown",
   "metadata": {},
   "source": [
    "#### Initial Exploration"
   ]
  },
  {
   "cell_type": "code",
   "execution_count": 7,
   "metadata": {},
   "outputs": [
    {
     "data": {
      "text/html": [
       "<div>\n",
       "<style scoped>\n",
       "    .dataframe tbody tr th:only-of-type {\n",
       "        vertical-align: middle;\n",
       "    }\n",
       "\n",
       "    .dataframe tbody tr th {\n",
       "        vertical-align: top;\n",
       "    }\n",
       "\n",
       "    .dataframe thead th {\n",
       "        text-align: right;\n",
       "    }\n",
       "</style>\n",
       "<table border=\"1\" class=\"dataframe\">\n",
       "  <thead>\n",
       "    <tr style=\"text-align: right;\">\n",
       "      <th></th>\n",
       "      <th>CensusTract</th>\n",
       "      <th>State</th>\n",
       "      <th>County</th>\n",
       "      <th>TotalPop</th>\n",
       "      <th>Men</th>\n",
       "      <th>Women</th>\n",
       "      <th>Hispanic</th>\n",
       "      <th>White</th>\n",
       "      <th>Black</th>\n",
       "      <th>Native</th>\n",
       "      <th>...</th>\n",
       "      <th>Walk</th>\n",
       "      <th>OtherTransp</th>\n",
       "      <th>WorkAtHome</th>\n",
       "      <th>MeanCommute</th>\n",
       "      <th>Employed</th>\n",
       "      <th>PrivateWork</th>\n",
       "      <th>PublicWork</th>\n",
       "      <th>SelfEmployed</th>\n",
       "      <th>FamilyWork</th>\n",
       "      <th>Unemployment</th>\n",
       "    </tr>\n",
       "  </thead>\n",
       "  <tbody>\n",
       "    <tr>\n",
       "      <th>3560</th>\n",
       "      <td>6001400100</td>\n",
       "      <td>California</td>\n",
       "      <td>Alameda</td>\n",
       "      <td>2952</td>\n",
       "      <td>1454</td>\n",
       "      <td>1498</td>\n",
       "      <td>3.4</td>\n",
       "      <td>70.7</td>\n",
       "      <td>3.6</td>\n",
       "      <td>0.0</td>\n",
       "      <td>...</td>\n",
       "      <td>0.0</td>\n",
       "      <td>2.3</td>\n",
       "      <td>17.8</td>\n",
       "      <td>32.5</td>\n",
       "      <td>1522</td>\n",
       "      <td>75.5</td>\n",
       "      <td>10.0</td>\n",
       "      <td>14.5</td>\n",
       "      <td>0.0</td>\n",
       "      <td>5.6</td>\n",
       "    </tr>\n",
       "    <tr>\n",
       "      <th>3561</th>\n",
       "      <td>6001400200</td>\n",
       "      <td>California</td>\n",
       "      <td>Alameda</td>\n",
       "      <td>1984</td>\n",
       "      <td>938</td>\n",
       "      <td>1046</td>\n",
       "      <td>9.1</td>\n",
       "      <td>72.9</td>\n",
       "      <td>1.5</td>\n",
       "      <td>0.0</td>\n",
       "      <td>...</td>\n",
       "      <td>6.1</td>\n",
       "      <td>4.6</td>\n",
       "      <td>12.8</td>\n",
       "      <td>25.4</td>\n",
       "      <td>1222</td>\n",
       "      <td>73.4</td>\n",
       "      <td>13.3</td>\n",
       "      <td>12.8</td>\n",
       "      <td>0.5</td>\n",
       "      <td>2.2</td>\n",
       "    </tr>\n",
       "    <tr>\n",
       "      <th>3562</th>\n",
       "      <td>6001400300</td>\n",
       "      <td>California</td>\n",
       "      <td>Alameda</td>\n",
       "      <td>5377</td>\n",
       "      <td>2362</td>\n",
       "      <td>3015</td>\n",
       "      <td>6.9</td>\n",
       "      <td>62.1</td>\n",
       "      <td>12.9</td>\n",
       "      <td>0.2</td>\n",
       "      <td>...</td>\n",
       "      <td>6.5</td>\n",
       "      <td>4.6</td>\n",
       "      <td>10.7</td>\n",
       "      <td>29.5</td>\n",
       "      <td>3277</td>\n",
       "      <td>74.0</td>\n",
       "      <td>18.6</td>\n",
       "      <td>7.4</td>\n",
       "      <td>0.0</td>\n",
       "      <td>8.8</td>\n",
       "    </tr>\n",
       "    <tr>\n",
       "      <th>3563</th>\n",
       "      <td>6001400400</td>\n",
       "      <td>California</td>\n",
       "      <td>Alameda</td>\n",
       "      <td>4105</td>\n",
       "      <td>1933</td>\n",
       "      <td>2172</td>\n",
       "      <td>9.1</td>\n",
       "      <td>63.2</td>\n",
       "      <td>11.0</td>\n",
       "      <td>0.9</td>\n",
       "      <td>...</td>\n",
       "      <td>3.6</td>\n",
       "      <td>17.2</td>\n",
       "      <td>9.7</td>\n",
       "      <td>27.2</td>\n",
       "      <td>2614</td>\n",
       "      <td>69.7</td>\n",
       "      <td>19.2</td>\n",
       "      <td>10.9</td>\n",
       "      <td>0.2</td>\n",
       "      <td>3.3</td>\n",
       "    </tr>\n",
       "    <tr>\n",
       "      <th>3564</th>\n",
       "      <td>6001400500</td>\n",
       "      <td>California</td>\n",
       "      <td>Alameda</td>\n",
       "      <td>3651</td>\n",
       "      <td>1628</td>\n",
       "      <td>2023</td>\n",
       "      <td>14.2</td>\n",
       "      <td>51.7</td>\n",
       "      <td>24.3</td>\n",
       "      <td>0.0</td>\n",
       "      <td>...</td>\n",
       "      <td>3.8</td>\n",
       "      <td>9.1</td>\n",
       "      <td>15.1</td>\n",
       "      <td>28.6</td>\n",
       "      <td>2286</td>\n",
       "      <td>79.6</td>\n",
       "      <td>11.8</td>\n",
       "      <td>8.6</td>\n",
       "      <td>0.0</td>\n",
       "      <td>6.5</td>\n",
       "    </tr>\n",
       "  </tbody>\n",
       "</table>\n",
       "<p>5 rows × 37 columns</p>\n",
       "</div>"
      ],
      "text/plain": [
       "      CensusTract       State   County  TotalPop   Men  Women  Hispanic  \\\n",
       "3560   6001400100  California  Alameda      2952  1454   1498       3.4   \n",
       "3561   6001400200  California  Alameda      1984   938   1046       9.1   \n",
       "3562   6001400300  California  Alameda      5377  2362   3015       6.9   \n",
       "3563   6001400400  California  Alameda      4105  1933   2172       9.1   \n",
       "3564   6001400500  California  Alameda      3651  1628   2023      14.2   \n",
       "\n",
       "      White  Black  Native  ...  Walk  OtherTransp  WorkAtHome  MeanCommute  \\\n",
       "3560   70.7    3.6     0.0  ...   0.0          2.3        17.8         32.5   \n",
       "3561   72.9    1.5     0.0  ...   6.1          4.6        12.8         25.4   \n",
       "3562   62.1   12.9     0.2  ...   6.5          4.6        10.7         29.5   \n",
       "3563   63.2   11.0     0.9  ...   3.6         17.2         9.7         27.2   \n",
       "3564   51.7   24.3     0.0  ...   3.8          9.1        15.1         28.6   \n",
       "\n",
       "      Employed  PrivateWork  PublicWork  SelfEmployed  FamilyWork  \\\n",
       "3560      1522         75.5        10.0          14.5         0.0   \n",
       "3561      1222         73.4        13.3          12.8         0.5   \n",
       "3562      3277         74.0        18.6           7.4         0.0   \n",
       "3563      2614         69.7        19.2          10.9         0.2   \n",
       "3564      2286         79.6        11.8           8.6         0.0   \n",
       "\n",
       "      Unemployment  \n",
       "3560           5.6  \n",
       "3561           2.2  \n",
       "3562           8.8  \n",
       "3563           3.3  \n",
       "3564           6.5  \n",
       "\n",
       "[5 rows x 37 columns]"
      ]
     },
     "execution_count": 7,
     "metadata": {},
     "output_type": "execute_result"
    }
   ],
   "source": [
    "ca.head()"
   ]
  },
  {
   "cell_type": "markdown",
   "metadata": {},
   "source": [
    "<br>"
   ]
  },
  {
   "cell_type": "markdown",
   "metadata": {},
   "source": [
    "**Let's take a look at the column information**"
   ]
  },
  {
   "cell_type": "code",
   "execution_count": 35,
   "metadata": {
    "scrolled": true
   },
   "outputs": [
    {
     "name": "stdout",
     "output_type": "stream",
     "text": [
      "<class 'pandas.core.frame.DataFrame'>\n",
      "Int64Index: 8057 entries, 3560 to 11616\n",
      "Data columns (total 37 columns):\n",
      "CensusTract        8057 non-null int64\n",
      "State              8057 non-null object\n",
      "County             8057 non-null object\n",
      "TotalPop           8057 non-null int64\n",
      "Men                8057 non-null int64\n",
      "Women              8057 non-null int64\n",
      "Hispanic           8012 non-null float64\n",
      "White              8012 non-null float64\n",
      "Black              8012 non-null float64\n",
      "Native             8012 non-null float64\n",
      "Asian              8012 non-null float64\n",
      "Pacific            8012 non-null float64\n",
      "Citizen            8057 non-null int64\n",
      "Income             7956 non-null float64\n",
      "IncomeErr          7956 non-null float64\n",
      "IncomePerCap       8007 non-null float64\n",
      "IncomePerCapErr    8007 non-null float64\n",
      "Poverty            7987 non-null float64\n",
      "ChildPoverty       7959 non-null float64\n",
      "Professional       7989 non-null float64\n",
      "Service            7989 non-null float64\n",
      "Office             7989 non-null float64\n",
      "Construction       7989 non-null float64\n",
      "Production         7989 non-null float64\n",
      "Drive              7991 non-null float64\n",
      "Carpool            7991 non-null float64\n",
      "Transit            7991 non-null float64\n",
      "Walk               7991 non-null float64\n",
      "OtherTransp        7991 non-null float64\n",
      "WorkAtHome         7991 non-null float64\n",
      "MeanCommute        7971 non-null float64\n",
      "Employed           8057 non-null int64\n",
      "PrivateWork        7989 non-null float64\n",
      "PublicWork         7989 non-null float64\n",
      "SelfEmployed       7989 non-null float64\n",
      "FamilyWork         7989 non-null float64\n",
      "Unemployment       7991 non-null float64\n",
      "dtypes: float64(29), int64(6), object(2)\n",
      "memory usage: 2.6+ MB\n"
     ]
    }
   ],
   "source": [
    "ca.info()"
   ]
  },
  {
   "cell_type": "code",
   "execution_count": 37,
   "metadata": {},
   "outputs": [
    {
     "data": {
      "text/plain": [
       "3560     174113.0\n",
       "3561     141806.0\n",
       "3562      84598.0\n",
       "3563     102386.0\n",
       "3564      76038.0\n",
       "3565      60804.0\n",
       "3566      39614.0\n",
       "3567      59886.0\n",
       "3568      57003.0\n",
       "3569      44766.0\n",
       "3570      59500.0\n",
       "3571      78203.0\n",
       "3572      36788.0\n",
       "3573      28532.0\n",
       "3574      48490.0\n",
       "3575      37946.0\n",
       "3576      72386.0\n",
       "3577      26806.0\n",
       "3578      41500.0\n",
       "3579      29835.0\n",
       "3580      19042.0\n",
       "3581      20270.0\n",
       "3582      40169.0\n",
       "3583      17278.0\n",
       "3584      31319.0\n",
       "3585      17609.0\n",
       "3586      59250.0\n",
       "3587      57064.0\n",
       "3588      42982.0\n",
       "3589      40000.0\n",
       "           ...   \n",
       "11587     46458.0\n",
       "11588     45159.0\n",
       "11589     45658.0\n",
       "11590     38869.0\n",
       "11591     45833.0\n",
       "11592     70481.0\n",
       "11593     46397.0\n",
       "11594     40172.0\n",
       "11595     56667.0\n",
       "11596     82813.0\n",
       "11597     73250.0\n",
       "11598     86111.0\n",
       "11599     81447.0\n",
       "11600     65243.0\n",
       "11601     47456.0\n",
       "11602     59797.0\n",
       "11603     32376.0\n",
       "11604     45321.0\n",
       "11605     22034.0\n",
       "11606     26829.0\n",
       "11607     55640.0\n",
       "11608     27659.0\n",
       "11609     34274.0\n",
       "11610     44529.0\n",
       "11611     73750.0\n",
       "11612     63708.0\n",
       "11613     55319.0\n",
       "11614     34881.0\n",
       "11615     70882.0\n",
       "11616     34291.0\n",
       "Name: Income, Length: 8057, dtype: float64"
      ]
     },
     "execution_count": 37,
     "metadata": {},
     "output_type": "execute_result"
    }
   ],
   "source": [
    "ca['Income']"
   ]
  },
  {
   "cell_type": "code",
   "execution_count": null,
   "metadata": {},
   "outputs": [],
   "source": []
  },
  {
   "cell_type": "markdown",
   "metadata": {},
   "source": [
    "<br>"
   ]
  },
  {
   "cell_type": "markdown",
   "metadata": {},
   "source": [
    "**Let's check out the `value_counts()` for the `County` column.**"
   ]
  },
  {
   "cell_type": "code",
   "execution_count": 9,
   "metadata": {
    "scrolled": true
   },
   "outputs": [
    {
     "data": {
      "text/plain": [
       "Los Angeles        2346\n",
       "San Diego           628\n",
       "Orange              583\n",
       "Riverside           453\n",
       "Santa Clara         372\n",
       "San Bernardino      369\n",
       "Alameda             361\n",
       "Sacramento          317\n",
       "Contra Costa        208\n",
       "Fresno              199\n",
       "San Francisco       197\n",
       "Ventura             174\n",
       "San Mateo           158\n",
       "Kern                151\n",
       "San Joaquin         139\n",
       "Sonoma              100\n",
       "Solano               96\n",
       "Stanislaus           94\n",
       "Monterey             94\n",
       "Santa Barbara        90\n",
       "Placer               85\n",
       "Tulare               78\n",
       "Marin                56\n",
       "San Luis Obispo      54\n",
       "Santa Cruz           53\n",
       "Butte                51\n",
       "Merced               49\n",
       "Shasta               48\n",
       "El Dorado            43\n",
       "Yolo                 41\n",
       "Napa                 40\n",
       "Imperial             31\n",
       "Humboldt             31\n",
       "Kings                27\n",
       "Madera               23\n",
       "Sutter               21\n",
       "Mendocino            21\n",
       "Nevada               20\n",
       "Lake                 15\n",
       "Yuba                 14\n",
       "Siskiyou             14\n",
       "Tuolumne             11\n",
       "Tehama               11\n",
       "San Benito           11\n",
       "Calaveras            10\n",
       "Amador                9\n",
       "Lassen                9\n",
       "Del Norte             8\n",
       "Plumas                7\n",
       "Glenn                 6\n",
       "Mariposa              6\n",
       "Inyo                  6\n",
       "Trinity               5\n",
       "Colusa                5\n",
       "Modoc                 4\n",
       "Mono                  3\n",
       "Sierra                1\n",
       "Alpine                1\n",
       "Name: County, dtype: int64"
      ]
     },
     "execution_count": 9,
     "metadata": {},
     "output_type": "execute_result"
    }
   ],
   "source": [
    "ca['County'].value_counts()"
   ]
  },
  {
   "cell_type": "markdown",
   "metadata": {},
   "source": [
    "<br>"
   ]
  },
  {
   "cell_type": "markdown",
   "metadata": {},
   "source": [
    "### Plot Swarm of a single column"
   ]
  },
  {
   "cell_type": "markdown",
   "metadata": {},
   "source": [
    "Seaborn is a plotting library built on top of matplotlib, check out how easy it is to plot a swarm plot, which is a great plot for visualizing a distribution based on some other column."
   ]
  },
  {
   "cell_type": "code",
   "execution_count": 13,
   "metadata": {},
   "outputs": [
    {
     "data": {
      "image/png": "[encoded data removed]",
      "text/plain": [
       "<Figure size 432x288 with 1 Axes>"
      ]
     },
     "metadata": {
      "needs_background": "light"
     },
     "output_type": "display_data"
    }
   ],
   "source": [
    "sns.swarmplot(x = \"County\", y = \"Income\", data=ca)\n",
    "plt.show()"
   ]
  },
  {
   "cell_type": "markdown",
   "metadata": {},
   "source": [
    "<br>"
   ]
  },
  {
   "cell_type": "markdown",
   "metadata": {},
   "source": [
    "#### Limit the scope of the `ca` dataframe to only contain a few select counties."
   ]
  },
  {
   "cell_type": "markdown",
   "metadata": {},
   "source": [
    "We will be making a list containing the names of the counties that we are most interested in, as the plot above with ALL of the unique values of `County` is way too disorienting to provide any kind of meaningful information."
   ]
  },
  {
   "cell_type": "code",
   "execution_count": 16,
   "metadata": {},
   "outputs": [],
   "source": [
    "counties_to_examine = [\"San Joaquin\", \n",
    "                       \"Los Angeles\", \n",
    "                       \"San Diego\", \n",
    "                       \"Contra Costa\"]"
   ]
  },
  {
   "cell_type": "markdown",
   "metadata": {},
   "source": [
    "<br>"
   ]
  },
  {
   "cell_type": "markdown",
   "metadata": {},
   "source": [
    "**The pandas `.isin()` method, lets us check every value of a column against a list of values.**\n",
    "\n",
    "Think of it as an extension of `ca['County] == 'San Diego` which only lets us check against a single value.\n",
    "\n",
    "> This is WRONG `ca['County'] == ['San Diego','Los Angeles', etc]`\n",
    "\n",
    "> This is RIGHT `ca['County'].isin([counties_to_examine])`"
   ]
  },
  {
   "cell_type": "code",
   "execution_count": 24,
   "metadata": {},
   "outputs": [],
   "source": [
    "is_in_counties_list = ca['County'].isin(counties_to_examine)"
   ]
  },
  {
   "cell_type": "markdown",
   "metadata": {},
   "source": [
    "<br>"
   ]
  },
  {
   "cell_type": "markdown",
   "metadata": {},
   "source": [
    "* **TRUE:** The boolean series `is_in_counties_list` has a `True` value for any county that is contained in `counties_to_examine`, aka if the `County` value of a row in `ca` corresonds to `Los Angeles`, `San Joaquin`, `San Diego`, or `Contra Costa`, the boolean value at that same index, in `is_in_counties_list`, will be `True`.\n",
    "\n",
    "<br>\n",
    "\n",
    "* **FALSE:** The boolean series `is_in_counties_list` has a `False` value for any county that is NOT contained in `counties_to_examine`, aka if the `County` value of a row in `ca` corresonds to say `Orange County`, `Alameda`,`Santa Barbara`, `etc...`, the boolean value at that same index, in `is_in_counties_list`, will be `False`."
   ]
  },
  {
   "cell_type": "code",
   "execution_count": 25,
   "metadata": {},
   "outputs": [],
   "source": [
    "county_df = ca[is_in_counties_list]"
   ]
  },
  {
   "cell_type": "markdown",
   "metadata": {},
   "source": [
    "<br>"
   ]
  },
  {
   "cell_type": "markdown",
   "metadata": {},
   "source": [
    "**Lets go ahead and check the `unique` values of `County` in `county_df`, compare that to the `unique` values of `County` in `ca`. Its also useful to compare the `Shape`, notice that `county_df` has many fewer rows!**"
   ]
  },
  {
   "cell_type": "code",
   "execution_count": 26,
   "metadata": {},
   "outputs": [
    {
     "name": "stdout",
     "output_type": "stream",
     "text": [
      "----------\n",
      "county_df:\n",
      "----------\n",
      "Rows x Columns: (3321, 37)\n",
      "['Contra Costa' 'Los Angeles' 'San Diego' 'San Joaquin']\n",
      "\n",
      "----------\n",
      "ca:\n",
      "----------\n",
      "Rows x Columns: (8057, 37)\n",
      "['Alameda' 'Alpine' 'Amador' 'Butte' 'Calaveras' 'Colusa' 'Contra Costa'\n",
      " 'Del Norte' 'El Dorado' 'Fresno' 'Glenn' 'Humboldt' 'Imperial' 'Inyo'\n",
      " 'Kern' 'Kings' 'Lake' 'Lassen' 'Los Angeles' 'Madera' 'Marin' 'Mariposa'\n",
      " 'Mendocino' 'Merced' 'Modoc' 'Mono' 'Monterey' 'Napa' 'Nevada' 'Orange'\n",
      " 'Placer' 'Plumas' 'Riverside' 'Sacramento' 'San Benito' 'San Bernardino'\n",
      " 'San Diego' 'San Francisco' 'San Joaquin' 'San Luis Obispo' 'San Mateo'\n",
      " 'Santa Barbara' 'Santa Clara' 'Santa Cruz' 'Shasta' 'Sierra' 'Siskiyou'\n",
      " 'Solano' 'Sonoma' 'Stanislaus' 'Sutter' 'Tehama' 'Trinity' 'Tulare'\n",
      " 'Tuolumne' 'Ventura' 'Yolo' 'Yuba']\n"
     ]
    }
   ],
   "source": [
    "print(\"----------\")\n",
    "print(\"county_df:\")\n",
    "print(\"----------\")\n",
    "\n",
    "print(\"Rows x Columns:\", county_df.shape)\n",
    "print(county_df[\"County\"].unique())\n",
    "\n",
    "\n",
    "print()\n",
    "\n",
    "\n",
    "print(\"----------\")\n",
    "print(\"ca:\")\n",
    "print(\"----------\")\n",
    "\n",
    "print(\"Rows x Columns:\", ca.shape)\n",
    "print(ca[\"County\"].unique())"
   ]
  },
  {
   "cell_type": "markdown",
   "metadata": {},
   "source": [
    "<br>"
   ]
  },
  {
   "cell_type": "markdown",
   "metadata": {},
   "source": [
    "#### Plot Swarm of a single column - again."
   ]
  },
  {
   "cell_type": "code",
   "execution_count": 27,
   "metadata": {},
   "outputs": [
    {
     "data": {
      "image/png": "[encoded data removed]",
      "text/plain": [
       "<Figure size 432x288 with 1 Axes>"
      ]
     },
     "metadata": {
      "needs_background": "light"
     },
     "output_type": "display_data"
    }
   ],
   "source": [
    "_ = sns.swarmplot(x = \"County\", y = \"Income\", data=county_df)\n",
    "plt.show()"
   ]
  },
  {
   "cell_type": "markdown",
   "metadata": {},
   "source": [
    "**A Violin Plot is similar to a swarm plot, except we give up a bit of the granularity of the Swarm Plot, in favor of IQR and Median markers.**"
   ]
  },
  {
   "cell_type": "code",
   "execution_count": 28,
   "metadata": {},
   "outputs": [
    {
     "data": {
      "image/png": "[encoded data removed]",
      "text/plain": [
       "<Figure size 432x288 with 1 Axes>"
      ]
     },
     "metadata": {
      "needs_background": "light"
     },
     "output_type": "display_data"
    }
   ],
   "source": [
    "sns.violinplot(x = \"County\", y = \"Income\", data=county_df)\n",
    "plt.show()"
   ]
  },
  {
   "cell_type": "markdown",
   "metadata": {},
   "source": [
    "<br>"
   ]
  },
  {
   "cell_type": "markdown",
   "metadata": {},
   "source": [
    "### Plot ECDF of a single column.\n",
    "\n",
    "> **ECDF** = Empirical Cumulative Distribution Function"
   ]
  },
  {
   "cell_type": "code",
   "execution_count": 29,
   "metadata": {},
   "outputs": [],
   "source": [
    "def prep_ecdf(data):\n",
    "    \n",
    "    n = len(data)\n",
    "    x = np.sort(data)\n",
    "    y = np.arange(1, n + 1) / n\n",
    "\n",
    "    return x, y"
   ]
  },
  {
   "cell_type": "markdown",
   "metadata": {},
   "source": [
    "<br>"
   ]
  },
  {
   "cell_type": "markdown",
   "metadata": {},
   "source": [
    "#### Prepare and Plot Income data for San Diego"
   ]
  },
  {
   "cell_type": "code",
   "execution_count": 31,
   "metadata": {},
   "outputs": [],
   "source": [
    "# Prepare Income Data\n",
    "is_sandiego = ca[\"County\"] == \"San Diego\"\n",
    "\n",
    "sd = ca[is_sandiego]\n",
    "sd_income = sd[\"Income\"]\n",
    "\n",
    "x,y = prep_ecdf(sd_income)"
   ]
  },
  {
   "cell_type": "markdown",
   "metadata": {},
   "source": [
    "<br>"
   ]
  },
  {
   "cell_type": "markdown",
   "metadata": {},
   "source": [
    "**Lets `print()` `x` and `y` to get a better feel for what an `ECDF` is doing.**"
   ]
  },
  {
   "cell_type": "code",
   "execution_count": 32,
   "metadata": {
    "scrolled": true
   },
   "outputs": [
    {
     "name": "stdout",
     "output_type": "stream",
     "text": [
      "[ 21657.  22713.  22837.  22951.  23023.  24044.  24876.  25189.  25721.\n",
      "  26264.  26298.  26854.  27165.  27601.  27619.  27768.  27793.  27803.\n",
      "  28698.  28891.  28963.  29086.  30070.  30132.  30536.  30635.  30661.\n",
      "  30804.  30915.  31250.  31392.  31488.  31532.  31771.  31796.  31839.\n",
      "  32208.  32555.  32568.  32679.  32708.  32961.  33028.  33405.  33673.\n",
      "  33750.  33995.  34119.  34151.  34191.  34631.  34738.  34817.  35066.\n",
      "  35429.  35525.  35729.  35925.  36007.  36034.  36113.  36311.  36336.\n",
      "  36458.  36468.  36686.  36750.  36832.  36875.  36927.  36991.  37205.\n",
      "  37210.  37740.  37788.  37813.  37821.  37857.  37923.  38090.  38464.\n",
      "  38690.  38726.  39041.  39273.  39421.  39775.  40132.  40250.  40255.\n",
      "  40405.  40493.  40577.  40941.  40988.  41042.  41067.  41203.  41250.\n",
      "  41284.  41497.  41591.  41627.  41670.  41807.  41927.  41995.  42103.\n",
      "  42214.  42236.  42379.  42576.  42582.  42649.  42663.  42870.  43103.\n",
      "  43125.  43175.  43190.  43314.  43523.  43575.  43712.  43802.  44219.\n",
      "  44330.  44335.  44397.  44844.  44938.  45207.  45212.  45250.  45377.\n",
      "  45485.  45511.  45625.  45673.  45695.  45806.  45811.  45938.  46094.\n",
      "  46154.  46161.  46335.  46402.  46607.  46620.  46636.  46638.  46645.\n",
      "  47059.  47261.  47702.  47888.  47939.  48272.  48317.  48549.  48837.\n",
      "  48942.  49028.  49050.  49189.  49741.  49779.  49873.  50022.  50123.\n",
      "  50266.  50284.  50343.  50465.  50523.  50698.  50795.  50833.  50872.\n",
      "  51164.  51481.  51515.  51565.  51595.  51618.  51692.  51704.  51712.\n",
      "  51743.  51974.  52068.  52246.  52276.  52340.  52382.  52434.  52442.\n",
      "  52642.  52674.  52688.  52813.  52917.  53006.  53073.  53125.  53167.\n",
      "  53167.  53173.  53200.  53333.  53333.  53417.  53506.  53531.  53654.\n",
      "  53929.  54242.  54659.  54677.  55000.  55019.  55045.  55234.  55326.\n",
      "  55550.  55568.  55922.  55925.  55945.  56125.  56140.  56317.  56346.\n",
      "  56464.  56500.  56515.  56630.  56630.  56711.  56750.  56760.  57038.\n",
      "  57083.  57083.  57642.  57667.  57803.  57917.  58099.  58162.  58194.\n",
      "  58551.  58571.  58772.  58804.  58818.  58912.  59024.  59080.  59120.\n",
      "  59336.  59427.  59732.  59783.  59875.  59926.  60037.  60104.  60156.\n",
      "  60300.  60330.  60474.  60491.  60517.  60595.  60669.  60682.  60784.\n",
      "  60833.  60929.  61164.  61179.  61181.  61184.  61197.  61215.  61463.\n",
      "  61559.  61759.  61875.  62069.  62283.  62306.  62401.  62516.  62539.\n",
      "  62583.  62643.  62760.  62891.  62895.  62951.  63150.  63266.  63269.\n",
      "  63590.  63824.  63848.  63952.  63974.  64068.  64191.  64332.  64352.\n",
      "  64464.  65000.  65089.  65111.  65577.  65612.  65733.  65863.  65883.\n",
      "  65905.  65943.  66075.  66193.  66250.  66339.  66346.  66491.  66711.\n",
      "  66797.  67230.  67250.  67310.  67388.  67434.  67526.  67614.  67653.\n",
      "  67665.  67857.  67906.  68063.  68099.  68229.  68405.  68611.  68864.\n",
      "  69043.  69219.  69333.  69401.  69507.  69631.  69783.  69852.  69896.\n",
      "  70208.  70492.  70614.  70781.  70842.  70972.  71019.  71324.  71356.\n",
      "  71468.  71667.  71893.  72177.  72633.  72813.  72891.  72979.  73177.\n",
      "  73208.  73250.  73661.  73791.  73995.  74353.  74419.  74464.  74489.\n",
      "  74627.  74774.  74784.  74861.  75211.  75236.  75278.  75446.  75599.\n",
      "  75662.  76131.  76250.  76369.  76823.  77028.  77051.  77071.  77102.\n",
      "  77109.  77159.  77326.  77406.  77639.  77675.  77745.  77892.  77905.\n",
      "  78015.  78125.  78167.  78264.  78269.  78828.  79070.  79516.  79583.\n",
      "  79719.  79875.  80038.  80106.  80231.  80538.  80664.  80667.  80805.\n",
      "  81055.  81115.  81132.  81250.  81324.  81500.  81648.  81667.  82056.\n",
      "  82488.  82792.  82857.  82964.  83000.  83016.  83295.  83316.  83350.\n",
      "  83563.  83611.  83931.  84016.  84190.  84323.  84500.  84545.  84676.\n",
      "  84702.  84722.  84782.  84899.  85114.  85117.  85379.  85458.  85500.\n",
      "  85573.  85583.  85724.  85729.  85769.  85836.  85872.  86548.  86726.\n",
      "  86912.  86991.  87315.  87333.  87475.  87796.  87917.  88160.  88220.\n",
      "  88333.  88711.  89012.  89250.  89358.  89563.  89777.  89821.  90083.\n",
      "  90099.  90132.  90581.  91098.  91522.  91667.  92672.  93406.  93411.\n",
      "  94545.  94722.  94900.  95096.  95253.  95308.  95393.  95430.  95673.\n",
      "  96019.  96172.  96319.  96357.  96389.  96467.  96475.  96728.  96786.\n",
      "  98455.  98710.  98774.  98875.  99236.  99288.  99300. 100000. 100417.\n",
      " 100436. 101133. 101190. 101892. 102067. 102386. 102790. 102929. 103448.\n",
      " 103566. 103582. 103971. 104167. 104909. 105083. 105132. 105156. 105175.\n",
      " 105250. 105581. 105637. 105804. 106296. 107013. 107083. 107083. 108036.\n",
      " 108942. 109167. 109563. 111326. 111339. 111415. 111850. 111927. 111944.\n",
      " 112650. 113015. 113133. 113426. 113657. 114464. 114817. 115536. 115972.\n",
      " 117926. 118125. 118542. 119896. 120167. 120523. 121439. 121518. 122708.\n",
      " 122885. 122891. 123050. 123449. 123626. 124350. 124821. 124861. 125370.\n",
      " 126055. 126533. 127721. 129159. 129375. 129904. 130597. 130676. 131681.\n",
      " 134421. 134625. 138993. 139625. 140250. 143393. 144487. 146944. 147305.\n",
      " 150048. 152250. 154250. 160417. 160694. 168167. 171094. 177589. 186738.\n",
      "     nan     nan     nan     nan     nan     nan     nan]\n",
      "------------------------------------------------------------\n",
      "[0.00159236 0.00318471 0.00477707 0.00636943 0.00796178 0.00955414\n",
      " 0.0111465  0.01273885 0.01433121 0.01592357 0.01751592 0.01910828\n",
      " 0.02070064 0.02229299 0.02388535 0.02547771 0.02707006 0.02866242\n",
      " 0.03025478 0.03184713 0.03343949 0.03503185 0.0366242  0.03821656\n",
      " 0.03980892 0.04140127 0.04299363 0.04458599 0.04617834 0.0477707\n",
      " 0.04936306 0.05095541 0.05254777 0.05414013 0.05573248 0.05732484\n",
      " 0.0589172  0.06050955 0.06210191 0.06369427 0.06528662 0.06687898\n",
      " 0.06847134 0.07006369 0.07165605 0.07324841 0.07484076 0.07643312\n",
      " 0.07802548 0.07961783 0.08121019 0.08280255 0.0843949  0.08598726\n",
      " 0.08757962 0.08917197 0.09076433 0.09235669 0.09394904 0.0955414\n",
      " 0.09713376 0.09872611 0.10031847 0.10191083 0.10350318 0.10509554\n",
      " 0.1066879  0.10828025 0.10987261 0.11146497 0.11305732 0.11464968\n",
      " 0.11624204 0.11783439 0.11942675 0.12101911 0.12261146 0.12420382\n",
      " 0.12579618 0.12738854 0.12898089 0.13057325 0.13216561 0.13375796\n",
      " 0.13535032 0.13694268 0.13853503 0.14012739 0.14171975 0.1433121\n",
      " 0.14490446 0.14649682 0.14808917 0.14968153 0.15127389 0.15286624\n",
      " 0.1544586  0.15605096 0.15764331 0.15923567 0.16082803 0.16242038\n",
      " 0.16401274 0.1656051  0.16719745 0.16878981 0.17038217 0.17197452\n",
      " 0.17356688 0.17515924 0.17675159 0.17834395 0.17993631 0.18152866\n",
      " 0.18312102 0.18471338 0.18630573 0.18789809 0.18949045 0.1910828\n",
      " 0.19267516 0.19426752 0.19585987 0.19745223 0.19904459 0.20063694\n",
      " 0.2022293  0.20382166 0.20541401 0.20700637 0.20859873 0.21019108\n",
      " 0.21178344 0.2133758  0.21496815 0.21656051 0.21815287 0.21974522\n",
      " 0.22133758 0.22292994 0.22452229 0.22611465 0.22770701 0.22929936\n",
      " 0.23089172 0.23248408 0.23407643 0.23566879 0.23726115 0.2388535\n",
      " 0.24044586 0.24203822 0.24363057 0.24522293 0.24681529 0.24840764\n",
      " 0.25       0.25159236 0.25318471 0.25477707 0.25636943 0.25796178\n",
      " 0.25955414 0.2611465  0.26273885 0.26433121 0.26592357 0.26751592\n",
      " 0.26910828 0.27070064 0.27229299 0.27388535 0.27547771 0.27707006\n",
      " 0.27866242 0.28025478 0.28184713 0.28343949 0.28503185 0.2866242\n",
      " 0.28821656 0.28980892 0.29140127 0.29299363 0.29458599 0.29617834\n",
      " 0.2977707  0.29936306 0.30095541 0.30254777 0.30414013 0.30573248\n",
      " 0.30732484 0.3089172  0.31050955 0.31210191 0.31369427 0.31528662\n",
      " 0.31687898 0.31847134 0.32006369 0.32165605 0.32324841 0.32484076\n",
      " 0.32643312 0.32802548 0.32961783 0.33121019 0.33280255 0.3343949\n",
      " 0.33598726 0.33757962 0.33917197 0.34076433 0.34235669 0.34394904\n",
      " 0.3455414  0.34713376 0.34872611 0.35031847 0.35191083 0.35350318\n",
      " 0.35509554 0.3566879  0.35828025 0.35987261 0.36146497 0.36305732\n",
      " 0.36464968 0.36624204 0.36783439 0.36942675 0.37101911 0.37261146\n",
      " 0.37420382 0.37579618 0.37738854 0.37898089 0.38057325 0.38216561\n",
      " 0.38375796 0.38535032 0.38694268 0.38853503 0.39012739 0.39171975\n",
      " 0.3933121  0.39490446 0.39649682 0.39808917 0.39968153 0.40127389\n",
      " 0.40286624 0.4044586  0.40605096 0.40764331 0.40923567 0.41082803\n",
      " 0.41242038 0.41401274 0.4156051  0.41719745 0.41878981 0.42038217\n",
      " 0.42197452 0.42356688 0.42515924 0.42675159 0.42834395 0.42993631\n",
      " 0.43152866 0.43312102 0.43471338 0.43630573 0.43789809 0.43949045\n",
      " 0.4410828  0.44267516 0.44426752 0.44585987 0.44745223 0.44904459\n",
      " 0.45063694 0.4522293  0.45382166 0.45541401 0.45700637 0.45859873\n",
      " 0.46019108 0.46178344 0.4633758  0.46496815 0.46656051 0.46815287\n",
      " 0.46974522 0.47133758 0.47292994 0.47452229 0.47611465 0.47770701\n",
      " 0.47929936 0.48089172 0.48248408 0.48407643 0.48566879 0.48726115\n",
      " 0.4888535  0.49044586 0.49203822 0.49363057 0.49522293 0.49681529\n",
      " 0.49840764 0.5        0.50159236 0.50318471 0.50477707 0.50636943\n",
      " 0.50796178 0.50955414 0.5111465  0.51273885 0.51433121 0.51592357\n",
      " 0.51751592 0.51910828 0.52070064 0.52229299 0.52388535 0.52547771\n",
      " 0.52707006 0.52866242 0.53025478 0.53184713 0.53343949 0.53503185\n",
      " 0.5366242  0.53821656 0.53980892 0.54140127 0.54299363 0.54458599\n",
      " 0.54617834 0.5477707  0.54936306 0.55095541 0.55254777 0.55414013\n",
      " 0.55573248 0.55732484 0.5589172  0.56050955 0.56210191 0.56369427\n",
      " 0.56528662 0.56687898 0.56847134 0.57006369 0.57165605 0.57324841\n",
      " 0.57484076 0.57643312 0.57802548 0.57961783 0.58121019 0.58280255\n",
      " 0.5843949  0.58598726 0.58757962 0.58917197 0.59076433 0.59235669\n",
      " 0.59394904 0.5955414  0.59713376 0.59872611 0.60031847 0.60191083\n",
      " 0.60350318 0.60509554 0.6066879  0.60828025 0.60987261 0.61146497\n",
      " 0.61305732 0.61464968 0.61624204 0.61783439 0.61942675 0.62101911\n",
      " 0.62261146 0.62420382 0.62579618 0.62738854 0.62898089 0.63057325\n",
      " 0.63216561 0.63375796 0.63535032 0.63694268 0.63853503 0.64012739\n",
      " 0.64171975 0.6433121  0.64490446 0.64649682 0.64808917 0.64968153\n",
      " 0.65127389 0.65286624 0.6544586  0.65605096 0.65764331 0.65923567\n",
      " 0.66082803 0.66242038 0.66401274 0.6656051  0.66719745 0.66878981\n",
      " 0.67038217 0.67197452 0.67356688 0.67515924 0.67675159 0.67834395\n",
      " 0.67993631 0.68152866 0.68312102 0.68471338 0.68630573 0.68789809\n",
      " 0.68949045 0.6910828  0.69267516 0.69426752 0.69585987 0.69745223\n",
      " 0.69904459 0.70063694 0.7022293  0.70382166 0.70541401 0.70700637\n",
      " 0.70859873 0.71019108 0.71178344 0.7133758  0.71496815 0.71656051\n",
      " 0.71815287 0.71974522 0.72133758 0.72292994 0.72452229 0.72611465\n",
      " 0.72770701 0.72929936 0.73089172 0.73248408 0.73407643 0.73566879\n",
      " 0.73726115 0.7388535  0.74044586 0.74203822 0.74363057 0.74522293\n",
      " 0.74681529 0.74840764 0.75       0.75159236 0.75318471 0.75477707\n",
      " 0.75636943 0.75796178 0.75955414 0.7611465  0.76273885 0.76433121\n",
      " 0.76592357 0.76751592 0.76910828 0.77070064 0.77229299 0.77388535\n",
      " 0.77547771 0.77707006 0.77866242 0.78025478 0.78184713 0.78343949\n",
      " 0.78503185 0.7866242  0.78821656 0.78980892 0.79140127 0.79299363\n",
      " 0.79458599 0.79617834 0.7977707  0.79936306 0.80095541 0.80254777\n",
      " 0.80414013 0.80573248 0.80732484 0.8089172  0.81050955 0.81210191\n",
      " 0.81369427 0.81528662 0.81687898 0.81847134 0.82006369 0.82165605\n",
      " 0.82324841 0.82484076 0.82643312 0.82802548 0.82961783 0.83121019\n",
      " 0.83280255 0.8343949  0.83598726 0.83757962 0.83917197 0.84076433\n",
      " 0.84235669 0.84394904 0.8455414  0.84713376 0.84872611 0.85031847\n",
      " 0.85191083 0.85350318 0.85509554 0.8566879  0.85828025 0.85987261\n",
      " 0.86146497 0.86305732 0.86464968 0.86624204 0.86783439 0.86942675\n",
      " 0.87101911 0.87261146 0.87420382 0.87579618 0.87738854 0.87898089\n",
      " 0.88057325 0.88216561 0.88375796 0.88535032 0.88694268 0.88853503\n",
      " 0.89012739 0.89171975 0.8933121  0.89490446 0.89649682 0.89808917\n",
      " 0.89968153 0.90127389 0.90286624 0.9044586  0.90605096 0.90764331\n",
      " 0.90923567 0.91082803 0.91242038 0.91401274 0.9156051  0.91719745\n",
      " 0.91878981 0.92038217 0.92197452 0.92356688 0.92515924 0.92675159\n",
      " 0.92834395 0.92993631 0.93152866 0.93312102 0.93471338 0.93630573\n",
      " 0.93789809 0.93949045 0.9410828  0.94267516 0.94426752 0.94585987\n",
      " 0.94745223 0.94904459 0.95063694 0.9522293  0.95382166 0.95541401\n",
      " 0.95700637 0.95859873 0.96019108 0.96178344 0.9633758  0.96496815\n",
      " 0.96656051 0.96815287 0.96974522 0.97133758 0.97292994 0.97452229\n",
      " 0.97611465 0.97770701 0.97929936 0.98089172 0.98248408 0.98407643\n",
      " 0.98566879 0.98726115 0.9888535  0.99044586 0.99203822 0.99363057\n",
      " 0.99522293 0.99681529 0.99840764 1.        ]\n"
     ]
    }
   ],
   "source": [
    "print(x)\n",
    "print(\"-\"*60)\n",
    "print(y)"
   ]
  },
  {
   "cell_type": "markdown",
   "metadata": {},
   "source": [
    "<br>"
   ]
  },
  {
   "cell_type": "markdown",
   "metadata": {},
   "source": [
    "#### Plot the ECDF for San Diego Income"
   ]
  },
  {
   "cell_type": "code",
   "execution_count": 33,
   "metadata": {},
   "outputs": [
    {
     "data": {
      "image/png": "[encoded data removed]",
      "text/plain": [
       "<Figure size 432x288 with 1 Axes>"
      ]
     },
     "metadata": {
      "needs_background": "light"
     },
     "output_type": "display_data"
    }
   ],
   "source": [
    "# Set up Figure\n",
    "plt.figure()\n",
    "\n",
    "# Grab the `axis` and save to `ax`\n",
    "ax = plt.gca()\n",
    "\n",
    "# ax.plot() is a simple `line plot`\n",
    "ax.plot(x, y, marker = \".\", linestyle = \"none\")\n",
    "\n",
    "# Make it Pretty\n",
    "ax.set_title(\"ECDF of San Diego Incomes\")\n",
    "ax.set_xlabel(\"County Income\")\n",
    "ax.set_ylabel(\"ECDF\")\n",
    "\n",
    "# Remove annoying \"out\" stuff when printing plot.\n",
    "plt.show()"
   ]
  },
  {
   "cell_type": "markdown",
   "metadata": {},
   "source": [
    "<br>"
   ]
  },
  {
   "cell_type": "markdown",
   "metadata": {},
   "source": [
    "#### Prepare and Plot Income data for All counties in `county_df`"
   ]
  },
  {
   "cell_type": "code",
   "execution_count": 34,
   "metadata": {},
   "outputs": [
    {
     "data": {
      "image/png": "[encoded data removed]",
      "text/plain": [
       "<Figure size 432x288 with 1 Axes>"
      ]
     },
     "metadata": {
      "needs_background": "light"
     },
     "output_type": "display_data"
    }
   ],
   "source": [
    "# Set up Figure\n",
    "plt.figure()\n",
    "\n",
    "# Grab the `axis` and save to `ax`\n",
    "ax = plt.gca()\n",
    "\n",
    "\n",
    "# For loop adds a new line plot to `ax` each iteration, \n",
    "# and adds name of each unique 'county' to 'labels' list,\n",
    "# this is for use in the legend.\n",
    "labels = []\n",
    "for county in county_df[\"County\"].unique():\n",
    "    \n",
    "    county_inc = ca[ca[\"County\"] == county][\"Income\"]\n",
    "    \n",
    "    x,y = prep_ecdf(county_inc)\n",
    "    \n",
    "    ax.plot(x, y, marker = \".\", linestyle = \"none\")\n",
    "\n",
    "    labels.append(county)\n",
    "\n",
    "\n",
    "# Make It Pretty!\n",
    "# A Legend is a MUST when you have multiple plots on a single ax\n",
    "ax.legend(labels, loc='lower right')\n",
    "ax.set_xlabel(\"Incomes\")\n",
    "ax.set_ylabel('ECDF')\n",
    "plt.show()"
   ]
  },
  {
   "cell_type": "code",
   "execution_count": null,
   "metadata": {},
   "outputs": [],
   "source": [
    "#What can we say about the incomes of these 4 counties? Take a minute to ponder this."
   ]
  }
 ],
 "metadata": {
  "kernelspec": {
   "display_name": "Python 3",
   "language": "python",
   "name": "python3"
  },
  "language_info": {
   "codemirror_mode": {
    "name": "ipython",
    "version": 3
   },
   "file_extension": ".py",
   "mimetype": "text/x-python",
   "name": "python",
   "nbconvert_exporter": "python",
   "pygments_lexer": "ipython3",
   "version": "3.7.3"
  }
 },
 "nbformat": 4,
 "nbformat_minor": 2
}
