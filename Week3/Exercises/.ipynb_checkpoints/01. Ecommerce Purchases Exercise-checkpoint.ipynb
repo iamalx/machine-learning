version https://git-lfs.github.com/spec/v1
oid sha256:e9a33e7ac332e37d93650ebe3796d38bb86a38ce0e5dc63f9e3dfdd034430d07
size 26829
