{
 "cells": [
  {
   "cell_type": "markdown",
   "metadata": {
    "colab_type": "text",
    "id": "rn9OYaLpaRgp"
   },
   "source": [
    "<h1 style=\"font-size:42px; text-align:center; margin-bottom:30px;\"><span style=\"color:SteelBlue\">Regression:</span> Model Training</h1>\n",
    "<hr>\n",
    "\n",
    "At last, it's time to build our models! \n",
    "\n",
    "It might seem like it took us a while to get here, but professional data scientists actually spend the bulk of their time on the 3 steps leading up to this one: \n",
    "1. Exploratory Analysis\n",
    "2. Data Cleaning\n",
    "3. Feature Engineering\n",
    "\n",
    "That's because the biggest jumps in model performance are from **better data**, not from fancier algorithms.\n",
    "\n",
    "<br><hr id=\"toc\">\n",
    "\n",
    "### In this lesson...\n",
    "\n",
    "First, we'll load our analytical base table from lesson 3. \n",
    "\n",
    "Then, we'll go through the essential modeling steps:\n",
    "\n",
    "1. [Split your dataset](#split)\n",
    "2. [Build model pipelines](#pipelines)\n",
    "3. [Declare hyperparameters to tune](#hyperparameters)\n",
    "4. [Fit and tune models with cross-validation](#fit-tune)\n",
    "5. [Evaluate metrics and select winner](#evaluate)\n",
    "\n",
    "Finally, we'll save the best model as a project deliverable!\n",
    "\n",
    "<br><hr>"
   ]
  },
  {
   "cell_type": "markdown",
   "metadata": {
    "colab_type": "text",
    "id": "oH2NNwaQaRgr"
   },
   "source": [
    "### First, let's import libraries, recruit models, and load the analytical base table.\n",
    "\n",
    "Let's import our libraries and load the dataset. It's good practice to keep all of your library imports at the top of your notebook or program."
   ]
  },
  {
   "cell_type": "code",
   "execution_count": 1,
   "metadata": {
    "colab": {},
    "colab_type": "code",
    "id": "FBHUjqaeaRgt"
   },
   "outputs": [],
   "source": [
    "# NumPy for numerical computing\n",
    "import numpy as np\n",
    "\n",
    "# Pandas for DataFrames\n",
    "import pandas as pd\n",
    "pd.set_option('display.max_columns', 100)\n",
    "pd.set_option('display.float_format', lambda x: '%.3f' % x)\n",
    "\n",
    "# Matplotlib for visualization\n",
    "from matplotlib import pyplot as plt\n",
    "# display plots in the notebook\n",
    "%matplotlib inline \n",
    "\n",
    "# Seaborn for easier visualization\n",
    "import seaborn as sns\n",
    "\n",
    "# Scikit-Learn for Modeling\n",
    "import sklearn"
   ]
  },
  {
   "cell_type": "markdown",
   "metadata": {
    "colab_type": "text",
    "id": "UrzOhCuwaRg-"
   },
   "source": [
    "Next, let's import 5 algorithms we introduced in the previous lesson."
   ]
  },
  {
   "cell_type": "code",
   "execution_count": 2,
   "metadata": {
    "colab": {},
    "colab_type": "code",
    "id": "XSDKE53caRg_"
   },
   "outputs": [],
   "source": [
    "# Import ElasticNet, Ridge, and Lasso Regression from sklearn.linear_model\n",
    "from sklearn.linear_model import ElasticNet, Ridge, Lasso\n",
    "\n",
    "# Import RandomForest and GradientBoosting Regressors from sklearn.ensemble\n",
    "from sklearn.ensemble import RandomForestRegressor, GradientBoostingRegressor"
   ]
  },
  {
   "cell_type": "markdown",
   "metadata": {
    "colab_type": "text",
    "id": "tVcRrJ4uaRhC"
   },
   "source": [
    "<strong>Quick note about this lesson.</strong><br> In this lesson, we'll be relying heavily on Scikit-Learn, which has many helpful functions we can take advantage of. However, we won't import everything right away. Instead, we'll be importing each function from Scikit-Learn as we need it. That way, we can point out where you can find each function."
   ]
  },
  {
   "cell_type": "code",
   "execution_count": 3,
   "metadata": {
    "colab": {},
    "colab_type": "code",
    "id": "FmuNqawOaRhE",
    "outputId": "ddafd97b-3c15-43fb-af50-3d95151c7538"
   },
   "outputs": [
    {
     "name": "stdout",
     "output_type": "stream",
     "text": [
      "(1863, 41)\n"
     ]
    }
   ],
   "source": [
    "# Load cleaned dataset from lesson 3\n",
    "df = pd.read_csv('project_files/real-estate_abt.csv')\n",
    "\n",
    "print(df.shape)"
   ]
  },
  {
   "cell_type": "code",
   "execution_count": 5,
   "metadata": {},
   "outputs": [
    {
     "data": {
      "text/html": [
       "<div>\n",
       "<style scoped>\n",
       "    .dataframe tbody tr th:only-of-type {\n",
       "        vertical-align: middle;\n",
       "    }\n",
       "\n",
       "    .dataframe tbody tr th {\n",
       "        vertical-align: top;\n",
       "    }\n",
       "\n",
       "    .dataframe thead th {\n",
       "        text-align: right;\n",
       "    }\n",
       "</style>\n",
       "<table border=\"1\" class=\"dataframe\">\n",
       "  <thead>\n",
       "    <tr style=\"text-align: right;\">\n",
       "      <th></th>\n",
       "      <th>tx_price</th>\n",
       "      <th>beds</th>\n",
       "      <th>baths</th>\n",
       "      <th>sqft</th>\n",
       "      <th>lot_size</th>\n",
       "      <th>basement</th>\n",
       "      <th>restaurants</th>\n",
       "      <th>groceries</th>\n",
       "      <th>nightlife</th>\n",
       "      <th>cafes</th>\n",
       "      <th>shopping</th>\n",
       "      <th>arts_entertainment</th>\n",
       "      <th>beauty_spas</th>\n",
       "      <th>active_life</th>\n",
       "      <th>median_age</th>\n",
       "      <th>married</th>\n",
       "      <th>college_grad</th>\n",
       "      <th>property_tax</th>\n",
       "      <th>insurance</th>\n",
       "      <th>median_school</th>\n",
       "      <th>num_schools</th>\n",
       "      <th>two_and_two</th>\n",
       "      <th>during_recession</th>\n",
       "      <th>property_age</th>\n",
       "      <th>school_score</th>\n",
       "      <th>exterior_walls_Brick</th>\n",
       "      <th>exterior_walls_Brick veneer</th>\n",
       "      <th>exterior_walls_Combination</th>\n",
       "      <th>exterior_walls_Metal</th>\n",
       "      <th>exterior_walls_Missing</th>\n",
       "      <th>exterior_walls_Other</th>\n",
       "      <th>exterior_walls_Siding (Alum/Vinyl)</th>\n",
       "      <th>exterior_walls_Wood</th>\n",
       "      <th>roof_Asphalt</th>\n",
       "      <th>roof_Composition Shingle</th>\n",
       "      <th>roof_Composition Shingles</th>\n",
       "      <th>roof_Missing</th>\n",
       "      <th>roof_Other</th>\n",
       "      <th>roof_Shake Shingle</th>\n",
       "      <th>property_type_Apartment / Condo / Townhouse</th>\n",
       "      <th>property_type_Single-Family</th>\n",
       "    </tr>\n",
       "  </thead>\n",
       "  <tbody>\n",
       "    <tr>\n",
       "      <th>0</th>\n",
       "      <td>295850</td>\n",
       "      <td>1</td>\n",
       "      <td>1</td>\n",
       "      <td>584</td>\n",
       "      <td>0</td>\n",
       "      <td>0.000</td>\n",
       "      <td>107</td>\n",
       "      <td>9</td>\n",
       "      <td>30</td>\n",
       "      <td>19</td>\n",
       "      <td>89</td>\n",
       "      <td>6</td>\n",
       "      <td>47</td>\n",
       "      <td>58</td>\n",
       "      <td>33.000</td>\n",
       "      <td>65.000</td>\n",
       "      <td>84.000</td>\n",
       "      <td>234.000</td>\n",
       "      <td>81.000</td>\n",
       "      <td>9.000</td>\n",
       "      <td>3.000</td>\n",
       "      <td>0</td>\n",
       "      <td>1</td>\n",
       "      <td>0</td>\n",
       "      <td>27.000</td>\n",
       "      <td>0</td>\n",
       "      <td>0</td>\n",
       "      <td>0</td>\n",
       "      <td>0</td>\n",
       "      <td>0</td>\n",
       "      <td>0</td>\n",
       "      <td>0</td>\n",
       "      <td>1</td>\n",
       "      <td>0</td>\n",
       "      <td>0</td>\n",
       "      <td>0</td>\n",
       "      <td>1</td>\n",
       "      <td>0</td>\n",
       "      <td>0</td>\n",
       "      <td>1</td>\n",
       "      <td>0</td>\n",
       "    </tr>\n",
       "    <tr>\n",
       "      <th>1</th>\n",
       "      <td>216500</td>\n",
       "      <td>1</td>\n",
       "      <td>1</td>\n",
       "      <td>612</td>\n",
       "      <td>0</td>\n",
       "      <td>1.000</td>\n",
       "      <td>105</td>\n",
       "      <td>15</td>\n",
       "      <td>6</td>\n",
       "      <td>13</td>\n",
       "      <td>87</td>\n",
       "      <td>2</td>\n",
       "      <td>26</td>\n",
       "      <td>14</td>\n",
       "      <td>39.000</td>\n",
       "      <td>73.000</td>\n",
       "      <td>69.000</td>\n",
       "      <td>169.000</td>\n",
       "      <td>51.000</td>\n",
       "      <td>3.000</td>\n",
       "      <td>3.000</td>\n",
       "      <td>0</td>\n",
       "      <td>0</td>\n",
       "      <td>41</td>\n",
       "      <td>9.000</td>\n",
       "      <td>1</td>\n",
       "      <td>0</td>\n",
       "      <td>0</td>\n",
       "      <td>0</td>\n",
       "      <td>0</td>\n",
       "      <td>0</td>\n",
       "      <td>0</td>\n",
       "      <td>0</td>\n",
       "      <td>0</td>\n",
       "      <td>1</td>\n",
       "      <td>0</td>\n",
       "      <td>0</td>\n",
       "      <td>0</td>\n",
       "      <td>0</td>\n",
       "      <td>1</td>\n",
       "      <td>0</td>\n",
       "    </tr>\n",
       "    <tr>\n",
       "      <th>2</th>\n",
       "      <td>279900</td>\n",
       "      <td>1</td>\n",
       "      <td>1</td>\n",
       "      <td>615</td>\n",
       "      <td>0</td>\n",
       "      <td>0.000</td>\n",
       "      <td>183</td>\n",
       "      <td>13</td>\n",
       "      <td>31</td>\n",
       "      <td>30</td>\n",
       "      <td>101</td>\n",
       "      <td>10</td>\n",
       "      <td>74</td>\n",
       "      <td>62</td>\n",
       "      <td>28.000</td>\n",
       "      <td>15.000</td>\n",
       "      <td>86.000</td>\n",
       "      <td>216.000</td>\n",
       "      <td>74.000</td>\n",
       "      <td>8.000</td>\n",
       "      <td>3.000</td>\n",
       "      <td>0</td>\n",
       "      <td>1</td>\n",
       "      <td>49</td>\n",
       "      <td>24.000</td>\n",
       "      <td>0</td>\n",
       "      <td>0</td>\n",
       "      <td>0</td>\n",
       "      <td>0</td>\n",
       "      <td>0</td>\n",
       "      <td>0</td>\n",
       "      <td>0</td>\n",
       "      <td>1</td>\n",
       "      <td>0</td>\n",
       "      <td>0</td>\n",
       "      <td>0</td>\n",
       "      <td>1</td>\n",
       "      <td>0</td>\n",
       "      <td>0</td>\n",
       "      <td>1</td>\n",
       "      <td>0</td>\n",
       "    </tr>\n",
       "    <tr>\n",
       "      <th>3</th>\n",
       "      <td>379900</td>\n",
       "      <td>1</td>\n",
       "      <td>1</td>\n",
       "      <td>618</td>\n",
       "      <td>33541</td>\n",
       "      <td>0.000</td>\n",
       "      <td>198</td>\n",
       "      <td>9</td>\n",
       "      <td>38</td>\n",
       "      <td>25</td>\n",
       "      <td>127</td>\n",
       "      <td>11</td>\n",
       "      <td>72</td>\n",
       "      <td>83</td>\n",
       "      <td>36.000</td>\n",
       "      <td>25.000</td>\n",
       "      <td>91.000</td>\n",
       "      <td>265.000</td>\n",
       "      <td>92.000</td>\n",
       "      <td>9.000</td>\n",
       "      <td>3.000</td>\n",
       "      <td>0</td>\n",
       "      <td>0</td>\n",
       "      <td>5</td>\n",
       "      <td>27.000</td>\n",
       "      <td>0</td>\n",
       "      <td>0</td>\n",
       "      <td>0</td>\n",
       "      <td>0</td>\n",
       "      <td>0</td>\n",
       "      <td>0</td>\n",
       "      <td>0</td>\n",
       "      <td>1</td>\n",
       "      <td>0</td>\n",
       "      <td>0</td>\n",
       "      <td>0</td>\n",
       "      <td>1</td>\n",
       "      <td>0</td>\n",
       "      <td>0</td>\n",
       "      <td>1</td>\n",
       "      <td>0</td>\n",
       "    </tr>\n",
       "    <tr>\n",
       "      <th>4</th>\n",
       "      <td>340000</td>\n",
       "      <td>1</td>\n",
       "      <td>1</td>\n",
       "      <td>634</td>\n",
       "      <td>0</td>\n",
       "      <td>0.000</td>\n",
       "      <td>149</td>\n",
       "      <td>7</td>\n",
       "      <td>22</td>\n",
       "      <td>20</td>\n",
       "      <td>83</td>\n",
       "      <td>10</td>\n",
       "      <td>50</td>\n",
       "      <td>73</td>\n",
       "      <td>37.000</td>\n",
       "      <td>20.000</td>\n",
       "      <td>75.000</td>\n",
       "      <td>88.000</td>\n",
       "      <td>30.000</td>\n",
       "      <td>9.000</td>\n",
       "      <td>3.000</td>\n",
       "      <td>0</td>\n",
       "      <td>0</td>\n",
       "      <td>10</td>\n",
       "      <td>27.000</td>\n",
       "      <td>1</td>\n",
       "      <td>0</td>\n",
       "      <td>0</td>\n",
       "      <td>0</td>\n",
       "      <td>0</td>\n",
       "      <td>0</td>\n",
       "      <td>0</td>\n",
       "      <td>0</td>\n",
       "      <td>0</td>\n",
       "      <td>0</td>\n",
       "      <td>0</td>\n",
       "      <td>1</td>\n",
       "      <td>0</td>\n",
       "      <td>0</td>\n",
       "      <td>1</td>\n",
       "      <td>0</td>\n",
       "    </tr>\n",
       "  </tbody>\n",
       "</table>\n",
       "</div>"
      ],
      "text/plain": [
       "   tx_price  beds  baths  sqft  lot_size  basement  restaurants  groceries  \\\n",
       "0    295850     1      1   584         0     0.000          107          9   \n",
       "1    216500     1      1   612         0     1.000          105         15   \n",
       "2    279900     1      1   615         0     0.000          183         13   \n",
       "3    379900     1      1   618     33541     0.000          198          9   \n",
       "4    340000     1      1   634         0     0.000          149          7   \n",
       "\n",
       "   nightlife  cafes  shopping  arts_entertainment  beauty_spas  active_life  \\\n",
       "0         30     19        89                   6           47           58   \n",
       "1          6     13        87                   2           26           14   \n",
       "2         31     30       101                  10           74           62   \n",
       "3         38     25       127                  11           72           83   \n",
       "4         22     20        83                  10           50           73   \n",
       "\n",
       "   median_age  married  college_grad  property_tax  insurance  median_school  \\\n",
       "0      33.000   65.000        84.000       234.000     81.000          9.000   \n",
       "1      39.000   73.000        69.000       169.000     51.000          3.000   \n",
       "2      28.000   15.000        86.000       216.000     74.000          8.000   \n",
       "3      36.000   25.000        91.000       265.000     92.000          9.000   \n",
       "4      37.000   20.000        75.000        88.000     30.000          9.000   \n",
       "\n",
       "   num_schools  two_and_two  during_recession  property_age  school_score  \\\n",
       "0        3.000            0                 1             0        27.000   \n",
       "1        3.000            0                 0            41         9.000   \n",
       "2        3.000            0                 1            49        24.000   \n",
       "3        3.000            0                 0             5        27.000   \n",
       "4        3.000            0                 0            10        27.000   \n",
       "\n",
       "   exterior_walls_Brick  exterior_walls_Brick veneer  \\\n",
       "0                     0                            0   \n",
       "1                     1                            0   \n",
       "2                     0                            0   \n",
       "3                     0                            0   \n",
       "4                     1                            0   \n",
       "\n",
       "   exterior_walls_Combination  exterior_walls_Metal  exterior_walls_Missing  \\\n",
       "0                           0                     0                       0   \n",
       "1                           0                     0                       0   \n",
       "2                           0                     0                       0   \n",
       "3                           0                     0                       0   \n",
       "4                           0                     0                       0   \n",
       "\n",
       "   exterior_walls_Other  exterior_walls_Siding (Alum/Vinyl)  \\\n",
       "0                     0                                   0   \n",
       "1                     0                                   0   \n",
       "2                     0                                   0   \n",
       "3                     0                                   0   \n",
       "4                     0                                   0   \n",
       "\n",
       "   exterior_walls_Wood  roof_Asphalt  roof_Composition Shingle  \\\n",
       "0                    1             0                         0   \n",
       "1                    0             0                         1   \n",
       "2                    1             0                         0   \n",
       "3                    1             0                         0   \n",
       "4                    0             0                         0   \n",
       "\n",
       "   roof_Composition Shingles  roof_Missing  roof_Other  roof_Shake Shingle  \\\n",
       "0                          0             1           0                   0   \n",
       "1                          0             0           0                   0   \n",
       "2                          0             1           0                   0   \n",
       "3                          0             1           0                   0   \n",
       "4                          0             1           0                   0   \n",
       "\n",
       "   property_type_Apartment / Condo / Townhouse  property_type_Single-Family  \n",
       "0                                            1                            0  \n",
       "1                                            1                            0  \n",
       "2                                            1                            0  \n",
       "3                                            1                            0  \n",
       "4                                            1                            0  "
      ]
     },
     "execution_count": 5,
     "metadata": {},
     "output_type": "execute_result"
    }
   ],
   "source": [
    "df.head()"
   ]
  },
  {
   "cell_type": "markdown",
   "metadata": {
    "colab_type": "text",
    "id": "m9iQX7_SaRhP"
   },
   "source": [
    "<br id=\"split\">\n",
    "\n",
    "# 1. Split your dataset\n",
    "\n",
    "Let's start with a crucial but sometimes overlooked step: **Splitting** your data.\n",
    "\n",
    "<br>\n",
    "First, let's import the <code style=\"color:steelblue\">train_test_split()</code> function from Scikit-Learn."
   ]
  },
  {
   "cell_type": "code",
   "execution_count": 6,
   "metadata": {
    "colab": {},
    "colab_type": "code",
    "id": "6sKuL6cCaRhR"
   },
   "outputs": [],
   "source": [
    "# Function for splitting training and test set\n",
    "from sklearn.model_selection import train_test_split"
   ]
  },
  {
   "cell_type": "markdown",
   "metadata": {
    "colab_type": "text",
    "id": "yfmvemzkaRhU"
   },
   "source": [
    "Next, separate your dataframe into separate objects for the target variable (<code style=\"color:steelblue\">y</code>) and the input features (<code style=\"color:steelblue\">X</code>)."
   ]
  },
  {
   "cell_type": "code",
   "execution_count": 8,
   "metadata": {
    "colab": {},
    "colab_type": "code",
    "id": "bArrr7_0aRhW"
   },
   "outputs": [
    {
     "name": "stdout",
     "output_type": "stream",
     "text": [
      "      beds  baths  sqft  lot_size  basement  restaurants  groceries  \\\n",
      "0        1      1   584         0     0.000          107          9   \n",
      "1        1      1   612         0     1.000          105         15   \n",
      "2        1      1   615         0     0.000          183         13   \n",
      "3        1      1   618     33541     0.000          198          9   \n",
      "4        1      1   634         0     0.000          149          7   \n",
      "5        1      1   641         0     0.000          146         10   \n",
      "6        1      1   642         0     0.000          159         13   \n",
      "7        1      1   650     33541     0.000          198          9   \n",
      "8        1      1   660         0     0.000           51          8   \n",
      "9        1      1   664         0     0.000          119         10   \n",
      "10       1      1   669         0     0.000          148         10   \n",
      "11       1      1   673     46609     0.000          193         10   \n",
      "12       1      1   680         0     1.000            8          1   \n",
      "13       1      1   685     48787     0.000          189         13   \n",
      "14       1      1   687         0     0.000          266         12   \n",
      "15       1      1   689         0     1.000          150          6   \n",
      "16       1      1   689         0     0.000          198          9   \n",
      "17       1      1   690         0     1.000           60          3   \n",
      "18       1      1   692         0     0.000          180         14   \n",
      "19       1      1   698         0     0.000           31          6   \n",
      "20       1      1   698      9686     0.000          146          7   \n",
      "21       1      1   700      9686     0.000          146          7   \n",
      "22       1      1   703         0     1.000           82          6   \n",
      "23       1      1   704         0     1.000           99          8   \n",
      "24       1      1   704         0     1.000           99          9   \n",
      "25       1      1   705         0     0.000          182         10   \n",
      "26       1      1   709    111513     0.000          213         13   \n",
      "27       1      1   711         0     0.000           51          9   \n",
      "28       1      1   712         0     0.000           53         13   \n",
      "29       1      1   722         0     1.000          101          8   \n",
      "...    ...    ...   ...       ...       ...          ...        ...   \n",
      "1833     5      4  7001     27007     1.000           14          3   \n",
      "1834     5      5  1365     10010     1.000           30          2   \n",
      "1835     5      5  3320     16117     1.000            4          1   \n",
      "1836     5      5  3696     16988     1.000            2          0   \n",
      "1837     5      5  3720     10606     1.000           12         10   \n",
      "1838     5      5  4053     11325     1.000           71          7   \n",
      "1839     5      5  4189    351529     1.000            0          0   \n",
      "1840     5      5  4313     20037     1.000            6          1   \n",
      "1841     5      5  4600     21780     1.000            1          0   \n",
      "1842     5      5  4632      8712     1.000           58          6   \n",
      "1843     5      5  4658     20473     1.000           15          2   \n",
      "1844     5      5  5000     13503     1.000           22          0   \n",
      "1845     5      5  5262     10454     1.000           23          2   \n",
      "1846     5      5  5270     11761     1.000            0          0   \n",
      "1847     5      5  5368     40946     1.000            4          1   \n",
      "1848     5      5  5410      6777     1.000           32          6   \n",
      "1849     5      5  5621     10890     1.000           42          4   \n",
      "1850     5      5  5810      8777     1.000           13          2   \n",
      "1851     5      5  6133     10001     1.000           34          1   \n",
      "1852     5      5  6357     76665     1.000            3          0   \n",
      "1853     5      5  6438     20473     1.000           57          7   \n",
      "1854     5      5  6508     47044     1.000            0          0   \n",
      "1855     5      5  6966     62290     1.000            0          0   \n",
      "1856     5      5  7165     43995     1.000            9          1   \n",
      "1857     5      5  7594     36154     1.000            8          1   \n",
      "1858     5      5  7842    436035     1.000            0          0   \n",
      "1859     5      6  6501     23086     1.000           45          7   \n",
      "1860     5      6  7064    217800     1.000            5          1   \n",
      "1861     5      6  7500      8886     1.000           18          2   \n",
      "1862     5      6  7515     10497     1.000            0          0   \n",
      "\n",
      "      nightlife  cafes  shopping  arts_entertainment  beauty_spas  \\\n",
      "0            30     19        89                   6           47   \n",
      "1             6     13        87                   2           26   \n",
      "2            31     30       101                  10           74   \n",
      "3            38     25       127                  11           72   \n",
      "4            22     20        83                  10           50   \n",
      "5            23     27        86                   9           60   \n",
      "6            36     17        92                  12           66   \n",
      "7            38     25       127                  11           72   \n",
      "8             6      2        40                  18           32   \n",
      "9            26     25       183                  13           70   \n",
      "10           27     23        57                   5           37   \n",
      "11           37     27       133                  10           74   \n",
      "12            0      3        10                   1           10   \n",
      "13           37     31       102                  11           75   \n",
      "14           54     45       328                  35          126   \n",
      "15           20     27       329                  12           83   \n",
      "16           38     25       126                  12           72   \n",
      "17            9     15       156                   3           30   \n",
      "18           37     34       104                  13           72   \n",
      "19            5      8        32                   2           19   \n",
      "20           22     20        79                  10           49   \n",
      "21           22     20        79                  10           49   \n",
      "22            7      8        45                   6           52   \n",
      "23            8     11       103                   4           47   \n",
      "24            8     11       103                   4           46   \n",
      "25           31     25       103                  10           63   \n",
      "26           44     30       108                  11           91   \n",
      "27            6      2        43                  18           35   \n",
      "28            7      3        43                  19           43   \n",
      "29            8     11        74                   4           30   \n",
      "...         ...    ...       ...                 ...          ...   \n",
      "1833          1      3        10                   0           12   \n",
      "1834          2      2        41                   3           22   \n",
      "1835          1      0         8                   3            2   \n",
      "1836          1      0         2                   0            3   \n",
      "1837          1      0        22                   0           21   \n",
      "1838          6      9        87                   4           32   \n",
      "1839          0      0         1                   0            0   \n",
      "1840          0      1         8                   1            7   \n",
      "1841          0      0         2                   0            1   \n",
      "1842          7     11        95                   4           34   \n",
      "1843          0      1        17                   4            7   \n",
      "1844          4      3        19                   2           14   \n",
      "1845          2      2        26                   2           15   \n",
      "1846          0      0         1                   0            1   \n",
      "1847          2      2         4                   0           15   \n",
      "1848          4      6        40                   6           23   \n",
      "1849          2      3        48                   1           17   \n",
      "1850          0      1        17                   0           18   \n",
      "1851          7      4        39                   5           25   \n",
      "1852          0      0         4                   0            1   \n",
      "1853          4      9        88                   9           82   \n",
      "1854          0      0         1                   0            0   \n",
      "1855          0      0         1                   0            0   \n",
      "1856          1      1        11                   1            3   \n",
      "1857          0      1         5                   4            5   \n",
      "1858          0      0         0                   0            0   \n",
      "1859          5      7        41                   3           61   \n",
      "1860          1      1         8                   2            1   \n",
      "1861          4      0         5                   1            8   \n",
      "1862          0      1         2                   2            0   \n",
      "\n",
      "      active_life  median_age  married  college_grad  property_tax  insurance  \\\n",
      "0              58      33.000   65.000        84.000       234.000     81.000   \n",
      "1              14      39.000   73.000        69.000       169.000     51.000   \n",
      "2              62      28.000   15.000        86.000       216.000     74.000   \n",
      "3              83      36.000   25.000        91.000       265.000     92.000   \n",
      "4              73      37.000   20.000        75.000        88.000     30.000   \n",
      "5              52      28.000   15.000        86.000       168.000     58.000   \n",
      "6              50      28.000   36.000        88.000       176.000     61.000   \n",
      "7              83      36.000   25.000        91.000       266.000     92.000   \n",
      "8              41      36.000   49.000        77.000       188.000     65.000   \n",
      "9              36      57.000   13.000        83.000       147.000     51.000   \n",
      "10             29      34.000   29.000        88.000       248.000     86.000   \n",
      "11             86      29.000   15.000        82.000       262.000     90.000   \n",
      "12             10      60.000   15.000        63.000       147.000     44.000   \n",
      "13             64      28.000   15.000        86.000       195.000     68.000   \n",
      "14             88      28.000   52.000        72.000       421.000    146.000   \n",
      "15             46      32.000   33.000        92.000       188.000     57.000   \n",
      "16             84      29.000   15.000        82.000       276.000     96.000   \n",
      "17             12      36.000   47.000        83.000       221.000     67.000   \n",
      "18             68      36.000   25.000        75.000       302.000    104.000   \n",
      "19             14      32.000   60.000        47.000       120.000     42.000   \n",
      "20             74      27.000   21.000        94.000       256.000     88.000   \n",
      "21             74      27.000   21.000        94.000       251.000     87.000   \n",
      "22             13      30.000   46.000        36.000       139.000     42.000   \n",
      "23             34      31.000   30.000        99.000       261.000     79.000   \n",
      "24             34      31.000   30.000        99.000       257.000     78.000   \n",
      "25             83      33.000   21.000        99.000       244.000     85.000   \n",
      "26             88      33.000   40.000        96.000       316.000    109.000   \n",
      "27             42      36.000   49.000        77.000       201.000     69.000   \n",
      "28             41      36.000   23.000        90.000       187.000     64.000   \n",
      "29             26      33.000   48.000        85.000       218.000     66.000   \n",
      "...           ...         ...      ...           ...           ...        ...   \n",
      "1833            8      33.000   98.000        83.000       824.000    212.000   \n",
      "1834           25      46.000   75.000        66.000      1209.000    368.000   \n",
      "1835            1      50.000   69.000        81.000       737.000    224.000   \n",
      "1836            1      33.000   92.000        64.000       550.000    156.000   \n",
      "1837            6      37.000   82.000        63.000       614.000    187.000   \n",
      "1838           31      42.000   74.000        67.000       696.000    212.000   \n",
      "1839            0      41.000   67.000        24.000       660.000    187.000   \n",
      "1840            6      46.000   83.000        87.000      1127.000    343.000   \n",
      "1841            4      40.000   86.000        74.000       799.000    243.000   \n",
      "1842           25      42.000   76.000        64.000       938.000    286.000   \n",
      "1843           17      47.000   80.000        91.000       936.000    325.000   \n",
      "1844           21      37.000   90.000        74.000       963.000    293.000   \n",
      "1845            9      29.000   81.000        41.000       506.000    143.000   \n",
      "1846            3      42.000   84.000        58.000       506.000    143.000   \n",
      "1847            6      48.000   90.000        83.000      1024.000    312.000   \n",
      "1848           39      39.000   66.000        80.000      1141.000    396.000   \n",
      "1849           17      42.000   74.000        67.000      1295.000    395.000   \n",
      "1850            6      35.000   70.000        73.000       897.000    273.000   \n",
      "1851           32      39.000   78.000        74.000      1256.000    436.000   \n",
      "1852            2      35.000   91.000        85.000      1127.000    343.000   \n",
      "1853           26      33.000   74.000        80.000      1106.000    337.000   \n",
      "1854            1      37.000   74.000        84.000       868.000    223.000   \n",
      "1855            1      46.000   93.000        65.000       860.000    262.000   \n",
      "1856            6      49.000   82.000        68.000      1024.000    312.000   \n",
      "1857            2      52.000   85.000        57.000      1061.000    323.000   \n",
      "1858            0      48.000   76.000        62.000       881.000    249.000   \n",
      "1859           11      42.000   73.000        61.000      1553.000    473.000   \n",
      "1860            2      43.000   87.000        66.000       942.000    287.000   \n",
      "1861            6      43.000   61.000        51.000       803.000    245.000   \n",
      "1862            5      37.000   80.000        86.000      1459.000    444.000   \n",
      "\n",
      "      median_school  num_schools  two_and_two  during_recession  property_age  \\\n",
      "0             9.000        3.000            0                 1             0   \n",
      "1             3.000        3.000            0                 0            41   \n",
      "2             8.000        3.000            0                 1            49   \n",
      "3             9.000        3.000            0                 0             5   \n",
      "4             9.000        3.000            0                 0            10   \n",
      "5             8.000        3.000            0                 0            57   \n",
      "6             7.000        3.000            0                 1            67   \n",
      "7             9.000        3.000            0                 0             5   \n",
      "8             6.000        3.000            0                 1            30   \n",
      "9             6.000        3.000            0                 0            42   \n",
      "10            6.000        3.000            0                 0             9   \n",
      "11            9.000        3.000            0                 0             1   \n",
      "12            4.000        3.000            0                 0            43   \n",
      "13            8.000        3.000            0                 0            45   \n",
      "14            8.000        3.000            0                 0             6   \n",
      "15           10.000        3.000            0                 0            21   \n",
      "16            9.000        3.000            0                 0             8   \n",
      "17            8.000        3.000            0                 0            11   \n",
      "18            8.000        3.000            0                 0             0   \n",
      "19            7.000        3.000            0                 0            42   \n",
      "20            9.000        3.000            0                 1             5   \n",
      "21            9.000        3.000            0                 1             7   \n",
      "22            7.000        3.000            0                 0            13   \n",
      "23            8.000        3.000            0                 0             2   \n",
      "24            8.000        3.000            0                 0             0   \n",
      "25            9.000        3.000            0                 0            20   \n",
      "26            5.000        3.000            0                 0             3   \n",
      "27            6.000        3.000            0                 0            70   \n",
      "28            6.000        3.000            0                 0            60   \n",
      "29            4.000        3.000            0                 0            20   \n",
      "...             ...          ...          ...               ...           ...   \n",
      "1833          8.500        2.000            0                 0             4   \n",
      "1834         10.000        3.000            0                 0            64   \n",
      "1835          6.000        3.000            0                 1            66   \n",
      "1836          9.000        1.000            0                 0             0   \n",
      "1837          3.000        3.000            0                 0             0   \n",
      "1838          9.000        3.000            0                 0            38   \n",
      "1839          8.000        3.000            0                 1             4   \n",
      "1840         10.000        3.000            0                 0            35   \n",
      "1841          6.000        3.000            0                 1            46   \n",
      "1842          8.000        3.000            0                 1             7   \n",
      "1843          9.000        3.000            0                 0            34   \n",
      "1844         10.000        3.000            0                 0            51   \n",
      "1845          9.000        1.000            0                 1            11   \n",
      "1846          5.500        2.000            0                 0             0   \n",
      "1847         10.000        3.000            0                 0             3   \n",
      "1848          9.000        3.000            0                 0            63   \n",
      "1849          9.000        3.000            0                 0            44   \n",
      "1850          8.000        3.000            0                 0             0   \n",
      "1851          9.000        3.000            0                 0            64   \n",
      "1852         10.000        3.000            0                 0             9   \n",
      "1853          9.000        3.000            0                 1            63   \n",
      "1854          7.000        3.000            0                 0             2   \n",
      "1855          8.000        3.000            0                 0             0   \n",
      "1856          8.000        2.000            0                 0             3   \n",
      "1857          5.500        2.000            0                 0             0   \n",
      "1858          7.500        2.000            0                 0             5   \n",
      "1859          9.000        3.000            0                 0            59   \n",
      "1860          8.000        1.000            0                 0             4   \n",
      "1861          5.000        2.000            0                 0             3   \n",
      "1862          9.000        3.000            0                 0            57   \n",
      "\n",
      "      school_score  exterior_walls_Brick  exterior_walls_Brick veneer  \\\n",
      "0           27.000                     0                            0   \n",
      "1            9.000                     1                            0   \n",
      "2           24.000                     0                            0   \n",
      "3           27.000                     0                            0   \n",
      "4           27.000                     1                            0   \n",
      "5           24.000                     1                            0   \n",
      "6           21.000                     1                            0   \n",
      "7           27.000                     0                            0   \n",
      "8           18.000                     1                            0   \n",
      "9           18.000                     1                            0   \n",
      "10          18.000                     0                            0   \n",
      "11          27.000                     0                            0   \n",
      "12          12.000                     1                            0   \n",
      "13          24.000                     1                            0   \n",
      "14          24.000                     0                            0   \n",
      "15          30.000                     1                            0   \n",
      "16          27.000                     0                            0   \n",
      "17          24.000                     1                            0   \n",
      "18          24.000                     1                            0   \n",
      "19          21.000                     1                            0   \n",
      "20          27.000                     0                            0   \n",
      "21          27.000                     0                            0   \n",
      "22          21.000                     0                            0   \n",
      "23          24.000                     1                            0   \n",
      "24          24.000                     1                            0   \n",
      "25          27.000                     1                            0   \n",
      "26          15.000                     0                            0   \n",
      "27          18.000                     1                            0   \n",
      "28          18.000                     1                            0   \n",
      "29          12.000                     0                            0   \n",
      "...            ...                   ...                          ...   \n",
      "1833        17.000                     0                            0   \n",
      "1834        30.000                     0                            0   \n",
      "1835        18.000                     0                            0   \n",
      "1836         9.000                     0                            0   \n",
      "1837         9.000                     0                            0   \n",
      "1838        27.000                     0                            0   \n",
      "1839        24.000                     0                            0   \n",
      "1840        30.000                     1                            0   \n",
      "1841        18.000                     1                            0   \n",
      "1842        24.000                     0                            0   \n",
      "1843        27.000                     0                            1   \n",
      "1844        30.000                     0                            0   \n",
      "1845         9.000                     0                            0   \n",
      "1846        11.000                     0                            0   \n",
      "1847        30.000                     1                            0   \n",
      "1848        27.000                     0                            1   \n",
      "1849        27.000                     1                            0   \n",
      "1850        24.000                     0                            0   \n",
      "1851        27.000                     0                            1   \n",
      "1852        30.000                     1                            0   \n",
      "1853        27.000                     0                            0   \n",
      "1854        21.000                     0                            0   \n",
      "1855        24.000                     0                            0   \n",
      "1856        16.000                     1                            0   \n",
      "1857        11.000                     1                            0   \n",
      "1858        15.000                     0                            0   \n",
      "1859        27.000                     1                            0   \n",
      "1860         8.000                     0                            0   \n",
      "1861        10.000                     0                            0   \n",
      "1862        27.000                     1                            0   \n",
      "\n",
      "      exterior_walls_Combination  exterior_walls_Metal  \\\n",
      "0                              0                     0   \n",
      "1                              0                     0   \n",
      "2                              0                     0   \n",
      "3                              0                     0   \n",
      "4                              0                     0   \n",
      "5                              0                     0   \n",
      "6                              0                     0   \n",
      "7                              0                     0   \n",
      "8                              0                     0   \n",
      "9                              0                     0   \n",
      "10                             0                     0   \n",
      "11                             0                     0   \n",
      "12                             0                     0   \n",
      "13                             0                     0   \n",
      "14                             0                     0   \n",
      "15                             0                     0   \n",
      "16                             0                     0   \n",
      "17                             0                     0   \n",
      "18                             0                     0   \n",
      "19                             0                     0   \n",
      "20                             0                     0   \n",
      "21                             0                     0   \n",
      "22                             0                     0   \n",
      "23                             0                     0   \n",
      "24                             0                     0   \n",
      "25                             0                     0   \n",
      "26                             0                     0   \n",
      "27                             0                     0   \n",
      "28                             0                     0   \n",
      "29                             0                     0   \n",
      "...                          ...                   ...   \n",
      "1833                           0                     0   \n",
      "1834                           0                     0   \n",
      "1835                           0                     0   \n",
      "1836                           1                     0   \n",
      "1837                           0                     0   \n",
      "1838                           0                     0   \n",
      "1839                           0                     0   \n",
      "1840                           0                     0   \n",
      "1841                           0                     0   \n",
      "1842                           0                     0   \n",
      "1843                           0                     0   \n",
      "1844                           0                     0   \n",
      "1845                           1                     0   \n",
      "1846                           1                     0   \n",
      "1847                           0                     0   \n",
      "1848                           0                     0   \n",
      "1849                           0                     0   \n",
      "1850                           0                     0   \n",
      "1851                           0                     0   \n",
      "1852                           0                     0   \n",
      "1853                           0                     0   \n",
      "1854                           0                     0   \n",
      "1855                           0                     0   \n",
      "1856                           0                     0   \n",
      "1857                           0                     0   \n",
      "1858                           1                     0   \n",
      "1859                           0                     0   \n",
      "1860                           0                     1   \n",
      "1861                           0                     0   \n",
      "1862                           0                     0   \n",
      "\n",
      "      exterior_walls_Missing  exterior_walls_Other  \\\n",
      "0                          0                     0   \n",
      "1                          0                     0   \n",
      "2                          0                     0   \n",
      "3                          0                     0   \n",
      "4                          0                     0   \n",
      "5                          0                     0   \n",
      "6                          0                     0   \n",
      "7                          0                     0   \n",
      "8                          0                     0   \n",
      "9                          0                     0   \n",
      "10                         0                     0   \n",
      "11                         0                     1   \n",
      "12                         0                     0   \n",
      "13                         0                     0   \n",
      "14                         0                     0   \n",
      "15                         0                     0   \n",
      "16                         0                     0   \n",
      "17                         0                     0   \n",
      "18                         0                     0   \n",
      "19                         0                     0   \n",
      "20                         0                     1   \n",
      "21                         0                     1   \n",
      "22                         0                     0   \n",
      "23                         0                     0   \n",
      "24                         0                     0   \n",
      "25                         0                     0   \n",
      "26                         0                     0   \n",
      "27                         0                     0   \n",
      "28                         0                     0   \n",
      "29                         0                     0   \n",
      "...                      ...                   ...   \n",
      "1833                       1                     0   \n",
      "1834                       0                     0   \n",
      "1835                       0                     0   \n",
      "1836                       0                     0   \n",
      "1837                       0                     0   \n",
      "1838                       0                     0   \n",
      "1839                       0                     0   \n",
      "1840                       0                     0   \n",
      "1841                       0                     0   \n",
      "1842                       0                     0   \n",
      "1843                       0                     0   \n",
      "1844                       0                     0   \n",
      "1845                       0                     0   \n",
      "1846                       0                     0   \n",
      "1847                       0                     0   \n",
      "1848                       0                     0   \n",
      "1849                       0                     0   \n",
      "1850                       0                     0   \n",
      "1851                       0                     0   \n",
      "1852                       0                     0   \n",
      "1853                       0                     1   \n",
      "1854                       1                     0   \n",
      "1855                       0                     0   \n",
      "1856                       0                     0   \n",
      "1857                       0                     0   \n",
      "1858                       0                     0   \n",
      "1859                       0                     0   \n",
      "1860                       0                     0   \n",
      "1861                       0                     0   \n",
      "1862                       0                     0   \n",
      "\n",
      "      exterior_walls_Siding (Alum/Vinyl)  exterior_walls_Wood  roof_Asphalt  \\\n",
      "0                                      0                    1             0   \n",
      "1                                      0                    0             0   \n",
      "2                                      0                    1             0   \n",
      "3                                      0                    1             0   \n",
      "4                                      0                    0             0   \n",
      "5                                      0                    0             0   \n",
      "6                                      0                    0             0   \n",
      "7                                      0                    1             0   \n",
      "8                                      0                    0             0   \n",
      "9                                      0                    0             0   \n",
      "10                                     0                    1             0   \n",
      "11                                     0                    0             0   \n",
      "12                                     0                    0             0   \n",
      "13                                     0                    0             0   \n",
      "14                                     0                    1             0   \n",
      "15                                     0                    0             0   \n",
      "16                                     0                    1             0   \n",
      "17                                     0                    0             0   \n",
      "18                                     0                    0             0   \n",
      "19                                     0                    0             0   \n",
      "20                                     0                    0             0   \n",
      "21                                     0                    0             0   \n",
      "22                                     0                    1             0   \n",
      "23                                     0                    0             0   \n",
      "24                                     0                    0             0   \n",
      "25                                     0                    0             0   \n",
      "26                                     0                    1             0   \n",
      "27                                     0                    0             0   \n",
      "28                                     0                    0             0   \n",
      "29                                     1                    0             0   \n",
      "...                                  ...                  ...           ...   \n",
      "1833                                   0                    0             0   \n",
      "1834                                   1                    0             0   \n",
      "1835                                   1                    0             0   \n",
      "1836                                   0                    0             0   \n",
      "1837                                   1                    0             0   \n",
      "1838                                   1                    0             0   \n",
      "1839                                   1                    0             0   \n",
      "1840                                   0                    0             0   \n",
      "1841                                   0                    0             0   \n",
      "1842                                   1                    0             0   \n",
      "1843                                   0                    0             1   \n",
      "1844                                   1                    0             0   \n",
      "1845                                   0                    0             0   \n",
      "1846                                   0                    0             0   \n",
      "1847                                   0                    0             0   \n",
      "1848                                   0                    0             0   \n",
      "1849                                   0                    0             0   \n",
      "1850                                   0                    1             0   \n",
      "1851                                   0                    0             0   \n",
      "1852                                   0                    0             0   \n",
      "1853                                   0                    0             0   \n",
      "1854                                   0                    0             0   \n",
      "1855                                   1                    0             0   \n",
      "1856                                   0                    0             0   \n",
      "1857                                   0                    0             0   \n",
      "1858                                   0                    0             0   \n",
      "1859                                   0                    0             0   \n",
      "1860                                   0                    0             0   \n",
      "1861                                   1                    0             1   \n",
      "1862                                   0                    0             0   \n",
      "\n",
      "      roof_Composition Shingle  roof_Composition Shingles  roof_Missing  \\\n",
      "0                            0                          0             1   \n",
      "1                            1                          0             0   \n",
      "2                            0                          0             1   \n",
      "3                            0                          0             1   \n",
      "4                            0                          0             1   \n",
      "5                            0                          0             1   \n",
      "6                            0                          0             1   \n",
      "7                            0                          0             1   \n",
      "8                            0                          0             1   \n",
      "9                            0                          0             1   \n",
      "10                           0                          0             1   \n",
      "11                           0                          0             1   \n",
      "12                           1                          0             0   \n",
      "13                           0                          0             1   \n",
      "14                           0                          0             1   \n",
      "15                           1                          0             0   \n",
      "16                           0                          0             1   \n",
      "17                           1                          0             0   \n",
      "18                           0                          0             1   \n",
      "19                           0                          0             1   \n",
      "20                           0                          0             1   \n",
      "21                           0                          0             1   \n",
      "22                           1                          0             0   \n",
      "23                           1                          0             0   \n",
      "24                           1                          0             0   \n",
      "25                           0                          0             1   \n",
      "26                           0                          0             1   \n",
      "27                           0                          0             1   \n",
      "28                           0                          0             1   \n",
      "29                           1                          0             0   \n",
      "...                        ...                        ...           ...   \n",
      "1833                         1                          0             0   \n",
      "1834                         1                          0             0   \n",
      "1835                         0                          0             0   \n",
      "1836                         0                          0             1   \n",
      "1837                         1                          0             0   \n",
      "1838                         0                          0             0   \n",
      "1839                         1                          0             0   \n",
      "1840                         1                          0             0   \n",
      "1841                         1                          0             0   \n",
      "1842                         1                          0             0   \n",
      "1843                         0                          0             0   \n",
      "1844                         1                          0             0   \n",
      "1845                         0                          0             1   \n",
      "1846                         1                          0             0   \n",
      "1847                         1                          0             0   \n",
      "1848                         1                          0             0   \n",
      "1849                         0                          0             0   \n",
      "1850                         0                          1             0   \n",
      "1851                         1                          0             0   \n",
      "1852                         0                          0             0   \n",
      "1853                         1                          0             0   \n",
      "1854                         1                          0             0   \n",
      "1855                         0                          0             0   \n",
      "1856                         0                          1             0   \n",
      "1857                         1                          0             0   \n",
      "1858                         0                          0             1   \n",
      "1859                         1                          0             0   \n",
      "1860                         1                          0             0   \n",
      "1861                         0                          0             0   \n",
      "1862                         1                          0             0   \n",
      "\n",
      "      roof_Other  roof_Shake Shingle  \\\n",
      "0              0                   0   \n",
      "1              0                   0   \n",
      "2              0                   0   \n",
      "3              0                   0   \n",
      "4              0                   0   \n",
      "5              0                   0   \n",
      "6              0                   0   \n",
      "7              0                   0   \n",
      "8              0                   0   \n",
      "9              0                   0   \n",
      "10             0                   0   \n",
      "11             0                   0   \n",
      "12             0                   0   \n",
      "13             0                   0   \n",
      "14             0                   0   \n",
      "15             0                   0   \n",
      "16             0                   0   \n",
      "17             0                   0   \n",
      "18             0                   0   \n",
      "19             0                   0   \n",
      "20             0                   0   \n",
      "21             0                   0   \n",
      "22             0                   0   \n",
      "23             0                   0   \n",
      "24             0                   0   \n",
      "25             0                   0   \n",
      "26             0                   0   \n",
      "27             0                   0   \n",
      "28             0                   0   \n",
      "29             0                   0   \n",
      "...          ...                 ...   \n",
      "1833           0                   0   \n",
      "1834           0                   0   \n",
      "1835           0                   1   \n",
      "1836           0                   0   \n",
      "1837           0                   0   \n",
      "1838           0                   1   \n",
      "1839           0                   0   \n",
      "1840           0                   0   \n",
      "1841           0                   0   \n",
      "1842           0                   0   \n",
      "1843           0                   0   \n",
      "1844           0                   0   \n",
      "1845           0                   0   \n",
      "1846           0                   0   \n",
      "1847           0                   0   \n",
      "1848           0                   0   \n",
      "1849           1                   0   \n",
      "1850           0                   0   \n",
      "1851           0                   0   \n",
      "1852           1                   0   \n",
      "1853           0                   0   \n",
      "1854           0                   0   \n",
      "1855           1                   0   \n",
      "1856           0                   0   \n",
      "1857           0                   0   \n",
      "1858           0                   0   \n",
      "1859           0                   0   \n",
      "1860           0                   0   \n",
      "1861           0                   0   \n",
      "1862           0                   0   \n",
      "\n",
      "      property_type_Apartment / Condo / Townhouse  property_type_Single-Family  \n",
      "0                                               1                            0  \n",
      "1                                               1                            0  \n",
      "2                                               1                            0  \n",
      "3                                               1                            0  \n",
      "4                                               1                            0  \n",
      "5                                               1                            0  \n",
      "6                                               0                            1  \n",
      "7                                               1                            0  \n",
      "8                                               1                            0  \n",
      "9                                               1                            0  \n",
      "10                                              1                            0  \n",
      "11                                              1                            0  \n",
      "12                                              1                            0  \n",
      "13                                              1                            0  \n",
      "14                                              1                            0  \n",
      "15                                              1                            0  \n",
      "16                                              1                            0  \n",
      "17                                              1                            0  \n",
      "18                                              1                            0  \n",
      "19                                              1                            0  \n",
      "20                                              1                            0  \n",
      "21                                              1                            0  \n",
      "22                                              1                            0  \n",
      "23                                              1                            0  \n",
      "24                                              1                            0  \n",
      "25                                              1                            0  \n",
      "26                                              1                            0  \n",
      "27                                              1                            0  \n",
      "28                                              0                            1  \n",
      "29                                              1                            0  \n",
      "...                                           ...                          ...  \n",
      "1833                                            0                            1  \n",
      "1834                                            0                            1  \n",
      "1835                                            0                            1  \n",
      "1836                                            0                            1  \n",
      "1837                                            0                            1  \n",
      "1838                                            0                            1  \n",
      "1839                                            0                            1  \n",
      "1840                                            0                            1  \n",
      "1841                                            0                            1  \n",
      "1842                                            0                            1  \n",
      "1843                                            0                            1  \n",
      "1844                                            0                            1  \n",
      "1845                                            0                            1  \n",
      "1846                                            0                            1  \n",
      "1847                                            0                            1  \n",
      "1848                                            0                            1  \n",
      "1849                                            0                            1  \n",
      "1850                                            0                            1  \n",
      "1851                                            0                            1  \n",
      "1852                                            0                            1  \n",
      "1853                                            0                            1  \n",
      "1854                                            0                            1  \n",
      "1855                                            0                            1  \n",
      "1856                                            0                            1  \n",
      "1857                                            0                            1  \n",
      "1858                                            0                            1  \n",
      "1859                                            0                            1  \n",
      "1860                                            0                            1  \n",
      "1861                                            0                            1  \n",
      "1862                                            0                            1  \n",
      "\n",
      "[1863 rows x 40 columns] 0       295850\n",
      "1       216500\n",
      "2       279900\n",
      "3       379900\n",
      "4       340000\n",
      "5       265000\n",
      "6       240000\n",
      "7       388100\n",
      "8       240000\n",
      "9       250000\n",
      "10      335000\n",
      "11      376750\n",
      "12      210000\n",
      "13      289900\n",
      "14      535000\n",
      "15      218000\n",
      "16      400000\n",
      "17      226000\n",
      "18      363700\n",
      "19      215000\n",
      "20      327000\n",
      "21      331100\n",
      "22      240000\n",
      "23      320000\n",
      "24      290800\n",
      "25      375000\n",
      "26      377000\n",
      "27      262500\n",
      "28      216250\n",
      "29      270000\n",
      "         ...  \n",
      "1833    765000\n",
      "1834    535000\n",
      "1835    439000\n",
      "1836    488085\n",
      "1837    706095\n",
      "1838    215000\n",
      "1839    700000\n",
      "1840    460000\n",
      "1841    800000\n",
      "1842    798000\n",
      "1843    755000\n",
      "1844    350000\n",
      "1845    535000\n",
      "1846    771760\n",
      "1847    720000\n",
      "1848    600000\n",
      "1849    590000\n",
      "1850    576475\n",
      "1851    665500\n",
      "1852    743500\n",
      "1853    535000\n",
      "1854    765000\n",
      "1855    691331\n",
      "1856    569000\n",
      "1857    235000\n",
      "1858    760000\n",
      "1859    690000\n",
      "1860    600000\n",
      "1861    759900\n",
      "1862    735000\n",
      "Name: tx_price, Length: 1863, dtype: int64\n"
     ]
    }
   ],
   "source": [
    "# Create separate object for target variable\n",
    "y = df.tx_price\n",
    "# Create separate object for input features\n",
    "X = df.drop('tx_price', axis=1)\n",
    "print(X, y)"
   ]
  },
  {
   "cell_type": "markdown",
   "metadata": {},
   "source": [
    "<br>"
   ]
  },
  {
   "cell_type": "markdown",
   "metadata": {
    "colab_type": "text",
    "id": "Z6bOn7vmaRhc"
   },
   "source": [
    "<br><hr style=\"border-color:royalblue;background-color:royalblue;height:1px;\">\n",
    "## <span style=\"color:RoyalBlue\">Exercise 5.1</span>\n",
    "\n",
    "**First, split <code style=\"color:steelblue\">X</code> and <code style=\"color:steelblue\">y</code> into training and test sets using the <code style=\"color:steelblue\">train_test_split()</code> function.** \n",
    "* **Tip:** Its first two arguments should be X and y.\n",
    "* **Pass in the argument <code style=\"color:steelblue\">test_size=<span style=\"color:crimson\">0.2</span></code> to set aside 20% of our observations for the test set.**\n",
    "* **Pass in <code style=\"color:steelblue\">random_state=<span style=\"color:crimson\">1234</span></code> to set the random state for replicable results.**\n",
    "* You can read more about this function in the <a href=\"http://scikit-learn.org/stable/modules/generated/sklearn.model_selection.train_test_split.html\" target=\"_blank\">documentation</a>.\n",
    "\n",
    "The function returns a tuple with 4 elements: <code style=\"color:steelblue\">(X_train, X_test, y_train, y_test)</code>. Remember, you can **unpack** it and save it into 4 seperate variables."
   ]
  },
  {
   "cell_type": "code",
   "execution_count": 9,
   "metadata": {
    "colab": {},
    "colab_type": "code",
    "id": "nZLACnEqaRhe"
   },
   "outputs": [],
   "source": [
    "# Split X and y into train and test sets\n",
    "X_train, X_test, y_train, y_test = train_test_split(X, y, test_size=.2, random_state=1234)"
   ]
  },
  {
   "cell_type": "markdown",
   "metadata": {
    "colab_type": "text",
    "id": "pBLcEszcaRh4"
   },
   "source": [
    "Let's confirm we have the right number of observations in each subset.\n",
    "\n",
    "<br>\n",
    "\n",
    "**Next, run this code to confirm the size of each subset is correct.**"
   ]
  },
  {
   "cell_type": "code",
   "execution_count": 10,
   "metadata": {
    "colab": {},
    "colab_type": "code",
    "id": "QAFcnGZAaRh5",
    "outputId": "8c264aa4-283f-4ede-eaa2-fb58648cb711",
    "scrolled": true
   },
   "outputs": [
    {
     "name": "stdout",
     "output_type": "stream",
     "text": [
      "Training Set:\n",
      "X_train: (1490, 40)\n",
      "y_train (1490,)\n",
      "\n",
      "Testing Set:\n",
      "X_test: (373, 40)\n",
      "y_test (373,)\n"
     ]
    }
   ],
   "source": [
    "print(\"Training Set:\") \n",
    "print(\"X_train:\", X_train.shape)\n",
    "print(\"y_train\", y_train.shape)\n",
    "print()\n",
    "print(\"Testing Set:\")\n",
    "print(\"X_test:\", X_test.shape)\n",
    "print(\"y_test\", y_test.shape)"
   ]
  },
  {
   "cell_type": "markdown",
   "metadata": {
    "colab_type": "text",
    "id": "LwYTbb6OaRiD"
   },
   "source": [
    "Next, when we train our models, we can fit them on the <code style=\"color:steelblue\">X_train</code> feature values and <code style=\"color:steelblue\">y_train</code> target values.\n",
    "\n",
    "Finally, when we're ready to evaluate our models on our test set, we would use the trained models to predict <code style=\"color:steelblue\">X_test</code> and evaluate the predictions against <code style=\"color:steelblue\">y_test</code>.\n",
    "\n",
    "<hr style=\"border-color:royalblue;background-color:royalblue;height:1px;\">\n",
    "<div style=\"text-align:center; margin: 40px 0 40px 0;\">\n",
    "    \n",
    "[**Back to Contents**](#toc)\n",
    "</div>"
   ]
  },
  {
   "cell_type": "markdown",
   "metadata": {
    "colab_type": "text",
    "id": "-LcQ5QNXaRiF"
   },
   "source": [
    "<br id=\"pipelines\">\n",
    "\n",
    "# 2. Build model pipelines\n",
    "\n",
    "In lesson 1, 2, and 3, you explored the dataset, cleaned it, and engineered new features. However, sometimes we'll want to preprocess the training data even more before feeding it into our algorithms.| "
   ]
  },
  {
   "cell_type": "markdown",
   "metadata": {
    "colab_type": "text",
    "id": "-LcQ5QNXaRiF"
   },
   "source": [
    "<br>\n",
    "\n",
    "### Standardization\n",
    "First, let's show the summary statistics from our training data."
   ]
  },
  {
   "cell_type": "code",
   "execution_count": 11,
   "metadata": {
    "colab": {},
    "colab_type": "code",
    "id": "os-QZw6NaRiG",
    "outputId": "5f95c714-c8ac-4857-e42b-40d9c8cc66b4"
   },
   "outputs": [
    {
     "data": {
      "text/html": [
       "<div>\n",
       "<style scoped>\n",
       "    .dataframe tbody tr th:only-of-type {\n",
       "        vertical-align: middle;\n",
       "    }\n",
       "\n",
       "    .dataframe tbody tr th {\n",
       "        vertical-align: top;\n",
       "    }\n",
       "\n",
       "    .dataframe thead th {\n",
       "        text-align: right;\n",
       "    }\n",
       "</style>\n",
       "<table border=\"1\" class=\"dataframe\">\n",
       "  <thead>\n",
       "    <tr style=\"text-align: right;\">\n",
       "      <th></th>\n",
       "      <th>beds</th>\n",
       "      <th>baths</th>\n",
       "      <th>sqft</th>\n",
       "      <th>lot_size</th>\n",
       "      <th>basement</th>\n",
       "      <th>restaurants</th>\n",
       "      <th>groceries</th>\n",
       "      <th>nightlife</th>\n",
       "      <th>cafes</th>\n",
       "      <th>shopping</th>\n",
       "      <th>arts_entertainment</th>\n",
       "      <th>beauty_spas</th>\n",
       "      <th>active_life</th>\n",
       "      <th>median_age</th>\n",
       "      <th>married</th>\n",
       "      <th>college_grad</th>\n",
       "      <th>property_tax</th>\n",
       "      <th>insurance</th>\n",
       "      <th>median_school</th>\n",
       "      <th>num_schools</th>\n",
       "      <th>two_and_two</th>\n",
       "      <th>during_recession</th>\n",
       "      <th>property_age</th>\n",
       "      <th>school_score</th>\n",
       "      <th>exterior_walls_Brick</th>\n",
       "      <th>exterior_walls_Brick veneer</th>\n",
       "      <th>exterior_walls_Combination</th>\n",
       "      <th>exterior_walls_Metal</th>\n",
       "      <th>exterior_walls_Missing</th>\n",
       "      <th>exterior_walls_Other</th>\n",
       "      <th>exterior_walls_Siding (Alum/Vinyl)</th>\n",
       "      <th>exterior_walls_Wood</th>\n",
       "      <th>roof_Asphalt</th>\n",
       "      <th>roof_Composition Shingle</th>\n",
       "      <th>roof_Composition Shingles</th>\n",
       "      <th>roof_Missing</th>\n",
       "      <th>roof_Other</th>\n",
       "      <th>roof_Shake Shingle</th>\n",
       "      <th>property_type_Apartment / Condo / Townhouse</th>\n",
       "      <th>property_type_Single-Family</th>\n",
       "    </tr>\n",
       "  </thead>\n",
       "  <tbody>\n",
       "    <tr>\n",
       "      <th>count</th>\n",
       "      <td>1490.000</td>\n",
       "      <td>1490.000</td>\n",
       "      <td>1490.000</td>\n",
       "      <td>1490.000</td>\n",
       "      <td>1490.000</td>\n",
       "      <td>1490.000</td>\n",
       "      <td>1490.000</td>\n",
       "      <td>1490.000</td>\n",
       "      <td>1490.000</td>\n",
       "      <td>1490.000</td>\n",
       "      <td>1490.000</td>\n",
       "      <td>1490.000</td>\n",
       "      <td>1490.000</td>\n",
       "      <td>1490.000</td>\n",
       "      <td>1490.000</td>\n",
       "      <td>1490.000</td>\n",
       "      <td>1490.000</td>\n",
       "      <td>1490.000</td>\n",
       "      <td>1490.000</td>\n",
       "      <td>1490.000</td>\n",
       "      <td>1490.000</td>\n",
       "      <td>1490.000</td>\n",
       "      <td>1490.000</td>\n",
       "      <td>1490.000</td>\n",
       "      <td>1490.000</td>\n",
       "      <td>1490.000</td>\n",
       "      <td>1490.000</td>\n",
       "      <td>1490.000</td>\n",
       "      <td>1490.000</td>\n",
       "      <td>1490.000</td>\n",
       "      <td>1490.000</td>\n",
       "      <td>1490.000</td>\n",
       "      <td>1490.000</td>\n",
       "      <td>1490.000</td>\n",
       "      <td>1490.000</td>\n",
       "      <td>1490.000</td>\n",
       "      <td>1490.000</td>\n",
       "      <td>1490.000</td>\n",
       "      <td>1490.000</td>\n",
       "      <td>1490.000</td>\n",
       "    </tr>\n",
       "    <tr>\n",
       "      <th>mean</th>\n",
       "      <td>3.434</td>\n",
       "      <td>2.579</td>\n",
       "      <td>2322.785</td>\n",
       "      <td>12746.660</td>\n",
       "      <td>0.879</td>\n",
       "      <td>39.496</td>\n",
       "      <td>4.389</td>\n",
       "      <td>5.005</td>\n",
       "      <td>5.186</td>\n",
       "      <td>39.561</td>\n",
       "      <td>3.362</td>\n",
       "      <td>22.909</td>\n",
       "      <td>15.770</td>\n",
       "      <td>38.509</td>\n",
       "      <td>69.471</td>\n",
       "      <td>65.013</td>\n",
       "      <td>464.266</td>\n",
       "      <td>139.610</td>\n",
       "      <td>6.510</td>\n",
       "      <td>2.779</td>\n",
       "      <td>0.093</td>\n",
       "      <td>0.266</td>\n",
       "      <td>24.344</td>\n",
       "      <td>17.940</td>\n",
       "      <td>0.360</td>\n",
       "      <td>0.024</td>\n",
       "      <td>0.059</td>\n",
       "      <td>0.066</td>\n",
       "      <td>0.119</td>\n",
       "      <td>0.038</td>\n",
       "      <td>0.268</td>\n",
       "      <td>0.066</td>\n",
       "      <td>0.073</td>\n",
       "      <td>0.624</td>\n",
       "      <td>0.019</td>\n",
       "      <td>0.189</td>\n",
       "      <td>0.060</td>\n",
       "      <td>0.034</td>\n",
       "      <td>0.419</td>\n",
       "      <td>0.581</td>\n",
       "    </tr>\n",
       "    <tr>\n",
       "      <th>std</th>\n",
       "      <td>1.073</td>\n",
       "      <td>0.930</td>\n",
       "      <td>1297.102</td>\n",
       "      <td>34805.545</td>\n",
       "      <td>0.327</td>\n",
       "      <td>46.986</td>\n",
       "      <td>4.498</td>\n",
       "      <td>8.442</td>\n",
       "      <td>7.443</td>\n",
       "      <td>52.335</td>\n",
       "      <td>4.694</td>\n",
       "      <td>25.724</td>\n",
       "      <td>17.999</td>\n",
       "      <td>6.615</td>\n",
       "      <td>19.865</td>\n",
       "      <td>17.093</td>\n",
       "      <td>227.250</td>\n",
       "      <td>71.511</td>\n",
       "      <td>1.975</td>\n",
       "      <td>0.517</td>\n",
       "      <td>0.290</td>\n",
       "      <td>0.442</td>\n",
       "      <td>21.209</td>\n",
       "      <td>6.452</td>\n",
       "      <td>0.480</td>\n",
       "      <td>0.154</td>\n",
       "      <td>0.236</td>\n",
       "      <td>0.248</td>\n",
       "      <td>0.324</td>\n",
       "      <td>0.190</td>\n",
       "      <td>0.443</td>\n",
       "      <td>0.248</td>\n",
       "      <td>0.260</td>\n",
       "      <td>0.485</td>\n",
       "      <td>0.138</td>\n",
       "      <td>0.392</td>\n",
       "      <td>0.238</td>\n",
       "      <td>0.180</td>\n",
       "      <td>0.494</td>\n",
       "      <td>0.494</td>\n",
       "    </tr>\n",
       "    <tr>\n",
       "      <th>min</th>\n",
       "      <td>1.000</td>\n",
       "      <td>1.000</td>\n",
       "      <td>500.000</td>\n",
       "      <td>0.000</td>\n",
       "      <td>0.000</td>\n",
       "      <td>0.000</td>\n",
       "      <td>0.000</td>\n",
       "      <td>0.000</td>\n",
       "      <td>0.000</td>\n",
       "      <td>0.000</td>\n",
       "      <td>0.000</td>\n",
       "      <td>0.000</td>\n",
       "      <td>0.000</td>\n",
       "      <td>22.000</td>\n",
       "      <td>11.000</td>\n",
       "      <td>5.000</td>\n",
       "      <td>88.000</td>\n",
       "      <td>30.000</td>\n",
       "      <td>1.000</td>\n",
       "      <td>1.000</td>\n",
       "      <td>0.000</td>\n",
       "      <td>0.000</td>\n",
       "      <td>0.000</td>\n",
       "      <td>3.000</td>\n",
       "      <td>0.000</td>\n",
       "      <td>0.000</td>\n",
       "      <td>0.000</td>\n",
       "      <td>0.000</td>\n",
       "      <td>0.000</td>\n",
       "      <td>0.000</td>\n",
       "      <td>0.000</td>\n",
       "      <td>0.000</td>\n",
       "      <td>0.000</td>\n",
       "      <td>0.000</td>\n",
       "      <td>0.000</td>\n",
       "      <td>0.000</td>\n",
       "      <td>0.000</td>\n",
       "      <td>0.000</td>\n",
       "      <td>0.000</td>\n",
       "      <td>0.000</td>\n",
       "    </tr>\n",
       "    <tr>\n",
       "      <th>25%</th>\n",
       "      <td>3.000</td>\n",
       "      <td>2.000</td>\n",
       "      <td>1351.000</td>\n",
       "      <td>1542.000</td>\n",
       "      <td>1.000</td>\n",
       "      <td>6.000</td>\n",
       "      <td>1.000</td>\n",
       "      <td>0.000</td>\n",
       "      <td>0.000</td>\n",
       "      <td>6.000</td>\n",
       "      <td>0.000</td>\n",
       "      <td>4.000</td>\n",
       "      <td>4.000</td>\n",
       "      <td>33.000</td>\n",
       "      <td>59.000</td>\n",
       "      <td>53.250</td>\n",
       "      <td>321.000</td>\n",
       "      <td>94.000</td>\n",
       "      <td>5.000</td>\n",
       "      <td>3.000</td>\n",
       "      <td>0.000</td>\n",
       "      <td>0.000</td>\n",
       "      <td>6.000</td>\n",
       "      <td>12.000</td>\n",
       "      <td>0.000</td>\n",
       "      <td>0.000</td>\n",
       "      <td>0.000</td>\n",
       "      <td>0.000</td>\n",
       "      <td>0.000</td>\n",
       "      <td>0.000</td>\n",
       "      <td>0.000</td>\n",
       "      <td>0.000</td>\n",
       "      <td>0.000</td>\n",
       "      <td>0.000</td>\n",
       "      <td>0.000</td>\n",
       "      <td>0.000</td>\n",
       "      <td>0.000</td>\n",
       "      <td>0.000</td>\n",
       "      <td>0.000</td>\n",
       "      <td>0.000</td>\n",
       "    </tr>\n",
       "    <tr>\n",
       "      <th>50%</th>\n",
       "      <td>4.000</td>\n",
       "      <td>3.000</td>\n",
       "      <td>1913.500</td>\n",
       "      <td>6183.000</td>\n",
       "      <td>1.000</td>\n",
       "      <td>21.000</td>\n",
       "      <td>3.000</td>\n",
       "      <td>2.000</td>\n",
       "      <td>3.000</td>\n",
       "      <td>20.000</td>\n",
       "      <td>2.000</td>\n",
       "      <td>15.000</td>\n",
       "      <td>10.000</td>\n",
       "      <td>38.000</td>\n",
       "      <td>74.000</td>\n",
       "      <td>66.000</td>\n",
       "      <td>426.000</td>\n",
       "      <td>125.000</td>\n",
       "      <td>7.000</td>\n",
       "      <td>3.000</td>\n",
       "      <td>0.000</td>\n",
       "      <td>0.000</td>\n",
       "      <td>20.000</td>\n",
       "      <td>18.000</td>\n",
       "      <td>0.000</td>\n",
       "      <td>0.000</td>\n",
       "      <td>0.000</td>\n",
       "      <td>0.000</td>\n",
       "      <td>0.000</td>\n",
       "      <td>0.000</td>\n",
       "      <td>0.000</td>\n",
       "      <td>0.000</td>\n",
       "      <td>0.000</td>\n",
       "      <td>1.000</td>\n",
       "      <td>0.000</td>\n",
       "      <td>0.000</td>\n",
       "      <td>0.000</td>\n",
       "      <td>0.000</td>\n",
       "      <td>0.000</td>\n",
       "      <td>1.000</td>\n",
       "    </tr>\n",
       "    <tr>\n",
       "      <th>75%</th>\n",
       "      <td>4.000</td>\n",
       "      <td>3.000</td>\n",
       "      <td>3014.750</td>\n",
       "      <td>11761.000</td>\n",
       "      <td>1.000</td>\n",
       "      <td>56.000</td>\n",
       "      <td>7.000</td>\n",
       "      <td>6.000</td>\n",
       "      <td>6.000</td>\n",
       "      <td>50.000</td>\n",
       "      <td>5.000</td>\n",
       "      <td>35.000</td>\n",
       "      <td>21.000</td>\n",
       "      <td>43.000</td>\n",
       "      <td>84.000</td>\n",
       "      <td>78.000</td>\n",
       "      <td>572.000</td>\n",
       "      <td>169.000</td>\n",
       "      <td>8.000</td>\n",
       "      <td>3.000</td>\n",
       "      <td>0.000</td>\n",
       "      <td>1.000</td>\n",
       "      <td>38.000</td>\n",
       "      <td>24.000</td>\n",
       "      <td>1.000</td>\n",
       "      <td>0.000</td>\n",
       "      <td>0.000</td>\n",
       "      <td>0.000</td>\n",
       "      <td>0.000</td>\n",
       "      <td>0.000</td>\n",
       "      <td>1.000</td>\n",
       "      <td>0.000</td>\n",
       "      <td>0.000</td>\n",
       "      <td>1.000</td>\n",
       "      <td>0.000</td>\n",
       "      <td>0.000</td>\n",
       "      <td>0.000</td>\n",
       "      <td>0.000</td>\n",
       "      <td>1.000</td>\n",
       "      <td>1.000</td>\n",
       "    </tr>\n",
       "    <tr>\n",
       "      <th>max</th>\n",
       "      <td>5.000</td>\n",
       "      <td>6.000</td>\n",
       "      <td>7842.000</td>\n",
       "      <td>436471.000</td>\n",
       "      <td>1.000</td>\n",
       "      <td>266.000</td>\n",
       "      <td>24.000</td>\n",
       "      <td>53.000</td>\n",
       "      <td>47.000</td>\n",
       "      <td>340.000</td>\n",
       "      <td>35.000</td>\n",
       "      <td>177.000</td>\n",
       "      <td>94.000</td>\n",
       "      <td>69.000</td>\n",
       "      <td>100.000</td>\n",
       "      <td>100.000</td>\n",
       "      <td>4508.000</td>\n",
       "      <td>1374.000</td>\n",
       "      <td>10.000</td>\n",
       "      <td>4.000</td>\n",
       "      <td>1.000</td>\n",
       "      <td>1.000</td>\n",
       "      <td>114.000</td>\n",
       "      <td>30.000</td>\n",
       "      <td>1.000</td>\n",
       "      <td>1.000</td>\n",
       "      <td>1.000</td>\n",
       "      <td>1.000</td>\n",
       "      <td>1.000</td>\n",
       "      <td>1.000</td>\n",
       "      <td>1.000</td>\n",
       "      <td>1.000</td>\n",
       "      <td>1.000</td>\n",
       "      <td>1.000</td>\n",
       "      <td>1.000</td>\n",
       "      <td>1.000</td>\n",
       "      <td>1.000</td>\n",
       "      <td>1.000</td>\n",
       "      <td>1.000</td>\n",
       "      <td>1.000</td>\n",
       "    </tr>\n",
       "  </tbody>\n",
       "</table>\n",
       "</div>"
      ],
      "text/plain": [
       "          beds    baths     sqft   lot_size  basement  restaurants  groceries  \\\n",
       "count 1490.000 1490.000 1490.000   1490.000  1490.000     1490.000   1490.000   \n",
       "mean     3.434    2.579 2322.785  12746.660     0.879       39.496      4.389   \n",
       "std      1.073    0.930 1297.102  34805.545     0.327       46.986      4.498   \n",
       "min      1.000    1.000  500.000      0.000     0.000        0.000      0.000   \n",
       "25%      3.000    2.000 1351.000   1542.000     1.000        6.000      1.000   \n",
       "50%      4.000    3.000 1913.500   6183.000     1.000       21.000      3.000   \n",
       "75%      4.000    3.000 3014.750  11761.000     1.000       56.000      7.000   \n",
       "max      5.000    6.000 7842.000 436471.000     1.000      266.000     24.000   \n",
       "\n",
       "       nightlife    cafes  shopping  arts_entertainment  beauty_spas  \\\n",
       "count   1490.000 1490.000  1490.000            1490.000     1490.000   \n",
       "mean       5.005    5.186    39.561               3.362       22.909   \n",
       "std        8.442    7.443    52.335               4.694       25.724   \n",
       "min        0.000    0.000     0.000               0.000        0.000   \n",
       "25%        0.000    0.000     6.000               0.000        4.000   \n",
       "50%        2.000    3.000    20.000               2.000       15.000   \n",
       "75%        6.000    6.000    50.000               5.000       35.000   \n",
       "max       53.000   47.000   340.000              35.000      177.000   \n",
       "\n",
       "       active_life  median_age  married  college_grad  property_tax  \\\n",
       "count     1490.000    1490.000 1490.000      1490.000      1490.000   \n",
       "mean        15.770      38.509   69.471        65.013       464.266   \n",
       "std         17.999       6.615   19.865        17.093       227.250   \n",
       "min          0.000      22.000   11.000         5.000        88.000   \n",
       "25%          4.000      33.000   59.000        53.250       321.000   \n",
       "50%         10.000      38.000   74.000        66.000       426.000   \n",
       "75%         21.000      43.000   84.000        78.000       572.000   \n",
       "max         94.000      69.000  100.000       100.000      4508.000   \n",
       "\n",
       "       insurance  median_school  num_schools  two_and_two  during_recession  \\\n",
       "count   1490.000       1490.000     1490.000     1490.000          1490.000   \n",
       "mean     139.610          6.510        2.779        0.093             0.266   \n",
       "std       71.511          1.975        0.517        0.290             0.442   \n",
       "min       30.000          1.000        1.000        0.000             0.000   \n",
       "25%       94.000          5.000        3.000        0.000             0.000   \n",
       "50%      125.000          7.000        3.000        0.000             0.000   \n",
       "75%      169.000          8.000        3.000        0.000             1.000   \n",
       "max     1374.000         10.000        4.000        1.000             1.000   \n",
       "\n",
       "       property_age  school_score  exterior_walls_Brick  \\\n",
       "count      1490.000      1490.000              1490.000   \n",
       "mean         24.344        17.940                 0.360   \n",
       "std          21.209         6.452                 0.480   \n",
       "min           0.000         3.000                 0.000   \n",
       "25%           6.000        12.000                 0.000   \n",
       "50%          20.000        18.000                 0.000   \n",
       "75%          38.000        24.000                 1.000   \n",
       "max         114.000        30.000                 1.000   \n",
       "\n",
       "       exterior_walls_Brick veneer  exterior_walls_Combination  \\\n",
       "count                     1490.000                    1490.000   \n",
       "mean                         0.024                       0.059   \n",
       "std                          0.154                       0.236   \n",
       "min                          0.000                       0.000   \n",
       "25%                          0.000                       0.000   \n",
       "50%                          0.000                       0.000   \n",
       "75%                          0.000                       0.000   \n",
       "max                          1.000                       1.000   \n",
       "\n",
       "       exterior_walls_Metal  exterior_walls_Missing  exterior_walls_Other  \\\n",
       "count              1490.000                1490.000              1490.000   \n",
       "mean                  0.066                   0.119                 0.038   \n",
       "std                   0.248                   0.324                 0.190   \n",
       "min                   0.000                   0.000                 0.000   \n",
       "25%                   0.000                   0.000                 0.000   \n",
       "50%                   0.000                   0.000                 0.000   \n",
       "75%                   0.000                   0.000                 0.000   \n",
       "max                   1.000                   1.000                 1.000   \n",
       "\n",
       "       exterior_walls_Siding (Alum/Vinyl)  exterior_walls_Wood  roof_Asphalt  \\\n",
       "count                            1490.000             1490.000      1490.000   \n",
       "mean                                0.268                0.066         0.073   \n",
       "std                                 0.443                0.248         0.260   \n",
       "min                                 0.000                0.000         0.000   \n",
       "25%                                 0.000                0.000         0.000   \n",
       "50%                                 0.000                0.000         0.000   \n",
       "75%                                 1.000                0.000         0.000   \n",
       "max                                 1.000                1.000         1.000   \n",
       "\n",
       "       roof_Composition Shingle  roof_Composition Shingles  roof_Missing  \\\n",
       "count                  1490.000                   1490.000      1490.000   \n",
       "mean                      0.624                      0.019         0.189   \n",
       "std                       0.485                      0.138         0.392   \n",
       "min                       0.000                      0.000         0.000   \n",
       "25%                       0.000                      0.000         0.000   \n",
       "50%                       1.000                      0.000         0.000   \n",
       "75%                       1.000                      0.000         0.000   \n",
       "max                       1.000                      1.000         1.000   \n",
       "\n",
       "       roof_Other  roof_Shake Shingle  \\\n",
       "count    1490.000            1490.000   \n",
       "mean        0.060               0.034   \n",
       "std         0.238               0.180   \n",
       "min         0.000               0.000   \n",
       "25%         0.000               0.000   \n",
       "50%         0.000               0.000   \n",
       "75%         0.000               0.000   \n",
       "max         1.000               1.000   \n",
       "\n",
       "       property_type_Apartment / Condo / Townhouse  \\\n",
       "count                                     1490.000   \n",
       "mean                                         0.419   \n",
       "std                                          0.494   \n",
       "min                                          0.000   \n",
       "25%                                          0.000   \n",
       "50%                                          0.000   \n",
       "75%                                          1.000   \n",
       "max                                          1.000   \n",
       "\n",
       "       property_type_Single-Family  \n",
       "count                     1490.000  \n",
       "mean                         0.581  \n",
       "std                          0.494  \n",
       "min                          0.000  \n",
       "25%                          0.000  \n",
       "50%                          1.000  \n",
       "75%                          1.000  \n",
       "max                          1.000  "
      ]
     },
     "execution_count": 11,
     "metadata": {},
     "output_type": "execute_result"
    }
   ],
   "source": [
    "# Summary statistics of X_train\n",
    "X_train.describe()"
   ]
  },
  {
   "cell_type": "markdown",
   "metadata": {
    "colab_type": "text",
    "id": "2RaxNGDcaRiL"
   },
   "source": [
    "Next, standardize the training data manually, creating a new <code style=\"color:steelblue\">X_train_new</code> object."
   ]
  },
  {
   "cell_type": "code",
   "execution_count": 12,
   "metadata": {
    "colab": {},
    "colab_type": "code",
    "id": "AP4CIjMoaRiN"
   },
   "outputs": [],
   "source": [
    "# Standardize X_train\n",
    "X_train_new = (X_train - X_train.mean()) / X_train.std()"
   ]
  },
  {
   "cell_type": "markdown",
   "metadata": {
    "colab_type": "text",
    "id": "Jx0l28rWaRiQ"
   },
   "source": [
    "Let's look at the summary statistics for <code style=\"color:steelblue\">X_train_new</code> to confirm standarization worked correctly.\n",
    "* How can you tell?"
   ]
  },
  {
   "cell_type": "code",
   "execution_count": 13,
   "metadata": {
    "colab": {},
    "colab_type": "code",
    "id": "AK4Kt8zfaRiR",
    "outputId": "e30cc5f5-da31-48e0-a9c9-70c800ec3a11"
   },
   "outputs": [
    {
     "data": {
      "text/html": [
       "<div>\n",
       "<style scoped>\n",
       "    .dataframe tbody tr th:only-of-type {\n",
       "        vertical-align: middle;\n",
       "    }\n",
       "\n",
       "    .dataframe tbody tr th {\n",
       "        vertical-align: top;\n",
       "    }\n",
       "\n",
       "    .dataframe thead th {\n",
       "        text-align: right;\n",
       "    }\n",
       "</style>\n",
       "<table border=\"1\" class=\"dataframe\">\n",
       "  <thead>\n",
       "    <tr style=\"text-align: right;\">\n",
       "      <th></th>\n",
       "      <th>beds</th>\n",
       "      <th>baths</th>\n",
       "      <th>sqft</th>\n",
       "      <th>lot_size</th>\n",
       "      <th>basement</th>\n",
       "      <th>restaurants</th>\n",
       "      <th>groceries</th>\n",
       "      <th>nightlife</th>\n",
       "      <th>cafes</th>\n",
       "      <th>shopping</th>\n",
       "      <th>arts_entertainment</th>\n",
       "      <th>beauty_spas</th>\n",
       "      <th>active_life</th>\n",
       "      <th>median_age</th>\n",
       "      <th>married</th>\n",
       "      <th>college_grad</th>\n",
       "      <th>property_tax</th>\n",
       "      <th>insurance</th>\n",
       "      <th>median_school</th>\n",
       "      <th>num_schools</th>\n",
       "      <th>two_and_two</th>\n",
       "      <th>during_recession</th>\n",
       "      <th>property_age</th>\n",
       "      <th>school_score</th>\n",
       "      <th>exterior_walls_Brick</th>\n",
       "      <th>exterior_walls_Brick veneer</th>\n",
       "      <th>exterior_walls_Combination</th>\n",
       "      <th>exterior_walls_Metal</th>\n",
       "      <th>exterior_walls_Missing</th>\n",
       "      <th>exterior_walls_Other</th>\n",
       "      <th>exterior_walls_Siding (Alum/Vinyl)</th>\n",
       "      <th>exterior_walls_Wood</th>\n",
       "      <th>roof_Asphalt</th>\n",
       "      <th>roof_Composition Shingle</th>\n",
       "      <th>roof_Composition Shingles</th>\n",
       "      <th>roof_Missing</th>\n",
       "      <th>roof_Other</th>\n",
       "      <th>roof_Shake Shingle</th>\n",
       "      <th>property_type_Apartment / Condo / Townhouse</th>\n",
       "      <th>property_type_Single-Family</th>\n",
       "    </tr>\n",
       "  </thead>\n",
       "  <tbody>\n",
       "    <tr>\n",
       "      <th>count</th>\n",
       "      <td>1490.000</td>\n",
       "      <td>1490.000</td>\n",
       "      <td>1490.000</td>\n",
       "      <td>1490.000</td>\n",
       "      <td>1490.000</td>\n",
       "      <td>1490.000</td>\n",
       "      <td>1490.000</td>\n",
       "      <td>1490.000</td>\n",
       "      <td>1490.000</td>\n",
       "      <td>1490.000</td>\n",
       "      <td>1490.000</td>\n",
       "      <td>1490.000</td>\n",
       "      <td>1490.000</td>\n",
       "      <td>1490.000</td>\n",
       "      <td>1490.000</td>\n",
       "      <td>1490.000</td>\n",
       "      <td>1490.000</td>\n",
       "      <td>1490.000</td>\n",
       "      <td>1490.000</td>\n",
       "      <td>1490.000</td>\n",
       "      <td>1490.000</td>\n",
       "      <td>1490.000</td>\n",
       "      <td>1490.000</td>\n",
       "      <td>1490.000</td>\n",
       "      <td>1490.000</td>\n",
       "      <td>1490.000</td>\n",
       "      <td>1490.000</td>\n",
       "      <td>1490.000</td>\n",
       "      <td>1490.000</td>\n",
       "      <td>1490.000</td>\n",
       "      <td>1490.000</td>\n",
       "      <td>1490.000</td>\n",
       "      <td>1490.000</td>\n",
       "      <td>1490.000</td>\n",
       "      <td>1490.000</td>\n",
       "      <td>1490.000</td>\n",
       "      <td>1490.000</td>\n",
       "      <td>1490.000</td>\n",
       "      <td>1490.000</td>\n",
       "      <td>1490.000</td>\n",
       "    </tr>\n",
       "    <tr>\n",
       "      <th>mean</th>\n",
       "      <td>-0.000</td>\n",
       "      <td>-0.000</td>\n",
       "      <td>0.000</td>\n",
       "      <td>0.000</td>\n",
       "      <td>0.000</td>\n",
       "      <td>0.000</td>\n",
       "      <td>0.000</td>\n",
       "      <td>0.000</td>\n",
       "      <td>0.000</td>\n",
       "      <td>0.000</td>\n",
       "      <td>-0.000</td>\n",
       "      <td>0.000</td>\n",
       "      <td>0.000</td>\n",
       "      <td>-0.000</td>\n",
       "      <td>-0.000</td>\n",
       "      <td>-0.000</td>\n",
       "      <td>0.000</td>\n",
       "      <td>-0.000</td>\n",
       "      <td>0.000</td>\n",
       "      <td>0.000</td>\n",
       "      <td>-0.000</td>\n",
       "      <td>-0.000</td>\n",
       "      <td>-0.000</td>\n",
       "      <td>-0.000</td>\n",
       "      <td>0.000</td>\n",
       "      <td>0.000</td>\n",
       "      <td>0.000</td>\n",
       "      <td>0.000</td>\n",
       "      <td>0.000</td>\n",
       "      <td>0.000</td>\n",
       "      <td>0.000</td>\n",
       "      <td>-0.000</td>\n",
       "      <td>-0.000</td>\n",
       "      <td>-0.000</td>\n",
       "      <td>-0.000</td>\n",
       "      <td>0.000</td>\n",
       "      <td>-0.000</td>\n",
       "      <td>0.000</td>\n",
       "      <td>0.000</td>\n",
       "      <td>-0.000</td>\n",
       "    </tr>\n",
       "    <tr>\n",
       "      <th>std</th>\n",
       "      <td>1.000</td>\n",
       "      <td>1.000</td>\n",
       "      <td>1.000</td>\n",
       "      <td>1.000</td>\n",
       "      <td>1.000</td>\n",
       "      <td>1.000</td>\n",
       "      <td>1.000</td>\n",
       "      <td>1.000</td>\n",
       "      <td>1.000</td>\n",
       "      <td>1.000</td>\n",
       "      <td>1.000</td>\n",
       "      <td>1.000</td>\n",
       "      <td>1.000</td>\n",
       "      <td>1.000</td>\n",
       "      <td>1.000</td>\n",
       "      <td>1.000</td>\n",
       "      <td>1.000</td>\n",
       "      <td>1.000</td>\n",
       "      <td>1.000</td>\n",
       "      <td>1.000</td>\n",
       "      <td>1.000</td>\n",
       "      <td>1.000</td>\n",
       "      <td>1.000</td>\n",
       "      <td>1.000</td>\n",
       "      <td>1.000</td>\n",
       "      <td>1.000</td>\n",
       "      <td>1.000</td>\n",
       "      <td>1.000</td>\n",
       "      <td>1.000</td>\n",
       "      <td>1.000</td>\n",
       "      <td>1.000</td>\n",
       "      <td>1.000</td>\n",
       "      <td>1.000</td>\n",
       "      <td>1.000</td>\n",
       "      <td>1.000</td>\n",
       "      <td>1.000</td>\n",
       "      <td>1.000</td>\n",
       "      <td>1.000</td>\n",
       "      <td>1.000</td>\n",
       "      <td>1.000</td>\n",
       "    </tr>\n",
       "    <tr>\n",
       "      <th>min</th>\n",
       "      <td>-2.269</td>\n",
       "      <td>-1.697</td>\n",
       "      <td>-1.405</td>\n",
       "      <td>-0.366</td>\n",
       "      <td>-2.688</td>\n",
       "      <td>-0.841</td>\n",
       "      <td>-0.976</td>\n",
       "      <td>-0.593</td>\n",
       "      <td>-0.697</td>\n",
       "      <td>-0.756</td>\n",
       "      <td>-0.716</td>\n",
       "      <td>-0.891</td>\n",
       "      <td>-0.876</td>\n",
       "      <td>-2.496</td>\n",
       "      <td>-2.943</td>\n",
       "      <td>-3.511</td>\n",
       "      <td>-1.656</td>\n",
       "      <td>-1.533</td>\n",
       "      <td>-2.790</td>\n",
       "      <td>-3.440</td>\n",
       "      <td>-0.319</td>\n",
       "      <td>-0.601</td>\n",
       "      <td>-1.148</td>\n",
       "      <td>-2.316</td>\n",
       "      <td>-0.749</td>\n",
       "      <td>-0.157</td>\n",
       "      <td>-0.250</td>\n",
       "      <td>-0.265</td>\n",
       "      <td>-0.368</td>\n",
       "      <td>-0.198</td>\n",
       "      <td>-0.606</td>\n",
       "      <td>-0.265</td>\n",
       "      <td>-0.281</td>\n",
       "      <td>-1.288</td>\n",
       "      <td>-0.141</td>\n",
       "      <td>-0.483</td>\n",
       "      <td>-0.253</td>\n",
       "      <td>-0.186</td>\n",
       "      <td>-0.850</td>\n",
       "      <td>-1.176</td>\n",
       "    </tr>\n",
       "    <tr>\n",
       "      <th>25%</th>\n",
       "      <td>-0.405</td>\n",
       "      <td>-0.622</td>\n",
       "      <td>-0.749</td>\n",
       "      <td>-0.322</td>\n",
       "      <td>0.372</td>\n",
       "      <td>-0.713</td>\n",
       "      <td>-0.753</td>\n",
       "      <td>-0.593</td>\n",
       "      <td>-0.697</td>\n",
       "      <td>-0.641</td>\n",
       "      <td>-0.716</td>\n",
       "      <td>-0.735</td>\n",
       "      <td>-0.654</td>\n",
       "      <td>-0.833</td>\n",
       "      <td>-0.527</td>\n",
       "      <td>-0.688</td>\n",
       "      <td>-0.630</td>\n",
       "      <td>-0.638</td>\n",
       "      <td>-0.765</td>\n",
       "      <td>0.427</td>\n",
       "      <td>-0.319</td>\n",
       "      <td>-0.601</td>\n",
       "      <td>-0.865</td>\n",
       "      <td>-0.921</td>\n",
       "      <td>-0.749</td>\n",
       "      <td>-0.157</td>\n",
       "      <td>-0.250</td>\n",
       "      <td>-0.265</td>\n",
       "      <td>-0.368</td>\n",
       "      <td>-0.198</td>\n",
       "      <td>-0.606</td>\n",
       "      <td>-0.265</td>\n",
       "      <td>-0.281</td>\n",
       "      <td>-1.288</td>\n",
       "      <td>-0.141</td>\n",
       "      <td>-0.483</td>\n",
       "      <td>-0.253</td>\n",
       "      <td>-0.186</td>\n",
       "      <td>-0.850</td>\n",
       "      <td>-1.176</td>\n",
       "    </tr>\n",
       "    <tr>\n",
       "      <th>50%</th>\n",
       "      <td>0.527</td>\n",
       "      <td>0.452</td>\n",
       "      <td>-0.316</td>\n",
       "      <td>-0.189</td>\n",
       "      <td>0.372</td>\n",
       "      <td>-0.394</td>\n",
       "      <td>-0.309</td>\n",
       "      <td>-0.356</td>\n",
       "      <td>-0.294</td>\n",
       "      <td>-0.374</td>\n",
       "      <td>-0.290</td>\n",
       "      <td>-0.307</td>\n",
       "      <td>-0.321</td>\n",
       "      <td>-0.077</td>\n",
       "      <td>0.228</td>\n",
       "      <td>0.058</td>\n",
       "      <td>-0.168</td>\n",
       "      <td>-0.204</td>\n",
       "      <td>0.248</td>\n",
       "      <td>0.427</td>\n",
       "      <td>-0.319</td>\n",
       "      <td>-0.601</td>\n",
       "      <td>-0.205</td>\n",
       "      <td>0.009</td>\n",
       "      <td>-0.749</td>\n",
       "      <td>-0.157</td>\n",
       "      <td>-0.250</td>\n",
       "      <td>-0.265</td>\n",
       "      <td>-0.368</td>\n",
       "      <td>-0.198</td>\n",
       "      <td>-0.606</td>\n",
       "      <td>-0.265</td>\n",
       "      <td>-0.281</td>\n",
       "      <td>0.776</td>\n",
       "      <td>-0.141</td>\n",
       "      <td>-0.483</td>\n",
       "      <td>-0.253</td>\n",
       "      <td>-0.186</td>\n",
       "      <td>-0.850</td>\n",
       "      <td>0.850</td>\n",
       "    </tr>\n",
       "    <tr>\n",
       "      <th>75%</th>\n",
       "      <td>0.527</td>\n",
       "      <td>0.452</td>\n",
       "      <td>0.533</td>\n",
       "      <td>-0.028</td>\n",
       "      <td>0.372</td>\n",
       "      <td>0.351</td>\n",
       "      <td>0.581</td>\n",
       "      <td>0.118</td>\n",
       "      <td>0.109</td>\n",
       "      <td>0.199</td>\n",
       "      <td>0.349</td>\n",
       "      <td>0.470</td>\n",
       "      <td>0.291</td>\n",
       "      <td>0.679</td>\n",
       "      <td>0.731</td>\n",
       "      <td>0.760</td>\n",
       "      <td>0.474</td>\n",
       "      <td>0.411</td>\n",
       "      <td>0.754</td>\n",
       "      <td>0.427</td>\n",
       "      <td>-0.319</td>\n",
       "      <td>1.662</td>\n",
       "      <td>0.644</td>\n",
       "      <td>0.939</td>\n",
       "      <td>1.334</td>\n",
       "      <td>-0.157</td>\n",
       "      <td>-0.250</td>\n",
       "      <td>-0.265</td>\n",
       "      <td>-0.368</td>\n",
       "      <td>-0.198</td>\n",
       "      <td>1.650</td>\n",
       "      <td>-0.265</td>\n",
       "      <td>-0.281</td>\n",
       "      <td>0.776</td>\n",
       "      <td>-0.141</td>\n",
       "      <td>-0.483</td>\n",
       "      <td>-0.253</td>\n",
       "      <td>-0.186</td>\n",
       "      <td>1.176</td>\n",
       "      <td>0.850</td>\n",
       "    </tr>\n",
       "    <tr>\n",
       "      <th>max</th>\n",
       "      <td>1.459</td>\n",
       "      <td>3.676</td>\n",
       "      <td>4.255</td>\n",
       "      <td>12.174</td>\n",
       "      <td>0.372</td>\n",
       "      <td>4.821</td>\n",
       "      <td>4.360</td>\n",
       "      <td>5.685</td>\n",
       "      <td>5.618</td>\n",
       "      <td>5.741</td>\n",
       "      <td>6.741</td>\n",
       "      <td>5.990</td>\n",
       "      <td>4.346</td>\n",
       "      <td>4.609</td>\n",
       "      <td>1.537</td>\n",
       "      <td>2.047</td>\n",
       "      <td>17.794</td>\n",
       "      <td>17.262</td>\n",
       "      <td>1.767</td>\n",
       "      <td>2.360</td>\n",
       "      <td>3.129</td>\n",
       "      <td>1.662</td>\n",
       "      <td>4.227</td>\n",
       "      <td>1.869</td>\n",
       "      <td>1.334</td>\n",
       "      <td>6.353</td>\n",
       "      <td>3.990</td>\n",
       "      <td>3.768</td>\n",
       "      <td>2.714</td>\n",
       "      <td>5.059</td>\n",
       "      <td>1.650</td>\n",
       "      <td>3.768</td>\n",
       "      <td>3.558</td>\n",
       "      <td>0.776</td>\n",
       "      <td>7.095</td>\n",
       "      <td>2.069</td>\n",
       "      <td>3.943</td>\n",
       "      <td>5.365</td>\n",
       "      <td>1.176</td>\n",
       "      <td>0.850</td>\n",
       "    </tr>\n",
       "  </tbody>\n",
       "</table>\n",
       "</div>"
      ],
      "text/plain": [
       "          beds    baths     sqft  lot_size  basement  restaurants  groceries  \\\n",
       "count 1490.000 1490.000 1490.000  1490.000  1490.000     1490.000   1490.000   \n",
       "mean    -0.000   -0.000    0.000     0.000     0.000        0.000      0.000   \n",
       "std      1.000    1.000    1.000     1.000     1.000        1.000      1.000   \n",
       "min     -2.269   -1.697   -1.405    -0.366    -2.688       -0.841     -0.976   \n",
       "25%     -0.405   -0.622   -0.749    -0.322     0.372       -0.713     -0.753   \n",
       "50%      0.527    0.452   -0.316    -0.189     0.372       -0.394     -0.309   \n",
       "75%      0.527    0.452    0.533    -0.028     0.372        0.351      0.581   \n",
       "max      1.459    3.676    4.255    12.174     0.372        4.821      4.360   \n",
       "\n",
       "       nightlife    cafes  shopping  arts_entertainment  beauty_spas  \\\n",
       "count   1490.000 1490.000  1490.000            1490.000     1490.000   \n",
       "mean       0.000    0.000     0.000              -0.000        0.000   \n",
       "std        1.000    1.000     1.000               1.000        1.000   \n",
       "min       -0.593   -0.697    -0.756              -0.716       -0.891   \n",
       "25%       -0.593   -0.697    -0.641              -0.716       -0.735   \n",
       "50%       -0.356   -0.294    -0.374              -0.290       -0.307   \n",
       "75%        0.118    0.109     0.199               0.349        0.470   \n",
       "max        5.685    5.618     5.741               6.741        5.990   \n",
       "\n",
       "       active_life  median_age  married  college_grad  property_tax  \\\n",
       "count     1490.000    1490.000 1490.000      1490.000      1490.000   \n",
       "mean         0.000      -0.000   -0.000        -0.000         0.000   \n",
       "std          1.000       1.000    1.000         1.000         1.000   \n",
       "min         -0.876      -2.496   -2.943        -3.511        -1.656   \n",
       "25%         -0.654      -0.833   -0.527        -0.688        -0.630   \n",
       "50%         -0.321      -0.077    0.228         0.058        -0.168   \n",
       "75%          0.291       0.679    0.731         0.760         0.474   \n",
       "max          4.346       4.609    1.537         2.047        17.794   \n",
       "\n",
       "       insurance  median_school  num_schools  two_and_two  during_recession  \\\n",
       "count   1490.000       1490.000     1490.000     1490.000          1490.000   \n",
       "mean      -0.000          0.000        0.000       -0.000            -0.000   \n",
       "std        1.000          1.000        1.000        1.000             1.000   \n",
       "min       -1.533         -2.790       -3.440       -0.319            -0.601   \n",
       "25%       -0.638         -0.765        0.427       -0.319            -0.601   \n",
       "50%       -0.204          0.248        0.427       -0.319            -0.601   \n",
       "75%        0.411          0.754        0.427       -0.319             1.662   \n",
       "max       17.262          1.767        2.360        3.129             1.662   \n",
       "\n",
       "       property_age  school_score  exterior_walls_Brick  \\\n",
       "count      1490.000      1490.000              1490.000   \n",
       "mean         -0.000        -0.000                 0.000   \n",
       "std           1.000         1.000                 1.000   \n",
       "min          -1.148        -2.316                -0.749   \n",
       "25%          -0.865        -0.921                -0.749   \n",
       "50%          -0.205         0.009                -0.749   \n",
       "75%           0.644         0.939                 1.334   \n",
       "max           4.227         1.869                 1.334   \n",
       "\n",
       "       exterior_walls_Brick veneer  exterior_walls_Combination  \\\n",
       "count                     1490.000                    1490.000   \n",
       "mean                         0.000                       0.000   \n",
       "std                          1.000                       1.000   \n",
       "min                         -0.157                      -0.250   \n",
       "25%                         -0.157                      -0.250   \n",
       "50%                         -0.157                      -0.250   \n",
       "75%                         -0.157                      -0.250   \n",
       "max                          6.353                       3.990   \n",
       "\n",
       "       exterior_walls_Metal  exterior_walls_Missing  exterior_walls_Other  \\\n",
       "count              1490.000                1490.000              1490.000   \n",
       "mean                  0.000                   0.000                 0.000   \n",
       "std                   1.000                   1.000                 1.000   \n",
       "min                  -0.265                  -0.368                -0.198   \n",
       "25%                  -0.265                  -0.368                -0.198   \n",
       "50%                  -0.265                  -0.368                -0.198   \n",
       "75%                  -0.265                  -0.368                -0.198   \n",
       "max                   3.768                   2.714                 5.059   \n",
       "\n",
       "       exterior_walls_Siding (Alum/Vinyl)  exterior_walls_Wood  roof_Asphalt  \\\n",
       "count                            1490.000             1490.000      1490.000   \n",
       "mean                                0.000               -0.000        -0.000   \n",
       "std                                 1.000                1.000         1.000   \n",
       "min                                -0.606               -0.265        -0.281   \n",
       "25%                                -0.606               -0.265        -0.281   \n",
       "50%                                -0.606               -0.265        -0.281   \n",
       "75%                                 1.650               -0.265        -0.281   \n",
       "max                                 1.650                3.768         3.558   \n",
       "\n",
       "       roof_Composition Shingle  roof_Composition Shingles  roof_Missing  \\\n",
       "count                  1490.000                   1490.000      1490.000   \n",
       "mean                     -0.000                     -0.000         0.000   \n",
       "std                       1.000                      1.000         1.000   \n",
       "min                      -1.288                     -0.141        -0.483   \n",
       "25%                      -1.288                     -0.141        -0.483   \n",
       "50%                       0.776                     -0.141        -0.483   \n",
       "75%                       0.776                     -0.141        -0.483   \n",
       "max                       0.776                      7.095         2.069   \n",
       "\n",
       "       roof_Other  roof_Shake Shingle  \\\n",
       "count    1490.000            1490.000   \n",
       "mean       -0.000               0.000   \n",
       "std         1.000               1.000   \n",
       "min        -0.253              -0.186   \n",
       "25%        -0.253              -0.186   \n",
       "50%        -0.253              -0.186   \n",
       "75%        -0.253              -0.186   \n",
       "max         3.943               5.365   \n",
       "\n",
       "       property_type_Apartment / Condo / Townhouse  \\\n",
       "count                                     1490.000   \n",
       "mean                                         0.000   \n",
       "std                                          1.000   \n",
       "min                                         -0.850   \n",
       "25%                                         -0.850   \n",
       "50%                                         -0.850   \n",
       "75%                                          1.176   \n",
       "max                                          1.176   \n",
       "\n",
       "       property_type_Single-Family  \n",
       "count                     1490.000  \n",
       "mean                        -0.000  \n",
       "std                          1.000  \n",
       "min                         -1.176  \n",
       "25%                         -1.176  \n",
       "50%                          0.850  \n",
       "75%                          0.850  \n",
       "max                          0.850  "
      ]
     },
     "execution_count": 13,
     "metadata": {},
     "output_type": "execute_result"
    }
   ],
   "source": [
    "# Summary statistics of X_train_new\n",
    "X_train_new.describe()"
   ]
  },
  {
   "cell_type": "markdown",
   "metadata": {},
   "source": [
    "<br>"
   ]
  },
  {
   "cell_type": "markdown",
   "metadata": {},
   "source": [
    "### Make Pipleline"
   ]
  },
  {
   "cell_type": "markdown",
   "metadata": {
    "colab_type": "text",
    "id": "KnY3Nu58aRij"
   },
   "source": [
    "For the most part, we'll almost never perform manual standardization because we'll include preprocessing steps in **model pipelines**.\n",
    "\n",
    "<br>\n",
    "So let's import the <code style=\"color:steelblue\">make_pipeline()</code> function from Scikit-Learn."
   ]
  },
  {
   "cell_type": "code",
   "execution_count": 14,
   "metadata": {
    "colab": {},
    "colab_type": "code",
    "id": "bnsoYYCuaRik"
   },
   "outputs": [],
   "source": [
    "# Function for creating model pipelines\n",
    "from sklearn.pipeline import make_pipeline"
   ]
  },
  {
   "cell_type": "markdown",
   "metadata": {
    "colab_type": "text",
    "id": "f1kdKe87aRin"
   },
   "source": [
    "Now let's import the <code style=\"color:steelblue\">StandardScaler</code>, which is used for standardization."
   ]
  },
  {
   "cell_type": "code",
   "execution_count": 15,
   "metadata": {
    "colab": {},
    "colab_type": "code",
    "id": "FDIGBg5iaRip"
   },
   "outputs": [],
   "source": [
    "# For standardization\n",
    "from sklearn.preprocessing import StandardScaler"
   ]
  },
  {
   "cell_type": "markdown",
   "metadata": {},
   "source": [
    "<br>"
   ]
  },
  {
   "cell_type": "markdown",
   "metadata": {
    "colab_type": "text",
    "id": "h-Jim2ppaRi1"
   },
   "source": [
    "### Next, create a <code style=\"color:steelblue\">pipelines</code> dictionary.\n",
    "\n",
    "* It should include 3 keys: <code style=\"color:crimson\">'lasso'</code>, <code style=\"color:crimson\">'ridge'</code>, and <code style=\"color:crimson\">'enet'</code>\n",
    "* The corresponding values should be pipelines that first standardize the data.\n",
    "* For the algorithm in each pipeline, set <code style=\"color:steelblue\">random_state=<span style=\"color:crimson\">123</span></code> to ensure replicable results."
   ]
  },
  {
   "cell_type": "code",
   "execution_count": 43,
   "metadata": {
    "colab": {},
    "colab_type": "code",
    "id": "9X3N97MJaRi1"
   },
   "outputs": [],
   "source": [
    "# Create pipelines dictionary\n",
    "pipeline_dict = { 'lasso' : make_pipeline(StandardScaler(), Lasso(random_state=123)),\n",
    "                 'ridge' : make_pipeline(StandardScaler(), Ridge(random_state=123)),\n",
    "                 'enet' : make_pipeline(StandardScaler(), ElasticNet(random_state=123)) }"
   ]
  },
  {
   "cell_type": "markdown",
   "metadata": {
    "colab_type": "text",
    "id": "vFZHWwTdaRi5"
   },
   "source": [
    "In the next exercise, you'll add pipelines for tree ensembles."
   ]
  },
  {
   "cell_type": "markdown",
   "metadata": {},
   "source": [
    "<br>"
   ]
  },
  {
   "cell_type": "markdown",
   "metadata": {
    "colab_type": "text",
    "id": "S424C06paRi7"
   },
   "source": [
    "<hr style=\"border-color:royalblue;background-color:royalblue;height:1px;\">\n",
    "\n",
    "## <span style=\"color:RoyalBlue\">Exercise 5.2</span>\n",
    "\n",
    "**Add pipelines for <code style=\"color:SteelBlue\">RandomForestRegressor</code> and <code style=\"color:SteelBlue\">GradientBoostingRegressor</code> to your pipeline dictionary.**\n",
    "* Name them <code style=\"color:crimson\">'rf'</code> for random forest and <code style=\"color:crimson\">'gb'</code> for gradient boosted tree.\n",
    "* Both pipelines should standardize the data first.\n",
    "* For both, set <code style=\"color:steelblue\">random_state=<span style=\"color:crimson\">123</span></code> to ensure replicable results."
   ]
  },
  {
   "cell_type": "code",
   "execution_count": 45,
   "metadata": {
    "colab": {},
    "colab_type": "code",
    "id": "uerZJ228aRi8"
   },
   "outputs": [],
   "source": [
    "# Add a pipeline for 'rf' to 'pipeline_dict'\n",
    "pipeline_dict['rf'] = make_pipeline(StandardScaler(), RandomForestRegressor(random_state=123))\n",
    "# Add a pipeline for 'gb' to 'pipeline_dict'\n",
    "pipeline_dict['gb'] = make_pipeline(StandardScaler(), GradientBoostingRegressor(random_state=123))"
   ]
  },
  {
   "cell_type": "markdown",
   "metadata": {
    "colab_type": "text",
    "id": "PHId09qfaRjA"
   },
   "source": [
    "Let's make sure our dictionary has pipelines for each of our algorithms.\n",
    "\n",
    "<br>\n",
    "\n",
    "**Run this code to confirm that you have all 5 algorithms, each part of a pipeline.**"
   ]
  },
  {
   "cell_type": "code",
   "execution_count": 52,
   "metadata": {
    "colab": {},
    "colab_type": "code",
    "id": "b3RUYB_laRjB",
    "outputId": "65d269a2-5ff2-44f9-f32f-42c59fe7ba2b"
   },
   "outputs": [
    {
     "name": "stdout",
     "output_type": "stream",
     "text": [
      "lasso ; <class 'sklearn.pipeline.Pipeline'>\n",
      "------------------------\n",
      "memory :::: None\n",
      "steps :::: [('standardscaler', StandardScaler(copy=True, with_mean=True, with_std=True)), ('lasso', Lasso(alpha=1.0, copy_X=True, fit_intercept=True, max_iter=1000,\n",
      "   normalize=False, positive=False, precompute=False, random_state=123,\n",
      "   selection='cyclic', tol=0.0001, warm_start=False))]\n",
      "standardscaler :::: StandardScaler(copy=True, with_mean=True, with_std=True)\n",
      "lasso :::: Lasso(alpha=1.0, copy_X=True, fit_intercept=True, max_iter=1000,\n",
      "   normalize=False, positive=False, precompute=False, random_state=123,\n",
      "   selection='cyclic', tol=0.0001, warm_start=False)\n",
      "standardscaler__copy :::: True\n",
      "standardscaler__with_mean :::: True\n",
      "standardscaler__with_std :::: True\n",
      "lasso__alpha :::: 1.0\n",
      "lasso__copy_X :::: True\n",
      "lasso__fit_intercept :::: True\n",
      "lasso__max_iter :::: 1000\n",
      "lasso__normalize :::: False\n",
      "lasso__positive :::: False\n",
      "lasso__precompute :::: False\n",
      "lasso__random_state :::: 123\n",
      "lasso__selection :::: cyclic\n",
      "lasso__tol :::: 0.0001\n",
      "lasso__warm_start :::: False\n",
      "ridge ; <class 'sklearn.pipeline.Pipeline'>\n",
      "------------------------\n",
      "memory :::: None\n",
      "steps :::: [('standardscaler', StandardScaler(copy=True, with_mean=True, with_std=True)), ('ridge', Ridge(alpha=1.0, copy_X=True, fit_intercept=True, max_iter=None,\n",
      "   normalize=False, random_state=123, solver='auto', tol=0.001))]\n",
      "standardscaler :::: StandardScaler(copy=True, with_mean=True, with_std=True)\n",
      "ridge :::: Ridge(alpha=1.0, copy_X=True, fit_intercept=True, max_iter=None,\n",
      "   normalize=False, random_state=123, solver='auto', tol=0.001)\n",
      "standardscaler__copy :::: True\n",
      "standardscaler__with_mean :::: True\n",
      "standardscaler__with_std :::: True\n",
      "ridge__alpha :::: 1.0\n",
      "ridge__copy_X :::: True\n",
      "ridge__fit_intercept :::: True\n",
      "ridge__max_iter :::: None\n",
      "ridge__normalize :::: False\n",
      "ridge__random_state :::: 123\n",
      "ridge__solver :::: auto\n",
      "ridge__tol :::: 0.001\n",
      "enet ; <class 'sklearn.pipeline.Pipeline'>\n",
      "------------------------\n",
      "memory :::: None\n",
      "steps :::: [('standardscaler', StandardScaler(copy=True, with_mean=True, with_std=True)), ('elasticnet', ElasticNet(alpha=1.0, copy_X=True, fit_intercept=True, l1_ratio=0.5,\n",
      "      max_iter=1000, normalize=False, positive=False, precompute=False,\n",
      "      random_state=123, selection='cyclic', tol=0.0001, warm_start=False))]\n",
      "standardscaler :::: StandardScaler(copy=True, with_mean=True, with_std=True)\n",
      "elasticnet :::: ElasticNet(alpha=1.0, copy_X=True, fit_intercept=True, l1_ratio=0.5,\n",
      "      max_iter=1000, normalize=False, positive=False, precompute=False,\n",
      "      random_state=123, selection='cyclic', tol=0.0001, warm_start=False)\n",
      "standardscaler__copy :::: True\n",
      "standardscaler__with_mean :::: True\n",
      "standardscaler__with_std :::: True\n",
      "elasticnet__alpha :::: 1.0\n",
      "elasticnet__copy_X :::: True\n",
      "elasticnet__fit_intercept :::: True\n",
      "elasticnet__l1_ratio :::: 0.5\n",
      "elasticnet__max_iter :::: 1000\n",
      "elasticnet__normalize :::: False\n",
      "elasticnet__positive :::: False\n",
      "elasticnet__precompute :::: False\n",
      "elasticnet__random_state :::: 123\n",
      "elasticnet__selection :::: cyclic\n",
      "elasticnet__tol :::: 0.0001\n",
      "elasticnet__warm_start :::: False\n",
      "rf ; <class 'sklearn.pipeline.Pipeline'>\n",
      "------------------------\n",
      "memory :::: None\n",
      "steps :::: [('standardscaler', StandardScaler(copy=True, with_mean=True, with_std=True)), ('randomforestregressor', RandomForestRegressor(bootstrap=True, criterion='mse', max_depth=None,\n",
      "           max_features='auto', max_leaf_nodes=None,\n",
      "           min_impurity_decrease=0.0, min_impurity_split=None,\n",
      "           min_samples_leaf=1, min_samples_split=2,\n",
      "           min_weight_fraction_leaf=0.0, n_estimators='warn', n_jobs=None,\n",
      "           oob_score=False, random_state=123, verbose=0, warm_start=False))]\n",
      "standardscaler :::: StandardScaler(copy=True, with_mean=True, with_std=True)\n",
      "randomforestregressor :::: RandomForestRegressor(bootstrap=True, criterion='mse', max_depth=None,\n",
      "           max_features='auto', max_leaf_nodes=None,\n",
      "           min_impurity_decrease=0.0, min_impurity_split=None,\n",
      "           min_samples_leaf=1, min_samples_split=2,\n",
      "           min_weight_fraction_leaf=0.0, n_estimators='warn', n_jobs=None,\n",
      "           oob_score=False, random_state=123, verbose=0, warm_start=False)\n",
      "standardscaler__copy :::: True\n",
      "standardscaler__with_mean :::: True\n",
      "standardscaler__with_std :::: True\n",
      "randomforestregressor__bootstrap :::: True\n",
      "randomforestregressor__criterion :::: mse\n",
      "randomforestregressor__max_depth :::: None\n",
      "randomforestregressor__max_features :::: auto\n",
      "randomforestregressor__max_leaf_nodes :::: None\n",
      "randomforestregressor__min_impurity_decrease :::: 0.0\n",
      "randomforestregressor__min_impurity_split :::: None\n",
      "randomforestregressor__min_samples_leaf :::: 1\n",
      "randomforestregressor__min_samples_split :::: 2\n",
      "randomforestregressor__min_weight_fraction_leaf :::: 0.0\n",
      "randomforestregressor__n_estimators :::: warn\n",
      "randomforestregressor__n_jobs :::: None\n",
      "randomforestregressor__oob_score :::: False\n",
      "randomforestregressor__random_state :::: 123\n",
      "randomforestregressor__verbose :::: 0\n",
      "randomforestregressor__warm_start :::: False\n",
      "gb ; <class 'sklearn.pipeline.Pipeline'>\n",
      "------------------------\n",
      "memory :::: None\n",
      "steps :::: [('standardscaler', StandardScaler(copy=True, with_mean=True, with_std=True)), ('gradientboostingregressor', GradientBoostingRegressor(alpha=0.9, criterion='friedman_mse', init=None,\n",
      "             learning_rate=0.1, loss='ls', max_depth=3, max_features=None,\n",
      "             max_leaf_nodes=None, min_impurity_decrease=0.0,\n",
      "             min_impurity_split=None, min_samples_leaf=1,\n",
      "             min_samples_split=2, min_weight_fraction_leaf=0.0,\n",
      "             n_estimators=100, n_iter_no_change=None, presort='auto',\n",
      "             random_state=123, subsample=1.0, tol=0.0001,\n",
      "             validation_fraction=0.1, verbose=0, warm_start=False))]\n",
      "standardscaler :::: StandardScaler(copy=True, with_mean=True, with_std=True)\n",
      "gradientboostingregressor :::: GradientBoostingRegressor(alpha=0.9, criterion='friedman_mse', init=None,\n",
      "             learning_rate=0.1, loss='ls', max_depth=3, max_features=None,\n",
      "             max_leaf_nodes=None, min_impurity_decrease=0.0,\n",
      "             min_impurity_split=None, min_samples_leaf=1,\n",
      "             min_samples_split=2, min_weight_fraction_leaf=0.0,\n",
      "             n_estimators=100, n_iter_no_change=None, presort='auto',\n",
      "             random_state=123, subsample=1.0, tol=0.0001,\n",
      "             validation_fraction=0.1, verbose=0, warm_start=False)\n",
      "standardscaler__copy :::: True\n",
      "standardscaler__with_mean :::: True\n",
      "standardscaler__with_std :::: True\n",
      "gradientboostingregressor__alpha :::: 0.9\n",
      "gradientboostingregressor__criterion :::: friedman_mse\n",
      "gradientboostingregressor__init :::: None\n",
      "gradientboostingregressor__learning_rate :::: 0.1\n",
      "gradientboostingregressor__loss :::: ls\n",
      "gradientboostingregressor__max_depth :::: 3\n",
      "gradientboostingregressor__max_features :::: None\n",
      "gradientboostingregressor__max_leaf_nodes :::: None\n",
      "gradientboostingregressor__min_impurity_decrease :::: 0.0\n",
      "gradientboostingregressor__min_impurity_split :::: None\n",
      "gradientboostingregressor__min_samples_leaf :::: 1\n",
      "gradientboostingregressor__min_samples_split :::: 2\n",
      "gradientboostingregressor__min_weight_fraction_leaf :::: 0.0\n",
      "gradientboostingregressor__n_estimators :::: 100\n",
      "gradientboostingregressor__n_iter_no_change :::: None\n",
      "gradientboostingregressor__presort :::: auto\n",
      "gradientboostingregressor__random_state :::: 123\n",
      "gradientboostingregressor__subsample :::: 1.0\n",
      "gradientboostingregressor__tol :::: 0.0001\n",
      "gradientboostingregressor__validation_fraction :::: 0.1\n",
      "gradientboostingregressor__verbose :::: 0\n",
      "gradientboostingregressor__warm_start :::: False\n"
     ]
    }
   ],
   "source": [
    "# Check that we have all 5 algorithms, and that they are all pipelines\n",
    "for key, value in pipeline_dict.items():\n",
    "    print( key,';', type(value))\n",
    "    print('------------------------')\n",
    "    for key, value in value.get_params().items():\n",
    "        print(key, '::::', value)"
   ]
  },
  {
   "cell_type": "markdown",
   "metadata": {
    "colab_type": "text",
    "id": "uDkbw7W-aRjH"
   },
   "source": [
    "Now that we have our pipelines, we're ready to move on to declaring hyperparameters to tune.\n",
    "\n",
    "<hr style=\"border-color:royalblue;background-color:royalblue;height:1px;\">\n",
    "\n",
    "<div style=\"text-align:center; margin: 40px 0 40px 0;\">\n",
    "    \n",
    "[**Back to Contents**](#toc)\n",
    "</div>"
   ]
  },
  {
   "cell_type": "markdown",
   "metadata": {},
   "source": [
    "<br>"
   ]
  },
  {
   "cell_type": "markdown",
   "metadata": {
    "colab_type": "text",
    "id": "ZrrXXxD4aRjI"
   },
   "source": [
    "<br id=\"hyperparameters\">\n",
    "\n",
    "# 3. Declare hyperparameters to tune\n",
    "\n",
    "Up to now, we've been casually talking about \"tuning\" models, but now it's time to treat the topic more formally.\n",
    "\n",
    "<br>\n",
    "\n",
    "**First, list all the tunable hyperparameters for your Lasso regression pipeline.** We can do this to any Scikit Learn algorithm —to see what hyperparameters can be tuned. This is much more of an art than a science."
   ]
  },
  {
   "cell_type": "code",
   "execution_count": 20,
   "metadata": {
    "colab": {},
    "colab_type": "code",
    "id": "vaJHUO_DaRjX",
    "outputId": "ab693fc1-4db2-4e8a-958c-16903b2c9507"
   },
   "outputs": [
    {
     "data": {
      "text/plain": [
       "{'memory': None,\n",
       " 'steps': [('standardscaler',\n",
       "   StandardScaler(copy=True, with_mean=True, with_std=True)),\n",
       "  ('lasso', Lasso(alpha=1.0, copy_X=True, fit_intercept=True, max_iter=1000,\n",
       "      normalize=False, positive=False, precompute=False, random_state=123,\n",
       "      selection='cyclic', tol=0.0001, warm_start=False))],\n",
       " 'standardscaler': StandardScaler(copy=True, with_mean=True, with_std=True),\n",
       " 'lasso': Lasso(alpha=1.0, copy_X=True, fit_intercept=True, max_iter=1000,\n",
       "    normalize=False, positive=False, precompute=False, random_state=123,\n",
       "    selection='cyclic', tol=0.0001, warm_start=False),\n",
       " 'standardscaler__copy': True,\n",
       " 'standardscaler__with_mean': True,\n",
       " 'standardscaler__with_std': True,\n",
       " 'lasso__alpha': 1.0,\n",
       " 'lasso__copy_X': True,\n",
       " 'lasso__fit_intercept': True,\n",
       " 'lasso__max_iter': 1000,\n",
       " 'lasso__normalize': False,\n",
       " 'lasso__positive': False,\n",
       " 'lasso__precompute': False,\n",
       " 'lasso__random_state': 123,\n",
       " 'lasso__selection': 'cyclic',\n",
       " 'lasso__tol': 0.0001,\n",
       " 'lasso__warm_start': False}"
      ]
     },
     "execution_count": 20,
     "metadata": {},
     "output_type": "execute_result"
    }
   ],
   "source": [
    "# List tuneable hyperparameters of our Lasso pipeline\n",
    "pipeline_dict['lasso'].get_params()"
   ]
  },
  {
   "cell_type": "markdown",
   "metadata": {
    "colab_type": "text",
    "id": "C2OVbhsFaRjd"
   },
   "source": [
    "Next, declare hyperparameters to tune for Lasso and Ridge regression.\n",
    "* Try values between 0.001 and 10 for <code style=\"color:steelblue\">alpha</code>.\n",
    "\n",
    "> **ex:** [0.001, 0.005, 0.01, 0.05, 0.1, 0.5, 1, 5, 10]"
   ]
  },
  {
   "cell_type": "code",
   "execution_count": 54,
   "metadata": {
    "colab": {},
    "colab_type": "code",
    "id": "OqYRxIBraRje"
   },
   "outputs": [],
   "source": [
    "# Lasso hyperparameters\n",
    "lasso_hyperparameters = { 'lasso__alpha' : [0.001, 0.005, 0.01, 0.05, 0.1, 0.5, 1] }\n",
    "\n",
    "# Ridge hyperparameters \n",
    "ridge_hyperparameters = { 'ridge__alpha': [0.001, 0.005, 0.01, 0.05, 0.1, 0.5, 1] }"
   ]
  },
  {
   "cell_type": "markdown",
   "metadata": {
    "colab_type": "text",
    "id": "HBZipCLWaRji"
   },
   "source": [
    "Now declare a hyperparameter grid fo Elastic-Net.\n",
    "* You should tune the <code style=\"color:steelblue\">l1_ratio</code> in addition to <code style=\"color:steelblue\">alpha</code>.\n",
    "\n",
    "* Try values between 0.1 and 0.9 for <code style=\"color:steelblue\">l1_ratio</code>.\n",
    "> **ex:** [0.1, 0.3, 0.5, 0.7, 0.9]"
   ]
  },
  {
   "cell_type": "code",
   "execution_count": 55,
   "metadata": {
    "colab": {},
    "colab_type": "code",
    "id": "v3eIAEzhaRjj"
   },
   "outputs": [],
   "source": [
    "# Elastic Net hyperparameters\n",
    "enet_hyperparameters = {\n",
    "    'elasticnet__alpha': [0.001, 0.005, 0.01, 0.05, 0.1, 0.5, 1, 5, 10], \n",
    "    'elasticnet__l1_ratio': [0.1, 0.3, 0.5, 0.7, 0.9]\n",
    "    }"
   ]
  },
  {
   "cell_type": "markdown",
   "metadata": {},
   "source": [
    "<br>"
   ]
  },
  {
   "cell_type": "markdown",
   "metadata": {
    "colab_type": "text",
    "id": "zG3wl9DQaRjm"
   },
   "source": [
    "<br><hr style=\"border-color:royalblue;background-color:royalblue;height:1px;\">\n",
    "## <span style=\"color:RoyalBlue\">Exercise 5.3</span>\n",
    "\n",
    "Let's start by declaring the hyperparameter grid for our random forest.\n",
    "\n",
    "<br>\n",
    "\n",
    "**Declare a hyperparameter grid for <code style=\"color:SteelBlue\">RandomForestRegressor</code>.**\n",
    "* Name it <code style=\"color:steelblue\">rf_hyperparameters</code>\n",
    "\n",
    "* Set <code style=\"color:steelblue\"><span style=\"color:crimson\">'randomforestregressor__n_estimators'</span>: [100, 200]</code>\n",
    "* Set <code style=\"color:steelblue\"><span style=\"color:crimson\">'randomforestregressor__max_features'</span>: ['auto', 'sqrt', 0.33]</code>"
   ]
  },
  {
   "cell_type": "code",
   "execution_count": 56,
   "metadata": {
    "colab": {},
    "colab_type": "code",
    "id": "2av54cNdaRjn"
   },
   "outputs": [
    {
     "data": {
      "text/plain": [
       "{'memory': None,\n",
       " 'steps': [('standardscaler',\n",
       "   StandardScaler(copy=True, with_mean=True, with_std=True)),\n",
       "  ('randomforestregressor',\n",
       "   RandomForestRegressor(bootstrap=True, criterion='mse', max_depth=None,\n",
       "              max_features='auto', max_leaf_nodes=None,\n",
       "              min_impurity_decrease=0.0, min_impurity_split=None,\n",
       "              min_samples_leaf=1, min_samples_split=2,\n",
       "              min_weight_fraction_leaf=0.0, n_estimators='warn', n_jobs=None,\n",
       "              oob_score=False, random_state=123, verbose=0, warm_start=False))],\n",
       " 'standardscaler': StandardScaler(copy=True, with_mean=True, with_std=True),\n",
       " 'randomforestregressor': RandomForestRegressor(bootstrap=True, criterion='mse', max_depth=None,\n",
       "            max_features='auto', max_leaf_nodes=None,\n",
       "            min_impurity_decrease=0.0, min_impurity_split=None,\n",
       "            min_samples_leaf=1, min_samples_split=2,\n",
       "            min_weight_fraction_leaf=0.0, n_estimators='warn', n_jobs=None,\n",
       "            oob_score=False, random_state=123, verbose=0, warm_start=False),\n",
       " 'standardscaler__copy': True,\n",
       " 'standardscaler__with_mean': True,\n",
       " 'standardscaler__with_std': True,\n",
       " 'randomforestregressor__bootstrap': True,\n",
       " 'randomforestregressor__criterion': 'mse',\n",
       " 'randomforestregressor__max_depth': None,\n",
       " 'randomforestregressor__max_features': 'auto',\n",
       " 'randomforestregressor__max_leaf_nodes': None,\n",
       " 'randomforestregressor__min_impurity_decrease': 0.0,\n",
       " 'randomforestregressor__min_impurity_split': None,\n",
       " 'randomforestregressor__min_samples_leaf': 1,\n",
       " 'randomforestregressor__min_samples_split': 2,\n",
       " 'randomforestregressor__min_weight_fraction_leaf': 0.0,\n",
       " 'randomforestregressor__n_estimators': 'warn',\n",
       " 'randomforestregressor__n_jobs': None,\n",
       " 'randomforestregressor__oob_score': False,\n",
       " 'randomforestregressor__random_state': 123,\n",
       " 'randomforestregressor__verbose': 0,\n",
       " 'randomforestregressor__warm_start': False}"
      ]
     },
     "execution_count": 56,
     "metadata": {},
     "output_type": "execute_result"
    }
   ],
   "source": [
    "# Random forest hyperparameters\n",
    "pipeline_dict['rf'].get_params()"
   ]
  },
  {
   "cell_type": "code",
   "execution_count": 57,
   "metadata": {},
   "outputs": [],
   "source": [
    "rf_hyperparameters = { 'randomforestregressor__n_estimators': [100, 200], \n",
    "                        'randomforestregressor__max_features': ['auto', 'sqrt', 0.33]}"
   ]
  },
  {
   "cell_type": "markdown",
   "metadata": {
    "colab_type": "text",
    "id": "4Yx31VNRaRjr"
   },
   "source": [
    "Next, let's declare settings to try for our boosted tree.\n",
    "\n",
    "<br>\n",
    "\n",
    "**Declare a hyperparameter grid for <code style=\"color:SteelBlue\">GradientBoostingRegressor</code>.**\n",
    "* Name it <code style=\"color:steelblue\">gb_hyperparameters</code>.\n",
    "* Set <code style=\"color:steelblue\"><span style=\"color:crimson\">'gradientboostingregressor__n_estimators'</span>: [100, 200]</code>\n",
    "* Set <code style=\"color:steelblue\"><span style=\"color:crimson\">'gradientboostingregressor__learning_rate'</span>: [0.05, 0.1, 0.2]</code>\n",
    "* Set <code style=\"color:steelblue\"><span style=\"color:crimson\">'gradientboostingregressor__max_depth'</span>: [1, 3, 5]</code>"
   ]
  },
  {
   "cell_type": "code",
   "execution_count": 58,
   "metadata": {
    "colab": {},
    "colab_type": "code",
    "id": "rkkSpS3CaRj4"
   },
   "outputs": [],
   "source": [
    "# Boosted tree hyperparameters\n",
    "gb_hyperparameters =  {'gradientboostingregressor__n_estimators': [100, 200],\n",
    "                       'gradientboostingregressor__learning_rate': [0.05, 0.1, 0.2],\n",
    "                      'gradientboostingregressor__max_depth': [1, 3, 5, 7, 9, 11]}"
   ]
  },
  {
   "cell_type": "markdown",
   "metadata": {},
   "source": [
    "<br>"
   ]
  },
  {
   "cell_type": "markdown",
   "metadata": {
    "colab_type": "text",
    "id": "CgnzoMTGaRkQ"
   },
   "source": [
    "## Now that we have all of our hyperparameters declared, let's store them in a dictionary for ease of access."
   ]
  },
  {
   "cell_type": "markdown",
   "metadata": {
    "colab_type": "text",
    "id": "CgnzoMTGaRkQ"
   },
   "source": [
    "<br>\n",
    "\n",
    "### Create a <code style=\"color:steelblue\">hyperparameters</code> dictionary.\n",
    "* Use the same keys as in the <code style=\"color:steelblue\">pipelines</code> dictionary.\n",
    "    * If you forgot what those keys were, you can insert a new code cell and call <code style=\"color:steelblue\">pipelines.keys()</code> for a reminder.\n",
    "* Set the values to the corresponding **hyperparameter grids** we've been declaring throughout this module.\n",
    "    * e.g. <code style=\"color:steelblue\"><span style=\"color:crimson\">'rf'</span> : rf_hyperparameters</code>\n",
    "    * e.g. <code style=\"color:steelblue\"><span style=\"color:crimson\">'lasso'</span> : lasso_hyperparameters</code>"
   ]
  },
  {
   "cell_type": "code",
   "execution_count": 59,
   "metadata": {
    "colab": {},
    "colab_type": "code",
    "id": "MYroG5QkaRkR"
   },
   "outputs": [],
   "source": [
    "# Create hyperparameters dictionary\n",
    "hyperparameters = {\n",
    "    'rf' : rf_hyperparameters,\n",
    "    'gb' : gb_hyperparameters,\n",
    "    'lasso' : lasso_hyperparameters,\n",
    "    'ridge' : ridge_hyperparameters,\n",
    "    'enet' : enet_hyperparameters\n",
    "}"
   ]
  },
  {
   "cell_type": "markdown",
   "metadata": {},
   "source": [
    "<br>"
   ]
  },
  {
   "cell_type": "markdown",
   "metadata": {
    "colab_type": "text",
    "id": "sbgxsHQhaRkX"
   },
   "source": [
    "**Finally, run this code to check that <code style=\"color:steelblue\">hyperparameters</code> is set up correctly.**"
   ]
  },
  {
   "cell_type": "code",
   "execution_count": 60,
   "metadata": {
    "colab": {},
    "colab_type": "code",
    "id": "e34KQVzEaRkY",
    "outputId": "f47476ce-d18b-4c6b-bbc4-5e2f4d24a31c"
   },
   "outputs": [
    {
     "name": "stdout",
     "output_type": "stream",
     "text": [
      "enet was found in hyperparameters, and it is a grid.\n",
      "gb was found in hyperparameters, and it is a grid.\n",
      "ridge was found in hyperparameters, and it is a grid.\n",
      "rf was found in hyperparameters, and it is a grid.\n",
      "lasso was found in hyperparameters, and it is a grid.\n"
     ]
    }
   ],
   "source": [
    "for key in ['enet', 'gb', 'ridge', 'rf', 'lasso']:\n",
    "    \n",
    "    if key in hyperparameters:\n",
    "        \n",
    "        if type(hyperparameters[key]) is dict:\n",
    "            print( key, 'was found in hyperparameters, and it is a grid.' )\n",
    "            \n",
    "        else:\n",
    "            print( key, 'was found in hyperparameters, but it is not a grid.' )\n",
    "            \n",
    "    else:\n",
    "        print( key, 'was not found in hyperparameters')"
   ]
  },
  {
   "cell_type": "markdown",
   "metadata": {
    "colab_type": "text",
    "id": "smPdEnexaRkg"
   },
   "source": [
    "<hr style=\"border-color:royalblue;background-color:royalblue;height:1px;\">\n",
    "<div style=\"text-align:center; margin: 40px 0 40px 0;\">\n",
    "    \n",
    "[**Back to Contents**](#toc)\n",
    "</div>"
   ]
  },
  {
   "cell_type": "markdown",
   "metadata": {
    "colab_type": "text",
    "id": "vPaHm-eIaRkg"
   },
   "source": [
    "<br id=\"fit-tune\">\n",
    "\n",
    "# 4. Fit and tune models with cross-validation\n",
    "\n",
    "Now that we have our <code style=\"color:steelblue\">pipelines</code> and <code style=\"color:steelblue\">hyperparameters</code> dictionaries declared, we're ready to tune our models with cross-validation."
   ]
  },
  {
   "cell_type": "markdown",
   "metadata": {
    "colab_type": "text",
    "id": "vPaHm-eIaRkg"
   },
   "source": [
    "### Cross-Validation on a Single Model\n",
    "First, let's to import a helper for cross-validation called <code style=\"color:steelblue\">GridSearchCV</code>."
   ]
  },
  {
   "cell_type": "code",
   "execution_count": 61,
   "metadata": {
    "colab": {},
    "colab_type": "code",
    "id": "F_KSp804aRki"
   },
   "outputs": [],
   "source": [
    "# Helper for cross-validation\n",
    "from sklearn.model_selection import GridSearchCV"
   ]
  },
  {
   "cell_type": "markdown",
   "metadata": {
    "colab_type": "text",
    "id": "b8cZ42YsaRko"
   },
   "source": [
    "Next, to see an example, set up cross-validation for Lasso regression."
   ]
  },
  {
   "cell_type": "code",
   "execution_count": 63,
   "metadata": {
    "colab": {},
    "colab_type": "code",
    "id": "gbdys2pGaRkp"
   },
   "outputs": [],
   "source": [
    "# Create cross-validation object from Lasso pipeline and Lasso hyperparameters\n",
    "model = GridSearchCV(pipeline_dict['lasso'], hyperparameters['lasso'], cv=10, n_jobs=-1)"
   ]
  },
  {
   "cell_type": "markdown",
   "metadata": {
    "colab_type": "text",
    "id": "uTy-mJiIaRku"
   },
   "source": [
    "Pass <code style=\"color:steelblue\">X_train</code> and <code style=\"color:steelblue\">y_train</code> into the <code style=\"color:steelblue\">.fit()</code> function to tune hyperparameters."
   ]
  },
  {
   "cell_type": "code",
   "execution_count": 64,
   "metadata": {
    "colab": {},
    "colab_type": "code",
    "id": "K__o6yjTaRku",
    "outputId": "696fbf4f-ff69-45a2-cf46-c0255308828e",
    "scrolled": true
   },
   "outputs": [
    {
     "name": "stderr",
     "output_type": "stream",
     "text": [
      "C:\\Users\\iamal\\Anaconda3\\lib\\site-packages\\sklearn\\preprocessing\\data.py:645: DataConversionWarning: Data with input dtype int64, float64 were all converted to float64 by StandardScaler.\n",
      "  return self.partial_fit(X, y)\n",
      "C:\\Users\\iamal\\Anaconda3\\lib\\site-packages\\sklearn\\base.py:467: DataConversionWarning: Data with input dtype int64, float64 were all converted to float64 by StandardScaler.\n",
      "  return self.fit(X, y, **fit_params).transform(X)\n",
      "C:\\Users\\iamal\\Anaconda3\\lib\\site-packages\\sklearn\\linear_model\\coordinate_descent.py:492: ConvergenceWarning: Objective did not converge. You might want to increase the number of iterations. Fitting data with very small alpha may cause precision problems.\n",
      "  ConvergenceWarning)\n"
     ]
    },
    {
     "data": {
      "text/plain": [
       "GridSearchCV(cv=10, error_score='raise-deprecating',\n",
       "       estimator=Pipeline(memory=None,\n",
       "     steps=[('standardscaler', StandardScaler(copy=True, with_mean=True, with_std=True)), ('lasso', Lasso(alpha=1.0, copy_X=True, fit_intercept=True, max_iter=1000,\n",
       "   normalize=False, positive=False, precompute=False, random_state=123,\n",
       "   selection='cyclic', tol=0.0001, warm_start=False))]),\n",
       "       fit_params=None, iid='warn', n_jobs=-1,\n",
       "       param_grid={'lasso__alpha': [0.001, 0.005, 0.01, 0.05, 0.1, 0.5, 1]},\n",
       "       pre_dispatch='2*n_jobs', refit=True, return_train_score='warn',\n",
       "       scoring=None, verbose=0)"
      ]
     },
     "execution_count": 64,
     "metadata": {},
     "output_type": "execute_result"
    }
   ],
   "source": [
    "# Fit and tune model\n",
    "model.fit(X_train, y_train)"
   ]
  },
  {
   "cell_type": "markdown",
   "metadata": {
    "colab_type": "text",
    "id": "s9utTUsmaRlS"
   },
   "source": [
    "By the way, don't worry if you get the message:\n",
    "\n",
    "<pre style=\"color:crimson\">ConvergenceWarning: Objective did not converge. You might want to increase the number of iterations</pre>\n",
    "\n",
    "We'll dive into some of the under-the-hood nuances later.\n",
    "<br>"
   ]
  },
  {
   "cell_type": "markdown",
   "metadata": {
    "colab_type": "text",
    "id": "s9utTUsmaRlS"
   },
   "source": [
    "<br>\n",
    "\n",
    "### In the next exercise, we'll write a loop that tunes all of our models."
   ]
  },
  {
   "cell_type": "markdown",
   "metadata": {
    "colab_type": "text",
    "id": "pqwQ3EqwaRlT"
   },
   "source": [
    "<br><hr style=\"border-color:royalblue;background-color:royalblue;height:1px;\">\n",
    "## <span style=\"color:RoyalBlue\">Exercise 5.4</span>\n",
    "\n",
    "**Create a dictionary of models named <code style=\"color:SteelBlue\">fitted_models</code> that have been tuned using cross-validation.**\n",
    "* The keys should be the same as those in the <code style=\"color:SteelBlue\">pipelines</code> and <code style=\"color:SteelBlue\">hyperparameters</code> dictionaries. \n",
    "* The values should be <code style=\"color:steelblue\">GridSearchCV</code> objects that have been fitted to <code style=\"color:steelblue\">X_train</code> and <code style=\"color:steelblue\">y_train</code>.\n",
    "* After fitting each model, print <code style=\"color:crimson\">'name, \"has been fitted.\"'</code> just to track the progress.\n",
    "\n",
    "This step can take a few minutes, so please be patient."
   ]
  },
  {
   "cell_type": "code",
   "execution_count": 40,
   "metadata": {
    "colab": {},
    "colab_type": "code",
    "id": "hTGRCPAbaRlV",
    "outputId": "0930a987-899b-4b53-ad5a-d8b1befdea69"
   },
   "outputs": [
    {
     "name": "stdout",
     "output_type": "stream",
     "text": [
      "lasso\n"
     ]
    },
    {
     "name": "stderr",
     "output_type": "stream",
     "text": [
      "C:\\Users\\iamal\\Anaconda3\\lib\\site-packages\\sklearn\\preprocessing\\data.py:645: DataConversionWarning: Data with input dtype int64, float64 were all converted to float64 by StandardScaler.\n",
      "  return self.partial_fit(X, y)\n",
      "C:\\Users\\iamal\\Anaconda3\\lib\\site-packages\\sklearn\\base.py:467: DataConversionWarning: Data with input dtype int64, float64 were all converted to float64 by StandardScaler.\n",
      "  return self.fit(X, y, **fit_params).transform(X)\n"
     ]
    },
    {
     "name": "stdout",
     "output_type": "stream",
     "text": [
      "lasso was Fitted.\n",
      "ridge\n"
     ]
    },
    {
     "name": "stderr",
     "output_type": "stream",
     "text": [
      "C:\\Users\\iamal\\Anaconda3\\lib\\site-packages\\sklearn\\preprocessing\\data.py:645: DataConversionWarning: Data with input dtype int64, float64 were all converted to float64 by StandardScaler.\n",
      "  return self.partial_fit(X, y)\n",
      "C:\\Users\\iamal\\Anaconda3\\lib\\site-packages\\sklearn\\base.py:467: DataConversionWarning: Data with input dtype int64, float64 were all converted to float64 by StandardScaler.\n",
      "  return self.fit(X, y, **fit_params).transform(X)\n"
     ]
    },
    {
     "name": "stdout",
     "output_type": "stream",
     "text": [
      "ridge was Fitted.\n",
      "enet\n"
     ]
    },
    {
     "name": "stderr",
     "output_type": "stream",
     "text": [
      "C:\\Users\\iamal\\Anaconda3\\lib\\site-packages\\sklearn\\preprocessing\\data.py:645: DataConversionWarning: Data with input dtype int64, float64 were all converted to float64 by StandardScaler.\n",
      "  return self.partial_fit(X, y)\n",
      "C:\\Users\\iamal\\Anaconda3\\lib\\site-packages\\sklearn\\base.py:467: DataConversionWarning: Data with input dtype int64, float64 were all converted to float64 by StandardScaler.\n",
      "  return self.fit(X, y, **fit_params).transform(X)\n"
     ]
    },
    {
     "name": "stdout",
     "output_type": "stream",
     "text": [
      "enet was Fitted.\n",
      "rf\n"
     ]
    },
    {
     "name": "stderr",
     "output_type": "stream",
     "text": [
      "C:\\Users\\iamal\\Anaconda3\\lib\\site-packages\\sklearn\\preprocessing\\data.py:645: DataConversionWarning: Data with input dtype int64, float64 were all converted to float64 by StandardScaler.\n",
      "  return self.partial_fit(X, y)\n",
      "C:\\Users\\iamal\\Anaconda3\\lib\\site-packages\\sklearn\\base.py:467: DataConversionWarning: Data with input dtype int64, float64 were all converted to float64 by StandardScaler.\n",
      "  return self.fit(X, y, **fit_params).transform(X)\n"
     ]
    },
    {
     "name": "stdout",
     "output_type": "stream",
     "text": [
      "rf was Fitted.\n",
      "gb\n"
     ]
    },
    {
     "name": "stderr",
     "output_type": "stream",
     "text": [
      "C:\\Users\\iamal\\Anaconda3\\lib\\site-packages\\sklearn\\preprocessing\\data.py:645: DataConversionWarning: Data with input dtype int64, float64 were all converted to float64 by StandardScaler.\n",
      "  return self.partial_fit(X, y)\n",
      "C:\\Users\\iamal\\Anaconda3\\lib\\site-packages\\sklearn\\base.py:467: DataConversionWarning: Data with input dtype int64, float64 were all converted to float64 by StandardScaler.\n",
      "  return self.fit(X, y, **fit_params).transform(X)\n"
     ]
    },
    {
     "name": "stdout",
     "output_type": "stream",
     "text": [
      "gb was Fitted.\n"
     ]
    }
   ],
   "source": [
    "# Create empty dictionary called fitted_models\n",
    "fitted_models = {}\n",
    "# Loop through pipeline_dict.items(), grabing the name and pipeline, creating a new model and tuning it on each iteration.\n",
    "for key, val in pipeline_dict.items(): \n",
    "    print(key)\n",
    "    # 1. Create cross-validation object from pipeline and hyperparameters\n",
    "    model = GridSearchCV(val, hyperparameters[key], cv=10, n_jobs=-1)\n",
    "    # 2. Fit model on X_train, y_train\n",
    "    model.fit(X_train, y_train)\n",
    "    # 3. Store model in fitted_models[name] \n",
    "    fitted_models[key] = model \n",
    "    # 4. Print name 'has been fitted'\n",
    "    print(key, 'was Fitted.')"
   ]
  },
  {
   "cell_type": "markdown",
   "metadata": {
    "colab_type": "text",
    "id": "-N3f10pGaRlZ"
   },
   "source": [
    "<br>\n",
    "\n",
    "**Run this code to check that the models are of the correct type.**"
   ]
  },
  {
   "cell_type": "code",
   "execution_count": 65,
   "metadata": {
    "colab": {},
    "colab_type": "code",
    "id": "py9fwHgeaRla",
    "outputId": "edd5ee8b-5bce-4643-dcf2-6a66d35b599a"
   },
   "outputs": [
    {
     "name": "stdout",
     "output_type": "stream",
     "text": [
      "lasso <class 'sklearn.model_selection._search.GridSearchCV'>\n",
      "ridge <class 'sklearn.model_selection._search.GridSearchCV'>\n",
      "enet <class 'sklearn.model_selection._search.GridSearchCV'>\n",
      "rf <class 'sklearn.model_selection._search.GridSearchCV'>\n",
      "gb <class 'sklearn.model_selection._search.GridSearchCV'>\n"
     ]
    }
   ],
   "source": [
    "# Check that we have 5 cross-validation objects\n",
    "for key, value in fitted_models.items():\n",
    "    print( key, type(value) )"
   ]
  },
  {
   "cell_type": "markdown",
   "metadata": {
    "colab_type": "text",
    "id": "--bBcinDaRle"
   },
   "source": [
    "<br>\n",
    "\n",
    "**Finally, run this code to check that the models have been fitted correctly.**"
   ]
  },
  {
   "cell_type": "code",
   "execution_count": 66,
   "metadata": {
    "colab": {},
    "colab_type": "code",
    "id": "lpjEkfbHaRle",
    "outputId": "f2c9d3ed-4b8d-46de-8475-7ea21f8a137a"
   },
   "outputs": [
    {
     "name": "stderr",
     "output_type": "stream",
     "text": [
      "C:\\Users\\iamal\\Anaconda3\\lib\\site-packages\\sklearn\\pipeline.py:331: DataConversionWarning: Data with input dtype int64, float64 were all converted to float64 by StandardScaler.\n",
      "  Xt = transform.transform(Xt)\n",
      "C:\\Users\\iamal\\Anaconda3\\lib\\site-packages\\sklearn\\pipeline.py:331: DataConversionWarning: Data with input dtype int64, float64 were all converted to float64 by StandardScaler.\n",
      "  Xt = transform.transform(Xt)\n",
      "C:\\Users\\iamal\\Anaconda3\\lib\\site-packages\\sklearn\\pipeline.py:331: DataConversionWarning: Data with input dtype int64, float64 were all converted to float64 by StandardScaler.\n",
      "  Xt = transform.transform(Xt)\n",
      "C:\\Users\\iamal\\Anaconda3\\lib\\site-packages\\sklearn\\pipeline.py:331: DataConversionWarning: Data with input dtype int64, float64 were all converted to float64 by StandardScaler.\n",
      "  Xt = transform.transform(Xt)\n"
     ]
    },
    {
     "name": "stdout",
     "output_type": "stream",
     "text": [
      "lasso has been fitted.\n",
      "ridge has been fitted.\n",
      "enet has been fitted.\n",
      "rf has been fitted.\n",
      "gb has been fitted.\n"
     ]
    },
    {
     "name": "stderr",
     "output_type": "stream",
     "text": [
      "C:\\Users\\iamal\\Anaconda3\\lib\\site-packages\\sklearn\\pipeline.py:331: DataConversionWarning: Data with input dtype int64, float64 were all converted to float64 by StandardScaler.\n",
      "  Xt = transform.transform(Xt)\n"
     ]
    }
   ],
   "source": [
    "from sklearn.exceptions import NotFittedError\n",
    "\n",
    "for name, model in fitted_models.items():\n",
    "    try:\n",
    "        pred = model.predict(X_test)\n",
    "        print(name, 'has been fitted.')\n",
    "        \n",
    "    except NotFittedError as e:\n",
    "        print(repr(e))"
   ]
  },
  {
   "cell_type": "markdown",
   "metadata": {
    "colab_type": "text",
    "id": "nuULcFh-aRll"
   },
   "source": [
    "Nice. Now we're ready to evaluate how our models performed!\n",
    "\n",
    "<hr style=\"border-color:royalblue;background-color:royalblue;height:1px;\">\n",
    "\n",
    "<div style=\"text-align:center; margin: 40px 0 40px 0;\">\n",
    "    \n",
    "[**Back to Contents**](#toc)\n",
    "</div>"
   ]
  },
  {
   "cell_type": "markdown",
   "metadata": {
    "colab_type": "text",
    "id": "fDBceRCUaRln"
   },
   "source": [
    "<br id=\"evaluate\">\n",
    "\n",
    "# 5. Evaluate models and select winner\n",
    "\n",
    "### Finally, it's time to evaluate our models and pick the best one.\n",
    "\n",
    "<br>\n",
    "Let's display the holdout $R^2$ score for each fitted model."
   ]
  },
  {
   "cell_type": "code",
   "execution_count": 67,
   "metadata": {
    "colab": {},
    "colab_type": "code",
    "id": "mjZIxUywaRlp",
    "outputId": "081a9128-ac56-4414-88e7-9d5967f25daa"
   },
   "outputs": [
    {
     "name": "stdout",
     "output_type": "stream",
     "text": [
      "lasso 0.30744115883069695\n",
      "ridge 0.31550675360698766\n",
      "enet 0.3422914802767902\n",
      "rf 0.4837169608650216\n",
      "gb 0.48743188672113513\n"
     ]
    }
   ],
   "source": [
    "# Display best_score_ for each fitted model\n",
    "for name, model in fitted_models.items():\n",
    "    print(name, model.best_score_)"
   ]
  },
  {
   "cell_type": "markdown",
   "metadata": {
    "colab_type": "text",
    "id": "LrCB6hJjaRl_"
   },
   "source": [
    "You should see something similar to the below scores:\n",
    "\n",
    "  \n",
    "    lasso 0.309321321129\n",
    "    ridge 0.316805719351\n",
    "    enet 0.342759786956\n",
    "    rf 0.480576134721\n",
    "    gb 0.48873808731\n",
    "\n",
    "\n",
    "If your numbers are way off, check to see if you've set the <code style=\"color:steelblue\">random_state=</code> correctly for each of the models."
   ]
  },
  {
   "cell_type": "markdown",
   "metadata": {
    "colab_type": "text",
    "id": "qLkgmi5GaRmD"
   },
   "source": [
    "Next, import the <code style=\"color:steelblue\">r2_score()</code> and <code style=\"color:steelblue\">mean_absolute_error()</code> functions."
   ]
  },
  {
   "cell_type": "code",
   "execution_count": 79,
   "metadata": {
    "colab": {},
    "colab_type": "code",
    "id": "XDMzBAIwaRmE"
   },
   "outputs": [],
   "source": [
    "# Import r2_score and mean_absolute_error functions\n",
    "from sklearn.metrics import r2_score \n",
    "from sklearn.metrics import mean_absolute_error\n",
    "from sklearn.metrics import mean_squared_error"
   ]
  },
  {
   "cell_type": "markdown",
   "metadata": {},
   "source": [
    "<br>"
   ]
  },
  {
   "cell_type": "markdown",
   "metadata": {
    "colab_type": "text",
    "id": "9x7ov6vxaRmH"
   },
   "source": [
    "### Let's see how the fitted models perform on our test set!\n",
    "\n",
    "<br>\n",
    "First, access your fitted random forest and display the object."
   ]
  },
  {
   "cell_type": "code",
   "execution_count": 69,
   "metadata": {
    "colab": {},
    "colab_type": "code",
    "id": "Y3gVlv16aRmK",
    "outputId": "a477f376-da47-4350-c320-2788ecd9a446"
   },
   "outputs": [
    {
     "data": {
      "text/plain": [
       "GridSearchCV(cv=10, error_score='raise-deprecating',\n",
       "       estimator=Pipeline(memory=None,\n",
       "     steps=[('standardscaler', StandardScaler(copy=True, with_mean=True, with_std=True)), ('randomforestregressor', RandomForestRegressor(bootstrap=True, criterion='mse', max_depth=None,\n",
       "           max_features='auto', max_leaf_nodes=None,\n",
       "           min_impurity_decrease=0.0, min_impurity_split=None,\n",
       "  ...rs='warn', n_jobs=None,\n",
       "           oob_score=False, random_state=123, verbose=0, warm_start=False))]),\n",
       "       fit_params=None, iid='warn', n_jobs=-1,\n",
       "       param_grid={'randomforestregressor__n_estimators': [100, 200], 'randomforestregressor__max_features': ['auto', 'sqrt', 0.33]},\n",
       "       pre_dispatch='2*n_jobs', refit=True, return_train_score='warn',\n",
       "       scoring=None, verbose=0)"
      ]
     },
     "execution_count": 69,
     "metadata": {},
     "output_type": "execute_result"
    }
   ],
   "source": [
    "# Display fitted random forest object\n",
    "fitted_models['rf']"
   ]
  },
  {
   "cell_type": "markdown",
   "metadata": {
    "colab_type": "text",
    "id": "9-7YmMxQaRmX"
   },
   "source": [
    "Predict the test set using the fitted random forest."
   ]
  },
  {
   "cell_type": "code",
   "execution_count": 70,
   "metadata": {
    "colab": {},
    "colab_type": "code",
    "id": "5zcwitX0aRmY"
   },
   "outputs": [
    {
     "name": "stderr",
     "output_type": "stream",
     "text": [
      "C:\\Users\\iamal\\Anaconda3\\lib\\site-packages\\sklearn\\pipeline.py:331: DataConversionWarning: Data with input dtype int64, float64 were all converted to float64 by StandardScaler.\n",
      "  Xt = transform.transform(Xt)\n"
     ]
    }
   ],
   "source": [
    "# Predict test set using fitted random forest\n",
    "pred = fitted_models['rf'].predict(X_test)"
   ]
  },
  {
   "cell_type": "markdown",
   "metadata": {
    "colab_type": "text",
    "id": "ibmyfd9naRmb"
   },
   "source": [
    "Finally, we use the scoring functions we imported to calculate and print $R^2$ and MAE."
   ]
  },
  {
   "cell_type": "code",
   "execution_count": 71,
   "metadata": {
    "colab": {},
    "colab_type": "code",
    "id": "4Denr3VvaRmc",
    "outputId": "c3158d81-8ebd-496d-fd98-bbc8c17ac19f"
   },
   "outputs": [
    {
     "name": "stdout",
     "output_type": "stream",
     "text": [
      "R^2:  0.5666046230135338\n",
      "MAE:  68470.95126005363\n"
     ]
    }
   ],
   "source": [
    "# Calculate and print R^2 and MAE\n",
    "print('R^2: ', r2_score(y_test, pred))\n",
    "print('MAE: ', mean_absolute_error(y_test, pred))"
   ]
  },
  {
   "cell_type": "markdown",
   "metadata": {
    "colab_type": "text",
    "id": "DSIt5nRZaRmg"
   },
   "source": [
    "In the next exercise, we'll evaluate all of our fitted models on the test set and pick the winner."
   ]
  },
  {
   "cell_type": "code",
   "execution_count": 72,
   "metadata": {},
   "outputs": [
    {
     "name": "stderr",
     "output_type": "stream",
     "text": [
      "C:\\Users\\iamal\\Anaconda3\\lib\\site-packages\\sklearn\\pipeline.py:331: DataConversionWarning: Data with input dtype int64, float64 were all converted to float64 by StandardScaler.\n",
      "  Xt = transform.transform(Xt)\n"
     ]
    }
   ],
   "source": [
    "# Predict test set using fitted random forest\n",
    "pred_gb = fitted_models['gb'].predict(X_test)"
   ]
  },
  {
   "cell_type": "code",
   "execution_count": 73,
   "metadata": {},
   "outputs": [
    {
     "name": "stdout",
     "output_type": "stream",
     "text": [
      "R^2:  0.5416475698153993\n",
      "MAE:  70505.20969788785\n"
     ]
    }
   ],
   "source": [
    "# Calculate and print R^2 and MAE\n",
    "print('R^2: ', r2_score(y_test, pred_gb))\n",
    "print('MAE: ', mean_absolute_error(y_test, pred_gb))"
   ]
  },
  {
   "cell_type": "markdown",
   "metadata": {
    "colab_type": "text",
    "id": "ZJnA2EoQaRmh"
   },
   "source": [
    "<br><hr style=\"border-color:royalblue;background-color:royalblue;height:1px;\">\n",
    "## <span style=\"color:RoyalBlue\">Exercise 5.5</span>\n",
    "\n",
    "**Use a <code style=\"color:SteelBlue\">for</code> loop, print the performance of each model in <code style=\"color:SteelBlue\">fitted_models</code> on the test set.**\n",
    "* Print both <code style=\"color:SteelBlue\">r2_score</code> and <code style=\"color:SteelBlue\">mean_absolute_error</code>.\n",
    "* Those functions each take two arguments:\n",
    "    * The actual values for your target variable (<code style=\"color:SteelBlue\">y_test</code>)\n",
    "    * Predicted values for your target variable\n",
    "* Label the output with the name of the algorithm. For example:\n",
    "\n",
    "<pre>\n",
    "lasso\n",
    "--------\n",
    "R^2: 0.409313458932\n",
    "MAE: 84963.5598922\n",
    "</pre>"
   ]
  },
  {
   "cell_type": "code",
   "execution_count": 80,
   "metadata": {
    "colab": {},
    "colab_type": "code",
    "id": "5UZ_NMU3aRmi",
    "outputId": "b7e08122-a27a-455d-d1d3-489bda1738b8"
   },
   "outputs": [
    {
     "name": "stdout",
     "output_type": "stream",
     "text": [
      "lasso\n",
      "R^2:  0.4093410739690314\n",
      "MAE:  84957.97844920789\n",
      "MSE:  12035675739.078743\n",
      "ridge\n",
      "R^2:  0.40978386776640274\n",
      "MAE:  84899.82281275438\n",
      "MSE:  12026653065.705723\n",
      "enet\n",
      "R^2:  0.40415614629545416\n",
      "MAE:  86465.82558534491\n",
      "MSE:  12141327419.701073\n",
      "rf\n",
      "R^2:  0.5666046230135338\n",
      "MAE:  68470.95126005363\n",
      "MSE:  8831164643.995255\n",
      "gb\n",
      "R^2:  0.5416475698153993\n",
      "MAE:  70505.20969788785\n",
      "MSE:  9339706860.929321\n"
     ]
    },
    {
     "name": "stderr",
     "output_type": "stream",
     "text": [
      "C:\\Users\\iamal\\Anaconda3\\lib\\site-packages\\sklearn\\pipeline.py:331: DataConversionWarning: Data with input dtype int64, float64 were all converted to float64 by StandardScaler.\n",
      "  Xt = transform.transform(Xt)\n",
      "C:\\Users\\iamal\\Anaconda3\\lib\\site-packages\\sklearn\\pipeline.py:331: DataConversionWarning: Data with input dtype int64, float64 were all converted to float64 by StandardScaler.\n",
      "  Xt = transform.transform(Xt)\n",
      "C:\\Users\\iamal\\Anaconda3\\lib\\site-packages\\sklearn\\pipeline.py:331: DataConversionWarning: Data with input dtype int64, float64 were all converted to float64 by StandardScaler.\n",
      "  Xt = transform.transform(Xt)\n",
      "C:\\Users\\iamal\\Anaconda3\\lib\\site-packages\\sklearn\\pipeline.py:331: DataConversionWarning: Data with input dtype int64, float64 were all converted to float64 by StandardScaler.\n",
      "  Xt = transform.transform(Xt)\n",
      "C:\\Users\\iamal\\Anaconda3\\lib\\site-packages\\sklearn\\pipeline.py:331: DataConversionWarning: Data with input dtype int64, float64 were all converted to float64 by StandardScaler.\n",
      "  Xt = transform.transform(Xt)\n"
     ]
    }
   ],
   "source": [
    "# Code here\n",
    "for key, values in fitted_models.items(): \n",
    "    pred_gb = fitted_models[key].predict(X_test) \n",
    "    print(key)\n",
    "    print('R^2: ', r2_score(y_test, pred_gb))\n",
    "    print('MAE: ', mean_absolute_error(y_test, pred_gb))\n",
    "    print('MSE: ', mean_squared_error(y_test, pred_gb))"
   ]
  },
  {
   "cell_type": "markdown",
   "metadata": {
    "colab_type": "text",
    "id": "CCIaDqL7aRnE"
   },
   "source": [
    "**Next, ask yourself these questions to pick the winning model:**"
   ]
  },
  {
   "cell_type": "markdown",
   "metadata": {
    "colab_type": "text",
    "id": "CCIaDqL7aRnE"
   },
   "source": [
    "* Which model had the highest $R^2$ on the test set?"
   ]
  },
  {
   "cell_type": "markdown",
   "metadata": {},
   "source": [
    "Answer Here"
   ]
  },
  {
   "cell_type": "markdown",
   "metadata": {
    "colab_type": "text",
    "id": "CCIaDqL7aRnE"
   },
   "source": [
    "* Which model had the lowest mean absolute error?"
   ]
  },
  {
   "cell_type": "markdown",
   "metadata": {},
   "source": [
    "Answer Here"
   ]
  },
  {
   "cell_type": "markdown",
   "metadata": {
    "colab_type": "text",
    "id": "CCIaDqL7aRnE"
   },
   "source": [
    "* Are these two models the same one?"
   ]
  },
  {
   "cell_type": "markdown",
   "metadata": {},
   "source": [
    "Answer Here"
   ]
  },
  {
   "cell_type": "markdown",
   "metadata": {
    "colab_type": "text",
    "id": "CCIaDqL7aRnE"
   },
   "source": [
    "* Did it also have the best holdout $R^2$ score from cross-validation?"
   ]
  },
  {
   "cell_type": "markdown",
   "metadata": {},
   "source": [
    "Answer Here"
   ]
  },
  {
   "cell_type": "markdown",
   "metadata": {
    "colab_type": "text",
    "id": "CCIaDqL7aRnE"
   },
   "source": [
    "* **Does it satisfy our win condition?**"
   ]
  },
  {
   "cell_type": "markdown",
   "metadata": {},
   "source": [
    "Answer Here: YEs it does!"
   ]
  },
  {
   "cell_type": "markdown",
   "metadata": {},
   "source": [
    "<br>"
   ]
  },
  {
   "cell_type": "markdown",
   "metadata": {
    "colab_type": "text",
    "id": "27Zt4myMaRnG"
   },
   "source": [
    "**Finally, let's plot the performance of the winning model on the test set. Run the code below.**\n",
    "* It first plots a scatter plot.\n",
    "* Then, it plots predicted transaction price on the X-axis.\n",
    "* Finally, it plots actual transaction price on the y-axis."
   ]
  },
  {
   "cell_type": "code",
   "execution_count": 85,
   "metadata": {
    "colab": {},
    "colab_type": "code",
    "id": "_4ZA0denaRnG",
    "outputId": "b1d3ea22-4227-4e4f-a66f-07e449330581"
   },
   "outputs": [
    {
     "name": "stderr",
     "output_type": "stream",
     "text": [
      "C:\\Users\\iamal\\Anaconda3\\lib\\site-packages\\sklearn\\pipeline.py:331: DataConversionWarning: Data with input dtype int64, float64 were all converted to float64 by StandardScaler.\n",
      "  Xt = transform.transform(Xt)\n"
     ]
    },
    {
     "data": {
      "image/png": "[encoded data removed]",
      "text/plain": [
       "<Figure size 432x288 with 1 Axes>"
      ]
     },
     "metadata": {
      "needs_background": "light"
     },
     "output_type": "display_data"
    }
   ],
   "source": [
    "rf_pred = fitted_models['rf'].predict(X_test)\n",
    "fig = plt.figure()\n",
    "ax = fig.gca()\n",
    "lin = np.arange(150000, 750000)\n",
    "ax.plot(lin, lin, color='red')\n",
    "ax.scatter(y_test, rf_pred,)\n",
    "ax.set_xlabel('predicted')\n",
    "ax.set_ylabel('actual')\n",
    "plt.show()"
   ]
  },
  {
   "cell_type": "markdown",
   "metadata": {
    "colab_type": "text",
    "id": "-p1GTfTCaRnO"
   },
   "source": [
    "This last visual check is a nice way to confirm our model's performance.\n",
    "* Are the points scattered around the 45 degree diagonal?\n",
    "\n",
    "<br>\n",
    "<hr style=\"border-color:royalblue;background-color:royalblue;height:1px;\">\n",
    "\n",
    "<div style=\"text-align:center; margin: 40px 0 40px 0;\">\n",
    "    \n",
    "[**Back to Contents**](#toc)\n",
    "</div>"
   ]
  },
  {
   "cell_type": "markdown",
   "metadata": {
    "colab_type": "text",
    "id": "D-no7U62aRnP"
   },
   "source": [
    "<br>\n",
    "\n",
    "### Finally, let's save the winning model.\n",
    "\n",
    "Great job! You've created a pretty kick-ass model for real-estate valuation. Now it's time to save your hard work.\n",
    "\n",
    "First, let's take a look at the data type of your winning model.\n",
    "\n",
    "***Run each code cell below after completing the exercises above.***"
   ]
  },
  {
   "cell_type": "code",
   "execution_count": 86,
   "metadata": {
    "colab": {},
    "colab_type": "code",
    "id": "-m28MLAsaRnQ",
    "outputId": "f9a16334-4ae4-4ab2-b21a-d96f347fe124"
   },
   "outputs": [
    {
     "data": {
      "text/plain": [
       "sklearn.model_selection._search.GridSearchCV"
      ]
     },
     "execution_count": 86,
     "metadata": {},
     "output_type": "execute_result"
    }
   ],
   "source": [
    "type(fitted_models['rf'])"
   ]
  },
  {
   "cell_type": "markdown",
   "metadata": {
    "colab_type": "text",
    "id": "sWc5UnHCaRnT"
   },
   "source": [
    "It looks like this is still the <code style=\"color:steelblue\">GridSearchCV</code> data type. \n",
    "* You can actually directly save this object if you want, because it will use the winning model pipeline by default. \n",
    "* However, what we really care about is the actual winning model <code style=\"color:steelblue\">Pipeline</code>, right?\n",
    "\n",
    "In that case, we can use the <code style=\"color:steelblue\">best\\_estimator_</code> method to access it:"
   ]
  },
  {
   "cell_type": "code",
   "execution_count": 87,
   "metadata": {
    "colab": {},
    "colab_type": "code",
    "id": "M83BEVxSaRna",
    "outputId": "f96de2a4-e7e8-4b65-dd5c-5c430920b634"
   },
   "outputs": [
    {
     "data": {
      "text/plain": [
       "sklearn.pipeline.Pipeline"
      ]
     },
     "execution_count": 87,
     "metadata": {},
     "output_type": "execute_result"
    }
   ],
   "source": [
    "type(fitted_models['rf'].best_estimator_)"
   ]
  },
  {
   "cell_type": "markdown",
   "metadata": {
    "colab_type": "text",
    "id": "t1vvNp2AaRnf"
   },
   "source": [
    "If we output that object directly, we can also see the winning values for our hyperparameters."
   ]
  },
  {
   "cell_type": "code",
   "execution_count": 88,
   "metadata": {
    "colab": {},
    "colab_type": "code",
    "id": "pqQ4vZqQaRng",
    "outputId": "7873c860-913f-4029-ccdf-e470e994cd4b"
   },
   "outputs": [
    {
     "data": {
      "text/plain": [
       "Pipeline(memory=None,\n",
       "     steps=[('standardscaler', StandardScaler(copy=True, with_mean=True, with_std=True)), ('randomforestregressor', RandomForestRegressor(bootstrap=True, criterion='mse', max_depth=None,\n",
       "           max_features='auto', max_leaf_nodes=None,\n",
       "           min_impurity_decrease=0.0, min_impurity_split=None,\n",
       "           min_samples_leaf=1, min_samples_split=2,\n",
       "           min_weight_fraction_leaf=0.0, n_estimators=200, n_jobs=None,\n",
       "           oob_score=False, random_state=123, verbose=0, warm_start=False))])"
      ]
     },
     "execution_count": 88,
     "metadata": {},
     "output_type": "execute_result"
    }
   ],
   "source": [
    "fitted_models['rf'].best_estimator_"
   ]
  },
  {
   "cell_type": "markdown",
   "metadata": {
    "colab_type": "text",
    "id": "F7bkJYTqaRnj"
   },
   "source": [
    "See? The winning values for our hyperparameters are:\n",
    "* <code style=\"color:steelblue\">n_estimators: <span style=\"color:crimson\">200</span></code>\n",
    "* <code style=\"color:steelblue\">max_features : <span style=\"color:crimson\">'auto'</span></code>\n",
    "\n",
    "Great, now let's import a helpful package called <code style=\"color:steelblue\">pickle</code>, which saves Python objects to disk."
   ]
  },
  {
   "cell_type": "code",
   "execution_count": 89,
   "metadata": {
    "colab": {},
    "colab_type": "code",
    "id": "eTbGKUq7aRnk"
   },
   "outputs": [],
   "source": [
    "import pickle"
   ]
  },
  {
   "cell_type": "markdown",
   "metadata": {
    "colab_type": "text",
    "id": "mOlCR6YaaRn5"
   },
   "source": [
    "Let's save the winning <code style=\"color:steelblue\">Pipeline</code> object into a pickle file."
   ]
  },
  {
   "cell_type": "code",
   "execution_count": 92,
   "metadata": {
    "colab": {},
    "colab_type": "code",
    "id": "IstjfSW8aRn5"
   },
   "outputs": [],
   "source": [
    "with open('saved_models/final_model_employee.pkl', 'wb') as f:\n",
    "    pickle.dump(fitted_models['rf'].best_estimator_, f)"
   ]
  },
  {
   "cell_type": "markdown",
   "metadata": {
    "colab_type": "text",
    "id": "-kOHDtmCaRn-"
   },
   "source": [
    "Congratulations... you've built and saved a successful model trained using machine learning!\n",
    "\n",
    "As a reminder, here are a few things you did in this module:\n",
    "* You split your dataset into separate training and test sets.\n",
    "* You set up preprocessing pipelines.\n",
    "* You tuned your models using cross-validation.\n",
    "* And you evaluated your models, selecting and saving the winner.\n",
    "\n",
    "<br>\n",
    "<hr>\n",
    "\n",
    "<div style=\"text-align:center; margin: 40px 0 40px 0;\">\n",
    "    \n",
    "[**Back to Contents**](#toc)\n",
    "</div>\n"
   ]
  },
  {
   "cell_type": "code",
   "execution_count": null,
   "metadata": {
    "colab": {},
    "colab_type": "code",
    "id": "vOdbXFBAaRoA"
   },
   "outputs": [],
   "source": []
  }
 ],
 "metadata": {
  "colab": {
   "name": "Lesson 4 - Real Estate Model Training.ipynb",
   "provenance": [],
   "version": "0.3.2"
  },
  "kernelspec": {
   "display_name": "Python 3",
   "language": "python",
   "name": "python3"
  },
  "language_info": {
   "codemirror_mode": {
    "name": "ipython",
    "version": 3
   },
   "file_extension": ".py",
   "mimetype": "text/x-python",
   "name": "python",
   "nbconvert_exporter": "python",
   "pygments_lexer": "ipython3",
   "version": "3.7.3"
  }
 },
 "nbformat": 4,
 "nbformat_minor": 1
}
