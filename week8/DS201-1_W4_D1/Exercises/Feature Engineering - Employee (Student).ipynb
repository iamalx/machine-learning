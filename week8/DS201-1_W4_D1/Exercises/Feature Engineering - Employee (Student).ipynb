{
 "cells": [
  {
   "cell_type": "markdown",
   "metadata": {},
   "source": [
    "<h1 style=\"font-size:42px; text-align:center; margin-bottom:30px;\"><span style=\"color:SteelBlue\">Exercise:</span> Feature Engineering</h1>\n",
    "<hr>\n",
    "Welcome to the <span style=\"color:royalblue\">Feature Engineering</span> Exercise! \n",
    "\n",
    "Remember, **better data beats better algorithms**.\n",
    "\n",
    "\n",
    "<br><hr id=\"toc\">\n",
    "\n",
    "### In this module...\n",
    "\n",
    "In this module, we'll cover the essential steps for building your analytical base table:\n",
    "1. [Engineer features](#engineer-features)\n",
    "2. [Save the ABT](#save-abt)\n",
    "\n",
    "Finally, we'll save the ABT to a new file so we can use it in other modules.\n",
    "\n",
    "<br><hr>"
   ]
  },
  {
   "cell_type": "markdown",
   "metadata": {},
   "source": [
    "### First, let's import libraries and load the dataset.\n",
    "\n",
    "In general, it's good practice to keep all of your library imports at the top of your notebook or program.\n",
    "\n",
    "We've provided comments for guidance."
   ]
  },
  {
   "cell_type": "code",
   "execution_count": 2,
   "metadata": {},
   "outputs": [],
   "source": [
    "import numpy as np\n",
    "import pandas as pd\n",
    "pd.set_option('max_columns', 100)\n",
    "\n",
    "import matplotlib.pyplot as plt\n",
    "import seaborn as sns"
   ]
  },
  {
   "cell_type": "markdown",
   "metadata": {},
   "source": [
    "Next, let's import the dataset.\n",
    "* The file path is <code style=\"color:crimson\">'project_files/clean_employee_data.csv'</code>"
   ]
  },
  {
   "cell_type": "code",
   "execution_count": 4,
   "metadata": {},
   "outputs": [],
   "source": [
    "# Load employee data from CSV\n",
    "df = pd.read_csv('../project_files/clean_employee_data.csv')"
   ]
  },
  {
   "cell_type": "code",
   "execution_count": 5,
   "metadata": {},
   "outputs": [
    {
     "data": {
      "text/html": [
       "<div>\n",
       "<style scoped>\n",
       "    .dataframe tbody tr th:only-of-type {\n",
       "        vertical-align: middle;\n",
       "    }\n",
       "\n",
       "    .dataframe tbody tr th {\n",
       "        vertical-align: top;\n",
       "    }\n",
       "\n",
       "    .dataframe thead th {\n",
       "        text-align: right;\n",
       "    }\n",
       "</style>\n",
       "<table border=\"1\" class=\"dataframe\">\n",
       "  <thead>\n",
       "    <tr style=\"text-align: right;\">\n",
       "      <th></th>\n",
       "      <th>avg_monthly_hrs</th>\n",
       "      <th>department</th>\n",
       "      <th>filed_complaint</th>\n",
       "      <th>last_evaluation</th>\n",
       "      <th>n_projects</th>\n",
       "      <th>recently_promoted</th>\n",
       "      <th>salary</th>\n",
       "      <th>satisfaction</th>\n",
       "      <th>status</th>\n",
       "      <th>tenure</th>\n",
       "      <th>last_evaluation_missing</th>\n",
       "    </tr>\n",
       "  </thead>\n",
       "  <tbody>\n",
       "    <tr>\n",
       "      <th>0</th>\n",
       "      <td>221</td>\n",
       "      <td>engineering</td>\n",
       "      <td>0.0</td>\n",
       "      <td>0.932868</td>\n",
       "      <td>4</td>\n",
       "      <td>0.0</td>\n",
       "      <td>low</td>\n",
       "      <td>0.829896</td>\n",
       "      <td>Left</td>\n",
       "      <td>5.0</td>\n",
       "      <td>0</td>\n",
       "    </tr>\n",
       "    <tr>\n",
       "      <th>1</th>\n",
       "      <td>232</td>\n",
       "      <td>support</td>\n",
       "      <td>0.0</td>\n",
       "      <td>0.000000</td>\n",
       "      <td>3</td>\n",
       "      <td>0.0</td>\n",
       "      <td>low</td>\n",
       "      <td>0.834544</td>\n",
       "      <td>Employed</td>\n",
       "      <td>2.0</td>\n",
       "      <td>1</td>\n",
       "    </tr>\n",
       "    <tr>\n",
       "      <th>2</th>\n",
       "      <td>184</td>\n",
       "      <td>sales</td>\n",
       "      <td>0.0</td>\n",
       "      <td>0.788830</td>\n",
       "      <td>3</td>\n",
       "      <td>0.0</td>\n",
       "      <td>medium</td>\n",
       "      <td>0.834988</td>\n",
       "      <td>Employed</td>\n",
       "      <td>3.0</td>\n",
       "      <td>0</td>\n",
       "    </tr>\n",
       "    <tr>\n",
       "      <th>3</th>\n",
       "      <td>206</td>\n",
       "      <td>sales</td>\n",
       "      <td>0.0</td>\n",
       "      <td>0.575688</td>\n",
       "      <td>4</td>\n",
       "      <td>0.0</td>\n",
       "      <td>low</td>\n",
       "      <td>0.424764</td>\n",
       "      <td>Employed</td>\n",
       "      <td>2.0</td>\n",
       "      <td>0</td>\n",
       "    </tr>\n",
       "    <tr>\n",
       "      <th>4</th>\n",
       "      <td>249</td>\n",
       "      <td>sales</td>\n",
       "      <td>0.0</td>\n",
       "      <td>0.845217</td>\n",
       "      <td>3</td>\n",
       "      <td>0.0</td>\n",
       "      <td>low</td>\n",
       "      <td>0.779043</td>\n",
       "      <td>Employed</td>\n",
       "      <td>3.0</td>\n",
       "      <td>0</td>\n",
       "    </tr>\n",
       "  </tbody>\n",
       "</table>\n",
       "</div>"
      ],
      "text/plain": [
       "   avg_monthly_hrs   department  filed_complaint  last_evaluation  n_projects  \\\n",
       "0              221  engineering              0.0         0.932868           4   \n",
       "1              232      support              0.0         0.000000           3   \n",
       "2              184        sales              0.0         0.788830           3   \n",
       "3              206        sales              0.0         0.575688           4   \n",
       "4              249        sales              0.0         0.845217           3   \n",
       "\n",
       "   recently_promoted  salary  satisfaction    status  tenure  \\\n",
       "0                0.0     low      0.829896      Left     5.0   \n",
       "1                0.0     low      0.834544  Employed     2.0   \n",
       "2                0.0  medium      0.834988  Employed     3.0   \n",
       "3                0.0     low      0.424764  Employed     2.0   \n",
       "4                0.0     low      0.779043  Employed     3.0   \n",
       "\n",
       "   last_evaluation_missing  \n",
       "0                        0  \n",
       "1                        1  \n",
       "2                        0  \n",
       "3                        0  \n",
       "4                        0  "
      ]
     },
     "execution_count": 5,
     "metadata": {},
     "output_type": "execute_result"
    }
   ],
   "source": [
    "df.head()"
   ]
  },
  {
   "cell_type": "markdown",
   "metadata": {},
   "source": [
    "<span id=\"engineer-features\"></span>\n",
    "# 1. Engineer features\n",
    "\n",
    "For this project, we're going to have an abbreviated version of feature engineering, since we've already covered many tactics in the last lesson.\n",
    "\n",
    "<br>\n",
    "Do you remember the scatterplot of <code style=\"color:steelblue\">'satisfaction'</code> and <code style=\"color:steelblue\">'last_evaluation'</code> for employees who have <code style=\"color:crimson\">'Left'</code>?\n",
    "\n",
    "**Let's reproduce it here, just so we have it in front of us.**"
   ]
  },
  {
   "cell_type": "code",
   "execution_count": 7,
   "metadata": {},
   "outputs": [
    {
     "data": {
      "text/plain": [
       "0        False\n",
       "1        False\n",
       "2        False\n",
       "3        False\n",
       "4        False\n",
       "5        False\n",
       "6        False\n",
       "7        False\n",
       "8        False\n",
       "9        False\n",
       "10       False\n",
       "11       False\n",
       "12       False\n",
       "13       False\n",
       "14       False\n",
       "15       False\n",
       "16       False\n",
       "17       False\n",
       "18       False\n",
       "19       False\n",
       "20       False\n",
       "21       False\n",
       "22       False\n",
       "23       False\n",
       "24       False\n",
       "25       False\n",
       "26       False\n",
       "27       False\n",
       "28       False\n",
       "29       False\n",
       "         ...  \n",
       "14038    False\n",
       "14039    False\n",
       "14040    False\n",
       "14041    False\n",
       "14042    False\n",
       "14043    False\n",
       "14044    False\n",
       "14045    False\n",
       "14046    False\n",
       "14047    False\n",
       "14048    False\n",
       "14049    False\n",
       "14050    False\n",
       "14051    False\n",
       "14052    False\n",
       "14053    False\n",
       "14054    False\n",
       "14055    False\n",
       "14056    False\n",
       "14057    False\n",
       "14058    False\n",
       "14059    False\n",
       "14060    False\n",
       "14061    False\n",
       "14062    False\n",
       "14063    False\n",
       "14064    False\n",
       "14065    False\n",
       "14066    False\n",
       "14067    False\n",
       "Name: status, Length: 14068, dtype: bool"
      ]
     },
     "execution_count": 7,
     "metadata": {},
     "output_type": "execute_result"
    }
   ],
   "source": [
    "# Create boolean series: `has_left` ... has this employee left?\n",
    "has_left =  df['status'] == 'left'\n",
    "has_left\n",
    "# index df by `has_left` to create `left_df`\n",
    "left_df = df[has_left]['status']"
   ]
  },
  {
   "cell_type": "code",
   "execution_count": null,
   "metadata": {},
   "outputs": [],
   "source": [
    "# Scatterplot of satisfaction vs. last_evaluation, only those who have left\n",
    "sns.scatterplot(\"satisfaction\", \"last_evaluation\", data=left_df)\n",
    "plt.show()"
   ]
  },
  {
   "cell_type": "markdown",
   "metadata": {},
   "source": [
    "These roughly translate to 3 **indicator features** we can engineer:\n",
    "\n",
    "* <code style=\"color:steelblue\">'underperformer'</code> - last_evaluation < 0.6 and last_evaluation_missing == 0\n",
    "* <code style=\"color:steelblue\">'unhappy'</code> - satisfaction_level < 0.2\n",
    "* <code style=\"color:steelblue\">'overachiever'</code> - last_evaluation > 0.8 and satisfaction > 0.7\n",
    "\n",
    "<br>\n",
    "\n",
    "**Create those 3 indicator features.**\n",
    "* Use boolean masks.\n",
    "* **Important:** For <code style=\"color:steelblue\">'underperformer'</code>, it's important to include <code style=\"color:steelblue\">'last_evaluation_missing' == 0</code> to avoid those originally missing observations that we flagged and filled."
   ]
  },
  {
   "cell_type": "markdown",
   "metadata": {},
   "source": [
    "#### Create indicator features\n",
    "\n",
    "Remember, we are making indicator variables by running boolean commands a single column or combhination of multiple columns.\n",
    "\n",
    "1. **This check will result in a boolean series like: `[True, False, True, False, False, ...]`,**\n",
    "\n",
    "\n",
    "2. **We then use `.astype(int)` on that boolean series to convert it to an indicator variable which looks like: `[1,0,1,0,0, ...]`**"
   ]
  },
  {
   "cell_type": "code",
   "execution_count": null,
   "metadata": {},
   "outputs": [],
   "source": [
    "# df['underperformer']\n",
    "\n",
    "# df['unhappy']\n",
    "\n",
    "# df['overachiever']"
   ]
  },
  {
   "cell_type": "markdown",
   "metadata": {},
   "source": [
    "<br>\n",
    "\n",
    "**Next, run code to check that you created the features correctly.**"
   ]
  },
  {
   "cell_type": "code",
   "execution_count": null,
   "metadata": {},
   "outputs": [],
   "source": [
    "# The proportion of observations belonging to each group\n"
   ]
  },
  {
   "cell_type": "markdown",
   "metadata": {},
   "source": [
    "<p style=\"text-align:center; margin: 40px 0 40px 0; font-weight:bold\">\n",
    "<a href=\"#toc\">Back to Contents</a>\n",
    "</p>"
   ]
  },
  {
   "cell_type": "markdown",
   "metadata": {},
   "source": [
    "<span id=\"save-abt\"></span>\n",
    "# 2. Save the ABT\n",
    "\n",
    "Finally, let's save the **analytical base table**. \n",
    "\n",
    "<br>\n",
    "\n",
    "**Convert <code style=\"color:steelblue\">'status'</code> into an indicator variable.**\n",
    "* <code style=\"color:crimson\">'Left'</code> should be <code style=\"color:crimson\">1</code>\n",
    "* <code style=\"color:crimson\">'Employed'</code> should be <code style=\"color:crimson\">0</code>\n",
    "* There's also a really easy way you can use <code style=\"color:steelblue\">pd.get_dummies()</code> here."
   ]
  },
  {
   "cell_type": "code",
   "execution_count": null,
   "metadata": {},
   "outputs": [],
   "source": [
    " # Convert status to an indicator variable\n"
   ]
  },
  {
   "cell_type": "markdown",
   "metadata": {},
   "source": [
    "**To confirm we did that correctly, display the proportion of people in our dataset who left.**"
   ]
  },
  {
   "cell_type": "code",
   "execution_count": null,
   "metadata": {},
   "outputs": [],
   "source": [
    "# The proportion of observations who 'Left'\n",
    "# if we have a series of 1s and 0s, what would the mean represent?\n"
   ]
  },
  {
   "cell_type": "markdown",
   "metadata": {},
   "source": [
    "**Overwrite your dataframe with a version that has <span style=\"color:royalblue\">dummy variables</span> for the categorical features.**\n",
    "* Then, display the first 10 rows to confirm all of the changes we've made so far in this module."
   ]
  },
  {
   "cell_type": "markdown",
   "metadata": {},
   "source": [
    "#### Format for `pd.get_dummies()`\n",
    "`pd.get_dummies(data = your_df, columns = ['all', 'categorical', 'columns', 'in', 'df'])`"
   ]
  },
  {
   "cell_type": "code",
   "execution_count": null,
   "metadata": {},
   "outputs": [],
   "source": [
    "# Create new dataframe with dummy features\n"
   ]
  },
  {
   "cell_type": "code",
   "execution_count": null,
   "metadata": {},
   "outputs": [],
   "source": [
    "# Display first 10 rows\n"
   ]
  },
  {
   "cell_type": "markdown",
   "metadata": {},
   "source": [
    "**Save this dataframe as your <span style=\"color:royalblue\">employee analytical base table</span> to use in later lessons.**\n",
    "* Remember to set the argument <code style=\"color:steelblue\">index=None</code> to save only the data."
   ]
  },
  {
   "cell_type": "code",
   "execution_count": null,
   "metadata": {},
   "outputs": [],
   "source": [
    "# Save analytical base table\n",
    "df.to_csv(\"project_files/anaytical_base_emp.csv\")"
   ]
  },
  {
   "cell_type": "markdown",
   "metadata": {},
   "source": [
    "<p style=\"text-align:center; margin: 40px 0 40px 0; font-weight:bold\">\n",
    "<a href=\"#toc\">Back to Contents</a>\n",
    "</p>"
   ]
  },
  {
   "cell_type": "markdown",
   "metadata": {},
   "source": [
    "<br>\n",
    "\n",
    "## Next Steps\n",
    "\n",
    "Congratulations for making through The Feature Engineering Module!\n",
    "\n",
    "As a reminder, here are a few things you did:\n",
    "* You engineered features by leveraging your exploratory analysis.\n",
    "* And you created dummy variables before saving the ABT.\n",
    "\n",
    "<p style=\"text-align:center; margin: 40px 0 40px 0; font-weight:bold\">\n",
    "<a href=\"#toc\">Back to Contents</a>\n",
    "</p>"
   ]
  },
  {
   "cell_type": "code",
   "execution_count": null,
   "metadata": {},
   "outputs": [],
   "source": []
  }
 ],
 "metadata": {
  "anaconda-cloud": {},
  "kernelspec": {
   "display_name": "Python 3",
   "language": "python",
   "name": "python3"
  },
  "language_info": {
   "codemirror_mode": {
    "name": "ipython",
    "version": 3
   },
   "file_extension": ".py",
   "mimetype": "text/x-python",
   "name": "python",
   "nbconvert_exporter": "python",
   "pygments_lexer": "ipython3",
   "version": "3.7.3"
  }
 },
 "nbformat": 4,
 "nbformat_minor": 1
}
