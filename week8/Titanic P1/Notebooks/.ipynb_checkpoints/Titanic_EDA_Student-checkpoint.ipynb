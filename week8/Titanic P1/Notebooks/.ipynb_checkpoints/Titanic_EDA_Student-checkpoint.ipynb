{
 "cells": [
  {
   "cell_type": "markdown",
   "metadata": {
    "_cell_guid": "c986a9fb-e199-40eb-947d-c398d54f6b1e",
    "_uuid": "0ce8368deb46a77d2115dbc3d37859e8aa20c953"
   },
   "source": [
    "# Titanic Death Prediction\n",
    "<hr>"
   ]
  },
  {
   "cell_type": "markdown",
   "metadata": {
    "_cell_guid": "bf5980c3-b168-4a26-81f3-c7bdcedb6429",
    "_uuid": "18ba4a8f0909fd0a758b8cb8717327de8aeacdc8"
   },
   "source": [
    "## Part 1: Exploratory Data Analysis (EDA)"
   ]
  },
  {
   "cell_type": "code",
   "execution_count": 1,
   "metadata": {
    "_cell_guid": "d7601bd6-d22f-499f-97b9-85e01d390f05",
    "_uuid": "7bb401b4e2e509cc8a53e9cf645226fa508fa2e2"
   },
   "outputs": [],
   "source": [
    "import numpy as np \n",
    "import pandas as pd\n",
    "\n",
    "import matplotlib.pyplot as plt\n",
    "import seaborn as sns\n",
    "plt.style.use('fivethirtyeight')"
   ]
  },
  {
   "cell_type": "markdown",
   "metadata": {},
   "source": [
    "### Load Data"
   ]
  },
  {
   "cell_type": "code",
   "execution_count": 4,
   "metadata": {
    "_cell_guid": "c12ac199-e3e3-4372-a747-baa6273f4561",
    "_uuid": "ebc88acccbc14bf28e4e4d49eee1ea82dcc31ab4"
   },
   "outputs": [],
   "source": [
    "data = pd.read_csv('../data/train.csv')"
   ]
  },
  {
   "cell_type": "code",
   "execution_count": 4,
   "metadata": {},
   "outputs": [],
   "source": []
  },
  {
   "cell_type": "code",
   "execution_count": 5,
   "metadata": {},
   "outputs": [
    {
     "data": {
      "text/html": [
       "<div>\n",
       "<style scoped>\n",
       "    .dataframe tbody tr th:only-of-type {\n",
       "        vertical-align: middle;\n",
       "    }\n",
       "\n",
       "    .dataframe tbody tr th {\n",
       "        vertical-align: top;\n",
       "    }\n",
       "\n",
       "    .dataframe thead th {\n",
       "        text-align: right;\n",
       "    }\n",
       "</style>\n",
       "<table border=\"1\" class=\"dataframe\">\n",
       "  <thead>\n",
       "    <tr style=\"text-align: right;\">\n",
       "      <th></th>\n",
       "      <th>PassengerId</th>\n",
       "      <th>Survived</th>\n",
       "      <th>Pclass</th>\n",
       "      <th>Name</th>\n",
       "      <th>Gender</th>\n",
       "      <th>Age</th>\n",
       "      <th>SibSp</th>\n",
       "      <th>Parch</th>\n",
       "      <th>Ticket</th>\n",
       "      <th>Fare</th>\n",
       "      <th>Cabin</th>\n",
       "      <th>Embarked</th>\n",
       "    </tr>\n",
       "  </thead>\n",
       "  <tbody>\n",
       "    <tr>\n",
       "      <th>886</th>\n",
       "      <td>887</td>\n",
       "      <td>0</td>\n",
       "      <td>2</td>\n",
       "      <td>Montvila, Rev. Juozas</td>\n",
       "      <td>male</td>\n",
       "      <td>27.0</td>\n",
       "      <td>0</td>\n",
       "      <td>0</td>\n",
       "      <td>211536</td>\n",
       "      <td>13.00</td>\n",
       "      <td>NaN</td>\n",
       "      <td>S</td>\n",
       "    </tr>\n",
       "    <tr>\n",
       "      <th>887</th>\n",
       "      <td>888</td>\n",
       "      <td>1</td>\n",
       "      <td>1</td>\n",
       "      <td>Graham, Miss. Margaret Edith</td>\n",
       "      <td>female</td>\n",
       "      <td>19.0</td>\n",
       "      <td>0</td>\n",
       "      <td>0</td>\n",
       "      <td>112053</td>\n",
       "      <td>30.00</td>\n",
       "      <td>B42</td>\n",
       "      <td>S</td>\n",
       "    </tr>\n",
       "    <tr>\n",
       "      <th>888</th>\n",
       "      <td>889</td>\n",
       "      <td>0</td>\n",
       "      <td>3</td>\n",
       "      <td>Johnston, Miss. Catherine Helen \"Carrie\"</td>\n",
       "      <td>female</td>\n",
       "      <td>NaN</td>\n",
       "      <td>1</td>\n",
       "      <td>2</td>\n",
       "      <td>W./C. 6607</td>\n",
       "      <td>23.45</td>\n",
       "      <td>NaN</td>\n",
       "      <td>S</td>\n",
       "    </tr>\n",
       "    <tr>\n",
       "      <th>889</th>\n",
       "      <td>890</td>\n",
       "      <td>1</td>\n",
       "      <td>1</td>\n",
       "      <td>Behr, Mr. Karl Howell</td>\n",
       "      <td>male</td>\n",
       "      <td>26.0</td>\n",
       "      <td>0</td>\n",
       "      <td>0</td>\n",
       "      <td>111369</td>\n",
       "      <td>30.00</td>\n",
       "      <td>C148</td>\n",
       "      <td>C</td>\n",
       "    </tr>\n",
       "    <tr>\n",
       "      <th>890</th>\n",
       "      <td>891</td>\n",
       "      <td>0</td>\n",
       "      <td>3</td>\n",
       "      <td>Dooley, Mr. Patrick</td>\n",
       "      <td>male</td>\n",
       "      <td>32.0</td>\n",
       "      <td>0</td>\n",
       "      <td>0</td>\n",
       "      <td>370376</td>\n",
       "      <td>7.75</td>\n",
       "      <td>NaN</td>\n",
       "      <td>Q</td>\n",
       "    </tr>\n",
       "  </tbody>\n",
       "</table>\n",
       "</div>"
      ],
      "text/plain": [
       "     PassengerId  Survived  Pclass                                      Name  \\\n",
       "886          887         0       2                     Montvila, Rev. Juozas   \n",
       "887          888         1       1              Graham, Miss. Margaret Edith   \n",
       "888          889         0       3  Johnston, Miss. Catherine Helen \"Carrie\"   \n",
       "889          890         1       1                     Behr, Mr. Karl Howell   \n",
       "890          891         0       3                       Dooley, Mr. Patrick   \n",
       "\n",
       "     Gender   Age  SibSp  Parch      Ticket   Fare Cabin Embarked  \n",
       "886    male  27.0      0      0      211536  13.00   NaN        S  \n",
       "887  female  19.0      0      0      112053  30.00   B42        S  \n",
       "888  female   NaN      1      2  W./C. 6607  23.45   NaN        S  \n",
       "889    male  26.0      0      0      111369  30.00  C148        C  \n",
       "890    male  32.0      0      0      370376   7.75   NaN        Q  "
      ]
     },
     "execution_count": 5,
     "metadata": {},
     "output_type": "execute_result"
    }
   ],
   "source": [
    "data.tail()"
   ]
  },
  {
   "cell_type": "code",
   "execution_count": 6,
   "metadata": {},
   "outputs": [
    {
     "data": {
      "text/html": [
       "<div>\n",
       "<style scoped>\n",
       "    .dataframe tbody tr th:only-of-type {\n",
       "        vertical-align: middle;\n",
       "    }\n",
       "\n",
       "    .dataframe tbody tr th {\n",
       "        vertical-align: top;\n",
       "    }\n",
       "\n",
       "    .dataframe thead th {\n",
       "        text-align: right;\n",
       "    }\n",
       "</style>\n",
       "<table border=\"1\" class=\"dataframe\">\n",
       "  <thead>\n",
       "    <tr style=\"text-align: right;\">\n",
       "      <th></th>\n",
       "      <th>PassengerId</th>\n",
       "      <th>Survived</th>\n",
       "      <th>Pclass</th>\n",
       "      <th>Name</th>\n",
       "      <th>Gender</th>\n",
       "      <th>Age</th>\n",
       "      <th>SibSp</th>\n",
       "      <th>Parch</th>\n",
       "      <th>Ticket</th>\n",
       "      <th>Fare</th>\n",
       "      <th>Cabin</th>\n",
       "      <th>Embarked</th>\n",
       "    </tr>\n",
       "  </thead>\n",
       "  <tbody>\n",
       "    <tr>\n",
       "      <th>0</th>\n",
       "      <td>1</td>\n",
       "      <td>0</td>\n",
       "      <td>3</td>\n",
       "      <td>Braund, Mr. Owen Harris</td>\n",
       "      <td>male</td>\n",
       "      <td>22.0</td>\n",
       "      <td>1</td>\n",
       "      <td>0</td>\n",
       "      <td>A/5 21171</td>\n",
       "      <td>7.2500</td>\n",
       "      <td>NaN</td>\n",
       "      <td>S</td>\n",
       "    </tr>\n",
       "    <tr>\n",
       "      <th>1</th>\n",
       "      <td>2</td>\n",
       "      <td>1</td>\n",
       "      <td>1</td>\n",
       "      <td>Cumings, Mrs. John Bradley (Florence Briggs Th...</td>\n",
       "      <td>female</td>\n",
       "      <td>38.0</td>\n",
       "      <td>1</td>\n",
       "      <td>0</td>\n",
       "      <td>PC 17599</td>\n",
       "      <td>71.2833</td>\n",
       "      <td>C85</td>\n",
       "      <td>C</td>\n",
       "    </tr>\n",
       "    <tr>\n",
       "      <th>2</th>\n",
       "      <td>3</td>\n",
       "      <td>1</td>\n",
       "      <td>3</td>\n",
       "      <td>Heikkinen, Miss. Laina</td>\n",
       "      <td>female</td>\n",
       "      <td>26.0</td>\n",
       "      <td>0</td>\n",
       "      <td>0</td>\n",
       "      <td>STON/O2. 3101282</td>\n",
       "      <td>7.9250</td>\n",
       "      <td>NaN</td>\n",
       "      <td>S</td>\n",
       "    </tr>\n",
       "    <tr>\n",
       "      <th>3</th>\n",
       "      <td>4</td>\n",
       "      <td>1</td>\n",
       "      <td>1</td>\n",
       "      <td>Futrelle, Mrs. Jacques Heath (Lily May Peel)</td>\n",
       "      <td>female</td>\n",
       "      <td>35.0</td>\n",
       "      <td>1</td>\n",
       "      <td>0</td>\n",
       "      <td>113803</td>\n",
       "      <td>53.1000</td>\n",
       "      <td>C123</td>\n",
       "      <td>S</td>\n",
       "    </tr>\n",
       "    <tr>\n",
       "      <th>4</th>\n",
       "      <td>5</td>\n",
       "      <td>0</td>\n",
       "      <td>3</td>\n",
       "      <td>Allen, Mr. William Henry</td>\n",
       "      <td>male</td>\n",
       "      <td>35.0</td>\n",
       "      <td>0</td>\n",
       "      <td>0</td>\n",
       "      <td>373450</td>\n",
       "      <td>8.0500</td>\n",
       "      <td>NaN</td>\n",
       "      <td>S</td>\n",
       "    </tr>\n",
       "  </tbody>\n",
       "</table>\n",
       "</div>"
      ],
      "text/plain": [
       "   PassengerId  Survived  Pclass  \\\n",
       "0            1         0       3   \n",
       "1            2         1       1   \n",
       "2            3         1       3   \n",
       "3            4         1       1   \n",
       "4            5         0       3   \n",
       "\n",
       "                                                Name  Gender   Age  SibSp  \\\n",
       "0                            Braund, Mr. Owen Harris    male  22.0      1   \n",
       "1  Cumings, Mrs. John Bradley (Florence Briggs Th...  female  38.0      1   \n",
       "2                             Heikkinen, Miss. Laina  female  26.0      0   \n",
       "3       Futrelle, Mrs. Jacques Heath (Lily May Peel)  female  35.0      1   \n",
       "4                           Allen, Mr. William Henry    male  35.0      0   \n",
       "\n",
       "   Parch            Ticket     Fare Cabin Embarked  \n",
       "0      0         A/5 21171   7.2500   NaN        S  \n",
       "1      0          PC 17599  71.2833   C85        C  \n",
       "2      0  STON/O2. 3101282   7.9250   NaN        S  \n",
       "3      0            113803  53.1000  C123        S  \n",
       "4      0            373450   8.0500   NaN        S  "
      ]
     },
     "execution_count": 6,
     "metadata": {},
     "output_type": "execute_result"
    }
   ],
   "source": [
    "data.head()"
   ]
  },
  {
   "cell_type": "markdown",
   "metadata": {},
   "source": [
    "<br>"
   ]
  },
  {
   "cell_type": "markdown",
   "metadata": {},
   "source": [
    "### Check clomun dtypes"
   ]
  },
  {
   "cell_type": "code",
   "execution_count": null,
   "metadata": {},
   "outputs": [],
   "source": [
    "data.dtypes"
   ]
  },
  {
   "cell_type": "markdown",
   "metadata": {},
   "source": [
    "<br>"
   ]
  },
  {
   "cell_type": "markdown",
   "metadata": {},
   "source": [
    "### Check for total Null Values."
   ]
  },
  {
   "cell_type": "code",
   "execution_count": null,
   "metadata": {
    "_cell_guid": "5ef569cd-e99e-42f0-93ec-abbc6a90c00e",
    "_uuid": "1496190095fb1cd2e289c63c986c6eb951046860"
   },
   "outputs": [],
   "source": [
    "data.isnull().sum()"
   ]
  },
  {
   "cell_type": "markdown",
   "metadata": {
    "_cell_guid": "31972ab9-edef-49e3-bcd5-120262cf00d8",
    "_uuid": "fcedf70d9bdab89fb7eb8ff3769b14f0b5036a33"
   },
   "source": [
    "The **Age, Cabin and Embarked** have null values. We will fix these in the next notebook."
   ]
  },
  {
   "cell_type": "markdown",
   "metadata": {},
   "source": [
    "<br>\n",
    "<hr>"
   ]
  },
  {
   "cell_type": "markdown",
   "metadata": {
    "_cell_guid": "841dc40d-06b4-4010-b996-8d1e23857341",
    "_uuid": "d433fbf891d9268f60bf395d7db4e61996989d04"
   },
   "source": [
    "### Question: How many Survivors? Who were they?"
   ]
  },
  {
   "cell_type": "code",
   "execution_count": null,
   "metadata": {
    "_cell_guid": "fabb7625-a8ef-4f37-99c6-3ec93679ef1f",
    "_uuid": "c60257aef24e867113873729829c7a1e33f4a0ab"
   },
   "outputs": [],
   "source": [
    "# Set up 2 axes to plot\n",
    "f, ax = plt.subplots(1,2, figsize=(18,8))\n",
    "\n",
    "# ax[0]\n",
    "data['Survived'].value_counts().plot(kind='pie', explode = [0,0.1], autopct = '%1.1f%%', ax = ax[0], shadow = True)\n",
    "ax[0].set_title('Survived')\n",
    "ax[0].set_ylabel('')  # no need for y_label on pie chart.\n",
    "\n",
    "## ax[1]\n",
    "sns.countplot('Survived', data = data, ax = ax[1])\n",
    "ax[1].set_title('Distribution of Surviuval')\n",
    "\n",
    "plt.show()"
   ]
  },
  {
   "cell_type": "markdown",
   "metadata": {},
   "source": [
    "## Ponder w/ Neighbor"
   ]
  },
  {
   "cell_type": "markdown",
   "metadata": {},
   "source": [
    "What things do you notice? Write your observations here!"
   ]
  },
  {
   "cell_type": "markdown",
   "metadata": {},
   "source": [
    "<br>\n",
    "<hr>"
   ]
  },
  {
   "cell_type": "markdown",
   "metadata": {
    "_cell_guid": "f16f40df-3681-4330-ba57-2955094a6546",
    "_uuid": "01e521761a33c3bc2961e2613f729c164269ee51"
   },
   "source": [
    "## The Types of Features found in Titanic Dataset"
   ]
  },
  {
   "cell_type": "markdown",
   "metadata": {
    "_cell_guid": "f16f40df-3681-4330-ba57-2955094a6546",
    "_uuid": "01e521761a33c3bc2961e2613f729c164269ee51"
   },
   "source": [
    "### Categorical Features:\n",
    "A categorical variable is one that has two or more categories and each value in that feature can be categorised by them.For example, gender is a categorical variable having two categories (male and female). Now we cannot sort or give any ordering to such variables. They are also known as **Nominal Variables**.\n",
    "\n",
    "**Categorical Features in the dataset: Gender,Embarked.**"
   ]
  },
  {
   "cell_type": "markdown",
   "metadata": {
    "_cell_guid": "f16f40df-3681-4330-ba57-2955094a6546",
    "_uuid": "01e521761a33c3bc2961e2613f729c164269ee51"
   },
   "source": [
    "### Ordinal Features:\n",
    "An ordinal variable is similar to categorical values, but the difference between them is that we can have relative ordering or sorting between the values. For eg: If we have a feature like **Height** with values **Tall, Medium, Short**, then Height is a ordinal variable. Here we can have a relative sort in the variable.\n",
    "\n",
    "**Ordinal Features in the dataset: PClass**"
   ]
  },
  {
   "cell_type": "markdown",
   "metadata": {
    "_cell_guid": "f16f40df-3681-4330-ba57-2955094a6546",
    "_uuid": "01e521761a33c3bc2961e2613f729c164269ee51"
   },
   "source": [
    "### Continous Feature:\n",
    "A feature is said to be continous if it can take values between any two points or between the minimum or maximum values in the features column.\n",
    "\n",
    "**Continous Features in the dataset: Age**"
   ]
  },
  {
   "cell_type": "markdown",
   "metadata": {},
   "source": [
    "<br>\n",
    "<hr>\n",
    "<br>"
   ]
  },
  {
   "cell_type": "markdown",
   "metadata": {
    "_cell_guid": "ccd13018-e5fb-4022-ac41-cadce1994dbe",
    "_uuid": "2b36f7862279cf64a76a9950f703bfed4ca220f6"
   },
   "source": [
    "## Analysing The Features"
   ]
  },
  {
   "cell_type": "markdown",
   "metadata": {
    "_cell_guid": "8d5bd219-61ce-4c88-b0c5-aaffce8cb1cc",
    "_uuid": "8b5ad1ae98e4aad980f24bbefb489e6ac049768b"
   },
   "source": [
    "## ```data['Gender']``` --> Categorical Feature"
   ]
  },
  {
   "cell_type": "code",
   "execution_count": 25,
   "metadata": {
    "_cell_guid": "428c84fc-9d5e-4022-a9f5-1c8ec7257268",
    "_uuid": "3554e468c8581316a717348689f1d867b3c97f6a"
   },
   "outputs": [
    {
     "data": {
      "text/plain": [
       "Gender  Survived\n",
       "female  0           233\n",
       "        1           233\n",
       "male    0           733\n",
       "        1           109\n",
       "Name: Survived, dtype: int64"
      ]
     },
     "execution_count": 25,
     "metadata": {},
     "output_type": "execute_result"
    }
   ],
   "source": [
    "data.groupby(['Gender','Survived'])['Survived'].count()"
   ]
  },
  {
   "cell_type": "code",
   "execution_count": 32,
   "metadata": {
    "_cell_guid": "06218a7d-bf3c-40b1-9cfa-2a915f7bc005",
    "_uuid": "c06e043424e13b87fcb020322e4869430fd0714f"
   },
   "outputs": [
    {
     "data": {
      "image/png": "[encoded data removed]",
      "text/plain": [
       "<Figure size 1296x576 with 2 Axes>"
      ]
     },
     "metadata": {
      "needs_background": "light"
     },
     "output_type": "display_data"
    }
   ],
   "source": [
    "# Set up 2 axes to plot\n",
    "f, ax = plt.subplots(1, 2, figsize= (18,8))\n",
    "\n",
    "# ax[0]\n",
    "data[['Gender','Survived']].groupby(['Gender']).mean().plot(kind='bar', ax=ax[0])\n",
    "ax[0].set_title('Survived vs Gender')\n",
    "\n",
    "# ax[1]\n",
    "sns.countplot('Gender',hue='Survived',data=data,ax=ax[1])\n",
    "ax[1].set_title('Gender: Survived vs umm... NOT Survived')\n",
    "\n",
    "plt.show()"
   ]
  },
  {
   "cell_type": "markdown",
   "metadata": {},
   "source": [
    "## Ponder w/ Neighbor"
   ]
  },
  {
   "cell_type": "markdown",
   "metadata": {},
   "source": [
    "What things do you notice? Write your observations here!"
   ]
  },
  {
   "cell_type": "markdown",
   "metadata": {},
   "source": [
    "<br>\n",
    "<hr>\n",
    "<br>"
   ]
  },
  {
   "cell_type": "markdown",
   "metadata": {
    "_cell_guid": "a210b0c8-dd8e-4fd0-a7f2-e597b7ed81e6",
    "_uuid": "e3b6327723dedd766d452f55b4056bbd0b37bed2"
   },
   "source": [
    "## ```data['Pclass']``` --> Ordinal Feature"
   ]
  },
  {
   "cell_type": "code",
   "execution_count": 105,
   "metadata": {
    "_cell_guid": "2477b536-32dd-43a0-8824-be034104b760",
    "_uuid": "4a98fe27c4474296c6b51f4a2b7fb076c228b4b8"
   },
   "outputs": [
    {
     "data": {
      "text/html": [
       "<style  type=\"text/css\" >\n",
       "    #T_9dd10a94_9939_11e9_ba98_28c63fb96bcfrow0_col0 {\n",
       "            background-color:  #badc66;\n",
       "        }    #T_9dd10a94_9939_11e9_ba98_28c63fb96bcfrow0_col1 {\n",
       "            background-color:  #75ba66;\n",
       "        }    #T_9dd10a94_9939_11e9_ba98_28c63fb96bcfrow0_col2 {\n",
       "            background-color:  #339966;\n",
       "        }    #T_9dd10a94_9939_11e9_ba98_28c63fb96bcfrow0_col3 {\n",
       "            background-color:  #5aac66;\n",
       "        }    #T_9dd10a94_9939_11e9_ba98_28c63fb96bcfrow1_col0 {\n",
       "            background-color:  #ffff66;\n",
       "        }    #T_9dd10a94_9939_11e9_ba98_28c63fb96bcfrow1_col1 {\n",
       "            background-color:  #ffff66;\n",
       "        }    #T_9dd10a94_9939_11e9_ba98_28c63fb96bcfrow1_col2 {\n",
       "            background-color:  #ffff66;\n",
       "        }    #T_9dd10a94_9939_11e9_ba98_28c63fb96bcfrow1_col3 {\n",
       "            background-color:  #ffff66;\n",
       "        }    #T_9dd10a94_9939_11e9_ba98_28c63fb96bcfrow2_col0 {\n",
       "            background-color:  #008066;\n",
       "        }    #T_9dd10a94_9939_11e9_ba98_28c63fb96bcfrow2_col1 {\n",
       "            background-color:  #008066;\n",
       "        }    #T_9dd10a94_9939_11e9_ba98_28c63fb96bcfrow2_col2 {\n",
       "            background-color:  #008066;\n",
       "        }    #T_9dd10a94_9939_11e9_ba98_28c63fb96bcfrow2_col3 {\n",
       "            background-color:  #008066;\n",
       "        }</style>  \n",
       "<table id=\"T_9dd10a94_9939_11e9_ba98_28c63fb96bcf\" > \n",
       "<thead>    <tr> \n",
       "        <th class=\"index_name level0\" >Pclass</th> \n",
       "        <th class=\"col_heading level0 col0\" >1</th> \n",
       "        <th class=\"col_heading level0 col1\" >2</th> \n",
       "        <th class=\"col_heading level0 col2\" >3</th> \n",
       "        <th class=\"col_heading level0 col3\" >All</th> \n",
       "    </tr>    <tr> \n",
       "        <th class=\"index_name level0\" >Survived</th> \n",
       "        <th class=\"blank\" ></th> \n",
       "        <th class=\"blank\" ></th> \n",
       "        <th class=\"blank\" ></th> \n",
       "        <th class=\"blank\" ></th> \n",
       "    </tr></thead> \n",
       "<tbody>    <tr> \n",
       "        <th id=\"T_9dd10a94_9939_11e9_ba98_28c63fb96bcflevel0_row0\" class=\"row_heading level0 row0\" >0</th> \n",
       "        <td id=\"T_9dd10a94_9939_11e9_ba98_28c63fb96bcfrow0_col0\" class=\"data row0 col0\" >187</td> \n",
       "        <td id=\"T_9dd10a94_9939_11e9_ba98_28c63fb96bcfrow0_col1\" class=\"data row0 col1\" >190</td> \n",
       "        <td id=\"T_9dd10a94_9939_11e9_ba98_28c63fb96bcfrow0_col2\" class=\"data row0 col2\" >589</td> \n",
       "        <td id=\"T_9dd10a94_9939_11e9_ba98_28c63fb96bcfrow0_col3\" class=\"data row0 col3\" >966</td> \n",
       "    </tr>    <tr> \n",
       "        <th id=\"T_9dd10a94_9939_11e9_ba98_28c63fb96bcflevel0_row1\" class=\"row_heading level0 row1\" >1</th> \n",
       "        <td id=\"T_9dd10a94_9939_11e9_ba98_28c63fb96bcfrow1_col0\" class=\"data row1 col0\" >136</td> \n",
       "        <td id=\"T_9dd10a94_9939_11e9_ba98_28c63fb96bcfrow1_col1\" class=\"data row1 col1\" >87</td> \n",
       "        <td id=\"T_9dd10a94_9939_11e9_ba98_28c63fb96bcfrow1_col2\" class=\"data row1 col2\" >119</td> \n",
       "        <td id=\"T_9dd10a94_9939_11e9_ba98_28c63fb96bcfrow1_col3\" class=\"data row1 col3\" >342</td> \n",
       "    </tr>    <tr> \n",
       "        <th id=\"T_9dd10a94_9939_11e9_ba98_28c63fb96bcflevel0_row2\" class=\"row_heading level0 row2\" >All</th> \n",
       "        <td id=\"T_9dd10a94_9939_11e9_ba98_28c63fb96bcfrow2_col0\" class=\"data row2 col0\" >323</td> \n",
       "        <td id=\"T_9dd10a94_9939_11e9_ba98_28c63fb96bcfrow2_col1\" class=\"data row2 col1\" >277</td> \n",
       "        <td id=\"T_9dd10a94_9939_11e9_ba98_28c63fb96bcfrow2_col2\" class=\"data row2 col2\" >708</td> \n",
       "        <td id=\"T_9dd10a94_9939_11e9_ba98_28c63fb96bcfrow2_col3\" class=\"data row2 col3\" >1308</td> \n",
       "    </tr></tbody> \n",
       "</table> "
      ],
      "text/plain": [
       "<pandas.io.formats.style.Styler at 0x15e7d071828>"
      ]
     },
     "execution_count": 105,
     "metadata": {},
     "output_type": "execute_result"
    }
   ],
   "source": [
    "pd.crosstab(index=data['Pclass'], columns=data['Survived'], margins = True).T.style.background_gradient(cmap='summer_r')"
   ]
  },
  {
   "cell_type": "code",
   "execution_count": 38,
   "metadata": {},
   "outputs": [
    {
     "data": {
      "text/plain": [
       "(1308, 13)"
      ]
     },
     "execution_count": 38,
     "metadata": {},
     "output_type": "execute_result"
    }
   ],
   "source": [
    "data.shape"
   ]
  },
  {
   "cell_type": "code",
   "execution_count": 42,
   "metadata": {
    "_cell_guid": "c3adaaa2-f675-4273-ba93-8b26c37bacf3",
    "_uuid": "592a3d8c24761c3f6e8c5cf875554826d9e308a5"
   },
   "outputs": [
    {
     "data": {
      "image/png": "[encoded data removed]",
      "text/plain": [
       "<Figure size 1296x576 with 2 Axes>"
      ]
     },
     "metadata": {
      "needs_background": "light"
     },
     "output_type": "display_data"
    }
   ],
   "source": [
    "# Set up 2 axes\n",
    "f,ax=plt.subplots(1,2,figsize=(18,8))\n",
    "\n",
    "# ax[0]\n",
    "data['Pclass'].value_counts().plot(kind='bar', ax = ax[0])\n",
    "ax[0].set_title('Number Of Passengers By Pclass')\n",
    "ax[0].set_ylabel('Count')\n",
    "\n",
    "# ax[1]\n",
    "sns.countplot('Pclass', hue = 'Survived', data = data, ax = ax[1])\n",
    "ax[1].set_title('Pclass:Survived vs Dead')\n",
    "\n",
    "plt.show()"
   ]
  },
  {
   "cell_type": "markdown",
   "metadata": {},
   "source": [
    "## Ponder w/ Neighbor"
   ]
  },
  {
   "cell_type": "markdown",
   "metadata": {},
   "source": [
    "What things do you notice? Write your observations here!\n",
    "\n",
    "\n"
   ]
  },
  {
   "cell_type": "markdown",
   "metadata": {},
   "source": [
    "<br>\n",
    "<hr>\n",
    "<br>"
   ]
  },
  {
   "cell_type": "markdown",
   "metadata": {},
   "source": [
    "## `data['Pclass']` & `data['Gender']`"
   ]
  },
  {
   "cell_type": "markdown",
   "metadata": {},
   "source": [
    "### Exercise 1: "
   ]
  },
  {
   "cell_type": "markdown",
   "metadata": {},
   "source": [
    "1. Create a multi-index `pd.crosstab()` that compares both `Gender` and `Survived` against `Pclass`\n",
    "2. Make sure to pass in `True` for the margins parameter\n",
    "3. For styles, add .styles.background_gradient(cmap='') to the end of your code.\n",
    "\n",
    "4. **Possible cmap Values:** when you leave the cmap string blank aka '', python will spit back a list of possible values! "
   ]
  },
  {
   "cell_type": "code",
   "execution_count": 113,
   "metadata": {
    "_cell_guid": "7d413d16-2861-4aca-9042-38e374eddef3",
    "_uuid": "1308ec5a68849984dfd1e05b53c52b6192363a18"
   },
   "outputs": [],
   "source": [
    "# Crosstab Gender and Survived vs Pclass\n"
   ]
  },
  {
   "cell_type": "markdown",
   "metadata": {},
   "source": [
    "<br>"
   ]
  },
  {
   "cell_type": "markdown",
   "metadata": {},
   "source": [
    "### Pointplots!"
   ]
  },
  {
   "cell_type": "markdown",
   "metadata": {},
   "source": [
    "Are great for finding the average rate for some binary variable, in this case `survived`\n",
    "\n",
    "1. You can add dimensions to this!\n",
    "2. We can divide these approximations into the 3 `Pclass` classes along the x axis\n",
    "3. Then, we can add the hue parameter to then further divide these groups by `Gender`"
   ]
  },
  {
   "cell_type": "code",
   "execution_count": 114,
   "metadata": {
    "_cell_guid": "1fd41001-f153-4a78-806b-72b16a34f88f",
    "_uuid": "710111beaace27f0e85958a0639f2b2175b0892c"
   },
   "outputs": [
    {
     "data": {
      "image/png": "[encoded data removed]",
      "text/plain": [
       "<Figure size 426.125x360 with 1 Axes>"
      ]
     },
     "metadata": {},
     "output_type": "display_data"
    }
   ],
   "source": [
    "sns.catplot(x= 'Pclass', y= 'Survived', hue= 'Gender', data= data, kind= 'point')\n",
    "plt.show()"
   ]
  },
  {
   "cell_type": "markdown",
   "metadata": {},
   "source": [
    "## Ponder w/ Neighbor"
   ]
  },
  {
   "cell_type": "markdown",
   "metadata": {},
   "source": [
    "What things do you notice? Write your observations here!"
   ]
  },
  {
   "cell_type": "markdown",
   "metadata": {},
   "source": [
    "<br>\n",
    "<hr>\n",
    "<br>"
   ]
  },
  {
   "cell_type": "markdown",
   "metadata": {
    "_cell_guid": "b9a8739f-9bfa-48a0-8b55-85694f8c7b36",
    "_uuid": "da1710d88cdb726d4c74d1580eb4650823f8e1a9"
   },
   "source": [
    "## ```data['Age']``` --> Continous Feature\n"
   ]
  },
  {
   "cell_type": "code",
   "execution_count": 56,
   "metadata": {
    "_cell_guid": "d8c1dc5a-2f74-4c88-9101-6c98abaf9878",
    "_uuid": "58e1110e104a4628f2852fa284905525997c2c44"
   },
   "outputs": [
    {
     "name": "stdout",
     "output_type": "stream",
     "text": [
      "Oldest Passenger was 80.0 years old.\n",
      "Youngest Passenger was 0.17 years old\n",
      "\n",
      "Average Age on the ship was of: 30 years.\n"
     ]
    }
   ],
   "source": [
    "print('Oldest Passenger was',data['Age'].max(),'years old.')\n",
    "print('Youngest Passenger was',data['Age'].min(),'years old')\n",
    "print()\n",
    "print('Average Age on the ship was of:', round(data['Age'].mean()),'years.')"
   ]
  },
  {
   "cell_type": "code",
   "execution_count": 57,
   "metadata": {
    "_cell_guid": "cf3e9729-799e-4142-84ff-0dbb6906136e",
    "_uuid": "a43082dc51717bbcc0a036db2d78b7732eb41ef1"
   },
   "outputs": [
    {
     "data": {
      "image/png": "[encoded data removed]",
      "text/plain": [
       "<Figure size 1296x576 with 2 Axes>"
      ]
     },
     "metadata": {
      "needs_background": "light"
     },
     "output_type": "display_data"
    }
   ],
   "source": [
    "# Make 2 axes\n",
    "f, ax = plt.subplots(1, 2, figsize = (18,8))\n",
    "\n",
    "# ax[0] - pclass and age vs survived\n",
    "sns.violinplot(\"Pclass\", \"Age\", hue = \"Survived\", data = data, split = True, ax = ax[0])\n",
    "ax[0].set_title('Pclass and Age vs Survived')\n",
    "ax[0].set_yticks(range(0, 110, 10))\n",
    "\n",
    "# ax[1] - gender and age vs survived\n",
    "sns.violinplot(\"Gender\", \"Age\", hue = \"Survived\", data = data, split = True, ax = ax[1])\n",
    "ax[1].set_title('Gender and Age vs Survived')\n",
    "ax[1].set_yticks(range(0, 110, 10))\n",
    "\n",
    "plt.show()"
   ]
  },
  {
   "cell_type": "markdown",
   "metadata": {},
   "source": [
    "## Ponder w/ Neighbor"
   ]
  },
  {
   "cell_type": "markdown",
   "metadata": {},
   "source": [
    "What things do you notice? Write your observations here!"
   ]
  },
  {
   "cell_type": "markdown",
   "metadata": {},
   "source": [
    "<br>\n",
    "<hr>\n",
    "<br>"
   ]
  },
  {
   "cell_type": "markdown",
   "metadata": {
    "_cell_guid": "23be39a5-be98-422b-8116-90cb0fd120ba",
    "_uuid": "d347a55f54b1ee15ce39ad0e22d873a2c32fc736"
   },
   "source": [
    "### What's In A Name? ...mild Feature Engineering"
   ]
  },
  {
   "cell_type": "markdown",
   "metadata": {},
   "source": [
    "### `data['Initial']`"
   ]
  },
  {
   "cell_type": "code",
   "execution_count": null,
   "metadata": {},
   "outputs": [],
   "source": [
    "data['Name'].head()"
   ]
  },
  {
   "cell_type": "code",
   "execution_count": 10,
   "metadata": {},
   "outputs": [],
   "source": [
    "data['Initial'] = data['Name'].str.extract('([A-Za-z]+)\\.')"
   ]
  },
  {
   "cell_type": "markdown",
   "metadata": {
    "_cell_guid": "8efd06d8-dee6-4892-a986-25944cf2bf61",
    "_uuid": "413c7cdc7469c86bd9d13fd54c731ecb58704197"
   },
   "source": [
    "Okay so here we are using the Regex: **[A-Za-z]+)\\.**. So what it does is, it looks for strings which lie between **A-Z or a-z** and followed by a **.(dot)**. So we successfully extract the Initials from the Name."
   ]
  },
  {
   "cell_type": "markdown",
   "metadata": {},
   "source": [
    "### Exercise 2: "
   ]
  },
  {
   "cell_type": "markdown",
   "metadata": {},
   "source": [
    "1. Create a single-index `pd.crosstab()` that compares the new `Initial` variable against `Gender`\n",
    "2. No need for the `margins` Parameter for this one!\n",
    "3. For styles, add .styles.background_gradient(cmap='') to the end of your code.\n",
    "4. Notice anything interesting?"
   ]
  },
  {
   "cell_type": "code",
   "execution_count": 115,
   "metadata": {
    "_cell_guid": "e87e0415-43e7-4717-a6dc-43e60e71460e",
    "_uuid": "cf32ee39ef64840facd833f7f5d7616ffbaaa97c"
   },
   "outputs": [
    {
     "data": {
      "text/html": [
       "<style  type=\"text/css\" >\n",
       "    #T_ceecfca4_993b_11e9_8072_28c63fb96bcfrow0_col0 {\n",
       "            background-color:  #ffff66;\n",
       "        }    #T_ceecfca4_993b_11e9_8072_28c63fb96bcfrow0_col1 {\n",
       "            background-color:  #008066;\n",
       "        }    #T_ceecfca4_993b_11e9_8072_28c63fb96bcfrow0_col2 {\n",
       "            background-color:  #ffff66;\n",
       "        }    #T_ceecfca4_993b_11e9_8072_28c63fb96bcfrow0_col3 {\n",
       "            background-color:  #008066;\n",
       "        }    #T_ceecfca4_993b_11e9_8072_28c63fb96bcfrow0_col4 {\n",
       "            background-color:  #ffff66;\n",
       "        }    #T_ceecfca4_993b_11e9_8072_28c63fb96bcfrow0_col5 {\n",
       "            background-color:  #ffff66;\n",
       "        }    #T_ceecfca4_993b_11e9_8072_28c63fb96bcfrow1_col0 {\n",
       "            background-color:  #008066;\n",
       "        }    #T_ceecfca4_993b_11e9_8072_28c63fb96bcfrow1_col1 {\n",
       "            background-color:  #ffff66;\n",
       "        }    #T_ceecfca4_993b_11e9_8072_28c63fb96bcfrow1_col2 {\n",
       "            background-color:  #008066;\n",
       "        }    #T_ceecfca4_993b_11e9_8072_28c63fb96bcfrow1_col3 {\n",
       "            background-color:  #ffff66;\n",
       "        }    #T_ceecfca4_993b_11e9_8072_28c63fb96bcfrow1_col4 {\n",
       "            background-color:  #008066;\n",
       "        }    #T_ceecfca4_993b_11e9_8072_28c63fb96bcfrow1_col5 {\n",
       "            background-color:  #8dc666;\n",
       "        }    #T_ceecfca4_993b_11e9_8072_28c63fb96bcfrow2_col0 {\n",
       "            background-color:  #008066;\n",
       "        }    #T_ceecfca4_993b_11e9_8072_28c63fb96bcfrow2_col1 {\n",
       "            background-color:  #008066;\n",
       "        }    #T_ceecfca4_993b_11e9_8072_28c63fb96bcfrow2_col2 {\n",
       "            background-color:  #008066;\n",
       "        }    #T_ceecfca4_993b_11e9_8072_28c63fb96bcfrow2_col3 {\n",
       "            background-color:  #008066;\n",
       "        }    #T_ceecfca4_993b_11e9_8072_28c63fb96bcfrow2_col4 {\n",
       "            background-color:  #008066;\n",
       "        }    #T_ceecfca4_993b_11e9_8072_28c63fb96bcfrow2_col5 {\n",
       "            background-color:  #008066;\n",
       "        }</style>  \n",
       "<table id=\"T_ceecfca4_993b_11e9_8072_28c63fb96bcf\" > \n",
       "<thead>    <tr> \n",
       "        <th class=\"index_name level0\" >Initial</th> \n",
       "        <th class=\"col_heading level0 col0\" >Master</th> \n",
       "        <th class=\"col_heading level0 col1\" >Miss</th> \n",
       "        <th class=\"col_heading level0 col2\" >Mr</th> \n",
       "        <th class=\"col_heading level0 col3\" >Mrs</th> \n",
       "        <th class=\"col_heading level0 col4\" >Other</th> \n",
       "        <th class=\"col_heading level0 col5\" >All</th> \n",
       "    </tr>    <tr> \n",
       "        <th class=\"index_name level0\" >Gender</th> \n",
       "        <th class=\"blank\" ></th> \n",
       "        <th class=\"blank\" ></th> \n",
       "        <th class=\"blank\" ></th> \n",
       "        <th class=\"blank\" ></th> \n",
       "        <th class=\"blank\" ></th> \n",
       "        <th class=\"blank\" ></th> \n",
       "    </tr></thead> \n",
       "<tbody>    <tr> \n",
       "        <th id=\"T_ceecfca4_993b_11e9_8072_28c63fb96bcflevel0_row0\" class=\"row_heading level0 row0\" >female</th> \n",
       "        <td id=\"T_ceecfca4_993b_11e9_8072_28c63fb96bcfrow0_col0\" class=\"data row0 col0\" >0</td> \n",
       "        <td id=\"T_ceecfca4_993b_11e9_8072_28c63fb96bcfrow0_col1\" class=\"data row0 col1\" >265</td> \n",
       "        <td id=\"T_ceecfca4_993b_11e9_8072_28c63fb96bcfrow0_col2\" class=\"data row0 col2\" >1</td> \n",
       "        <td id=\"T_ceecfca4_993b_11e9_8072_28c63fb96bcfrow0_col3\" class=\"data row0 col3\" >200</td> \n",
       "        <td id=\"T_ceecfca4_993b_11e9_8072_28c63fb96bcfrow0_col4\" class=\"data row0 col4\" >0</td> \n",
       "        <td id=\"T_ceecfca4_993b_11e9_8072_28c63fb96bcfrow0_col5\" class=\"data row0 col5\" >466</td> \n",
       "    </tr>    <tr> \n",
       "        <th id=\"T_ceecfca4_993b_11e9_8072_28c63fb96bcflevel0_row1\" class=\"row_heading level0 row1\" >male</th> \n",
       "        <td id=\"T_ceecfca4_993b_11e9_8072_28c63fb96bcfrow1_col0\" class=\"data row1 col0\" >61</td> \n",
       "        <td id=\"T_ceecfca4_993b_11e9_8072_28c63fb96bcfrow1_col1\" class=\"data row1 col1\" >0</td> \n",
       "        <td id=\"T_ceecfca4_993b_11e9_8072_28c63fb96bcfrow1_col2\" class=\"data row1 col2\" >768</td> \n",
       "        <td id=\"T_ceecfca4_993b_11e9_8072_28c63fb96bcfrow1_col3\" class=\"data row1 col3\" >0</td> \n",
       "        <td id=\"T_ceecfca4_993b_11e9_8072_28c63fb96bcfrow1_col4\" class=\"data row1 col4\" >13</td> \n",
       "        <td id=\"T_ceecfca4_993b_11e9_8072_28c63fb96bcfrow1_col5\" class=\"data row1 col5\" >842</td> \n",
       "    </tr>    <tr> \n",
       "        <th id=\"T_ceecfca4_993b_11e9_8072_28c63fb96bcflevel0_row2\" class=\"row_heading level0 row2\" >All</th> \n",
       "        <td id=\"T_ceecfca4_993b_11e9_8072_28c63fb96bcfrow2_col0\" class=\"data row2 col0\" >61</td> \n",
       "        <td id=\"T_ceecfca4_993b_11e9_8072_28c63fb96bcfrow2_col1\" class=\"data row2 col1\" >265</td> \n",
       "        <td id=\"T_ceecfca4_993b_11e9_8072_28c63fb96bcfrow2_col2\" class=\"data row2 col2\" >769</td> \n",
       "        <td id=\"T_ceecfca4_993b_11e9_8072_28c63fb96bcfrow2_col3\" class=\"data row2 col3\" >200</td> \n",
       "        <td id=\"T_ceecfca4_993b_11e9_8072_28c63fb96bcfrow2_col4\" class=\"data row2 col4\" >13</td> \n",
       "        <td id=\"T_ceecfca4_993b_11e9_8072_28c63fb96bcfrow2_col5\" class=\"data row2 col5\" >1308</td> \n",
       "    </tr></tbody> \n",
       "</table> "
      ],
      "text/plain": [
       "<pandas.io.formats.style.Styler at 0x15e7cfedef0>"
      ]
     },
     "execution_count": 115,
     "metadata": {},
     "output_type": "execute_result"
    }
   ],
   "source": [
    "pd.crosstab(data['Initial'],data['Gender']).transpose().style.background_gradient(cmap=\"summer_r\")"
   ]
  },
  {
   "cell_type": "markdown",
   "metadata": {
    "_cell_guid": "1d7d94e4-240e-4cfc-ba21-d036b3bd7869",
    "_uuid": "f0514c0b00c34f72bd77eb597a4e08a1c9edf982"
   },
   "source": [
    "Okay so there are some misspelled Initials like Mlle or Mme that stand for Miss. I will replace them with Miss and same thing for other values."
   ]
  },
  {
   "cell_type": "markdown",
   "metadata": {},
   "source": [
    "#### Can we get away with changing the Female `'Dr.'` into a `'Mrs.'`?"
   ]
  },
  {
   "cell_type": "code",
   "execution_count": null,
   "metadata": {},
   "outputs": [],
   "source": [
    "data.loc[(data[\"Initial\"] == \"Dr\") & (data[\"Gender\"] == \"female\")]"
   ]
  },
  {
   "cell_type": "markdown",
   "metadata": {},
   "source": [
    "#### Change the female `'Dr'` into a `'Mrs'`"
   ]
  },
  {
   "cell_type": "code",
   "execution_count": null,
   "metadata": {},
   "outputs": [],
   "source": [
    "data.loc[(data[\"Initial\"] == \"Dr\") & (data[\"Gender\"] == \"female\"), \"Initial\"] = \"Mrs\""
   ]
  },
  {
   "cell_type": "markdown",
   "metadata": {},
   "source": [
    "#### `data['Initial']` is WAY too Sparse, let's fix it."
   ]
  },
  {
   "cell_type": "code",
   "execution_count": 13,
   "metadata": {},
   "outputs": [],
   "source": [
    "data['Initial'].replace({'Mlle':'Miss', 'Mme':'Miss', 'Ms':'Miss', 'Dr':'Mr', 'Major':'Mr', 'Lady':'Mrs', \n",
    "                         'Countess':'Mrs','Jonkheer':'Other', 'Col':'Other', 'Rev':'Other', 'Capt':'Mr', \n",
    "                         'Sir':'Mr', 'Don':'Mr', \"Dona\":\"Mrs\"})"
   ]
  },
  {
   "cell_type": "markdown",
   "metadata": {},
   "source": [
    "<br>"
   ]
  },
  {
   "cell_type": "markdown",
   "metadata": {
    "_cell_guid": "57ec5300-f0e3-46ce-a920-6c1846901b6d",
    "_uuid": "d2bbefba6442fcd47e04c90daa43f58fc001e47b"
   },
   "source": [
    "### Filling NaN Ages"
   ]
  },
  {
   "cell_type": "markdown",
   "metadata": {},
   "source": [
    "### Exercise 3: Fill the rest of the `Initial` groups with their avg age. \n",
    "avg_ages holds the series with each inital and its corresponding avg age. You can finish this task manually, or if you want a bigger challenge, there is definitely a programmatic way of completing this task.\n",
    "\n",
    "1. use .loc[] to fill in the avg age for each `Initial`\n",
    "2. (optional) do this task with a for loop."
   ]
  },
  {
   "cell_type": "code",
   "execution_count": 16,
   "metadata": {
    "_cell_guid": "c1d0c1dd-ac10-4360-99e1-dfea7418ad0e",
    "_uuid": "f09f5aefc80a89f0f3af69cd9fdf30afb576f456"
   },
   "outputs": [],
   "source": [
    "avg_ages = data.groupby('Initial')['Age'].mean() #lets check the average age by Initials"
   ]
  },
  {
   "cell_type": "code",
   "execution_count": 23,
   "metadata": {},
   "outputs": [
    {
     "data": {
      "text/plain": [
       "Initial\n",
       "Master     5.482642\n",
       "Miss      21.834533\n",
       "Mr        32.498311\n",
       "Mrs       37.046243\n",
       "Other     44.923077\n",
       "Name: Age, dtype: float64"
      ]
     },
     "execution_count": 23,
     "metadata": {},
     "output_type": "execute_result"
    }
   ],
   "source": [
    "avg_ages"
   ]
  },
  {
   "cell_type": "markdown",
   "metadata": {},
   "source": [
    "**Use this to check your work, you know you're done when the return value is** `0`"
   ]
  },
  {
   "cell_type": "code",
   "execution_count": 22,
   "metadata": {},
   "outputs": [
    {
     "data": {
      "text/plain": [
       "0"
      ]
     },
     "execution_count": 22,
     "metadata": {},
     "output_type": "execute_result"
    }
   ],
   "source": [
    "data['Age'].isnull().sum()"
   ]
  },
  {
   "cell_type": "markdown",
   "metadata": {},
   "source": [
    "#### Your work Here!"
   ]
  },
  {
   "cell_type": "code",
   "execution_count": null,
   "metadata": {
    "_cell_guid": "f006b4b0-a8aa-432c-9bdb-040a435e77f8",
    "_uuid": "8bd3c34f7f539bc3d4720531da6405e2d0e96b46"
   },
   "outputs": [],
   "source": [
    "# Master\n",
    "data.loc[(data.Age.isnull())&(data.Initial=='Master'),'Age'] = 5\n",
    "\n",
    "# Miss.\n",
    "\n",
    "\n",
    "# Mr.\n",
    "\n",
    "\n",
    "# Mrs.\n",
    "\n",
    "\n",
    "# Other\n"
   ]
  },
  {
   "cell_type": "markdown",
   "metadata": {
    "_cell_guid": "f006b4b0-a8aa-432c-9bdb-040a435e77f8",
    "_uuid": "8bd3c34f7f539bc3d4720531da6405e2d0e96b46"
   },
   "source": [
    "#### Optional: Replace all `NaN`s in `Age` column, for the remaining initials with a `loop`"
   ]
  },
  {
   "cell_type": "code",
   "execution_count": null,
   "metadata": {},
   "outputs": [],
   "source": []
  },
  {
   "cell_type": "markdown",
   "metadata": {},
   "source": [
    "<br>\n",
    "<hr>"
   ]
  },
  {
   "cell_type": "markdown",
   "metadata": {
    "_cell_guid": "1966db49-4dd7-4b34-98c1-5387f9c3fb70",
    "_uuid": "5a99134fe7128642103b9b859172b6db85da3514"
   },
   "source": [
    "### Chances for Survival by Age"
   ]
  },
  {
   "cell_type": "code",
   "execution_count": 125,
   "metadata": {
    "_cell_guid": "b2ed1983-50d5-405c-8bad-c61a087758f5",
    "_uuid": "dff9fcc871c21b4949d0082f3609151bb6f3e726"
   },
   "outputs": [
    {
     "data": {
      "image/png": "[encoded data removed]",
      "text/plain": [
       "<Figure size 1440x720 with 2 Axes>"
      ]
     },
     "metadata": {},
     "output_type": "display_data"
    }
   ],
   "source": [
    "# Set up Figure and Axes\n",
    "f, ax = plt.subplots(1, 2, figsize = (20,10))\n",
    "\n",
    "# ax[0]\n",
    "data[data['Survived'] == 0]['Age'].hist(ax = ax[0], bins = 20, edgecolor = 'black', color = 'red')\n",
    "ax[0].set_title('Did NOT Survive')\n",
    "\n",
    "# x1=list(range(0,85,5))\n",
    "# ax[0].set_xticks(x1)\n",
    "# ax[0].set_ylim(0,250)\n",
    "\n",
    "# ax[1]\n",
    "data[data['Survived'] == 1]['Age'].hist(ax = ax[1], bins = 20, edgecolor = 'black', color = 'green')\n",
    "ax[1].set_title('Survived')\n",
    "\n",
    "# x2=list(range(0,85,5))\n",
    "# ax[1].set_xticks(x2)\n",
    "# ax[1].set_ylim(0,250)\n",
    "\n",
    "# Show plot\n",
    "plt.show()"
   ]
  },
  {
   "cell_type": "markdown",
   "metadata": {},
   "source": [
    "## Ponder w/ Neighbor"
   ]
  },
  {
   "cell_type": "markdown",
   "metadata": {},
   "source": [
    "What things do you notice? Write your observations here!"
   ]
  },
  {
   "cell_type": "markdown",
   "metadata": {},
   "source": [
    "### Exercise 4: "
   ]
  },
  {
   "cell_type": "markdown",
   "metadata": {},
   "source": [
    "1. Create a Multi-Column factorplot aka pointplot, with the `sns.catplot()` function.\n",
    "2. `kind`: `'point'`\n",
    "3. `data`: `data`\n",
    "4. `x`: `PClass`\n",
    "5. `y`: `Survived`\n",
    "6. `columns`: `Initial`\n",
    "7. For styles, add .styles.background_gradient(cmap='') to the end of your code.\n",
    "8. Notice anything interesting?"
   ]
  },
  {
   "cell_type": "code",
   "execution_count": 124,
   "metadata": {
    "_cell_guid": "82ec9949-9681-42d0-959d-02fe4ff2675c",
    "_uuid": "e81923d749fef3cfc374b9b2dcbc9f27e8cc1ecc"
   },
   "outputs": [
    {
     "data": {
      "text/plain": [
       "<Figure size 864x216 with 0 Axes>"
      ]
     },
     "metadata": {},
     "output_type": "display_data"
    }
   ],
   "source": [
    "# catplot here!\n",
    "\n",
    "fig = plt.gcf()\n",
    "fig.set_size_inches(12,3)\n",
    "plt.show()"
   ]
  },
  {
   "cell_type": "markdown",
   "metadata": {},
   "source": [
    "<br>\n",
    "<hr>\n",
    "<br>"
   ]
  },
  {
   "cell_type": "markdown",
   "metadata": {
    "_cell_guid": "8be8b82f-8d91-471e-adc0-80dc6d3def0b",
    "_uuid": "a24b323daf19e8fd6cacc83f549523b49a0789e7"
   },
   "source": [
    "## ```data['Embarked]``` --> Categorical Value"
   ]
  },
  {
   "cell_type": "code",
   "execution_count": null,
   "metadata": {
    "_cell_guid": "ec30e8cc-471d-4616-be83-b01bd45d51a7",
    "_uuid": "0d9307f18fcc510c7615e73080f23ba6cb80c3ae"
   },
   "outputs": [],
   "source": [
    "pd.crosstab([data['Embarked'], data['Pclass']], [data['Gender'], data['Survived']], margins = True).style.background_gradient(cmap='summer_r')"
   ]
  },
  {
   "cell_type": "markdown",
   "metadata": {
    "_cell_guid": "1966db49-4dd7-4b34-98c1-5387f9c3fb70",
    "_uuid": "5a99134fe7128642103b9b859172b6db85da3514"
   },
   "source": [
    "### Chances for Survival by Port Of Embarkation"
   ]
  },
  {
   "cell_type": "code",
   "execution_count": 127,
   "metadata": {
    "_cell_guid": "4193b498-a67c-49f1-b6ec-71c4bf0300a1",
    "_uuid": "8dce8ddd858624321e8a69f2e9a5a30ade19aa12"
   },
   "outputs": [
    {
     "data": {
      "image/png": "[encoded data removed]",
      "text/plain": [
       "<Figure size 360x216 with 1 Axes>"
      ]
     },
     "metadata": {},
     "output_type": "display_data"
    }
   ],
   "source": [
    "sns.catplot('Embarked', 'Survived', data = data, kind='point')\n",
    "fig = plt.gcf()\n",
    "fig.set_size_inches(5,3)\n",
    "plt.show()"
   ]
  },
  {
   "cell_type": "markdown",
   "metadata": {
    "_cell_guid": "d678b40e-ea1a-4340-9c98-562a8550860d",
    "_uuid": "dc3ba850739bf7c24af92b37976d17ac05a668f4"
   },
   "source": [
    "The chances for survival for Port C is highest around 0.55 while it is lowest for S."
   ]
  },
  {
   "cell_type": "code",
   "execution_count": 83,
   "metadata": {
    "_cell_guid": "51ff68c3-ffa2-4ac7-95ee-04ecb7d9da64",
    "_uuid": "dfcab3effc1ebf8653e3a4b61149b44fc146fdfb"
   },
   "outputs": [
    {
     "data": {
      "image/png": "[encoded data removed]",
      "text/plain": [
       "<Figure size 1440x1080 with 4 Axes>"
      ]
     },
     "metadata": {
      "needs_background": "light"
     },
     "output_type": "display_data"
    }
   ],
   "source": [
    "# set up four axes\n",
    "f,ax = plt.subplots(2, 2, figsize=(20,15))\n",
    "\n",
    "# ax[0,0]\n",
    "sns.countplot('Embarked',data=data,ax=ax[0,0])\n",
    "ax[0,0].set_title('No. Of Passengers Boarded')\n",
    "\n",
    "# ax[0,1]\n",
    "sns.countplot('Embarked',hue='Gender',data=data,ax=ax[0,1])\n",
    "ax[0,1].set_title('Male-Female Split for Embarked')\n",
    "\n",
    "# ax[1,0]\n",
    "sns.countplot('Embarked',hue='Survived',data=data,ax=ax[1,0])\n",
    "ax[1,0].set_title('Embarked vs Survived')\n",
    "\n",
    "# ax[1,1]\n",
    "sns.countplot('Embarked',hue='Pclass',data=data,ax=ax[1,1])\n",
    "ax[1,1].set_title('Embarked vs Pclass')\n",
    "\n",
    "\n",
    "plt.subplots_adjust(wspace=0.2,hspace=0.5)\n",
    "plt.show()"
   ]
  },
  {
   "cell_type": "markdown",
   "metadata": {},
   "source": [
    "## Ponder w/ Neighbor"
   ]
  },
  {
   "cell_type": "markdown",
   "metadata": {},
   "source": [
    "What things do you notice? Write your observations here!"
   ]
  },
  {
   "cell_type": "markdown",
   "metadata": {},
   "source": [
    "Thoughts?"
   ]
  },
  {
   "cell_type": "markdown",
   "metadata": {},
   "source": [
    "<br>"
   ]
  },
  {
   "cell_type": "markdown",
   "metadata": {},
   "source": [
    "### Exercise 5: "
   ]
  },
  {
   "cell_type": "markdown",
   "metadata": {},
   "source": [
    "1. Create a multi-column pointplot with the `kind`=`'point'` parameter in `pd.catplot()`\n",
    "2. Compares `Pclass` to `Survived` in the x vs y axes \n",
    "3. Define the columns aka `col` with the `Embarked` variable.\n",
    "4. Lastly, Add a `hue` to differentiate by `Gender`"
   ]
  },
  {
   "cell_type": "code",
   "execution_count": null,
   "metadata": {},
   "outputs": [],
   "source": []
  },
  {
   "cell_type": "markdown",
   "metadata": {},
   "source": [
    "## Ponder w/ Neighbor"
   ]
  },
  {
   "cell_type": "markdown",
   "metadata": {},
   "source": [
    "What things do you notice? Write your observations here!"
   ]
  },
  {
   "cell_type": "markdown",
   "metadata": {},
   "source": [
    "<br>"
   ]
  },
  {
   "cell_type": "markdown",
   "metadata": {
    "_cell_guid": "9d2984b4-c9a7-44bf-ada3-78afc83bcd26",
    "_uuid": "c124234128b669e41546daab16bfb85d14b5dc03",
    "collapsed": true
   },
   "source": [
    "### Embarked: Filling NaN values\n",
    "\n",
    "As we saw that maximum passengers boarded from Port S, we replace NaN with S."
   ]
  },
  {
   "cell_type": "code",
   "execution_count": null,
   "metadata": {},
   "outputs": [],
   "source": [
    "data.isnull().sum()"
   ]
  },
  {
   "cell_type": "code",
   "execution_count": null,
   "metadata": {
    "_cell_guid": "62309104-404b-4f79-a50b-1f1747fde9f5",
    "_uuid": "c77ed7f842ec862326ca6b9986e21a0a7d69acff"
   },
   "outputs": [],
   "source": [
    "data['Embarked'] = data['Embarked'].fillna('S')"
   ]
  },
  {
   "cell_type": "code",
   "execution_count": null,
   "metadata": {
    "_cell_guid": "56d6a590-9ab2-4be6-8a90-f0bb9e908cae",
    "_uuid": "16f31e0c60dc64d638d9505b2eaa855fb20205cc"
   },
   "outputs": [],
   "source": [
    "data['Embarked'].isnull().any()# Finally No NaN values"
   ]
  },
  {
   "cell_type": "markdown",
   "metadata": {},
   "source": [
    "<br>"
   ]
  },
  {
   "cell_type": "markdown",
   "metadata": {
    "_cell_guid": "05194e42-445e-41a5-9124-e4ec29d1ac2a",
    "_uuid": "838c230d6e4027c9f87b702ffd5805284c74ca4d",
    "collapsed": true
   },
   "source": [
    "## ```data['SibSp']``` --> Discrete Feature\n",
    "**This feature represents whether a person is alone or with his family members.**\n",
    "\n",
    "**Sibling** = brother, sister, stepbrother, stepsister\n",
    "\n",
    "**Spouse** = husband, wife "
   ]
  },
  {
   "cell_type": "code",
   "execution_count": 134,
   "metadata": {
    "_cell_guid": "ae7b6019-3162-400f-9746-8d8239049751",
    "_uuid": "56069ce478b75673fab78145fb6a6741cad28d76"
   },
   "outputs": [
    {
     "data": {
      "text/html": [
       "<style  type=\"text/css\" >\n",
       "    #T_865bef28_993f_11e9_9281_28c63fb96bcfrow0_col0 {\n",
       "            background-color:  #4ca666;\n",
       "        }    #T_865bef28_993f_11e9_9281_28c63fb96bcfrow0_col1 {\n",
       "            background-color:  #62b066;\n",
       "        }    #T_865bef28_993f_11e9_9281_28c63fb96bcfrow0_col2 {\n",
       "            background-color:  #52a866;\n",
       "        }    #T_865bef28_993f_11e9_9281_28c63fb96bcfrow1_col0 {\n",
       "            background-color:  #cae466;\n",
       "        }    #T_865bef28_993f_11e9_9281_28c63fb96bcfrow1_col1 {\n",
       "            background-color:  #acd666;\n",
       "        }    #T_865bef28_993f_11e9_9281_28c63fb96bcfrow1_col2 {\n",
       "            background-color:  #c2e066;\n",
       "        }    #T_865bef28_993f_11e9_9281_28c63fb96bcfrow2_col0 {\n",
       "            background-color:  #f9fc66;\n",
       "        }    #T_865bef28_993f_11e9_9281_28c63fb96bcfrow2_col1 {\n",
       "            background-color:  #f6fa66;\n",
       "        }    #T_865bef28_993f_11e9_9281_28c63fb96bcfrow2_col2 {\n",
       "            background-color:  #f8fc66;\n",
       "        }    #T_865bef28_993f_11e9_9281_28c63fb96bcfrow3_col0 {\n",
       "            background-color:  #fdfe66;\n",
       "        }    #T_865bef28_993f_11e9_9281_28c63fb96bcfrow3_col1 {\n",
       "            background-color:  #fdfe66;\n",
       "        }    #T_865bef28_993f_11e9_9281_28c63fb96bcfrow3_col2 {\n",
       "            background-color:  #fdfe66;\n",
       "        }    #T_865bef28_993f_11e9_9281_28c63fb96bcfrow4_col0 {\n",
       "            background-color:  #fcfe66;\n",
       "        }    #T_865bef28_993f_11e9_9281_28c63fb96bcfrow4_col1 {\n",
       "            background-color:  #fdfe66;\n",
       "        }    #T_865bef28_993f_11e9_9281_28c63fb96bcfrow4_col2 {\n",
       "            background-color:  #fcfe66;\n",
       "        }    #T_865bef28_993f_11e9_9281_28c63fb96bcfrow5_col0 {\n",
       "            background-color:  #ffff66;\n",
       "        }    #T_865bef28_993f_11e9_9281_28c63fb96bcfrow5_col1 {\n",
       "            background-color:  #ffff66;\n",
       "        }    #T_865bef28_993f_11e9_9281_28c63fb96bcfrow5_col2 {\n",
       "            background-color:  #ffff66;\n",
       "        }    #T_865bef28_993f_11e9_9281_28c63fb96bcfrow6_col0 {\n",
       "            background-color:  #ffff66;\n",
       "        }    #T_865bef28_993f_11e9_9281_28c63fb96bcfrow6_col1 {\n",
       "            background-color:  #ffff66;\n",
       "        }    #T_865bef28_993f_11e9_9281_28c63fb96bcfrow6_col2 {\n",
       "            background-color:  #ffff66;\n",
       "        }    #T_865bef28_993f_11e9_9281_28c63fb96bcfrow7_col0 {\n",
       "            background-color:  #008066;\n",
       "        }    #T_865bef28_993f_11e9_9281_28c63fb96bcfrow7_col1 {\n",
       "            background-color:  #008066;\n",
       "        }    #T_865bef28_993f_11e9_9281_28c63fb96bcfrow7_col2 {\n",
       "            background-color:  #008066;\n",
       "        }</style>  \n",
       "<table id=\"T_865bef28_993f_11e9_9281_28c63fb96bcf\" > \n",
       "<thead>    <tr> \n",
       "        <th class=\"index_name level0\" >Survived</th> \n",
       "        <th class=\"col_heading level0 col0\" >0</th> \n",
       "        <th class=\"col_heading level0 col1\" >1</th> \n",
       "        <th class=\"col_heading level0 col2\" >All</th> \n",
       "    </tr>    <tr> \n",
       "        <th class=\"index_name level0\" >SibSp</th> \n",
       "        <th class=\"blank\" ></th> \n",
       "        <th class=\"blank\" ></th> \n",
       "        <th class=\"blank\" ></th> \n",
       "    </tr></thead> \n",
       "<tbody>    <tr> \n",
       "        <th id=\"T_865bef28_993f_11e9_9281_28c63fb96bcflevel0_row0\" class=\"row_heading level0 row0\" >0</th> \n",
       "        <td id=\"T_865bef28_993f_11e9_9281_28c63fb96bcfrow0_col0\" class=\"data row0 col0\" >0.519878</td> \n",
       "        <td id=\"T_865bef28_993f_11e9_9281_28c63fb96bcfrow0_col1\" class=\"data row0 col1\" >0.16055</td> \n",
       "        <td id=\"T_865bef28_993f_11e9_9281_28c63fb96bcfrow0_col2\" class=\"data row0 col2\" >0.680428</td> \n",
       "    </tr>    <tr> \n",
       "        <th id=\"T_865bef28_993f_11e9_9281_28c63fb96bcflevel0_row1\" class=\"row_heading level0 row1\" >1</th> \n",
       "        <td id=\"T_865bef28_993f_11e9_9281_28c63fb96bcfrow1_col0\" class=\"data row1 col0\" >0.158257</td> \n",
       "        <td id=\"T_865bef28_993f_11e9_9281_28c63fb96bcfrow1_col1\" class=\"data row1 col1\" >0.0856269</td> \n",
       "        <td id=\"T_865bef28_993f_11e9_9281_28c63fb96bcfrow1_col2\" class=\"data row1 col2\" >0.243884</td> \n",
       "    </tr>    <tr> \n",
       "        <th id=\"T_865bef28_993f_11e9_9281_28c63fb96bcflevel0_row2\" class=\"row_heading level0 row2\" >2</th> \n",
       "        <td id=\"T_865bef28_993f_11e9_9281_28c63fb96bcfrow2_col0\" class=\"data row2 col0\" >0.0221713</td> \n",
       "        <td id=\"T_865bef28_993f_11e9_9281_28c63fb96bcfrow2_col1\" class=\"data row2 col1\" >0.00993884</td> \n",
       "        <td id=\"T_865bef28_993f_11e9_9281_28c63fb96bcfrow2_col2\" class=\"data row2 col2\" >0.0321101</td> \n",
       "    </tr>    <tr> \n",
       "        <th id=\"T_865bef28_993f_11e9_9281_28c63fb96bcflevel0_row3\" class=\"row_heading level0 row3\" >3</th> \n",
       "        <td id=\"T_865bef28_993f_11e9_9281_28c63fb96bcfrow3_col0\" class=\"data row3 col0\" >0.0122324</td> \n",
       "        <td id=\"T_865bef28_993f_11e9_9281_28c63fb96bcfrow3_col1\" class=\"data row3 col1\" >0.0030581</td> \n",
       "        <td id=\"T_865bef28_993f_11e9_9281_28c63fb96bcfrow3_col2\" class=\"data row3 col2\" >0.0152905</td> \n",
       "    </tr>    <tr> \n",
       "        <th id=\"T_865bef28_993f_11e9_9281_28c63fb96bcflevel0_row4\" class=\"row_heading level0 row4\" >4</th> \n",
       "        <td id=\"T_865bef28_993f_11e9_9281_28c63fb96bcfrow4_col0\" class=\"data row4 col0\" >0.014526</td> \n",
       "        <td id=\"T_865bef28_993f_11e9_9281_28c63fb96bcfrow4_col1\" class=\"data row4 col1\" >0.00229358</td> \n",
       "        <td id=\"T_865bef28_993f_11e9_9281_28c63fb96bcfrow4_col2\" class=\"data row4 col2\" >0.0168196</td> \n",
       "    </tr>    <tr> \n",
       "        <th id=\"T_865bef28_993f_11e9_9281_28c63fb96bcflevel0_row5\" class=\"row_heading level0 row5\" >5</th> \n",
       "        <td id=\"T_865bef28_993f_11e9_9281_28c63fb96bcfrow5_col0\" class=\"data row5 col0\" >0.00458716</td> \n",
       "        <td id=\"T_865bef28_993f_11e9_9281_28c63fb96bcfrow5_col1\" class=\"data row5 col1\" >0</td> \n",
       "        <td id=\"T_865bef28_993f_11e9_9281_28c63fb96bcfrow5_col2\" class=\"data row5 col2\" >0.00458716</td> \n",
       "    </tr>    <tr> \n",
       "        <th id=\"T_865bef28_993f_11e9_9281_28c63fb96bcflevel0_row6\" class=\"row_heading level0 row6\" >8</th> \n",
       "        <td id=\"T_865bef28_993f_11e9_9281_28c63fb96bcfrow6_col0\" class=\"data row6 col0\" >0.00688073</td> \n",
       "        <td id=\"T_865bef28_993f_11e9_9281_28c63fb96bcfrow6_col1\" class=\"data row6 col1\" >0</td> \n",
       "        <td id=\"T_865bef28_993f_11e9_9281_28c63fb96bcfrow6_col2\" class=\"data row6 col2\" >0.00688073</td> \n",
       "    </tr>    <tr> \n",
       "        <th id=\"T_865bef28_993f_11e9_9281_28c63fb96bcflevel0_row7\" class=\"row_heading level0 row7\" >All</th> \n",
       "        <td id=\"T_865bef28_993f_11e9_9281_28c63fb96bcfrow7_col0\" class=\"data row7 col0\" >0.738532</td> \n",
       "        <td id=\"T_865bef28_993f_11e9_9281_28c63fb96bcfrow7_col1\" class=\"data row7 col1\" >0.261468</td> \n",
       "        <td id=\"T_865bef28_993f_11e9_9281_28c63fb96bcfrow7_col2\" class=\"data row7 col2\" >1</td> \n",
       "    </tr></tbody> \n",
       "</table> "
      ],
      "text/plain": [
       "<pandas.io.formats.style.Styler at 0x15e7c9300f0>"
      ]
     },
     "execution_count": 134,
     "metadata": {},
     "output_type": "execute_result"
    }
   ],
   "source": [
    "pd.crosstab(data['SibSp'], data['Survived'], margins=True, normalize=True).style.background_gradient(cmap='summer_r')"
   ]
  },
  {
   "cell_type": "code",
   "execution_count": 86,
   "metadata": {
    "_cell_guid": "e464b8ab-e642-4666-a701-059c1bd3b77b",
    "_uuid": "565dcbd1acdb973ccfacb41d1d509ee3c59cd126"
   },
   "outputs": [
    {
     "data": {
      "image/png": "[encoded data removed]",
      "text/plain": [
       "<Figure size 1440x576 with 2 Axes>"
      ]
     },
     "metadata": {
      "needs_background": "light"
     },
     "output_type": "display_data"
    }
   ],
   "source": [
    "# set up 2 axes\n",
    "f , ax = plt.subplots(1, 2 , figsize = (20,8))\n",
    "\n",
    "# ax[0]\n",
    "sns.barplot('SibSp', 'Survived', data = data, ax = ax[0])\n",
    "ax[0].set_title('SibSp vs Survived')\n",
    "\n",
    "# ax[1]\n",
    "sns.catplot(x='SibSp', y='Survived', kind='point', data = data, ax = ax[1])\n",
    "ax[1].set_title('SibSp vs Survived')\n",
    "\n",
    "plt.close(2)\n",
    "plt.show()"
   ]
  },
  {
   "cell_type": "code",
   "execution_count": 135,
   "metadata": {
    "_cell_guid": "c0ce45f8-0b08-4631-ade7-b3ddd3978414",
    "_uuid": "fcdc00224417620a8805e0e5d0b6e83c81119981"
   },
   "outputs": [
    {
     "data": {
      "text/html": [
       "<style  type=\"text/css\" >\n",
       "    #T_88d34718_993f_11e9_b333_28c63fb96bcfrow0_col0 {\n",
       "            background-color:  #008066;\n",
       "        }    #T_88d34718_993f_11e9_b333_28c63fb96bcfrow0_col1 {\n",
       "            background-color:  #008066;\n",
       "        }    #T_88d34718_993f_11e9_b333_28c63fb96bcfrow0_col2 {\n",
       "            background-color:  #008066;\n",
       "        }    #T_88d34718_993f_11e9_b333_28c63fb96bcfrow1_col0 {\n",
       "            background-color:  #6db666;\n",
       "        }    #T_88d34718_993f_11e9_b333_28c63fb96bcfrow1_col1 {\n",
       "            background-color:  #8cc666;\n",
       "        }    #T_88d34718_993f_11e9_b333_28c63fb96bcfrow1_col2 {\n",
       "            background-color:  #c4e266;\n",
       "        }    #T_88d34718_993f_11e9_b333_28c63fb96bcfrow2_col0 {\n",
       "            background-color:  #f5fa66;\n",
       "        }    #T_88d34718_993f_11e9_b333_28c63fb96bcfrow2_col1 {\n",
       "            background-color:  #eff766;\n",
       "        }    #T_88d34718_993f_11e9_b333_28c63fb96bcfrow2_col2 {\n",
       "            background-color:  #f7fb66;\n",
       "        }    #T_88d34718_993f_11e9_b333_28c63fb96bcfrow3_col0 {\n",
       "            background-color:  #fafc66;\n",
       "        }    #T_88d34718_993f_11e9_b333_28c63fb96bcfrow3_col1 {\n",
       "            background-color:  #fefe66;\n",
       "        }    #T_88d34718_993f_11e9_b333_28c63fb96bcfrow3_col2 {\n",
       "            background-color:  #fbfd66;\n",
       "        }    #T_88d34718_993f_11e9_b333_28c63fb96bcfrow4_col0 {\n",
       "            background-color:  #ffff66;\n",
       "        }    #T_88d34718_993f_11e9_b333_28c63fb96bcfrow4_col1 {\n",
       "            background-color:  #ffff66;\n",
       "        }    #T_88d34718_993f_11e9_b333_28c63fb96bcfrow4_col2 {\n",
       "            background-color:  #f7fb66;\n",
       "        }    #T_88d34718_993f_11e9_b333_28c63fb96bcfrow5_col0 {\n",
       "            background-color:  #ffff66;\n",
       "        }    #T_88d34718_993f_11e9_b333_28c63fb96bcfrow5_col1 {\n",
       "            background-color:  #ffff66;\n",
       "        }    #T_88d34718_993f_11e9_b333_28c63fb96bcfrow5_col2 {\n",
       "            background-color:  #ffff66;\n",
       "        }    #T_88d34718_993f_11e9_b333_28c63fb96bcfrow6_col0 {\n",
       "            background-color:  #ffff66;\n",
       "        }    #T_88d34718_993f_11e9_b333_28c63fb96bcfrow6_col1 {\n",
       "            background-color:  #ffff66;\n",
       "        }    #T_88d34718_993f_11e9_b333_28c63fb96bcfrow6_col2 {\n",
       "            background-color:  #fefe66;\n",
       "        }</style>  \n",
       "<table id=\"T_88d34718_993f_11e9_b333_28c63fb96bcf\" > \n",
       "<thead>    <tr> \n",
       "        <th class=\"index_name level0\" >Pclass</th> \n",
       "        <th class=\"col_heading level0 col0\" >1</th> \n",
       "        <th class=\"col_heading level0 col1\" >2</th> \n",
       "        <th class=\"col_heading level0 col2\" >3</th> \n",
       "    </tr>    <tr> \n",
       "        <th class=\"index_name level0\" >SibSp</th> \n",
       "        <th class=\"blank\" ></th> \n",
       "        <th class=\"blank\" ></th> \n",
       "        <th class=\"blank\" ></th> \n",
       "    </tr></thead> \n",
       "<tbody>    <tr> \n",
       "        <th id=\"T_88d34718_993f_11e9_b333_28c63fb96bcflevel0_row0\" class=\"row_heading level0 row0\" >0</th> \n",
       "        <td id=\"T_88d34718_993f_11e9_b333_28c63fb96bcfrow0_col0\" class=\"data row0 col0\" >198</td> \n",
       "        <td id=\"T_88d34718_993f_11e9_b333_28c63fb96bcfrow0_col1\" class=\"data row0 col1\" >182</td> \n",
       "        <td id=\"T_88d34718_993f_11e9_b333_28c63fb96bcfrow0_col2\" class=\"data row0 col2\" >510</td> \n",
       "    </tr>    <tr> \n",
       "        <th id=\"T_88d34718_993f_11e9_b333_28c63fb96bcflevel0_row1\" class=\"row_heading level0 row1\" >1</th> \n",
       "        <td id=\"T_88d34718_993f_11e9_b333_28c63fb96bcfrow1_col0\" class=\"data row1 col0\" >113</td> \n",
       "        <td id=\"T_88d34718_993f_11e9_b333_28c63fb96bcfrow1_col1\" class=\"data row1 col1\" >82</td> \n",
       "        <td id=\"T_88d34718_993f_11e9_b333_28c63fb96bcfrow1_col2\" class=\"data row1 col2\" >124</td> \n",
       "    </tr>    <tr> \n",
       "        <th id=\"T_88d34718_993f_11e9_b333_28c63fb96bcflevel0_row2\" class=\"row_heading level0 row2\" >2</th> \n",
       "        <td id=\"T_88d34718_993f_11e9_b333_28c63fb96bcfrow2_col0\" class=\"data row2 col0\" >8</td> \n",
       "        <td id=\"T_88d34718_993f_11e9_b333_28c63fb96bcfrow2_col1\" class=\"data row2 col1\" >12</td> \n",
       "        <td id=\"T_88d34718_993f_11e9_b333_28c63fb96bcfrow2_col2\" class=\"data row2 col2\" >22</td> \n",
       "    </tr>    <tr> \n",
       "        <th id=\"T_88d34718_993f_11e9_b333_28c63fb96bcflevel0_row3\" class=\"row_heading level0 row3\" >3</th> \n",
       "        <td id=\"T_88d34718_993f_11e9_b333_28c63fb96bcfrow3_col0\" class=\"data row3 col0\" >4</td> \n",
       "        <td id=\"T_88d34718_993f_11e9_b333_28c63fb96bcfrow3_col1\" class=\"data row3 col1\" >1</td> \n",
       "        <td id=\"T_88d34718_993f_11e9_b333_28c63fb96bcfrow3_col2\" class=\"data row3 col2\" >15</td> \n",
       "    </tr>    <tr> \n",
       "        <th id=\"T_88d34718_993f_11e9_b333_28c63fb96bcflevel0_row4\" class=\"row_heading level0 row4\" >4</th> \n",
       "        <td id=\"T_88d34718_993f_11e9_b333_28c63fb96bcfrow4_col0\" class=\"data row4 col0\" >0</td> \n",
       "        <td id=\"T_88d34718_993f_11e9_b333_28c63fb96bcfrow4_col1\" class=\"data row4 col1\" >0</td> \n",
       "        <td id=\"T_88d34718_993f_11e9_b333_28c63fb96bcfrow4_col2\" class=\"data row4 col2\" >22</td> \n",
       "    </tr>    <tr> \n",
       "        <th id=\"T_88d34718_993f_11e9_b333_28c63fb96bcflevel0_row5\" class=\"row_heading level0 row5\" >5</th> \n",
       "        <td id=\"T_88d34718_993f_11e9_b333_28c63fb96bcfrow5_col0\" class=\"data row5 col0\" >0</td> \n",
       "        <td id=\"T_88d34718_993f_11e9_b333_28c63fb96bcfrow5_col1\" class=\"data row5 col1\" >0</td> \n",
       "        <td id=\"T_88d34718_993f_11e9_b333_28c63fb96bcfrow5_col2\" class=\"data row5 col2\" >6</td> \n",
       "    </tr>    <tr> \n",
       "        <th id=\"T_88d34718_993f_11e9_b333_28c63fb96bcflevel0_row6\" class=\"row_heading level0 row6\" >8</th> \n",
       "        <td id=\"T_88d34718_993f_11e9_b333_28c63fb96bcfrow6_col0\" class=\"data row6 col0\" >0</td> \n",
       "        <td id=\"T_88d34718_993f_11e9_b333_28c63fb96bcfrow6_col1\" class=\"data row6 col1\" >0</td> \n",
       "        <td id=\"T_88d34718_993f_11e9_b333_28c63fb96bcfrow6_col2\" class=\"data row6 col2\" >9</td> \n",
       "    </tr></tbody> \n",
       "</table> "
      ],
      "text/plain": [
       "<pandas.io.formats.style.Styler at 0x15e7ce8ea20>"
      ]
     },
     "execution_count": 135,
     "metadata": {},
     "output_type": "execute_result"
    }
   ],
   "source": [
    "pd.crosstab(data['SibSp'],data['Pclass']).style.background_gradient(cmap='summer_r')"
   ]
  },
  {
   "cell_type": "markdown",
   "metadata": {},
   "source": [
    "## Ponder w/ Neighbor"
   ]
  },
  {
   "cell_type": "markdown",
   "metadata": {},
   "source": [
    "What things do you notice? Write your observations here!"
   ]
  },
  {
   "cell_type": "markdown",
   "metadata": {},
   "source": [
    "<br>"
   ]
  },
  {
   "cell_type": "markdown",
   "metadata": {
    "_cell_guid": "4abd6f2c-0b9e-48a8-ba09-97ef75b3499a",
    "_uuid": "5f4af4fa5a1708815b12e4e0c330a6762647f44b",
    "collapsed": true
   },
   "source": [
    "## ```data['Parch']``` --> Discrete Feature"
   ]
  },
  {
   "cell_type": "code",
   "execution_count": 136,
   "metadata": {
    "_cell_guid": "84e405d3-cd3d-4a00-840d-f3e51bbfd45f",
    "_uuid": "f426753939cc958e1c358e3cf165c5915a0fcc2d"
   },
   "outputs": [
    {
     "data": {
      "text/html": [
       "<style  type=\"text/css\" >\n",
       "    #T_9dac53a8_993f_11e9_88f0_28c63fb96bcfrow0_col0 {\n",
       "            background-color:  #008066;\n",
       "        }    #T_9dac53a8_993f_11e9_88f0_28c63fb96bcfrow0_col1 {\n",
       "            background-color:  #008066;\n",
       "        }    #T_9dac53a8_993f_11e9_88f0_28c63fb96bcfrow0_col2 {\n",
       "            background-color:  #008066;\n",
       "        }    #T_9dac53a8_993f_11e9_88f0_28c63fb96bcfrow1_col0 {\n",
       "            background-color:  #cbe566;\n",
       "        }    #T_9dac53a8_993f_11e9_88f0_28c63fb96bcfrow1_col1 {\n",
       "            background-color:  #cae466;\n",
       "        }    #T_9dac53a8_993f_11e9_88f0_28c63fb96bcfrow1_col2 {\n",
       "            background-color:  #ddee66;\n",
       "        }    #T_9dac53a8_993f_11e9_88f0_28c63fb96bcfrow2_col0 {\n",
       "            background-color:  #e3f166;\n",
       "        }    #T_9dac53a8_993f_11e9_88f0_28c63fb96bcfrow2_col1 {\n",
       "            background-color:  #e0f066;\n",
       "        }    #T_9dac53a8_993f_11e9_88f0_28c63fb96bcfrow2_col2 {\n",
       "            background-color:  #e4f266;\n",
       "        }    #T_9dac53a8_993f_11e9_88f0_28c63fb96bcfrow3_col0 {\n",
       "            background-color:  #fdfe66;\n",
       "        }    #T_9dac53a8_993f_11e9_88f0_28c63fb96bcfrow3_col1 {\n",
       "            background-color:  #fcfe66;\n",
       "        }    #T_9dac53a8_993f_11e9_88f0_28c63fb96bcfrow3_col2 {\n",
       "            background-color:  #ffff66;\n",
       "        }    #T_9dac53a8_993f_11e9_88f0_28c63fb96bcfrow4_col0 {\n",
       "            background-color:  #fdfe66;\n",
       "        }    #T_9dac53a8_993f_11e9_88f0_28c63fb96bcfrow4_col1 {\n",
       "            background-color:  #ffff66;\n",
       "        }    #T_9dac53a8_993f_11e9_88f0_28c63fb96bcfrow4_col2 {\n",
       "            background-color:  #ffff66;\n",
       "        }    #T_9dac53a8_993f_11e9_88f0_28c63fb96bcfrow5_col0 {\n",
       "            background-color:  #ffff66;\n",
       "        }    #T_9dac53a8_993f_11e9_88f0_28c63fb96bcfrow5_col1 {\n",
       "            background-color:  #ffff66;\n",
       "        }    #T_9dac53a8_993f_11e9_88f0_28c63fb96bcfrow5_col2 {\n",
       "            background-color:  #fefe66;\n",
       "        }    #T_9dac53a8_993f_11e9_88f0_28c63fb96bcfrow6_col0 {\n",
       "            background-color:  #ffff66;\n",
       "        }    #T_9dac53a8_993f_11e9_88f0_28c63fb96bcfrow6_col1 {\n",
       "            background-color:  #ffff66;\n",
       "        }    #T_9dac53a8_993f_11e9_88f0_28c63fb96bcfrow6_col2 {\n",
       "            background-color:  #ffff66;\n",
       "        }    #T_9dac53a8_993f_11e9_88f0_28c63fb96bcfrow7_col0 {\n",
       "            background-color:  #ffff66;\n",
       "        }    #T_9dac53a8_993f_11e9_88f0_28c63fb96bcfrow7_col1 {\n",
       "            background-color:  #ffff66;\n",
       "        }    #T_9dac53a8_993f_11e9_88f0_28c63fb96bcfrow7_col2 {\n",
       "            background-color:  #ffff66;\n",
       "        }</style>  \n",
       "<table id=\"T_9dac53a8_993f_11e9_88f0_28c63fb96bcf\" > \n",
       "<thead>    <tr> \n",
       "        <th class=\"index_name level0\" >Pclass</th> \n",
       "        <th class=\"col_heading level0 col0\" >1</th> \n",
       "        <th class=\"col_heading level0 col1\" >2</th> \n",
       "        <th class=\"col_heading level0 col2\" >3</th> \n",
       "    </tr>    <tr> \n",
       "        <th class=\"index_name level0\" >Parch</th> \n",
       "        <th class=\"blank\" ></th> \n",
       "        <th class=\"blank\" ></th> \n",
       "        <th class=\"blank\" ></th> \n",
       "    </tr></thead> \n",
       "<tbody>    <tr> \n",
       "        <th id=\"T_9dac53a8_993f_11e9_88f0_28c63fb96bcflevel0_row0\" class=\"row_heading level0 row0\" >0</th> \n",
       "        <td id=\"T_9dac53a8_993f_11e9_88f0_28c63fb96bcfrow0_col0\" class=\"data row0 col0\" >242</td> \n",
       "        <td id=\"T_9dac53a8_993f_11e9_88f0_28c63fb96bcfrow0_col1\" class=\"data row0 col1\" >206</td> \n",
       "        <td id=\"T_9dac53a8_993f_11e9_88f0_28c63fb96bcfrow0_col2\" class=\"data row0 col2\" >553</td> \n",
       "    </tr>    <tr> \n",
       "        <th id=\"T_9dac53a8_993f_11e9_88f0_28c63fb96bcflevel0_row1\" class=\"row_heading level0 row1\" >1</th> \n",
       "        <td id=\"T_9dac53a8_993f_11e9_88f0_28c63fb96bcfrow1_col0\" class=\"data row1 col0\" >50</td> \n",
       "        <td id=\"T_9dac53a8_993f_11e9_88f0_28c63fb96bcfrow1_col1\" class=\"data row1 col1\" >43</td> \n",
       "        <td id=\"T_9dac53a8_993f_11e9_88f0_28c63fb96bcfrow1_col2\" class=\"data row1 col2\" >77</td> \n",
       "    </tr>    <tr> \n",
       "        <th id=\"T_9dac53a8_993f_11e9_88f0_28c63fb96bcflevel0_row2\" class=\"row_heading level0 row2\" >2</th> \n",
       "        <td id=\"T_9dac53a8_993f_11e9_88f0_28c63fb96bcfrow2_col0\" class=\"data row2 col0\" >27</td> \n",
       "        <td id=\"T_9dac53a8_993f_11e9_88f0_28c63fb96bcfrow2_col1\" class=\"data row2 col1\" >25</td> \n",
       "        <td id=\"T_9dac53a8_993f_11e9_88f0_28c63fb96bcfrow2_col2\" class=\"data row2 col2\" >61</td> \n",
       "    </tr>    <tr> \n",
       "        <th id=\"T_9dac53a8_993f_11e9_88f0_28c63fb96bcflevel0_row3\" class=\"row_heading level0 row3\" >3</th> \n",
       "        <td id=\"T_9dac53a8_993f_11e9_88f0_28c63fb96bcfrow3_col0\" class=\"data row3 col0\" >2</td> \n",
       "        <td id=\"T_9dac53a8_993f_11e9_88f0_28c63fb96bcfrow3_col1\" class=\"data row3 col1\" >3</td> \n",
       "        <td id=\"T_9dac53a8_993f_11e9_88f0_28c63fb96bcfrow3_col2\" class=\"data row3 col2\" >3</td> \n",
       "    </tr>    <tr> \n",
       "        <th id=\"T_9dac53a8_993f_11e9_88f0_28c63fb96bcflevel0_row4\" class=\"row_heading level0 row4\" >4</th> \n",
       "        <td id=\"T_9dac53a8_993f_11e9_88f0_28c63fb96bcfrow4_col0\" class=\"data row4 col0\" >2</td> \n",
       "        <td id=\"T_9dac53a8_993f_11e9_88f0_28c63fb96bcfrow4_col1\" class=\"data row4 col1\" >0</td> \n",
       "        <td id=\"T_9dac53a8_993f_11e9_88f0_28c63fb96bcfrow4_col2\" class=\"data row4 col2\" >4</td> \n",
       "    </tr>    <tr> \n",
       "        <th id=\"T_9dac53a8_993f_11e9_88f0_28c63fb96bcflevel0_row5\" class=\"row_heading level0 row5\" >5</th> \n",
       "        <td id=\"T_9dac53a8_993f_11e9_88f0_28c63fb96bcfrow5_col0\" class=\"data row5 col0\" >0</td> \n",
       "        <td id=\"T_9dac53a8_993f_11e9_88f0_28c63fb96bcfrow5_col1\" class=\"data row5 col1\" >0</td> \n",
       "        <td id=\"T_9dac53a8_993f_11e9_88f0_28c63fb96bcfrow5_col2\" class=\"data row5 col2\" >6</td> \n",
       "    </tr>    <tr> \n",
       "        <th id=\"T_9dac53a8_993f_11e9_88f0_28c63fb96bcflevel0_row6\" class=\"row_heading level0 row6\" >6</th> \n",
       "        <td id=\"T_9dac53a8_993f_11e9_88f0_28c63fb96bcfrow6_col0\" class=\"data row6 col0\" >0</td> \n",
       "        <td id=\"T_9dac53a8_993f_11e9_88f0_28c63fb96bcfrow6_col1\" class=\"data row6 col1\" >0</td> \n",
       "        <td id=\"T_9dac53a8_993f_11e9_88f0_28c63fb96bcfrow6_col2\" class=\"data row6 col2\" >2</td> \n",
       "    </tr>    <tr> \n",
       "        <th id=\"T_9dac53a8_993f_11e9_88f0_28c63fb96bcflevel0_row7\" class=\"row_heading level0 row7\" >9</th> \n",
       "        <td id=\"T_9dac53a8_993f_11e9_88f0_28c63fb96bcfrow7_col0\" class=\"data row7 col0\" >0</td> \n",
       "        <td id=\"T_9dac53a8_993f_11e9_88f0_28c63fb96bcfrow7_col1\" class=\"data row7 col1\" >0</td> \n",
       "        <td id=\"T_9dac53a8_993f_11e9_88f0_28c63fb96bcfrow7_col2\" class=\"data row7 col2\" >2</td> \n",
       "    </tr></tbody> \n",
       "</table> "
      ],
      "text/plain": [
       "<pandas.io.formats.style.Styler at 0x15e02e834a8>"
      ]
     },
     "execution_count": 136,
     "metadata": {},
     "output_type": "execute_result"
    }
   ],
   "source": [
    "pd.crosstab(data['Parch'],data['Pclass']).style.background_gradient(cmap='summer_r')"
   ]
  },
  {
   "cell_type": "markdown",
   "metadata": {
    "_cell_guid": "d07b3740-3af3-442a-b640-54926597c999",
    "_uuid": "ecc5aebc2c638b3a6bbde9338b588d3d803c1af2"
   },
   "source": [
    "The crosstab again shows that larger families were in Pclass3."
   ]
  },
  {
   "cell_type": "code",
   "execution_count": 90,
   "metadata": {
    "_cell_guid": "fb77d798-a7dc-4483-8ce9-9cf8349934f1",
    "_uuid": "13b42065a19f14e2ce10dcf597377ea59c9bfc2d"
   },
   "outputs": [
    {
     "data": {
      "image/png": "[encoded data removed]",
      "text/plain": [
       "<Figure size 1440x576 with 2 Axes>"
      ]
     },
     "metadata": {
      "needs_background": "light"
     },
     "output_type": "display_data"
    }
   ],
   "source": [
    "f,ax=plt.subplots(1,2,figsize=(20,8))\n",
    "\n",
    "sns.barplot('Parch','Survived',data=data,ax=ax[0])\n",
    "ax[0].set_title('Parch vs Survived')\n",
    "\n",
    "sns.catplot('Parch','Survived',kind='point', data=data,ax=ax[1])\n",
    "ax[1].set_title('Parch vs Survived')\n",
    "\n",
    "plt.close(2)\n",
    "plt.show()"
   ]
  },
  {
   "cell_type": "markdown",
   "metadata": {},
   "source": [
    "## Ponder w/ Neighbor"
   ]
  },
  {
   "cell_type": "markdown",
   "metadata": {},
   "source": [
    "What things do you notice? Write your observations here!"
   ]
  },
  {
   "cell_type": "markdown",
   "metadata": {},
   "source": [
    "<br>"
   ]
  },
  {
   "cell_type": "markdown",
   "metadata": {
    "_cell_guid": "ce242dd4-c537-40f9-8223-76740512e966",
    "_uuid": "d873672610a96daa00522c850bd1b96013f92856"
   },
   "source": [
    "## ```data['Fare']``` --> Continous Feature"
   ]
  },
  {
   "cell_type": "code",
   "execution_count": 91,
   "metadata": {
    "_cell_guid": "db19b152-af6d-41f7-a545-fe41e4be18a8",
    "_uuid": "fbd3e42723ae1447bc2f1b91204ffa609b4d07c5"
   },
   "outputs": [
    {
     "name": "stdout",
     "output_type": "stream",
     "text": [
      "Highest Fare was: 512.3292\n",
      "Lowest Fare was: 0.0\n",
      "Average Fare was: 33.2954792813456\n"
     ]
    }
   ],
   "source": [
    "print('Highest Fare was:',data['Fare'].max())\n",
    "print('Lowest Fare was:',data['Fare'].min())\n",
    "print('Average Fare was:',data['Fare'].mean())"
   ]
  },
  {
   "cell_type": "markdown",
   "metadata": {
    "_cell_guid": "5ab99107-6bd5-47be-b512-120eab64e7ef",
    "_uuid": "9cce63092c5f0f6864e45e43197a9b9af78a6bd7"
   },
   "source": [
    "The lowest fare is **0.0**. Wow!! a free luxorious ride. "
   ]
  },
  {
   "cell_type": "code",
   "execution_count": 104,
   "metadata": {
    "_cell_guid": "e9c4559e-913c-4a2d-9e96-6385e7ed6a06",
    "_uuid": "cea989cb8581e2d563009339e8194b81c531afde",
    "scrolled": true
   },
   "outputs": [
    {
     "data": {
      "image/png": "[encoded data removed]",
      "text/plain": [
       "<Figure size 1080x1080 with 4 Axes>"
      ]
     },
     "metadata": {},
     "output_type": "display_data"
    }
   ],
   "source": [
    "# Set 4 axes\n",
    "f,ax=plt.subplots(2,2,figsize=(15,15))\n",
    "\n",
    "# ax[0,0]\n",
    "sns.distplot(data[data['Pclass']==1]['Fare'],ax=ax[0][0])\n",
    "ax[0][0].set_title('Fares in Pclass 1')\n",
    "# ax[0][0].set_xlim(-50,500)\n",
    "\n",
    "# ax[0,1]\n",
    "sns.distplot(data[data['Pclass']==2]['Fare'],ax=ax[0][1])\n",
    "ax[0][1].set_title('Fares in Pclass 2')\n",
    "# ax[0][1].set_xlim(-50,500)\n",
    "\n",
    "# ax[1,0]\n",
    "sns.distplot(data[data['Pclass']==3]['Fare'], ax=ax[1][0])\n",
    "ax[1][0].set_title('Fares in Pclass 3')\n",
    "# ax[1][0].set_xlim(-50,500)\n",
    "\n",
    "plt.show()"
   ]
  },
  {
   "cell_type": "markdown",
   "metadata": {},
   "source": [
    "<br>"
   ]
  },
  {
   "cell_type": "markdown",
   "metadata": {
    "_cell_guid": "de570fa8-3b6c-48b9-908c-6bdb9978bda1",
    "_uuid": "3918cdff2761844f861290010cac76797c2499eb",
    "collapsed": true
   },
   "source": [
    "## Final Observations for each Feature:\n",
    "**Gender:** \n",
    "Females have higher chance of survival\n",
    "Gender is a good measure, but should be in tandem with PClass\n",
    "\n",
    "**Pclass:** \n",
    "Pclass 1 and 2 were strong indicators of survival, mostly for Female\n",
    "Not quite as pronouncd for males but still a good indicator.\n",
    "\n",
    "**Age:** \n",
    "A lot of 30-35 yr olds survived but a larger amount also persished\n",
    "15-20 had a higher rate\n",
    "0-10 had a good survival rate\n",
    "\n",
    "**Embarked:** \n",
    "Lower chance of survival in port S, ecause most are from pclass 3.\n",
    "Same for survival in port Q, because most are from pclass 3 .\n",
    "\n",
    "\n",
    "**Parch+SibSp:** Groups of 2 had largest survival, groups smaller or larger suffered."
   ]
  },
  {
   "cell_type": "markdown",
   "metadata": {},
   "source": [
    "<br>"
   ]
  },
  {
   "cell_type": "markdown",
   "metadata": {
    "_cell_guid": "410e5ca6-2aa4-42a9-9875-d5aeb87d831f",
    "_uuid": "3b7ef048f72c226d996c6ad955b2b171d1780b93"
   },
   "source": [
    "## Correlation Between The Features"
   ]
  },
  {
   "cell_type": "code",
   "execution_count": 102,
   "metadata": {
    "_cell_guid": "88547a8f-28bb-469e-b3b8-5e5fbc4a1e30",
    "_uuid": "afa990766959d5cafd155c0c10c8c2d5afab2919",
    "scrolled": false
   },
   "outputs": [
    {
     "data": {
      "image/png": "[encoded data removed]",
      "text/plain": [
       "<Figure size 432x288 with 2 Axes>"
      ]
     },
     "metadata": {},
     "output_type": "display_data"
    }
   ],
   "source": [
    "sns.set_style(\"whitegrid\")\n",
    "\n",
    "correlations = data.corr()\n",
    "correlations = correlations * 100\n",
    "\n",
    "bool_mask = np.zeros_like(correlations, dtype=np.bool)\n",
    "bool_mask[np.triu_indices_from(bool_mask)] = True\n",
    "\n",
    "sns.heatmap(correlations, annot=True, fmt='.0f', cmap = 'RdYlGn', mask=bool_mask)\n",
    "plt.show()"
   ]
  },
  {
   "cell_type": "markdown",
   "metadata": {},
   "source": [
    "## Ponder w/ Neighbor"
   ]
  },
  {
   "cell_type": "markdown",
   "metadata": {},
   "source": [
    "What things do you notice? Write your observations here!"
   ]
  },
  {
   "cell_type": "markdown",
   "metadata": {},
   "source": [
    "<br>"
   ]
  },
  {
   "cell_type": "markdown",
   "metadata": {},
   "source": [
    "## Save your cleaned dataset!"
   ]
  },
  {
   "cell_type": "code",
   "execution_count": 103,
   "metadata": {},
   "outputs": [
    {
     "data": {
      "text/plain": [
       "PassengerId       0\n",
       "Survived          0\n",
       "Pclass            0\n",
       "Name              0\n",
       "Gender            0\n",
       "Age               0\n",
       "SibSp             0\n",
       "Parch             0\n",
       "Ticket            0\n",
       "Fare              0\n",
       "Cabin          1013\n",
       "Embarked          2\n",
       "Initial           0\n",
       "dtype: int64"
      ]
     },
     "execution_count": 103,
     "metadata": {},
     "output_type": "execute_result"
    }
   ],
   "source": [
    "data.isnull().sum()"
   ]
  },
  {
   "cell_type": "code",
   "execution_count": null,
   "metadata": {},
   "outputs": [],
   "source": [
    "data.to_csv(\"../data/clean/titanic_cleaned.csv\", index=None)"
   ]
  }
 ],
 "metadata": {
  "kernelspec": {
   "display_name": "Python 3",
   "language": "python",
   "name": "python3"
  },
  "language_info": {
   "codemirror_mode": {
    "name": "ipython",
    "version": 3
   },
   "file_extension": ".py",
   "mimetype": "text/x-python",
   "name": "python",
   "nbconvert_exporter": "python",
   "pygments_lexer": "ipython3",
   "version": "3.7.3"
  }
 },
 "nbformat": 4,
 "nbformat_minor": 2
}
