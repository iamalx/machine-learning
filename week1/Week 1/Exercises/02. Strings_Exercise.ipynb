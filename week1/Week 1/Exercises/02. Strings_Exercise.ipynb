version https://git-lfs.github.com/spec/v1
oid sha256:91de616ea1bfd263e6750d0353a02d0d28858a0f4069fdb46261d774c637f832
size 4172
