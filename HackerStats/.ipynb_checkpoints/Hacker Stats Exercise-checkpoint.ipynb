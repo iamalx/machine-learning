{
 "cells": [
  {
   "cell_type": "markdown",
   "metadata": {},
   "source": [
    "### Ex1. Game Logic - Taking a Step\n",
    "<hr>\n",
    "\n",
    "**Recreate the following logic:**\n",
    "\n",
    "Feel free to use as many `print()` statements as you like to accomplish this task. In my solution, I print the `initial step` and the `next step`.\n",
    "<br>\n",
    "<br>\n",
    "\n",
    "**1) Start at step `5`: `step = 5`**\n",
    "\n",
    "**2) Roll `dice`**\n",
    "\n",
    "**3) If `dice` is `1` or `2`**\n",
    "> Move **DOWN one** step. \n",
    "\n",
    "> `step - 1`\n",
    "\n",
    "**4) If `dice` is `3`, `4`, or `5`**\n",
    "> Move **UP one** step. \n",
    "\n",
    "> `step + 1`\n",
    "\n",
    "**5) If `dice` is `6`**\n",
    "> Roll `dice` again; `new_roll`\n",
    "\n",
    "> Move **UP** as many steps as `new_roll`.\n",
    "\n",
    ">`step + new_roll`\n",
    "\n",
    "6) **Bonus:**\n",
    "> Add some code that prevents `step` from turning into a negative value\n",
    "\n",
    "7) **SUPER BONUS!!!!:** (╯°□°）╯︵ ┻━┻\n",
    "> Add some code to implement \"clumsiness\", there is a 0.1% chance of tripping on the next step, and tumbling to the very bottom of the Empire State Building\n",
    ">> aka `step = 0`"
   ]
  },
  {
   "cell_type": "code",
   "execution_count": 2,
   "metadata": {},
   "outputs": [],
   "source": [
    "# Your Solution Here!"
   ]
  },
  {
   "cell_type": "markdown",
   "metadata": {},
   "source": [
    "<hr>\n",
    "<br>\n",
    "<br>"
   ]
  },
  {
   "cell_type": "markdown",
   "metadata": {},
   "source": [
    "### Ex2. Increasing Complexity - Random Walk\n",
    "<hr>\n",
    "\n",
    "Recap: In the last exercise We were able to initialize an initial step, perform dice logic, and calculate the next step.\n",
    "\n",
    "We want to create a python list that starts off with the inital step, and each subsequent step is calculated by performing dice logic on the previous step...\n",
    "\n",
    "**1) Create a list with a single value inside, aka your `inital_step`**\n",
    "> This must happen OUTSIDE of the for loop\n",
    "\n",
    "> random_walk = `[0]`, `[1]`, or wherever you want to start.\n",
    "\n",
    "**2) Create a `for loop:`**\n",
    "> Each iteration must grab the `latest step`\n",
    ">> hint: the `next_step` from the previous iteration\n",
    "\n",
    "> Roll a new dice and calculate the `next step`\n",
    "\n",
    "> Append that `next_step` to the end of `random_walk` \n",
    "\n",
    "**3) Lastly, `print()` the random_walk and see if it makes sense...**"
   ]
  },
  {
   "cell_type": "code",
   "execution_count": 3,
   "metadata": {},
   "outputs": [],
   "source": [
    "# Your solution here!"
   ]
  }
 ],
 "metadata": {
  "kernelspec": {
   "display_name": "Python 3",
   "language": "python",
   "name": "python3"
  },
  "language_info": {
   "codemirror_mode": {
    "name": "ipython",
    "version": 3
   },
   "file_extension": ".py",
   "mimetype": "text/x-python",
   "name": "python",
   "nbconvert_exporter": "python",
   "pygments_lexer": "ipython3",
   "version": "3.7.3"
  }
 },
 "nbformat": 4,
 "nbformat_minor": 2
}
