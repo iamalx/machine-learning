{
 "cells": [
  {
   "cell_type": "code",
   "execution_count": 4,
   "metadata": {},
   "outputs": [],
   "source": [
    "import numpy as np\n",
    "import matplotlib.pyplot as plt\n",
    "import seaborn as sns; sns.set()"
   ]
  },
  {
   "cell_type": "markdown",
   "metadata": {},
   "source": [
    "### Setting a Random Seed"
   ]
  },
  {
   "cell_type": "code",
   "execution_count": 25,
   "metadata": {},
   "outputs": [],
   "source": [
    "np.random.seed(22)"
   ]
  },
  {
   "cell_type": "code",
   "execution_count": 26,
   "metadata": {},
   "outputs": [
    {
     "data": {
      "text/plain": [
       "5"
      ]
     },
     "execution_count": 26,
     "metadata": {},
     "output_type": "execute_result"
    }
   ],
   "source": [
    "np.random.randint(1,100)"
   ]
  },
  {
   "cell_type": "markdown",
   "metadata": {},
   "source": [
    "<br>"
   ]
  },
  {
   "cell_type": "markdown",
   "metadata": {},
   "source": [
    "### Roll a Single Dice\n",
    "<hr>\n",
    "\n",
    "This call to the np.random.randint() function, will result in one of the following random integers:\n",
    "`1`, `2`, `3`, `4`, `5` or `6`"
   ]
  },
  {
   "cell_type": "code",
   "execution_count": 36,
   "metadata": {},
   "outputs": [
    {
     "name": "stdout",
     "output_type": "stream",
     "text": [
      "5\n"
     ]
    }
   ],
   "source": [
    "dice = np.random.randint(1,7)\n",
    "print(dice)"
   ]
  },
  {
   "cell_type": "markdown",
   "metadata": {},
   "source": [
    "<br>"
   ]
  },
  {
   "cell_type": "markdown",
   "metadata": {},
   "source": [
    "### Roll `n` Dice\n",
    "<hr>\n",
    "\n",
    "This `for loop` will execute as many dice rolls as we like.\n",
    "\n",
    "ex) if we want `10` dice rolls —set `n = 10`\n",
    "\n",
    "ex) if we want `50` dice rolls —set `n = 50` \n",
    "\n",
    "The goal is to eventually combine *this* loop with some sort of game logic, to recreate the dice game.\n",
    "\n",
    "The game logic will use the result of each roll to move our player **UP** or **DOWN**"
   ]
  },
  {
   "cell_type": "code",
   "execution_count": 43,
   "metadata": {},
   "outputs": [
    {
     "name": "stdout",
     "output_type": "stream",
     "text": [
      "2\n",
      "step 6\n",
      "4\n",
      "step 5\n",
      "3\n",
      "step 4\n",
      "2\n",
      "step 5\n",
      "5\n",
      "step 4\n",
      "1\n",
      "step 5\n",
      "6\n",
      "step 4\n",
      "4\n",
      "step 3\n",
      "6\n",
      "step 2\n",
      "2\n",
      "step 3\n"
     ]
    }
   ],
   "source": [
    "n = 10\n",
    "step = 5\n",
    "for roll in range(n):\n",
    "    dice = np.random.randint(1,7)\n",
    "    print(dice)\n",
    "    \n",
    "    if dice < 3: \n",
    "        step = step +1 \n",
    "    else: \n",
    "        step = step -1 \n",
    "    print(\"step\", step)\n",
    "    "
   ]
  },
  {
   "cell_type": "markdown",
   "metadata": {},
   "source": [
    "<br>"
   ]
  },
  {
   "cell_type": "markdown",
   "metadata": {},
   "source": [
    "<h2 style=\"color:red\"><center>---Exercise 1---</center></h2>"
   ]
  },
  {
   "cell_type": "markdown",
   "metadata": {},
   "source": [
    "<hr>\n",
    "<br>\n",
    "<br>"
   ]
  },
  {
   "cell_type": "markdown",
   "metadata": {},
   "source": [
    "### Ex1. Game Logic - Taking a Step (Solution)"
   ]
  },
  {
   "cell_type": "code",
   "execution_count": 46,
   "metadata": {},
   "outputs": [
    {
     "name": "stdout",
     "output_type": "stream",
     "text": [
      "Initial Step: 5\n",
      "\n",
      "After Dice Roll: 7\n"
     ]
    }
   ],
   "source": [
    "# Set inital Step\n",
    "step = 5 \n",
    "\n",
    "# Roll a Single Dice \n",
    "dice = np.random.randint(1,7)\n",
    "print(\"Initial Step:\", step)\n",
    "print()\n",
    "\n",
    "\n",
    "# Game Logic\n",
    "if dice <= 2:\n",
    "    step = step - 1\n",
    "    \n",
    "elif dice <= 5:\n",
    "    step = step + 1 \n",
    "    \n",
    "else:\n",
    "    new_roll = np.random.randint(1,7)\n",
    "    step = step + new_roll\n",
    "    \n",
    "\n",
    "print(\"After Dice Roll:\", step)"
   ]
  },
  {
   "cell_type": "markdown",
   "metadata": {},
   "source": [
    "<hr>\n",
    "<br>\n",
    "<br>"
   ]
  },
  {
   "cell_type": "markdown",
   "metadata": {},
   "source": [
    "### A simple random walk"
   ]
  },
  {
   "cell_type": "code",
   "execution_count": 47,
   "metadata": {},
   "outputs": [
    {
     "name": "stdout",
     "output_type": "stream",
     "text": [
      "[0, -1, 0, -1, 0, -1, -2, -1, -2, -3, -2]\n"
     ]
    }
   ],
   "source": [
    "tiles = [0]\n",
    "\n",
    "for flip in range(10):\n",
    "    # grab most recent tile position\n",
    "    tile = tiles[-1]\n",
    "    \n",
    "    # flip coin\n",
    "    coin = np.random.randint(2)\n",
    "    \n",
    "    \n",
    "    # game logic\n",
    "    if coin == 0:\n",
    "        next_tile = tile + 1\n",
    "        \n",
    "    else:\n",
    "        next_tile = tile - 1\n",
    "    \n",
    "    \n",
    "    # add to random_walk\n",
    "    tiles.append(next_tile)\n",
    "    \n",
    "# Print results\n",
    "print(tiles)"
   ]
  },
  {
   "cell_type": "markdown",
   "metadata": {},
   "source": [
    "<h2 style=\"color:red\"><center>---Exercise 2---</center></h2>"
   ]
  },
  {
   "cell_type": "markdown",
   "metadata": {},
   "source": [
    "<hr>\n",
    "<br>\n",
    "<br>"
   ]
  },
  {
   "cell_type": "markdown",
   "metadata": {},
   "source": [
    "### Ex2. Increasing Complexity - Random Walk (Solution)"
   ]
  },
  {
   "cell_type": "markdown",
   "metadata": {},
   "source": [
    "Now, we want to be able to capture each next step, so we have a history of each step that was landed on.\n",
    "A python list would be the perfect tool here because of the `append` method."
   ]
  },
  {
   "cell_type": "code",
   "execution_count": 154,
   "metadata": {},
   "outputs": [
    {
     "name": "stdout",
     "output_type": "stream",
     "text": [
      "[0, 0, 0, 0, 1, 0, 1, 2, 3, 2, 3]\n"
     ]
    }
   ],
   "source": [
    "# initiate random walk at step 0\n",
    "random_walk = [0]\n",
    "\n",
    "for roll in range(10):\n",
    "#     Grab most recent step and roll a new die\n",
    "    prev_step = random_walk[-1]\n",
    "    dice = np.random.randint(1,7)\n",
    "    \n",
    "#     game logic to decide next step\n",
    "    if dice <= 2:\n",
    "        next_step = max(0, prev_step - 1)\n",
    "        \n",
    "    elif dice <= 5:\n",
    "        next_step = prev_step + 1\n",
    "        \n",
    "    else:\n",
    "        next_step = prev_step + np.random.randint(1,7)\n",
    "        \n",
    "#     Append each new step to random_walk    \n",
    "    random_walk.append(next_step)\n",
    "    \n",
    "print(random_walk)"
   ]
  },
  {
   "cell_type": "markdown",
   "metadata": {},
   "source": [
    "<hr>\n",
    "<br>\n",
    "<br>"
   ]
  },
  {
   "cell_type": "markdown",
   "metadata": {},
   "source": [
    "## Simulate Game Using Functions"
   ]
  },
  {
   "cell_type": "markdown",
   "metadata": {},
   "source": [
    "<br>"
   ]
  },
  {
   "cell_type": "markdown",
   "metadata": {},
   "source": [
    "### `dice_roll()`\n",
    "\n",
    ">**Input:** None\n",
    "\n",
    ">**Output:** `dice`; Random Integer in range: [1,2,3,4,5,6]"
   ]
  },
  {
   "cell_type": "code",
   "execution_count": 187,
   "metadata": {},
   "outputs": [],
   "source": [
    "def dice_roll():\n",
    "    return np.random.randint(1,7)"
   ]
  },
  {
   "cell_type": "markdown",
   "metadata": {},
   "source": [
    "<br>\n",
    "<br>"
   ]
  },
  {
   "cell_type": "markdown",
   "metadata": {},
   "source": [
    "### `dice_game()`\n",
    "\n",
    "This function takes in a current `step`, performs the dice game logic, and outputs a `next_step`\n",
    "\n",
    "> **Input:** `step` - Integer\n",
    "\n",
    "> **Output:** `next_step` - Integer"
   ]
  },
  {
   "cell_type": "code",
   "execution_count": 216,
   "metadata": {},
   "outputs": [],
   "source": [
    "def dice_game(step):\n",
    "    dice = dice_roll()\n",
    "    \n",
    "    if dice <= 2:\n",
    "        next_step = max(0, step - 1)\n",
    "    elif dice <= 5:\n",
    "        next_step = step + 1 \n",
    "    else:\n",
    "        next_step = step + dice_roll()\n",
    "        \n",
    "#     if np.random.rand() <= 0.001:\n",
    "#         next_step = 0\n",
    "        \n",
    "    return next_step"
   ]
  },
  {
   "cell_type": "markdown",
   "metadata": {},
   "source": [
    "<br>\n",
    "<br>"
   ]
  },
  {
   "cell_type": "markdown",
   "metadata": {},
   "source": [
    "### `random_walk()`\n",
    "\n",
    ">**Input:** None\n",
    "\n",
    ">**Output:** A Single `random_walk`"
   ]
  },
  {
   "cell_type": "code",
   "execution_count": 203,
   "metadata": {},
   "outputs": [],
   "source": [
    "def random_walk():\n",
    "    random_walk = [0]\n",
    "    \n",
    "    for roll in range(100):\n",
    "        step = random_walk[-1]\n",
    "        next_step = dice_game(step)\n",
    "        random_walk.append(next_step)\n",
    "    return random_walk"
   ]
  },
  {
   "cell_type": "markdown",
   "metadata": {},
   "source": [
    "<br>\n",
    "<br>"
   ]
  },
  {
   "cell_type": "markdown",
   "metadata": {},
   "source": [
    "### `simulate_games()`\n",
    "\n",
    ">**Input:** `num_sims` - Integer\n",
    "\n",
    ">**Output:** `all_walks` - Numpy Array of `random_walks`\n",
    ">> `num_sims` will decide how many `random_walks` will be contained inside of `all_walks`"
   ]
  },
  {
   "cell_type": "code",
   "execution_count": 204,
   "metadata": {},
   "outputs": [],
   "source": [
    "def simulate_games(num_sims):\n",
    "    all_walks = []\n",
    "    for sim in range(num_sims):\n",
    "        rand_walk = random_walk()\n",
    "        all_walks.append(rand_walk)\n",
    "        np_walks = np.array(all_walks)\n",
    "    return np.transpose(np_walks)"
   ]
  },
  {
   "cell_type": "markdown",
   "metadata": {},
   "source": [
    "<br>"
   ]
  },
  {
   "cell_type": "markdown",
   "metadata": {},
   "source": [
    "### `plot_distribution()`\n",
    "\n",
    ">**Input:** `all_walks` - numpy array of all `random_walks`\n",
    "\n",
    ">**Output:** Histogram of all `final_steps`"
   ]
  },
  {
   "cell_type": "code",
   "execution_count": 205,
   "metadata": {},
   "outputs": [],
   "source": [
    "def plot_distribution(dist):\n",
    "    plt.hist(all_walks[-1])\n",
    "    plt.title('Dice Game Outcomes')\n",
    "    plt.xlabel('Game Outcome')\n",
    "    plt.ylabel('# Games')\n",
    "    plt.show()"
   ]
  },
  {
   "cell_type": "markdown",
   "metadata": {},
   "source": [
    "### `plot_all_walks()`\n",
    "\n",
    ">**Input:** `all_walks` - numpy array of all `random_walks`\n",
    "\n",
    ">**Output:** plots every single `random_walk`"
   ]
  },
  {
   "cell_type": "code",
   "execution_count": 213,
   "metadata": {},
   "outputs": [],
   "source": [
    "def plot_all_walks(all_walks):\n",
    "    plt.figure()\n",
    "    ax = plt.gca()\n",
    "    ax.set_xlabel(\"Dice Roll (Time)\")\n",
    "    ax.set_ylabel(\"Steps Taken (Random Walk)\")\n",
    "    ax.plot(all_walks)\n",
    "    plt.show()"
   ]
  },
  {
   "cell_type": "markdown",
   "metadata": {},
   "source": [
    "<hr>\n",
    "<br>\n",
    "<br>"
   ]
  },
  {
   "cell_type": "markdown",
   "metadata": {},
   "source": [
    "### Run Simulations and Plot Results"
   ]
  },
  {
   "cell_type": "code",
   "execution_count": 221,
   "metadata": {},
   "outputs": [
    {
     "data": {
      "image/png": "[encoded data removed]",
      "text/plain": [
       "<Figure size 432x288 with 1 Axes>"
      ]
     },
     "metadata": {},
     "output_type": "display_data"
    },
    {
     "data": {
      "image/png": "[encoded data removed]",
      "text/plain": [
       "<Figure size 432x288 with 1 Axes>"
      ]
     },
     "metadata": {},
     "output_type": "display_data"
    }
   ],
   "source": [
    "all_walks = simulate_games(1)\n",
    "plot_distribution(all_walks)\n",
    "plot_all_walks(all_walks)"
   ]
  }
 ],
 "metadata": {
  "kernelspec": {
   "display_name": "Python 3",
   "language": "python",
   "name": "python3"
  },
  "language_info": {
   "codemirror_mode": {
    "name": "ipython",
    "version": 3
   },
   "file_extension": ".py",
   "mimetype": "text/x-python",
   "name": "python",
   "nbconvert_exporter": "python",
   "pygments_lexer": "ipython3",
   "version": "3.7.3"
  }
 },
 "nbformat": 4,
 "nbformat_minor": 2
}
