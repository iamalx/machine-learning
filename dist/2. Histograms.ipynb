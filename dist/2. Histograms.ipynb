{
 "cells": [
  {
   "cell_type": "markdown",
   "metadata": {},
   "source": [
    "# Histograms"
   ]
  },
  {
   "cell_type": "code",
   "execution_count": 1,
   "metadata": {},
   "outputs": [],
   "source": [
    "import numpy as np\n",
    "import pandas as pd\n",
    "import matplotlib.pyplot as plt\n",
    "import seaborn as sns ; sns.set()"
   ]
  },
  {
   "cell_type": "markdown",
   "metadata": {},
   "source": [
    "<hr>\n",
    "<br>\n",
    "<br>"
   ]
  },
  {
   "cell_type": "markdown",
   "metadata": {},
   "source": [
    "## How has the NBA changed since 1950?"
   ]
  },
  {
   "cell_type": "markdown",
   "metadata": {},
   "source": [
    "#### Load Seasons Data"
   ]
  },
  {
   "cell_type": "code",
   "execution_count": 2,
   "metadata": {},
   "outputs": [],
   "source": [
    "nba = pd.read_csv(\"../data/nba_1950/season_stats.csv\")"
   ]
  },
  {
   "cell_type": "markdown",
   "metadata": {},
   "source": [
    "#### But first, Quick Exploration of the dataset."
   ]
  },
  {
   "cell_type": "markdown",
   "metadata": {},
   "source": [
    "[Data Dictionary](https://www.basketball-reference.com/about/glossary.html)"
   ]
  },
  {
   "cell_type": "code",
   "execution_count": null,
   "metadata": {},
   "outputs": [],
   "source": [
    "nba.info()"
   ]
  },
  {
   "cell_type": "markdown",
   "metadata": {},
   "source": [
    "#### Lets look at a few of the rows."
   ]
  },
  {
   "cell_type": "code",
   "execution_count": null,
   "metadata": {},
   "outputs": [],
   "source": [
    "nba.head(10)"
   ]
  },
  {
   "cell_type": "markdown",
   "metadata": {},
   "source": [
    "#### What are some things that you notice right off the bat?"
   ]
  },
  {
   "cell_type": "code",
   "execution_count": null,
   "metadata": {},
   "outputs": [],
   "source": [
    "nba.tail(10)"
   ]
  },
  {
   "cell_type": "markdown",
   "metadata": {},
   "source": [
    "<br>"
   ]
  },
  {
   "cell_type": "markdown",
   "metadata": {},
   "source": [
    "### Shooting Percentage"
   ]
  },
  {
   "cell_type": "markdown",
   "metadata": {},
   "source": [
    "#### Use pandas `.value_counts()` to look at the distribution of `TS%`."
   ]
  },
  {
   "cell_type": "code",
   "execution_count": null,
   "metadata": {},
   "outputs": [],
   "source": [
    "shoot_percentage = nba['TS%'].value_counts()\n",
    "shoot_percentage.head()"
   ]
  },
  {
   "cell_type": "markdown",
   "metadata": {},
   "source": [
    "#### Use pandas `.hist()` method to visualize distribution of `TS%`"
   ]
  },
  {
   "cell_type": "code",
   "execution_count": null,
   "metadata": {},
   "outputs": [],
   "source": [
    "nba['TS%'].hist(bins=20)\n",
    "\n",
    "# Make it pretty\n",
    "ax = plt.gca()\n",
    "ax.set_title(\"True Shooting % Across all NBA Seasons\")\n",
    "ax.set_xlabel(\"True Shooting Percentage\")\n",
    "ax.set_ylabel(\"# of Players\")\n",
    "\n",
    "# \"print\" the plot\n",
    "plt.show()"
   ]
  },
  {
   "cell_type": "markdown",
   "metadata": {},
   "source": [
    "<br>"
   ]
  },
  {
   "cell_type": "markdown",
   "metadata": {},
   "source": [
    "### Prep work for Answering Question. "
   ]
  },
  {
   "cell_type": "code",
   "execution_count": 8,
   "metadata": {},
   "outputs": [
    {
     "name": "stdout",
     "output_type": "stream",
     "text": [
      "1950.0\n",
      "2017.0\n"
     ]
    }
   ],
   "source": [
    "first_year = nba['Year'].min()\n",
    "last_year = nba['Year'].max()\n",
    "print(first_year)\n",
    "print(last_year)"
   ]
  },
  {
   "cell_type": "code",
   "execution_count": 9,
   "metadata": {},
   "outputs": [],
   "source": [
    "nba_1950 = nba[nba['Year'] == first_year]\n",
    "nba_2017 = nba[nba['Year'] == last_year]"
   ]
  },
  {
   "cell_type": "markdown",
   "metadata": {},
   "source": [
    "<br>"
   ]
  },
  {
   "cell_type": "markdown",
   "metadata": {},
   "source": [
    "### Shooting Percentage in 1950"
   ]
  },
  {
   "cell_type": "code",
   "execution_count": null,
   "metadata": {},
   "outputs": [],
   "source": [
    "nba_1950['TS%'].hist(bins=20)\n",
    "\n",
    "# Make it pretty\n",
    "ax = plt.gca()\n",
    "ax.set_title(\"True Shooting in 1950\")\n",
    "ax.set_xlabel(\"True Shooting Percentage\")\n",
    "ax.set_ylabel(\"# of Players\")\n",
    "\n",
    "# \"print\" the plot\n",
    "plt.show()"
   ]
  },
  {
   "cell_type": "markdown",
   "metadata": {},
   "source": [
    "<br>"
   ]
  },
  {
   "cell_type": "markdown",
   "metadata": {},
   "source": [
    "### Shooting Percentage in 2017"
   ]
  },
  {
   "cell_type": "code",
   "execution_count": null,
   "metadata": {},
   "outputs": [],
   "source": [
    "nba_2017['TS%'].hist(bins=20)\n",
    "\n",
    "# Make it pretty\n",
    "ax = plt.gca()\n",
    "ax.set_title(\"True Shooting % in 2017\")\n",
    "ax.set_xlabel(\"True Shooting Percentage\")\n",
    "ax.set_ylabel(\"# of Players\")\n",
    "\n",
    "# \"print\" the plot\n",
    "plt.show()"
   ]
  },
  {
   "cell_type": "markdown",
   "metadata": {},
   "source": [
    "<br>"
   ]
  },
  {
   "cell_type": "markdown",
   "metadata": {},
   "source": [
    "#### Using only the data from the Histograms for both years... What has happened to the True Shooting Percentage between 1950 and 2017?"
   ]
  },
  {
   "cell_type": "code",
   "execution_count": null,
   "metadata": {},
   "outputs": [],
   "source": [
    "#short answer"
   ]
  },
  {
   "cell_type": "markdown",
   "metadata": {},
   "source": [
    "<hr>\n",
    "<br>\n",
    "<br>"
   ]
  },
  {
   "cell_type": "markdown",
   "metadata": {},
   "source": [
    "## Does The College that a player attended affect performance in NBA?"
   ]
  },
  {
   "cell_type": "markdown",
   "metadata": {},
   "source": [
    "#### Load Player Data"
   ]
  },
  {
   "cell_type": "code",
   "execution_count": 3,
   "metadata": {},
   "outputs": [],
   "source": [
    "players = pd.read_csv('../data/nba_1950/player_data.csv')"
   ]
  },
  {
   "cell_type": "code",
   "execution_count": 4,
   "metadata": {},
   "outputs": [],
   "source": [
    "top_5_colleges = ['University of Kentucky',\n",
    "                  'Duke Univeristy',\n",
    "                  'University of Kansas',\n",
    "                  'Syracuse University',\n",
    "                  'University of California, Los Angeles']"
   ]
  },
  {
   "cell_type": "markdown",
   "metadata": {},
   "source": [
    "#### Lets take a look at `college` column of `players`"
   ]
  },
  {
   "cell_type": "code",
   "execution_count": null,
   "metadata": {},
   "outputs": [],
   "source": [
    "players['college'].value_counts().head(10)"
   ]
  },
  {
   "cell_type": "markdown",
   "metadata": {},
   "source": [
    "#### We'll use Pandas `.isin()` method to check `college` column against \n",
    "\n",
    "#### `top_5_colleges` list."
   ]
  },
  {
   "cell_type": "code",
   "execution_count": 5,
   "metadata": {},
   "outputs": [],
   "source": [
    "in_top_5_colleges = players['college'].isin(top_5_colleges)\n",
    "# print(in_top_5_colleges)"
   ]
  },
  {
   "cell_type": "markdown",
   "metadata": {},
   "source": [
    "#### Index `players` by `in_top_5_colleges` and grab `name`"
   ]
  },
  {
   "cell_type": "code",
   "execution_count": 6,
   "metadata": {},
   "outputs": [],
   "source": [
    "# index entire players df by \"in_top_5\"\n",
    "players_in_top_5 = players[in_top_5_colleges]['name']\n",
    "players_in_top_5.head(20)"
   ]
  },
  {
   "cell_type": "markdown",
   "metadata": {},
   "source": [
    "<br>"
   ]
  },
  {
   "cell_type": "markdown",
   "metadata": {},
   "source": [
    "#### We'll use Pandas `.isin()` method to check `players` column in `nba` \n",
    "#### against the `players_in_top_5` series we just constructed."
   ]
  },
  {
   "cell_type": "code",
   "execution_count": null,
   "metadata": {},
   "outputs": [],
   "source": [
    "in_top_colleges = nba['Player'].isin(players_in_top_5)"
   ]
  },
  {
   "cell_type": "markdown",
   "metadata": {},
   "source": [
    "<br>"
   ]
  },
  {
   "cell_type": "markdown",
   "metadata": {},
   "source": [
    "#### We will divide all of the rows of `nba` into `2` dataframes, those players who attended the top colleges, and those who did not."
   ]
  },
  {
   "cell_type": "code",
   "execution_count": null,
   "metadata": {},
   "outputs": [],
   "source": [
    "top_college = nba[in_top_colleges]\n",
    "top_college.shape"
   ]
  },
  {
   "cell_type": "code",
   "execution_count": null,
   "metadata": {},
   "outputs": [],
   "source": [
    "bottom_college = nba[~in_top_colleges]\n",
    "bottom_college.shape"
   ]
  },
  {
   "cell_type": "markdown",
   "metadata": {},
   "source": [
    "<br>"
   ]
  },
  {
   "cell_type": "markdown",
   "metadata": {},
   "source": [
    "#### Plot the Players NOT FROM Top 5"
   ]
  },
  {
   "cell_type": "code",
   "execution_count": null,
   "metadata": {},
   "outputs": [],
   "source": [
    "bottom_college['PER'].hist(bins=50) \n",
    "\n",
    "# Make it pretty\n",
    "ax = plt.gca()\n",
    "ax.set_title(\"PER for players NOT FROM Top 5 Colleges\")\n",
    "ax.set_xlabel(\"Player Efficiency Rating\")\n",
    "ax.set_ylabel(\"# of Players\")\n",
    "\n",
    "# \"print\" the plot\n",
    "plt.show()"
   ]
  },
  {
   "cell_type": "markdown",
   "metadata": {},
   "source": [
    "#### Plot the Players FROM Top 5"
   ]
  },
  {
   "cell_type": "code",
   "execution_count": null,
   "metadata": {},
   "outputs": [],
   "source": [
    "top_college['PER'].hist(bins=50) \n",
    "\n",
    "# Make it pretty\n",
    "ax = plt.gca()\n",
    "ax.set_title(\"PER for players FROM Top 5 Colleges\")\n",
    "ax.set_xlabel(\"Player Efficiency Rating\")\n",
    "ax.set_ylabel(\"# of Players\")\n",
    "\n",
    "# \"print\" the plot\n",
    "plt.show()"
   ]
  },
  {
   "cell_type": "markdown",
   "metadata": {},
   "source": [
    "#### What conclusions can we draw about these 2 groups?"
   ]
  },
  {
   "cell_type": "code",
   "execution_count": null,
   "metadata": {},
   "outputs": [],
   "source": [
    "# What could we do better? ..."
   ]
  },
  {
   "cell_type": "markdown",
   "metadata": {},
   "source": [
    "<hr>\n",
    "<br>\n",
    "<br>"
   ]
  },
  {
   "cell_type": "markdown",
   "metadata": {},
   "source": [
    "## Next Class, After ECDF!"
   ]
  },
  {
   "cell_type": "markdown",
   "metadata": {},
   "source": [
    "### Run the Excercise back but this time lets limit ourselves to just the players from 2017"
   ]
  },
  {
   "cell_type": "code",
   "execution_count": 26,
   "metadata": {},
   "outputs": [
    {
     "data": {
      "text/plain": [
       "30.6    1\n",
       "27.5    1\n",
       "26.5    1\n",
       "26.0    1\n",
       "25.7    1\n",
       "Name: PER, dtype: int64"
      ]
     },
     "execution_count": 26,
     "metadata": {},
     "output_type": "execute_result"
    }
   ],
   "source": [
    "top_2017 = nba_2017[nba_2017['Player'].isin(players_in_top_5)]\n",
    "top_2017[\"PER\"].value_counts().sort_index(ascending=False).head()"
   ]
  },
  {
   "cell_type": "code",
   "execution_count": 25,
   "metadata": {},
   "outputs": [
    {
     "data": {
      "text/plain": [
       "31.5    1\n",
       "30.8    1\n",
       "29.6    1\n",
       "27.6    1\n",
       "27.5    1\n",
       "Name: PER, dtype: int64"
      ]
     },
     "execution_count": 25,
     "metadata": {},
     "output_type": "execute_result"
    }
   ],
   "source": [
    "bot_2017 = nba_2017[~nba_2017['Player'].isin(players_in_top_5)]\n",
    "bot_2017[\"PER\"].value_counts().sort_index(ascending=False).head()"
   ]
  },
  {
   "cell_type": "code",
   "execution_count": 18,
   "metadata": {},
   "outputs": [
    {
     "data": {
      "image/png": "[encoded data removed]",
      "text/plain": [
       "<Figure size 432x288 with 1 Axes>"
      ]
     },
     "metadata": {
      "needs_background": "light"
     },
     "output_type": "display_data"
    }
   ],
   "source": [
    "top_2017['PER'].hist(bins=20) \n",
    "\n",
    "# Make it pretty\n",
    "ax = plt.gca()\n",
    "ax.set_title(\"2017: PER for players FROM Top 5 Colleges\")\n",
    "ax.set_xlabel(\"Player Efficiency Rating\")\n",
    "ax.set_ylabel(\"# of Players\")\n",
    "\n",
    "# \"print\" the plot\n",
    "plt.show()"
   ]
  },
  {
   "cell_type": "code",
   "execution_count": 17,
   "metadata": {},
   "outputs": [
    {
     "data": {
      "image/png": "[encoded data removed]",
      "text/plain": [
       "<Figure size 432x288 with 1 Axes>"
      ]
     },
     "metadata": {
      "needs_background": "light"
     },
     "output_type": "display_data"
    }
   ],
   "source": [
    "bot_2017['PER'].hist(bins=20) \n",
    "\n",
    "# Make it pretty\n",
    "ax = plt.gca()\n",
    "ax.set_title(\"2017: PER for players NOT FROM Top 5 Colleges\")\n",
    "ax.set_xlabel(\"Player Efficiency Rating\")\n",
    "ax.set_ylabel(\"# of Players\")\n",
    "\n",
    "# \"print\" the plot\n",
    "plt.show()"
   ]
  },
  {
   "cell_type": "markdown",
   "metadata": {},
   "source": [
    "<br>"
   ]
  },
  {
   "cell_type": "markdown",
   "metadata": {},
   "source": [
    "### Let's use the ECDF From W1D2, to compare these distributions!"
   ]
  },
  {
   "cell_type": "code",
   "execution_count": 27,
   "metadata": {},
   "outputs": [],
   "source": [
    "def prep_ecdf(data):\n",
    "    \n",
    "    n = len(data)\n",
    "    x = np.sort(data)\n",
    "    y = np.arange(1, n + 1) / n\n",
    "\n",
    "    return x, y"
   ]
  },
  {
   "cell_type": "code",
   "execution_count": 28,
   "metadata": {},
   "outputs": [],
   "source": [
    "# Prep ECDF x and y for PER column of top_2017\n",
    "tx, ty = prep_ecdf(top_2017['PER'])\n",
    "\n",
    "# Prep ECDF x and y for PER column of bot_2017\n",
    "bx, by = prep_ecdf(bot_2017['PER'])"
   ]
  },
  {
   "cell_type": "code",
   "execution_count": 30,
   "metadata": {},
   "outputs": [
    {
     "data": {
      "image/png": "[encoded data removed]",
      "text/plain": [
       "<Figure size 432x288 with 1 Axes>"
      ]
     },
     "metadata": {
      "needs_background": "light"
     },
     "output_type": "display_data"
    }
   ],
   "source": [
    "# Set up Figure\n",
    "plt.figure()\n",
    "\n",
    "# Grab the `axis` and save to `ax`\n",
    "ax = plt.gca()\n",
    "\n",
    "# ax.plot() is a simple `line plot`\n",
    "ax.plot(tx, ty, marker = \".\", linestyle = \"none\")\n",
    "ax.plot(bx, by, marker = \".\", linestyle = \"none\")\n",
    "\n",
    "# Make it Pretty\n",
    "ax.legend([\"TOP College\", \"NOT TOP College\"])\n",
    "ax.set_title(\"2017: ECDF of Player Efficiency Rating\")\n",
    "ax.set_xlabel(\"Player Efficiency Rating (PER)\")\n",
    "ax.set_ylabel(\"ECDF\")\n",
    "\n",
    "# Remove annoying \"out\" stuff when printing plot.\n",
    "plt.show()"
   ]
  }
 ],
 "metadata": {
  "kernelspec": {
   "display_name": "Python 3",
   "language": "python",
   "name": "python3"
  },
  "language_info": {
   "codemirror_mode": {
    "name": "ipython",
    "version": 3
   },
   "file_extension": ".py",
   "mimetype": "text/x-python",
   "name": "python",
   "nbconvert_exporter": "python",
   "pygments_lexer": "ipython3",
   "version": "3.7.1"
  }
 },
 "nbformat": 4,
 "nbformat_minor": 2
}
