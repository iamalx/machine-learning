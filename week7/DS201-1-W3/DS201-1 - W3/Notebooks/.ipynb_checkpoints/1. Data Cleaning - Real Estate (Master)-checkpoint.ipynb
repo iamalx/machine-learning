{
 "cells": [
  {
   "cell_type": "markdown",
   "metadata": {},
   "source": [
    "<h1 style=\"font-size:42px; text-align:center; margin-bottom:30px;\"><span style=\"color:SteelBlue\">First Look:</span> Data Cleaning</h1>\n",
    "<hr>\n",
    "Welcome to the workbook for <span style=\"color:royalblue\">First Look: Data Cleaning</span>! \n",
    "\n",
    "Better data beats better algorithms.\n",
    "* Use this as a \"blueprint\" for efficient data cleaning.\n",
    "* Different types of data will require different types of cleaning.\n",
    "* However, the systematic approach laid out in this lesson can always be a good starting point.\n",
    "\n",
    "\n",
    "<br><hr id=\"toc\">\n",
    "\n",
    "### In this lesson...\n",
    "\n",
    "In this lesson, we'll cover the essential data cleaning steps:\n",
    "1. [Drop unwanted observations](#drop)\n",
    "2. [Fix structural errors](#structural)\n",
    "3. [Remove unwanted outliers](#outliers)\n",
    "4. [Label missing categorical data](#missing-categorical)\n",
    "5. [Flag and fill missing numerical data](#missing-numeric)\n",
    "\n",
    "Finally, we'll save the cleaned dataframe to a new file so we can use it in other lessons.\n",
    "\n",
    "<br><hr>"
   ]
  },
  {
   "cell_type": "markdown",
   "metadata": {},
   "source": [
    "### First, let's import libraries and load the dataset.\n",
    "\n",
    "In general, it's good practice to keep all of your library imports at the top of your notebook or program."
   ]
  },
  {
   "cell_type": "code",
   "execution_count": 24,
   "metadata": {},
   "outputs": [],
   "source": [
    "import pandas as pd\n",
    "pd.set_option('display.max_columns', 100)\n",
    "\n",
    "import numpy as np\n",
    "\n",
    "from matplotlib import pyplot as plt\n",
    "\n",
    "import seaborn as sns\n",
    "sns.set()"
   ]
  },
  {
   "cell_type": "markdown",
   "metadata": {},
   "source": [
    "Next, let's import the dataset, just as we did in the previous lesson."
   ]
  },
  {
   "cell_type": "code",
   "execution_count": 26,
   "metadata": {},
   "outputs": [],
   "source": [
    "df = pd.read_csv('../../Data/real_estate_data.csv')"
   ]
  },
  {
   "cell_type": "markdown",
   "metadata": {},
   "source": [
    "Now we're ready to jump into cleaning the data!"
   ]
  },
  {
   "cell_type": "markdown",
   "metadata": {},
   "source": [
    "# 0. Examine Data"
   ]
  },
  {
   "cell_type": "code",
   "execution_count": 29,
   "metadata": {},
   "outputs": [
    {
     "data": {
      "text/plain": [
       "(1883, 26)"
      ]
     },
     "execution_count": 29,
     "metadata": {},
     "output_type": "execute_result"
    }
   ],
   "source": [
    "# Examine Data Dimensions\n",
    "df.shape"
   ]
  },
  {
   "cell_type": "code",
   "execution_count": 30,
   "metadata": {},
   "outputs": [
    {
     "data": {
      "text/plain": [
       "tx_price                int64\n",
       "beds                    int64\n",
       "baths                   int64\n",
       "sqft                    int64\n",
       "year_built              int64\n",
       "lot_size                int64\n",
       "property_type          object\n",
       "exterior_walls         object\n",
       "roof                   object\n",
       "basement              float64\n",
       "restaurants             int64\n",
       "groceries               int64\n",
       "nightlife               int64\n",
       "cafes                   int64\n",
       "shopping                int64\n",
       "arts_entertainment      int64\n",
       "beauty_spas             int64\n",
       "active_life             int64\n",
       "median_age            float64\n",
       "married               float64\n",
       "college_grad          float64\n",
       "property_tax          float64\n",
       "insurance             float64\n",
       "median_school         float64\n",
       "num_schools           float64\n",
       "tx_year                 int64\n",
       "dtype: object"
      ]
     },
     "execution_count": 30,
     "metadata": {},
     "output_type": "execute_result"
    }
   ],
   "source": [
    "# Explore Data Types\n",
    "df.dtypes"
   ]
  },
  {
   "cell_type": "code",
   "execution_count": 32,
   "metadata": {},
   "outputs": [
    {
     "data": {
      "text/html": [
       "<div>\n",
       "<style scoped>\n",
       "    .dataframe tbody tr th:only-of-type {\n",
       "        vertical-align: middle;\n",
       "    }\n",
       "\n",
       "    .dataframe tbody tr th {\n",
       "        vertical-align: top;\n",
       "    }\n",
       "\n",
       "    .dataframe thead th {\n",
       "        text-align: right;\n",
       "    }\n",
       "</style>\n",
       "<table border=\"1\" class=\"dataframe\">\n",
       "  <thead>\n",
       "    <tr style=\"text-align: right;\">\n",
       "      <th></th>\n",
       "      <th>tx_price</th>\n",
       "      <th>beds</th>\n",
       "      <th>baths</th>\n",
       "      <th>sqft</th>\n",
       "      <th>year_built</th>\n",
       "      <th>lot_size</th>\n",
       "      <th>property_type</th>\n",
       "      <th>exterior_walls</th>\n",
       "      <th>roof</th>\n",
       "      <th>basement</th>\n",
       "      <th>restaurants</th>\n",
       "      <th>groceries</th>\n",
       "      <th>nightlife</th>\n",
       "      <th>cafes</th>\n",
       "      <th>shopping</th>\n",
       "      <th>arts_entertainment</th>\n",
       "      <th>beauty_spas</th>\n",
       "      <th>active_life</th>\n",
       "      <th>median_age</th>\n",
       "      <th>married</th>\n",
       "      <th>college_grad</th>\n",
       "      <th>property_tax</th>\n",
       "      <th>insurance</th>\n",
       "      <th>median_school</th>\n",
       "      <th>num_schools</th>\n",
       "      <th>tx_year</th>\n",
       "    </tr>\n",
       "  </thead>\n",
       "  <tbody>\n",
       "    <tr>\n",
       "      <th>0</th>\n",
       "      <td>295850</td>\n",
       "      <td>1</td>\n",
       "      <td>1</td>\n",
       "      <td>584</td>\n",
       "      <td>2013</td>\n",
       "      <td>0</td>\n",
       "      <td>Apartment / Condo / Townhouse</td>\n",
       "      <td>Wood Siding</td>\n",
       "      <td>NaN</td>\n",
       "      <td>NaN</td>\n",
       "      <td>107</td>\n",
       "      <td>9</td>\n",
       "      <td>30</td>\n",
       "      <td>19</td>\n",
       "      <td>89</td>\n",
       "      <td>6</td>\n",
       "      <td>47</td>\n",
       "      <td>58</td>\n",
       "      <td>33.0</td>\n",
       "      <td>65.0</td>\n",
       "      <td>84.0</td>\n",
       "      <td>234.0</td>\n",
       "      <td>81.0</td>\n",
       "      <td>9.0</td>\n",
       "      <td>3.0</td>\n",
       "      <td>2013</td>\n",
       "    </tr>\n",
       "    <tr>\n",
       "      <th>1</th>\n",
       "      <td>216500</td>\n",
       "      <td>1</td>\n",
       "      <td>1</td>\n",
       "      <td>612</td>\n",
       "      <td>1965</td>\n",
       "      <td>0</td>\n",
       "      <td>Apartment / Condo / Townhouse</td>\n",
       "      <td>Brick</td>\n",
       "      <td>Composition Shingle</td>\n",
       "      <td>1.0</td>\n",
       "      <td>105</td>\n",
       "      <td>15</td>\n",
       "      <td>6</td>\n",
       "      <td>13</td>\n",
       "      <td>87</td>\n",
       "      <td>2</td>\n",
       "      <td>26</td>\n",
       "      <td>14</td>\n",
       "      <td>39.0</td>\n",
       "      <td>73.0</td>\n",
       "      <td>69.0</td>\n",
       "      <td>169.0</td>\n",
       "      <td>51.0</td>\n",
       "      <td>3.0</td>\n",
       "      <td>3.0</td>\n",
       "      <td>2006</td>\n",
       "    </tr>\n",
       "    <tr>\n",
       "      <th>2</th>\n",
       "      <td>279900</td>\n",
       "      <td>1</td>\n",
       "      <td>1</td>\n",
       "      <td>615</td>\n",
       "      <td>1963</td>\n",
       "      <td>0</td>\n",
       "      <td>Apartment / Condo / Townhouse</td>\n",
       "      <td>Wood Siding</td>\n",
       "      <td>NaN</td>\n",
       "      <td>NaN</td>\n",
       "      <td>183</td>\n",
       "      <td>13</td>\n",
       "      <td>31</td>\n",
       "      <td>30</td>\n",
       "      <td>101</td>\n",
       "      <td>10</td>\n",
       "      <td>74</td>\n",
       "      <td>62</td>\n",
       "      <td>28.0</td>\n",
       "      <td>15.0</td>\n",
       "      <td>86.0</td>\n",
       "      <td>216.0</td>\n",
       "      <td>74.0</td>\n",
       "      <td>8.0</td>\n",
       "      <td>3.0</td>\n",
       "      <td>2012</td>\n",
       "    </tr>\n",
       "    <tr>\n",
       "      <th>3</th>\n",
       "      <td>379900</td>\n",
       "      <td>1</td>\n",
       "      <td>1</td>\n",
       "      <td>618</td>\n",
       "      <td>2000</td>\n",
       "      <td>33541</td>\n",
       "      <td>Apartment / Condo / Townhouse</td>\n",
       "      <td>Wood Siding</td>\n",
       "      <td>NaN</td>\n",
       "      <td>NaN</td>\n",
       "      <td>198</td>\n",
       "      <td>9</td>\n",
       "      <td>38</td>\n",
       "      <td>25</td>\n",
       "      <td>127</td>\n",
       "      <td>11</td>\n",
       "      <td>72</td>\n",
       "      <td>83</td>\n",
       "      <td>36.0</td>\n",
       "      <td>25.0</td>\n",
       "      <td>91.0</td>\n",
       "      <td>265.0</td>\n",
       "      <td>92.0</td>\n",
       "      <td>9.0</td>\n",
       "      <td>3.0</td>\n",
       "      <td>2005</td>\n",
       "    </tr>\n",
       "    <tr>\n",
       "      <th>4</th>\n",
       "      <td>340000</td>\n",
       "      <td>1</td>\n",
       "      <td>1</td>\n",
       "      <td>634</td>\n",
       "      <td>1992</td>\n",
       "      <td>0</td>\n",
       "      <td>Apartment / Condo / Townhouse</td>\n",
       "      <td>Brick</td>\n",
       "      <td>NaN</td>\n",
       "      <td>NaN</td>\n",
       "      <td>149</td>\n",
       "      <td>7</td>\n",
       "      <td>22</td>\n",
       "      <td>20</td>\n",
       "      <td>83</td>\n",
       "      <td>10</td>\n",
       "      <td>50</td>\n",
       "      <td>73</td>\n",
       "      <td>37.0</td>\n",
       "      <td>20.0</td>\n",
       "      <td>75.0</td>\n",
       "      <td>88.0</td>\n",
       "      <td>30.0</td>\n",
       "      <td>9.0</td>\n",
       "      <td>3.0</td>\n",
       "      <td>2002</td>\n",
       "    </tr>\n",
       "    <tr>\n",
       "      <th>5</th>\n",
       "      <td>265000</td>\n",
       "      <td>1</td>\n",
       "      <td>1</td>\n",
       "      <td>641</td>\n",
       "      <td>1947</td>\n",
       "      <td>0</td>\n",
       "      <td>Apartment / Condo / Townhouse</td>\n",
       "      <td>Brick</td>\n",
       "      <td>NaN</td>\n",
       "      <td>NaN</td>\n",
       "      <td>146</td>\n",
       "      <td>10</td>\n",
       "      <td>23</td>\n",
       "      <td>27</td>\n",
       "      <td>86</td>\n",
       "      <td>9</td>\n",
       "      <td>60</td>\n",
       "      <td>52</td>\n",
       "      <td>28.0</td>\n",
       "      <td>15.0</td>\n",
       "      <td>86.0</td>\n",
       "      <td>168.0</td>\n",
       "      <td>58.0</td>\n",
       "      <td>8.0</td>\n",
       "      <td>3.0</td>\n",
       "      <td>2004</td>\n",
       "    </tr>\n",
       "    <tr>\n",
       "      <th>6</th>\n",
       "      <td>240000</td>\n",
       "      <td>1</td>\n",
       "      <td>1</td>\n",
       "      <td>642</td>\n",
       "      <td>1944</td>\n",
       "      <td>0</td>\n",
       "      <td>Single-Family</td>\n",
       "      <td>Brick</td>\n",
       "      <td>NaN</td>\n",
       "      <td>NaN</td>\n",
       "      <td>159</td>\n",
       "      <td>13</td>\n",
       "      <td>36</td>\n",
       "      <td>17</td>\n",
       "      <td>92</td>\n",
       "      <td>12</td>\n",
       "      <td>66</td>\n",
       "      <td>50</td>\n",
       "      <td>28.0</td>\n",
       "      <td>36.0</td>\n",
       "      <td>88.0</td>\n",
       "      <td>176.0</td>\n",
       "      <td>61.0</td>\n",
       "      <td>7.0</td>\n",
       "      <td>3.0</td>\n",
       "      <td>2011</td>\n",
       "    </tr>\n",
       "    <tr>\n",
       "      <th>7</th>\n",
       "      <td>388100</td>\n",
       "      <td>1</td>\n",
       "      <td>1</td>\n",
       "      <td>650</td>\n",
       "      <td>2000</td>\n",
       "      <td>33541</td>\n",
       "      <td>Apartment / Condo / Townhouse</td>\n",
       "      <td>Wood Siding</td>\n",
       "      <td>NaN</td>\n",
       "      <td>NaN</td>\n",
       "      <td>198</td>\n",
       "      <td>9</td>\n",
       "      <td>38</td>\n",
       "      <td>25</td>\n",
       "      <td>127</td>\n",
       "      <td>11</td>\n",
       "      <td>72</td>\n",
       "      <td>83</td>\n",
       "      <td>36.0</td>\n",
       "      <td>25.0</td>\n",
       "      <td>91.0</td>\n",
       "      <td>266.0</td>\n",
       "      <td>92.0</td>\n",
       "      <td>9.0</td>\n",
       "      <td>3.0</td>\n",
       "      <td>2005</td>\n",
       "    </tr>\n",
       "    <tr>\n",
       "      <th>8</th>\n",
       "      <td>240000</td>\n",
       "      <td>1</td>\n",
       "      <td>1</td>\n",
       "      <td>660</td>\n",
       "      <td>1983</td>\n",
       "      <td>0</td>\n",
       "      <td>Apartment / Condo / Townhouse</td>\n",
       "      <td>Brick</td>\n",
       "      <td>NaN</td>\n",
       "      <td>NaN</td>\n",
       "      <td>51</td>\n",
       "      <td>8</td>\n",
       "      <td>6</td>\n",
       "      <td>2</td>\n",
       "      <td>40</td>\n",
       "      <td>18</td>\n",
       "      <td>32</td>\n",
       "      <td>41</td>\n",
       "      <td>36.0</td>\n",
       "      <td>49.0</td>\n",
       "      <td>77.0</td>\n",
       "      <td>188.0</td>\n",
       "      <td>65.0</td>\n",
       "      <td>6.0</td>\n",
       "      <td>3.0</td>\n",
       "      <td>2013</td>\n",
       "    </tr>\n",
       "    <tr>\n",
       "      <th>9</th>\n",
       "      <td>250000</td>\n",
       "      <td>1</td>\n",
       "      <td>1</td>\n",
       "      <td>664</td>\n",
       "      <td>1965</td>\n",
       "      <td>0</td>\n",
       "      <td>Apartment / Condo / Townhouse</td>\n",
       "      <td>Brick</td>\n",
       "      <td>NaN</td>\n",
       "      <td>NaN</td>\n",
       "      <td>119</td>\n",
       "      <td>10</td>\n",
       "      <td>26</td>\n",
       "      <td>25</td>\n",
       "      <td>183</td>\n",
       "      <td>13</td>\n",
       "      <td>70</td>\n",
       "      <td>36</td>\n",
       "      <td>57.0</td>\n",
       "      <td>13.0</td>\n",
       "      <td>83.0</td>\n",
       "      <td>147.0</td>\n",
       "      <td>51.0</td>\n",
       "      <td>6.0</td>\n",
       "      <td>3.0</td>\n",
       "      <td>2007</td>\n",
       "    </tr>\n",
       "  </tbody>\n",
       "</table>\n",
       "</div>"
      ],
      "text/plain": [
       "   tx_price  beds  baths  sqft  year_built  lot_size  \\\n",
       "0    295850     1      1   584        2013         0   \n",
       "1    216500     1      1   612        1965         0   \n",
       "2    279900     1      1   615        1963         0   \n",
       "3    379900     1      1   618        2000     33541   \n",
       "4    340000     1      1   634        1992         0   \n",
       "5    265000     1      1   641        1947         0   \n",
       "6    240000     1      1   642        1944         0   \n",
       "7    388100     1      1   650        2000     33541   \n",
       "8    240000     1      1   660        1983         0   \n",
       "9    250000     1      1   664        1965         0   \n",
       "\n",
       "                   property_type exterior_walls                 roof  \\\n",
       "0  Apartment / Condo / Townhouse    Wood Siding                  NaN   \n",
       "1  Apartment / Condo / Townhouse          Brick  Composition Shingle   \n",
       "2  Apartment / Condo / Townhouse    Wood Siding                  NaN   \n",
       "3  Apartment / Condo / Townhouse    Wood Siding                  NaN   \n",
       "4  Apartment / Condo / Townhouse          Brick                  NaN   \n",
       "5  Apartment / Condo / Townhouse          Brick                  NaN   \n",
       "6                  Single-Family          Brick                  NaN   \n",
       "7  Apartment / Condo / Townhouse    Wood Siding                  NaN   \n",
       "8  Apartment / Condo / Townhouse          Brick                  NaN   \n",
       "9  Apartment / Condo / Townhouse          Brick                  NaN   \n",
       "\n",
       "   basement  restaurants  groceries  nightlife  cafes  shopping  \\\n",
       "0       NaN          107          9         30     19        89   \n",
       "1       1.0          105         15          6     13        87   \n",
       "2       NaN          183         13         31     30       101   \n",
       "3       NaN          198          9         38     25       127   \n",
       "4       NaN          149          7         22     20        83   \n",
       "5       NaN          146         10         23     27        86   \n",
       "6       NaN          159         13         36     17        92   \n",
       "7       NaN          198          9         38     25       127   \n",
       "8       NaN           51          8          6      2        40   \n",
       "9       NaN          119         10         26     25       183   \n",
       "\n",
       "   arts_entertainment  beauty_spas  active_life  median_age  married  \\\n",
       "0                   6           47           58        33.0     65.0   \n",
       "1                   2           26           14        39.0     73.0   \n",
       "2                  10           74           62        28.0     15.0   \n",
       "3                  11           72           83        36.0     25.0   \n",
       "4                  10           50           73        37.0     20.0   \n",
       "5                   9           60           52        28.0     15.0   \n",
       "6                  12           66           50        28.0     36.0   \n",
       "7                  11           72           83        36.0     25.0   \n",
       "8                  18           32           41        36.0     49.0   \n",
       "9                  13           70           36        57.0     13.0   \n",
       "\n",
       "   college_grad  property_tax  insurance  median_school  num_schools  tx_year  \n",
       "0          84.0         234.0       81.0            9.0          3.0     2013  \n",
       "1          69.0         169.0       51.0            3.0          3.0     2006  \n",
       "2          86.0         216.0       74.0            8.0          3.0     2012  \n",
       "3          91.0         265.0       92.0            9.0          3.0     2005  \n",
       "4          75.0          88.0       30.0            9.0          3.0     2002  \n",
       "5          86.0         168.0       58.0            8.0          3.0     2004  \n",
       "6          88.0         176.0       61.0            7.0          3.0     2011  \n",
       "7          91.0         266.0       92.0            9.0          3.0     2005  \n",
       "8          77.0         188.0       65.0            6.0          3.0     2013  \n",
       "9          83.0         147.0       51.0            6.0          3.0     2007  "
      ]
     },
     "execution_count": 32,
     "metadata": {},
     "output_type": "execute_result"
    }
   ],
   "source": [
    "# Display Head\n",
    "df.head(10)"
   ]
  },
  {
   "cell_type": "code",
   "execution_count": 41,
   "metadata": {},
   "outputs": [],
   "source": [
    "# Filter by Columns\n",
    "cat_df = df.select_dtypes(include=\"object\")"
   ]
  },
  {
   "cell_type": "markdown",
   "metadata": {},
   "source": [
    "**Distributions of numeric Features**"
   ]
  },
  {
   "cell_type": "code",
   "execution_count": 37,
   "metadata": {},
   "outputs": [
    {
     "data": {
      "image/png": "[encoded data removed]",
      "text/plain": [
       "<Figure size 1440x1440 with 25 Axes>"
      ]
     },
     "metadata": {},
     "output_type": "display_data"
    }
   ],
   "source": [
    "_ = df.hist(xrot=-45, figsize=(20, 20))"
   ]
  },
  {
   "cell_type": "markdown",
   "metadata": {},
   "source": [
    "**Distributions of Categorical Features**"
   ]
  },
  {
   "cell_type": "code",
   "execution_count": 42,
   "metadata": {},
   "outputs": [
    {
     "data": {
      "text/html": [
       "<div>\n",
       "<style scoped>\n",
       "    .dataframe tbody tr th:only-of-type {\n",
       "        vertical-align: middle;\n",
       "    }\n",
       "\n",
       "    .dataframe tbody tr th {\n",
       "        vertical-align: top;\n",
       "    }\n",
       "\n",
       "    .dataframe thead th {\n",
       "        text-align: right;\n",
       "    }\n",
       "</style>\n",
       "<table border=\"1\" class=\"dataframe\">\n",
       "  <thead>\n",
       "    <tr style=\"text-align: right;\">\n",
       "      <th></th>\n",
       "      <th>property_type</th>\n",
       "      <th>exterior_walls</th>\n",
       "      <th>roof</th>\n",
       "    </tr>\n",
       "  </thead>\n",
       "  <tbody>\n",
       "    <tr>\n",
       "      <th>0</th>\n",
       "      <td>Apartment / Condo / Townhouse</td>\n",
       "      <td>Wood Siding</td>\n",
       "      <td>NaN</td>\n",
       "    </tr>\n",
       "    <tr>\n",
       "      <th>1</th>\n",
       "      <td>Apartment / Condo / Townhouse</td>\n",
       "      <td>Brick</td>\n",
       "      <td>Composition Shingle</td>\n",
       "    </tr>\n",
       "    <tr>\n",
       "      <th>2</th>\n",
       "      <td>Apartment / Condo / Townhouse</td>\n",
       "      <td>Wood Siding</td>\n",
       "      <td>NaN</td>\n",
       "    </tr>\n",
       "    <tr>\n",
       "      <th>3</th>\n",
       "      <td>Apartment / Condo / Townhouse</td>\n",
       "      <td>Wood Siding</td>\n",
       "      <td>NaN</td>\n",
       "    </tr>\n",
       "    <tr>\n",
       "      <th>4</th>\n",
       "      <td>Apartment / Condo / Townhouse</td>\n",
       "      <td>Brick</td>\n",
       "      <td>NaN</td>\n",
       "    </tr>\n",
       "  </tbody>\n",
       "</table>\n",
       "</div>"
      ],
      "text/plain": [
       "                   property_type exterior_walls                 roof\n",
       "0  Apartment / Condo / Townhouse    Wood Siding                  NaN\n",
       "1  Apartment / Condo / Townhouse          Brick  Composition Shingle\n",
       "2  Apartment / Condo / Townhouse    Wood Siding                  NaN\n",
       "3  Apartment / Condo / Townhouse    Wood Siding                  NaN\n",
       "4  Apartment / Condo / Townhouse          Brick                  NaN"
      ]
     },
     "execution_count": 42,
     "metadata": {},
     "output_type": "execute_result"
    }
   ],
   "source": [
    "cat_df.head()"
   ]
  },
  {
   "cell_type": "code",
   "execution_count": 49,
   "metadata": {},
   "outputs": [
    {
     "data": {
      "image/png": "[encoded data removed]",
      "text/plain": [
       "<Figure size 432x288 with 1 Axes>"
      ]
     },
     "metadata": {},
     "output_type": "display_data"
    },
    {
     "name": "stdout",
     "output_type": "stream",
     "text": [
      "Single-Family                    1080\n",
      "Apartment / Condo / Townhouse     803\n",
      "Name: property_type, dtype: int64\n",
      "\n"
     ]
    },
    {
     "data": {
      "image/png": "[encoded data removed]",
      "text/plain": [
       "<Figure size 432x288 with 1 Axes>"
      ]
     },
     "metadata": {},
     "output_type": "display_data"
    },
    {
     "name": "stdout",
     "output_type": "stream",
     "text": [
      "Brick                  687\n",
      "Siding (Alum/Vinyl)    503\n",
      "Metal                  120\n",
      "Combination            107\n",
      "Wood                    72\n",
      "Wood Siding             49\n",
      "Brick veneer            48\n",
      "Stucco                  26\n",
      "Other                   10\n",
      "Concrete                 8\n",
      "Concrete Block           7\n",
      "Block                    7\n",
      "Asbestos shingle         6\n",
      "Rock, Stone              5\n",
      "Masonry                  3\n",
      "Wood Shingle             2\n",
      "Name: exterior_walls, dtype: int64\n",
      "\n"
     ]
    },
    {
     "data": {
      "image/png": "[encoded data removed]",
      "text/plain": [
       "<Figure size 432x288 with 1 Axes>"
      ]
     },
     "metadata": {},
     "output_type": "display_data"
    },
    {
     "name": "stdout",
     "output_type": "stream",
     "text": [
      "Composition Shingle      1179\n",
      "Asphalt                   132\n",
      "Shake Shingle              55\n",
      "Other                      49\n",
      "Gravel/Rock                30\n",
      "Wood Shake/ Shingles       30\n",
      "Roll Composition           12\n",
      "Asbestos                    9\n",
      "Slate                       9\n",
      "Composition                 5\n",
      "asphalt                     5\n",
      "Metal                       4\n",
      "composition                 4\n",
      "shake-shingle               3\n",
      "Built-up                    2\n",
      "asphalt,shake-shingle       1\n",
      "Name: roof, dtype: int64\n",
      "\n"
     ]
    }
   ],
   "source": [
    "for feature in cat_df: \n",
    "    sns.countplot(y=feature, data=df)\n",
    "    plt.show()\n",
    "    print(cat_df[feature].value_counts())\n",
    "    print()"
   ]
  },
  {
   "cell_type": "markdown",
   "metadata": {},
   "source": [
    "<br id=\"drop\">\n",
    "\n",
    "# 1. Drop unwanted observations\n",
    "\n",
    "The first step to data cleaning is removing unwanted observations from your dataset.\n",
    "\n",
    "<br>\n",
    "First, drop duplicates in your dataframe."
   ]
  },
  {
   "cell_type": "code",
   "execution_count": null,
   "metadata": {},
   "outputs": [],
   "source": [
    "# Print shape of dataframe\n",
    "print(df.shape)\n",
    "\n",
    "# Drop any duplicates\n",
    "df.drop_duplicates(inplace=True)\n",
    "\n",
    "# Print shape of new dataframe to compare\n",
    "print(df.shape)"
   ]
  },
  {
   "cell_type": "markdown",
   "metadata": {},
   "source": [
    "The dataset had 9 duplicate records which were removed so our new dataframe consists of 1883 unique observations.\n",
    "\n",
    "<div style=\"text-align:center; margin: 40px 0 40px 0;\">\n",
    "\n",
    "[**Back to Contents**](#toc)\n",
    "</div>"
   ]
  },
  {
   "cell_type": "markdown",
   "metadata": {},
   "source": [
    "<br id=\"structural\">\n",
    "\n",
    "# 2. Fix structural errors\n",
    "\n",
    "The next bucket under data cleaning involves fixing structural errors. \n",
    "\n",
    "<br>\n",
    "First, display the unique values of the <code style=\"color:steelblue\">'basement'</code> feature."
   ]
  },
  {
   "cell_type": "code",
   "execution_count": null,
   "metadata": {},
   "outputs": [],
   "source": [
    "# Display unique values of 'basement'\n",
    "df.basement.unique()"
   ]
  },
  {
   "cell_type": "markdown",
   "metadata": {},
   "source": [
    "Fill missing <code style=\"color:steelblue\">'basement'</code> values with the value <code style=\"color:crimson\">0</code> to turn <code style=\"color:steelblue\">'basement'</code> into a true indicator variable."
   ]
  },
  {
   "cell_type": "code",
   "execution_count": null,
   "metadata": {},
   "outputs": [],
   "source": [
    "# Missing basement values should be 0\n",
    "df['basement'] = df.basement.fillna(0)"
   ]
  },
  {
   "cell_type": "markdown",
   "metadata": {},
   "source": [
    "Confirm that we have a true indicator variable:"
   ]
  },
  {
   "cell_type": "code",
   "execution_count": null,
   "metadata": {},
   "outputs": [],
   "source": [
    "# Display unique values of 'basement'\n",
    "df.basement.unique()"
   ]
  },
  {
   "cell_type": "markdown",
   "metadata": {},
   "source": [
    "Next, to check for typos or inconsistent capitalization, display all the class distributions for the <code style=\"color:steelblue\">'roof'</code> feature."
   ]
  },
  {
   "cell_type": "code",
   "execution_count": null,
   "metadata": {
    "scrolled": false
   },
   "outputs": [],
   "source": [
    "# Class distributions for 'roof'\n",
    "_ = sns.countplot(y='roof', data=df)"
   ]
  },
  {
   "cell_type": "markdown",
   "metadata": {},
   "source": [
    "Make these changes:\n",
    "* <code style=\"color:crimson\">'composition'</code> should be <code style=\"color:crimson\">'Composition'</code>\n",
    "* <code style=\"color:crimson\">'asphalt'</code> should be <code style=\"color:crimson\">'Asphalt'</code>\n",
    "* <code style=\"color:crimson\">'shake-shingle'</code> should be <code style=\"color:crimson\">'Shake Shingle'</code>\n",
    "* We also might as well change <code style=\"color:crimson\">'asphalt,shake-shingle'</code> to <code style=\"color:crimson\">'Shake Shingle'</code>"
   ]
  },
  {
   "cell_type": "code",
   "execution_count": null,
   "metadata": {},
   "outputs": [],
   "source": [
    "# 'composition' should be 'Composition'\n",
    "df.roof.replace('composition', 'Composition', inplace=True)"
   ]
  },
  {
   "cell_type": "code",
   "execution_count": null,
   "metadata": {},
   "outputs": [],
   "source": [
    "# 'asphalt' should be 'Asphalt'\n",
    "df.roof.replace('asphalt', 'Asphalt', inplace=True)"
   ]
  },
  {
   "cell_type": "code",
   "execution_count": null,
   "metadata": {},
   "outputs": [],
   "source": [
    "# 'shake-shingle' and 'asphalt,shake-shingle' should be 'Shake Shingle'\n",
    "df.roof.replace(['shake-shingle', 'ashpalt, shake-shingle', 'asphalt,shake-shingle'], 'Shake Shingle', inplace=True)"
   ]
  },
  {
   "cell_type": "markdown",
   "metadata": {},
   "source": [
    "Finally, we'll check for mislabeled classes. Plot the class distributions for <code style=\"color:steelblue\">'exterior_walls'</code>."
   ]
  },
  {
   "cell_type": "code",
   "execution_count": null,
   "metadata": {},
   "outputs": [],
   "source": [
    "# Class distributions for 'exterior_walls'\n",
    "sns.countplot(y='exterior_walls', data=df)"
   ]
  },
  {
   "cell_type": "markdown",
   "metadata": {},
   "source": [
    "Let's fix these in the next exercise:\n",
    "* <code style=\"color:crimson\">'Rock, Stone'</code> should be <code style=\"color:crimson\">'Masonry'</code>\n",
    "* <code style=\"color:crimson\">'Concrete'</code> and <code style=\"color:crimson\">'Block'</code> should both just be <code style=\"color:crimson\">'Concrete Block'</code>"
   ]
  },
  {
   "cell_type": "markdown",
   "metadata": {},
   "source": [
    "<br><hr style=\"border-color:royalblue;background-color:royalblue;height:1px;\">\n",
    "## <span style=\"color:RoyalBlue\">Exercise 2.1</span>\n",
    "\n",
    "**First, replace any instances of <code style=\"color:steelblue\">'Rock, Stone'</code> with <code style=\"color:steelblue\">'Masonry'</code> instead.**\n",
    "* Remember to do it inplace."
   ]
  },
  {
   "cell_type": "code",
   "execution_count": null,
   "metadata": {},
   "outputs": [],
   "source": [
    "# 'Rock, Stone' should be 'Masonry'\n",
    "df.exterior_walls.replace('Rock, Stone', 'Masonry', inplace=True)\n"
   ]
  },
  {
   "cell_type": "markdown",
   "metadata": {},
   "source": [
    "**Next, replace any instances of <code style=\"color:steelblue\">'Concrete'</code> or <code style=\"color:steelblue\">'Block'</code> with <code style=\"color:steelblue\">'Concrete Block'</code> instead.**\n",
    "* Remember to do it inplace."
   ]
  },
  {
   "cell_type": "code",
   "execution_count": null,
   "metadata": {},
   "outputs": [],
   "source": [
    "# 'Concrete' and 'Block' should be 'Concrete Block'\n",
    "df.exterior_walls.replace(['Concrete', 'Block'], 'Concrete Block', inplace=True)"
   ]
  },
  {
   "cell_type": "markdown",
   "metadata": {},
   "source": [
    "**Finally, plot the bar plot of <code style=\"color:steelblue\">'exterior_walls'</code> to see its new distribution.**"
   ]
  },
  {
   "cell_type": "code",
   "execution_count": null,
   "metadata": {},
   "outputs": [],
   "source": [
    "# Class distributions for 'exterior_walls'\n",
    "sns.countplot(y='exterior_walls', data=df)"
   ]
  },
  {
   "cell_type": "markdown",
   "metadata": {},
   "source": [
    "<hr style=\"border-color:royalblue;background-color:royalblue;height:1px;\">\n",
    "\n",
    "<div style=\"text-align:center; margin: 40px 0 40px 0;\">\n",
    "    \n",
    "[**Back to Contents**](#toc)\n",
    "</div>"
   ]
  },
  {
   "cell_type": "markdown",
   "metadata": {},
   "source": [
    "<br id=\"outliers\">\n",
    "\n",
    "# 3. Remove unwanted outliers\n",
    "\n",
    "Outliers can cause problems with certain types of models.\n",
    "\n",
    "<br>\n",
    "Start with a box plot of your target variable, since that's the variable that you're actually trying to predict."
   ]
  },
  {
   "cell_type": "code",
   "execution_count": null,
   "metadata": {},
   "outputs": [],
   "source": [
    "# Box plot of 'tx_price' using the Seaborn library\n",
    "_ = sns.boxplot(df['tx_price'])"
   ]
  },
  {
   "cell_type": "markdown",
   "metadata": {},
   "source": [
    "To show more information, make violin plot of transaction price. \n",
    "* What's the difference between box plots and violin plots?"
   ]
  },
  {
   "cell_type": "code",
   "execution_count": null,
   "metadata": {},
   "outputs": [],
   "source": [
    "# Violin plot of 'tx_price' using the Seaborn library\n",
    "sns.boxplot(df.tx_price)\n",
    "plt.xlim(0, 1000000)\n",
    "plt.show()\n",
    "\n",
    "sns.violinplot(df.tx_price)\n",
    "plt.show()"
   ]
  },
  {
   "cell_type": "markdown",
   "metadata": {},
   "source": [
    "<br><hr style=\"border-color:royalblue;background-color:royalblue;height:1px;\">\n",
    "## <span style=\"color:RoyalBlue\">Exercise 2.2</span>\n",
    "\n",
    "**Plot the violin plots for <code style=\"color:steelblue\">'beds'</code>, <code style=\"color:steelblue\">'sqft'</code>, and <code style=\"color:steelblue\">'lot_size'</code>.**\n",
    "* **Tip:** If you want to plot multiple charts in the same code cell, remember to separate them by <code style=\"color:steelblue\">plt.show()</code>, or else they will overlap."
   ]
  },
  {
   "cell_type": "code",
   "execution_count": null,
   "metadata": {},
   "outputs": [],
   "source": [
    "# Violin plot of beds\n",
    "sns.violinplot(df.beds)\n",
    "plt.show()\n",
    "\n",
    "# Violin plot of sqft\n",
    "sns.violinplot(df.sqft)\n",
    "plt.show()\n",
    "\n",
    "# Violin plot of lot_size\n",
    "sns.violinplot(df.lot_size)\n",
    "plt.show()\n"
   ]
  },
  {
   "cell_type": "markdown",
   "metadata": {},
   "source": [
    "Among those three features, it looks like <code style=\"color:steelblue\">lot_size</code> has a potential outlier! \n",
    "* Look at its long and skinny tail.\n",
    "* Let's look at the largest 5 lot sizes just to confirm.\n",
    "\n",
    "<br>\n",
    "\n",
    "**Sort <code style=\"color:steelblue\">df.lot_size</code> and display the top 5 samples.**\n",
    "* You can sort a Series with the <code style=\"color:steelblue\">.sort_values()</code> function.\n",
    "* **Tip:** <code style=\"color:steelblue\">.sort_values()</code> has an argument called <code style=\"color:steelblue\">ascending=</code>. By default, it's <code style=\"color:steelblue\">True</code>\n",
    "* **Tip:** You can chain functions together. This exercise can be completed in 1 line of code."
   ]
  },
  {
   "cell_type": "code",
   "execution_count": null,
   "metadata": {},
   "outputs": [],
   "source": [
    "# Sort df.lot_size and display the top 5 samples\n",
    "df['lot_size'].sort_values(ascending=False).head()"
   ]
  },
  {
   "cell_type": "markdown",
   "metadata": {},
   "source": [
    "The largest property has a lot_size of 1,220,551 sqft. The next largest has a lot_size of only 436,471 sqft. Holy smokes!\n",
    "\n",
    "Because it's unlikely the REIT will ever invest in properties with lots that large, and because it's the only one in the dataset, let's remove it so it doesn't interfere with our ability to model normal size properties.\n",
    "\n",
    "<br>\n",
    "\n",
    "**Remove observations with <code style=\"color:steelblue\">lot_size</code> greater than 500,000 sqft.**\n",
    "* You can use a boolean mask to do so (filter to keep only wanted observations)\n",
    "* Overwrite the existing <code style=\"color:steelblue\">df</code> object\n",
    "* Print the length of the new <code style=\"color:steelblue\">df</code> object."
   ]
  },
  {
   "cell_type": "code",
   "execution_count": null,
   "metadata": {},
   "outputs": [],
   "source": [
    "# Remove lot_size outliers\n",
    "df = df[df[\"lot_size\"] <= 500000]\n",
    "# print length of df\n",
    "print(len(df))"
   ]
  },
  {
   "cell_type": "markdown",
   "metadata": {},
   "source": [
    "<hr style=\"border-color:royalblue;background-color:royalblue;height:1px;\">\n",
    "\n",
    "<div style=\"text-align:center; margin: 40px 0 40px 0;\">\n",
    "    \n",
    "[**Back to Contents**](#toc)\n",
    "</div>"
   ]
  },
  {
   "cell_type": "markdown",
   "metadata": {},
   "source": [
    "<br id=\"missing-categorical\">\n",
    "\n",
    "# 4. Label missing categorical data\n",
    "\n",
    "It's finally time to address missing data.\n",
    "\n",
    "<br>\n",
    "First, find and count the missing categorical data."
   ]
  },
  {
   "cell_type": "code",
   "execution_count": null,
   "metadata": {},
   "outputs": [],
   "source": [
    "# Display number of missing values by feature (categorical)\n",
    "df.select_dtypes(include=['object']).isnull().sum()"
   ]
  },
  {
   "cell_type": "markdown",
   "metadata": {},
   "source": [
    "In the next exercise, we'll write a loop for labeling missing values in all of our categorical features."
   ]
  },
  {
   "cell_type": "markdown",
   "metadata": {},
   "source": [
    "<br><hr style=\"border-color:royalblue;background-color:royalblue;height:1px;\">\n",
    "## <span style=\"color:RoyalBlue\">Exercise 2.3</span>\n",
    "\n",
    "**Write a loop that fills all the missing values for categorical features with the value <code style=\"color:steelblue\">'Missing'</code>.**\n",
    "* **Tip:** There's a shortcut for looping through categorical column names:\n",
    "\n",
    "\n",
    "<pre style=\"color:#bbb\">\n",
    "for column in <strong style=\"color:steelblue\">df.select_dtypes(include=['object'])</strong>:\n",
    "    # code block\n",
    "</pre>"
   ]
  },
  {
   "cell_type": "code",
   "execution_count": null,
   "metadata": {},
   "outputs": [],
   "source": [
    "# Fill missing categorical values\n",
    "for column in df.select_dtypes(include=['object']):\n",
    "    df[column] = df[column].fillna('Missing')"
   ]
  },
  {
   "cell_type": "markdown",
   "metadata": {},
   "source": [
    "**Now, display the number of missing values for each categorical feature.**"
   ]
  },
  {
   "cell_type": "code",
   "execution_count": null,
   "metadata": {},
   "outputs": [],
   "source": [
    "# Display number of missing values by feature (categorical)\n",
    "df.select_dtypes(include=['object']).isnull().sum()"
   ]
  },
  {
   "cell_type": "markdown",
   "metadata": {},
   "source": [
    "<hr style=\"border-color:royalblue;background-color:royalblue;height:1px;\">\n",
    "\n",
    "<div style=\"text-align:center; margin: 40px 0 40px 0;\">\n",
    "    \n",
    "[**Back to Contents**](#toc)\n",
    "</div>"
   ]
  },
  {
   "cell_type": "markdown",
   "metadata": {},
   "source": [
    "<br id=\"missing-numeric\">\n",
    "\n",
    "# 5. Flag and fill missing numeric data\n",
    "\n",
    "Finally, let's flag and fill missing numeric data.\n",
    "\n",
    "<br>\n",
    "First, let's find and count missing values in numerical feature."
   ]
  },
  {
   "cell_type": "code",
   "execution_count": null,
   "metadata": {},
   "outputs": [],
   "source": [
    "# Display number of missing values by feature (numeric)\n",
    "df.select_dtypes(exclude=['object']).isnull().sum()"
   ]
  },
  {
   "cell_type": "markdown",
   "metadata": {},
   "source": [
    "Well, it looks like we don't have any numerical features with missing values in this dataset.\n",
    "\n",
    "\n",
    "<div style=\"text-align:center; margin: 40px 0 40px 0; font-weight:bold\">\n",
    "    \n",
    "[**Back to Contents**](#toc)\n",
    "</div>"
   ]
  },
  {
   "cell_type": "markdown",
   "metadata": {},
   "source": [
    "<br>\n",
    "\n",
    "### Finally, let's save the cleaned dataframe.\n",
    "\n",
    "Let's save the new dataframe we worked hard to clean.\n",
    "* We'll use Pandas's <code style=\"color:steelblue\">.to_csv()</code> function.\n",
    "* We set <code style=\"color:steelblue\">index=<span style=\"color:crimson\">None</span></code> so that Pandas drops the indices and only stores the actual data in the CSV."
   ]
  },
  {
   "cell_type": "code",
   "execution_count": null,
   "metadata": {},
   "outputs": [],
   "source": [
    "# Save cleaned dataframe to new file\n",
    "df.to_csv('./project_files/cleaned_real_estate.csv', index=None)"
   ]
  },
  {
   "cell_type": "markdown",
   "metadata": {},
   "source": [
    "Now we have a clean dataset <code style=\"color:steelblue\">'cleaned_real_estate.csv'</code> to use in the future!"
   ]
  },
  {
   "cell_type": "markdown",
   "metadata": {},
   "source": [
    "<br>\n",
    "\n",
    "Congratulations for making through the Data Cleaning lesson!\n",
    "\n",
    "As a reminder, here are a few things you did in this lesson:\n",
    "* You confirmed that the dataset doesn't have any duplicate and irrelevant observations.\n",
    "* You fixed various structural errors, such as mislabeled classes.\n",
    "* You removed an outlier after plotting violin plots.\n",
    "* And you labeled missing data in your categorical features.\n",
    "\n",
    "All of this cleaning will be extremely helpful. In the next lesson, <span style=\"color:royalblue\">Lesson 3: Feature Engineering</span>, you'll use your cleaned dataset to create new features that will improve model performance.\n",
    "\n",
    "<div style=\"text-align:center; margin: 40px 0 40px 0; font-weight:bold\">\n",
    "    \n",
    "[**Back to Contents**](#toc)\n",
    "</div>"
   ]
  },
  {
   "cell_type": "code",
   "execution_count": null,
   "metadata": {},
   "outputs": [],
   "source": []
  }
 ],
 "metadata": {
  "anaconda-cloud": {},
  "kernelspec": {
   "display_name": "Python 3",
   "language": "python",
   "name": "python3"
  },
  "language_info": {
   "codemirror_mode": {
    "name": "ipython",
    "version": 3
   },
   "file_extension": ".py",
   "mimetype": "text/x-python",
   "name": "python",
   "nbconvert_exporter": "python",
   "pygments_lexer": "ipython3",
   "version": "3.7.1"
  }
 },
 "nbformat": 4,
 "nbformat_minor": 1
}
