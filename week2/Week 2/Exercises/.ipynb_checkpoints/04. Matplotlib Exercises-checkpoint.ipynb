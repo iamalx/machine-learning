{
 "cells": [
  {
   "cell_type": "markdown",
   "metadata": {},
   "source": [
    "# Matplotlib Exercises \n",
    "\n",
    "Welcome to the exercises for reviewing matplotlib! Take your time with these, Matplotlib can be tricky to understand at first. These are relatively simple plots, but they can be hard if this is your first time with matplotlib, feel free to reference the solutions as you go along.\n",
    "\n",
    "Also don't worry if you find the matplotlib syntax frustrating, we actually won't be using it that often throughout the course, we will switch to using seaborn and pandas built-in visualization capabilities. But, those are built-off of matplotlib, which is why it is still important to get exposure to it!\n",
    "\n",
    "**NOTE: ALL THE COMMANDS FOR PLOTTING A FIGURE SHOULD ALL GO IN THE SAME CELL. SEPARATING THEM OUT INTO MULTIPLE CELLS MAY CAUSE NOTHING TO SHOW UP.**"
   ]
  },
  {
   "cell_type": "markdown",
   "metadata": {},
   "source": [
    "# Exercises\n",
    "\n",
    "Follow the instructions to recreate the plots using this data:"
   ]
  },
  {
   "cell_type": "markdown",
   "metadata": {},
   "source": [
    "## Imports"
   ]
  },
  {
   "cell_type": "markdown",
   "metadata": {},
   "source": [
    "* `import` matplotlib.pyplot\n",
    "\n",
    "* `import` numpy"
   ]
  },
  {
   "cell_type": "code",
   "execution_count": 63,
   "metadata": {},
   "outputs": [],
   "source": [
    "import matplotlib.pyplot as plt\n",
    "import numpy as np"
   ]
  },
  {
   "cell_type": "markdown",
   "metadata": {},
   "source": [
    "## Data"
   ]
  },
  {
   "cell_type": "code",
   "execution_count": 5,
   "metadata": {},
   "outputs": [],
   "source": [
    "x = np.arange(0,100)\n",
    "y = x*2\n",
    "z = x**2"
   ]
  },
  {
   "cell_type": "markdown",
   "metadata": {},
   "source": [
    "<hr>\n",
    "<br>\n",
    "<br>"
   ]
  },
  {
   "cell_type": "markdown",
   "metadata": {},
   "source": [
    "## Exercise 1\n",
    "\n",
    "**Follow along with these steps:**\n",
    "1. **Create a figure object called `fig`, use the `plt.figure()` method.**\n",
    "\n",
    "2. **Create an `axes` object called `ax`, use the `gca()` method on the `fig` object to grab this `axes` object**\n",
    "\n",
    "3. **Create a `plot`, use the `plot()` method on the `ax` object.** \n",
    "\n",
    "4. **Pass in `x` and `y` as the arguments to `plot()` as well as the appropriate value to the `color` parameter!**"
   ]
  },
  {
   "cell_type": "code",
   "execution_count": null,
   "metadata": {},
   "outputs": [],
   "source": []
  },
  {
   "cell_type": "code",
   "execution_count": 51,
   "metadata": {},
   "outputs": [
    {
     "data": {
      "image/png": "[encoded data removed]",
      "text/plain": [
       "<Figure size 432x288 with 1 Axes>"
      ]
     },
     "metadata": {
      "needs_background": "light"
     },
     "output_type": "display_data"
    }
   ],
   "source": [
    "# DO NOT run THIS cell, it WILL ERASE the plot \n",
    "# that you are trying to mimic."
   ]
  },
  {
   "cell_type": "markdown",
   "metadata": {},
   "source": [
    "<hr>\n",
    "<br>\n",
    "<br>"
   ]
  },
  {
   "cell_type": "markdown",
   "metadata": {},
   "source": [
    "## Exercise 2\n",
    "\n",
    "**Follow along with these steps:**\n",
    "1. **Create `figure` and `axes` objects called `fig` and `ax`, use the `plt.subplots()` method to create a `1 x 2` plot!**\n",
    "\n",
    ">Hint: `nrows` and `ncols` parameters will come in handy!\n",
    "\n",
    "2. **Create both plots, use the `plot()` method on the `ax` object, remember that since we have a `1 x 2` plot `ax` will be a list, we have to index `ax` in order to access the `axes` we want to plot on** \n",
    "\n",
    "3. **Pass in `x` and `y` as the arguments to the `plot()` method on the left `axes`.**\n",
    "\n",
    "4. **Pass in `x` and `z` as the arguments to the `plot()` method on the right `axes`.** \n",
    "\n",
    "5. **Set the value of the `constrained_layout` parameter to true from inside the `plt.subplots()` call.**\n",
    "\n",
    "6. **use the `.show()` method on the `plt` object, to clean up the output.**"
   ]
  },
  {
   "cell_type": "code",
   "execution_count": null,
   "metadata": {},
   "outputs": [],
   "source": []
  },
  {
   "cell_type": "code",
   "execution_count": 62,
   "metadata": {},
   "outputs": [
    {
     "data": {
      "image/png": "[encoded data removed]",
      "text/plain": [
       "<Figure size 432x288 with 2 Axes>"
      ]
     },
     "metadata": {
      "needs_background": "light"
     },
     "output_type": "display_data"
    }
   ],
   "source": [
    "# DO NOT run THIS cell, it WILL ERASE the plot \n",
    "# that you are trying to mimic."
   ]
  },
  {
   "cell_type": "markdown",
   "metadata": {},
   "source": [
    "<hr>\n",
    "<br>\n",
    "<br>"
   ]
  },
  {
   "cell_type": "markdown",
   "metadata": {},
   "source": [
    "## Exercise 3\n",
    "1. Add titles to each `figure` and `ax`, remember the figure is like the canvas where either a single or multi `ax` sits, the `ax` is just a plot.\n",
    "> * `fig` method is `.suptitle()`\n",
    "> * `ax` method is `.set_title()`\n",
    "\n",
    "2. Add labels to the x and y axes for BOTH Exercises, this will be slightly different for each since Ex1 is a single `figure` with a single `ax` and Ex2 is a `subplot` with a multi `ax`.\n",
    "\n",
    "#### Ex1:\n",
    "* fig title: `\"Single Ax Plot\"`\n",
    "    * ax title: `\"y=2x\"`\n",
    "    * xlabel: `\"x\"`\n",
    "    * ylabel: `\"x * 2\"`\n",
    "\n",
    "\n",
    "\n",
    "#### Ex2:\n",
    "* fig title: `\"Multiple Ax Plot\"`\n",
    "\n",
    "* Left-axis\n",
    "    * ax title: `\"y = 2 * x\"`\n",
    "    * xlabel: `\"x\"`\n",
    "    * ylabel: `\"y\"`\n",
    "\n",
    "* Right-axis\n",
    "    * ax title: `\"z = 2 ** x\"`\n",
    "    * xlabel: `\"x\"`\n",
    "    * ylabel: `\"z\"`"
   ]
  },
  {
   "cell_type": "code",
   "execution_count": null,
   "metadata": {},
   "outputs": [],
   "source": []
  }
 ],
 "metadata": {
  "kernelspec": {
   "display_name": "Python 3",
   "language": "python",
   "name": "python3"
  },
  "language_info": {
   "codemirror_mode": {
    "name": "ipython",
    "version": 3
   },
   "file_extension": ".py",
   "mimetype": "text/x-python",
   "name": "python",
   "nbconvert_exporter": "python",
   "pygments_lexer": "ipython3",
   "version": "3.7.1"
  }
 },
 "nbformat": 4,
 "nbformat_minor": 1
}
