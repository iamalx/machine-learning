{
 "cells": [
  {
   "cell_type": "markdown",
   "metadata": {},
   "source": [
    "# 1. Populating a dictionary"
   ]
  },
  {
   "cell_type": "markdown",
   "metadata": {},
   "source": [
    "#### Create a dictionary by using all of the given variables. \n",
    "\n",
    ">Hint: Some of the `keys` in the final dictionary will have `values` that require combinations of soem of these varibles! \n",
    "\n",
    ">The `name` property of `my_dict` for example!"
   ]
  },
  {
   "cell_type": "code",
   "execution_count": null,
   "metadata": {},
   "outputs": [],
   "source": [
    "first_name = 'John'\n",
    "last_name = 'Doe'\n",
    "favorite_hobby = 'Python'\n",
    "sports_hobby = 'gym'\n",
    "age = 82"
   ]
  },
  {
   "cell_type": "markdown",
   "metadata": {},
   "source": [
    "#### Your Solution:"
   ]
  },
  {
   "cell_type": "code",
   "execution_count": 13,
   "metadata": {},
   "outputs": [],
   "source": [
    "my_dict = {\n",
    "    'name': 'John Doe',\n",
    "    'hobbies': ['Python', 'gym'],\n",
    "    \"age\": 82\n",
    "}"
   ]
  },
  {
   "cell_type": "markdown",
   "metadata": {},
   "source": [
    "#### Test Solution:"
   ]
  },
  {
   "cell_type": "code",
   "execution_count": 14,
   "metadata": {},
   "outputs": [],
   "source": [
    "assert my_dict == {\n",
    "        'name': 'John Doe',\n",
    "        'age': 82,\n",
    "        'hobbies': ['Python', 'gym']\n",
    "    }"
   ]
  },
  {
   "cell_type": "markdown",
   "metadata": {},
   "source": [
    "---\n",
    "<br>\n",
    "<br>"
   ]
  },
  {
   "cell_type": "markdown",
   "metadata": {},
   "source": [
    "# 2. Modifying a dictioanry"
   ]
  },
  {
   "cell_type": "markdown",
   "metadata": {},
   "source": [
    "Modify my dict the values of `my_dict` to contain **your** own information, i've provided the code for a for loop below that will \"pretty\" print the contents of `my_dict`"
   ]
  },
  {
   "cell_type": "markdown",
   "metadata": {},
   "source": [
    "Your Work here!"
   ]
  },
  {
   "cell_type": "code",
   "execution_count": 17,
   "metadata": {},
   "outputs": [
    {
     "name": "stdout",
     "output_type": "stream",
     "text": [
      "dict_items([('car', 'toyota'), ('age', '23'), ('height', '5,9'), ('place', 'SD')])\n"
     ]
    }
   ],
   "source": [
    "my_dict = {\n",
    "    'car': 'toyota',\n",
    "    'age': '23',\n",
    "    'height': '5,9',\n",
    "    'place': 'SD',    \n",
    "}\n",
    "print(my_dict.items())"
   ]
  },
  {
   "cell_type": "markdown",
   "metadata": {},
   "source": [
    "<br>"
   ]
  },
  {
   "cell_type": "markdown",
   "metadata": {},
   "source": [
    "This `For Loop` uses the following concepts:\n",
    "1. **For Loop**: We loop over the `my_dict.items()` `dict` method.\n",
    "<br>\n",
    "\n",
    "2. **`dict` Methods**: `my_dict.items()` results in a `list` of `tuples`\n",
    "<br>\n",
    "\n",
    "3. **Tuple Unpacking**: We can use this fact (2) to \"unpack\" each `tuple` into the `key` and `value` \"dummy\" variables.\n",
    "<br> \n",
    "\n",
    "4. **Print**: We use these `key` and `value` \"dummy\" variables to print every (`key`, `value`) dictionary pair —in `my_dict`, so that each pair gets its own line!\n",
    "<br>\n"
   ]
  },
  {
   "cell_type": "code",
   "execution_count": 16,
   "metadata": {},
   "outputs": [
    {
     "name": "stdout",
     "output_type": "stream",
     "text": [
      "car: toyota\n",
      "age: 23\n",
      "height: 5,9\n",
      "place: SD\n"
     ]
    }
   ],
   "source": [
    "for key, value in my_dict.items():\n",
    "    print(key + \":\", value)"
   ]
  },
  {
   "cell_type": "code",
   "execution_count": 10,
   "metadata": {},
   "outputs": [],
   "source": [
    "import pandas as pd"
   ]
  },
  {
   "cell_type": "code",
   "execution_count": 22,
   "metadata": {},
   "outputs": [],
   "source": [
    "df = pd.read_csv('weather.csv', )"
   ]
  },
  {
   "cell_type": "code",
   "execution_count": 23,
   "metadata": {},
   "outputs": [
    {
     "name": "stdout",
     "output_type": "stream",
     "text": [
      "     MinTemp  MaxTemp  Rainfall  Evaporation  Sunshine WindGustDir  \\\n",
      "0        8.0     24.3       0.0          3.4       6.3          NW   \n",
      "1       14.0     26.9       3.6          4.4       9.7         ENE   \n",
      "2       13.7     23.4       3.6          5.8       3.3          NW   \n",
      "3       13.3     15.5      39.8          7.2       9.1          NW   \n",
      "4        7.6     16.1       2.8          5.6      10.6         SSE   \n",
      "5        6.2     16.9       0.0          5.8       8.2          SE   \n",
      "6        6.1     18.2       0.2          4.2       8.4          SE   \n",
      "7        8.3     17.0       0.0          5.6       4.6           E   \n",
      "8        8.8     19.5       0.0          4.0       4.1           S   \n",
      "9        8.4     22.8      16.2          5.4       7.7           E   \n",
      "10       9.1     25.2       0.0          4.2      11.9           N   \n",
      "11       8.5     27.3       0.2          7.2      12.5           E   \n",
      "12      10.1     27.9       0.0          7.2      13.0         WNW   \n",
      "13      12.1     30.9       0.0          6.2      12.4          NW   \n",
      "14      10.1     31.2       0.0          8.8      13.1          NW   \n",
      "15      12.4     32.1       0.0          8.4      11.1           E   \n",
      "16      13.8     31.2       0.0          7.2       8.4         ESE   \n",
      "17      11.7     30.0       1.2          7.2      10.1           S   \n",
      "18      12.4     32.3       0.6          7.4      13.0           E   \n",
      "19      15.6     33.4       0.0          8.0      10.4          NE   \n",
      "20      15.3     33.4       0.0          8.8       9.5         WNW   \n",
      "21      16.4     19.4       0.4          9.2       0.0           E   \n",
      "22      12.8     18.5      25.8          2.8       0.6         ESE   \n",
      "23      12.0     24.3       0.4          1.2       7.5         NNE   \n",
      "24      15.4     28.4       0.0          4.4       8.1         ENE   \n",
      "25      15.6     26.9       0.0          6.8       8.9           E   \n",
      "26      13.3     22.2       0.2          6.6       2.3         ENE   \n",
      "27      12.9     28.0       0.0          4.4      10.7           S   \n",
      "28      15.1     24.3       0.0          7.0       0.4          SE   \n",
      "29      13.6     24.1       0.4          2.6       0.5         NNW   \n",
      "..       ...      ...       ...          ...       ...         ...   \n",
      "336      5.6     27.6       0.0          5.2      11.0          NW   \n",
      "337     16.8     28.9       0.0         10.0      10.8         NNW   \n",
      "338     14.4     20.7       7.6          9.4       4.9         NNW   \n",
      "339     10.3     21.3       3.0          4.2       6.7         NNW   \n",
      "340     11.2     18.0       0.0          4.8       8.4           W   \n",
      "341      0.3     16.0       8.2          5.4      11.8          NW   \n",
      "342      0.5     17.9       0.0          5.8      11.5           N   \n",
      "343      0.5     20.0       0.0          6.2      11.5         NNW   \n",
      "344      4.6     22.0       0.0          4.4      11.0           N   \n",
      "345      8.2     22.4       0.0          5.4      11.2          NW   \n",
      "346      4.5     23.9       0.0          4.8      11.7          NW   \n",
      "347      6.7     26.1       0.0          6.2       7.5         SSW   \n",
      "348     11.9     21.1      13.2          6.6       NaN          NW   \n",
      "349      9.2     19.6       0.6          3.4      10.4         ENE   \n",
      "350      4.4     21.0       0.0          4.2      12.2          NW   \n",
      "351      5.0     24.1       0.0          6.2      12.0         NNW   \n",
      "352      6.7     24.7       0.0          5.4       8.6          NW   \n",
      "353      8.3     28.5       0.0          5.8       9.8          NW   \n",
      "354     11.3     27.4       0.2          7.6      12.1          NW   \n",
      "355      9.0     20.6       0.0          9.0       6.2         ENE   \n",
      "356      3.4     15.0       0.8          4.8      11.7           S   \n",
      "357      3.2     18.0       0.0          7.4      12.2         SSE   \n",
      "358      0.9     20.7       0.0          5.4       8.4         NNW   \n",
      "359      3.3     25.5       0.0          5.2      10.8           N   \n",
      "360      7.9     26.1       0.0          6.8       3.5         NNW   \n",
      "361      9.0     30.7       0.0          7.6      12.1         NNW   \n",
      "362      7.1     28.4       0.0         11.6      12.7           N   \n",
      "363     12.5     19.9       0.0          8.4       5.3         ESE   \n",
      "364     12.5     26.9       0.0          5.0       7.1          NW   \n",
      "365     12.3     30.2       0.0          6.0      12.6          NW   \n",
      "\n",
      "     WindGustSpeed WindDir9am WindDir3pm  WindSpeed9am  ...  Humidity3pm  \\\n",
      "0             30.0         SW         NW           6.0  ...           29   \n",
      "1             39.0          E          W           4.0  ...           36   \n",
      "2             85.0          N        NNE           6.0  ...           69   \n",
      "3             54.0        WNW          W          30.0  ...           56   \n",
      "4             50.0        SSE        ESE          20.0  ...           49   \n",
      "5             44.0         SE          E          20.0  ...           57   \n",
      "6             43.0         SE        ESE          19.0  ...           47   \n",
      "7             41.0         SE          E          11.0  ...           57   \n",
      "8             48.0          E        ENE          19.0  ...           48   \n",
      "9             31.0          S        ESE           7.0  ...           32   \n",
      "10            30.0         SE         NW           6.0  ...           34   \n",
      "11            41.0          E         NW           2.0  ...           35   \n",
      "12            30.0          S         NW           6.0  ...           29   \n",
      "13            44.0        WNW          W           7.0  ...           20   \n",
      "14            41.0          S          W           6.0  ...           16   \n",
      "15            46.0         SE        WSW           7.0  ...           22   \n",
      "16            44.0        WSW          W           6.0  ...           23   \n",
      "17            52.0         SW         NE           6.0  ...           26   \n",
      "18            39.0        NNE          W           4.0  ...           25   \n",
      "19            33.0        NNW        NNW           2.0  ...           27   \n",
      "20            59.0          N         NW           2.0  ...           26   \n",
      "21            26.0        ENE          E           6.0  ...           72   \n",
      "22            28.0          S         SE          13.0  ...           79   \n",
      "23            26.0        WSW         NE           6.0  ...           57   \n",
      "24            33.0        SSE         NE           9.0  ...           31   \n",
      "25            41.0          E          E           6.0  ...           48   \n",
      "26            39.0          E          E          20.0  ...           55   \n",
      "27            52.0          S        NNE           6.0  ...           31   \n",
      "28            39.0         SE         SE           7.0  ...           80   \n",
      "29            30.0        SSW          S           6.0  ...           49   \n",
      "..             ...        ...        ...           ...  ...          ...   \n",
      "336           46.0        NNW         NW          15.0  ...           21   \n",
      "337           70.0         NW         NW          31.0  ...           22   \n",
      "338           33.0        NNW        NNW          20.0  ...           65   \n",
      "339           43.0        ENE          N           7.0  ...           46   \n",
      "340           65.0          N          W          24.0  ...           40   \n",
      "341           57.0        NNW          N          11.0  ...           45   \n",
      "342           44.0        NNE        NNW           2.0  ...           33   \n",
      "343           31.0          S          N           2.0  ...           22   \n",
      "344           41.0        NNW          N           6.0  ...           25   \n",
      "345           31.0        SSW         NW           2.0  ...           30   \n",
      "346           30.0        ENE        NNW           4.0  ...           27   \n",
      "347           70.0         NE        NNW           6.0  ...           47   \n",
      "348           41.0        NNE          N           7.0  ...           61   \n",
      "349           31.0        SSE        NNW           4.0  ...           42   \n",
      "350           28.0         SW         NW           2.0  ...           30   \n",
      "351           52.0        NaN        NNW           0.0  ...           34   \n",
      "352           43.0          N         NW           4.0  ...           31   \n",
      "353           46.0          W         NW           2.0  ...           30   \n",
      "354           52.0         SE         NW           6.0  ...           20   \n",
      "355           39.0          S         SW          11.0  ...           28   \n",
      "356           70.0          S          S          35.0  ...           24   \n",
      "357           48.0        SSE          S          26.0  ...           25   \n",
      "358           39.0        SSE          N           2.0  ...           29   \n",
      "359           43.0          N        NNW           4.0  ...           16   \n",
      "360           43.0        NaN        WNW           0.0  ...           20   \n",
      "361           76.0        SSE         NW           7.0  ...           15   \n",
      "362           48.0        NNW        NNW           2.0  ...           22   \n",
      "363           43.0        ENE        ENE          11.0  ...           47   \n",
      "364           46.0        SSW        WNW           6.0  ...           39   \n",
      "365           78.0         NW        WNW          31.0  ...           13   \n",
      "\n",
      "     Pressure9am  Pressure3pm  Cloud9am  Cloud3pm  Temp9am  Temp3pm  \\\n",
      "0         1019.7       1015.0         7         7     14.4     23.6   \n",
      "1         1012.4       1008.4         5         3     17.5     25.7   \n",
      "2         1009.5       1007.2         8         7     15.4     20.2   \n",
      "3         1005.5       1007.0         2         7     13.5     14.1   \n",
      "4         1018.3       1018.5         7         7     11.1     15.4   \n",
      "5         1023.8       1021.7         7         5     10.9     14.8   \n",
      "6         1024.6       1022.2         4         6     12.4     17.3   \n",
      "7         1026.2       1024.2         6         7     12.1     15.5   \n",
      "8         1026.1       1022.7         7         7     14.1     18.9   \n",
      "9         1024.1       1020.7         7         1     13.3     21.7   \n",
      "10        1024.4       1021.1         1         2     14.6     24.0   \n",
      "11        1023.8       1019.9         0         3     16.8     26.0   \n",
      "12        1022.0       1017.1         0         1     17.0     27.1   \n",
      "13        1017.3       1013.1         1         4     19.7     30.7   \n",
      "14        1018.2       1013.7         0         1     18.7     30.4   \n",
      "15        1017.9       1012.8         0         3     19.1     30.7   \n",
      "16        1014.4       1009.8         7         6     20.2     29.8   \n",
      "17        1016.4       1013.0         1         5     20.1     28.6   \n",
      "18        1017.1       1013.3         1         3     20.2     31.2   \n",
      "19        1018.5       1013.7         0         1     22.8     32.0   \n",
      "20        1012.4       1006.5         1         5     22.2     32.8   \n",
      "21        1010.7       1008.9         8         8     16.5     18.3   \n",
      "22        1014.0       1014.9         8         8     14.0     16.8   \n",
      "23        1020.7       1019.2         7         5     17.8     22.8   \n",
      "24        1022.4       1018.6         8         2     16.8     27.3   \n",
      "25        1019.7       1016.5         2         4     19.8     25.1   \n",
      "26        1021.0       1018.6         7         7     16.5     21.2   \n",
      "27        1019.2       1014.8         5         7     18.8     26.7   \n",
      "28        1019.0       1017.1         7         7     18.9     19.7   \n",
      "29        1017.2       1013.3         8         7     17.3     23.2   \n",
      "..           ...          ...       ...       ...      ...      ...   \n",
      "336       1017.7       1014.1         0         0     19.0     26.7   \n",
      "337       1016.3       1011.8         1         1     22.5     28.4   \n",
      "338       1015.5       1013.2         8         4     14.5     19.3   \n",
      "339       1018.1       1013.6         8         1     11.7     19.8   \n",
      "340       1009.5       1005.3         5         4     12.8     16.2   \n",
      "341       1016.8       1013.3         1         1      6.9     14.6   \n",
      "342       1019.1       1017.5         0         1      7.2     16.6   \n",
      "343       1026.2       1024.2         0         1      8.1     18.8   \n",
      "344       1028.8       1024.9         1         2     10.0     21.4   \n",
      "345       1027.8       1023.8         1         3     13.6     20.6   \n",
      "346       1025.8       1021.5         0         4     12.6     22.3   \n",
      "347       1020.9       1016.0         4         7     16.3     23.2   \n",
      "348       1019.2       1016.7         7         3     14.5     19.4   \n",
      "349       1022.3       1019.7         7         4     11.6     18.4   \n",
      "350       1025.7       1022.3         1         1      9.6     19.2   \n",
      "351       1024.5       1020.7         6         1     11.6     21.9   \n",
      "352       1025.7       1022.2         1         7     12.7     23.7   \n",
      "353       1024.1       1019.8         1         6     16.8     27.4   \n",
      "354       1021.4       1017.5         1         1     16.4     26.3   \n",
      "355       1022.3       1018.6         7         5     11.4     18.5   \n",
      "356       1023.4       1023.1         1         5      8.3     14.3   \n",
      "357       1026.6       1022.8         1         2      9.1     16.3   \n",
      "358       1023.2       1018.4         3         8      9.4     19.1   \n",
      "359       1018.8       1014.6         0         3     12.0     24.8   \n",
      "360       1017.6       1014.2         5         8     16.3     25.9   \n",
      "361       1016.1       1010.8         1         3     20.4     30.0   \n",
      "362       1020.0       1016.9         0         1     17.2     28.2   \n",
      "363       1024.0       1022.8         3         2     14.5     18.3   \n",
      "364       1021.0       1016.2         6         7     15.8     25.9   \n",
      "365       1009.6       1009.2         1         1     23.8     28.6   \n",
      "\n",
      "     RainToday  RISK_MM RainTomorrow  \n",
      "0           No      3.6          Yes  \n",
      "1          Yes      3.6          Yes  \n",
      "2          Yes     39.8          Yes  \n",
      "3          Yes      2.8          Yes  \n",
      "4          Yes      0.0           No  \n",
      "5           No      0.2           No  \n",
      "6           No      0.0           No  \n",
      "7           No      0.0           No  \n",
      "8           No     16.2          Yes  \n",
      "9          Yes      0.0           No  \n",
      "10          No      0.2           No  \n",
      "11          No      0.0           No  \n",
      "12          No      0.0           No  \n",
      "13          No      0.0           No  \n",
      "14          No      0.0           No  \n",
      "15          No      0.0           No  \n",
      "16          No      1.2          Yes  \n",
      "17         Yes      0.6           No  \n",
      "18          No      0.0           No  \n",
      "19          No      0.0           No  \n",
      "20          No      0.4           No  \n",
      "21          No     25.8          Yes  \n",
      "22         Yes      0.4           No  \n",
      "23          No      0.0           No  \n",
      "24          No      0.0           No  \n",
      "25          No      0.2           No  \n",
      "26          No      0.0           No  \n",
      "27          No      0.0           No  \n",
      "28          No      0.4           No  \n",
      "29          No     22.6          Yes  \n",
      "..         ...      ...          ...  \n",
      "336         No      0.0           No  \n",
      "337         No      7.6          Yes  \n",
      "338        Yes      3.0          Yes  \n",
      "339        Yes      0.0           No  \n",
      "340         No      8.2          Yes  \n",
      "341        Yes      0.0           No  \n",
      "342         No      0.0           No  \n",
      "343         No      0.0           No  \n",
      "344         No      0.0           No  \n",
      "345         No      0.0           No  \n",
      "346         No      0.0           No  \n",
      "347         No     13.2          Yes  \n",
      "348        Yes      0.6           No  \n",
      "349         No      0.0           No  \n",
      "350         No      0.0           No  \n",
      "351         No      0.0           No  \n",
      "352         No      0.0           No  \n",
      "353         No      0.2           No  \n",
      "354         No      0.0           No  \n",
      "355         No      0.8           No  \n",
      "356         No      0.0           No  \n",
      "357         No      0.0           No  \n",
      "358         No      0.0           No  \n",
      "359         No      0.0           No  \n",
      "360         No      0.0           No  \n",
      "361         No      0.0           No  \n",
      "362         No      0.0           No  \n",
      "363         No      0.0           No  \n",
      "364         No      0.0           No  \n",
      "365         No      0.0           No  \n",
      "\n",
      "[366 rows x 22 columns]\n"
     ]
    }
   ],
   "source": [
    "print(df)"
   ]
  },
  {
   "cell_type": "code",
   "execution_count": null,
   "metadata": {},
   "outputs": [],
   "source": []
  },
  {
   "cell_type": "code",
   "execution_count": null,
   "metadata": {},
   "outputs": [],
   "source": []
  }
 ],
 "metadata": {
  "kernelspec": {
   "display_name": "Python 3",
   "language": "python",
   "name": "python3"
  },
  "language_info": {
   "codemirror_mode": {
    "name": "ipython",
    "version": 3
   },
   "file_extension": ".py",
   "mimetype": "text/x-python",
   "name": "python",
   "nbconvert_exporter": "python",
   "pygments_lexer": "ipython3",
   "version": "3.7.3"
  }
 },
 "nbformat": 4,
 "nbformat_minor": 2
}
