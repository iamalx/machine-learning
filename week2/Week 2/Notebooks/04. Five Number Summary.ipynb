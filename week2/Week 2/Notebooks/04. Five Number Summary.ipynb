{
 "cells": [
  {
   "cell_type": "markdown",
   "metadata": {},
   "source": [
    "# Analyzing Distributions of Numbers"
   ]
  },
  {
   "cell_type": "markdown",
   "metadata": {},
   "source": [
    "### Import `numpy` library"
   ]
  },
  {
   "cell_type": "markdown",
   "metadata": {},
   "source": [
    "```python\n",
    "import numpy as np\n",
    "```"
   ]
  },
  {
   "cell_type": "code",
   "execution_count": 1,
   "metadata": {},
   "outputs": [],
   "source": [
    "import numpy as np"
   ]
  },
  {
   "cell_type": "markdown",
   "metadata": {},
   "source": [
    "<hr>\n",
    "<br>\n",
    "<br>"
   ]
  },
  {
   "cell_type": "markdown",
   "metadata": {},
   "source": [
    "## Central Tendency: Mean vs Median"
   ]
  },
  {
   "cell_type": "markdown",
   "metadata": {},
   "source": [
    "```python\n",
    "some_dist = np.array([0,1,2,3,4,5,6,7,8,9,10,34,56,100])\n",
    "print(some_dist)\n",
    "\n",
    "print(\"mean:\", np.mean(some_dist))\n",
    "print(\"median:\", np.median(some_dist))\n",
    "```"
   ]
  },
  {
   "cell_type": "code",
   "execution_count": 7,
   "metadata": {},
   "outputs": [
    {
     "name": "stdout",
     "output_type": "stream",
     "text": [
      "[ 0  1  2  3  4  5  6  7  8  9 10]\n",
      "mean: 5.0\n",
      "median: 5.0\n"
     ]
    }
   ],
   "source": [
    "some_dist = np.array([0,1,2,3,4,5,6,7,8,9,10])\n",
    "print(some_dist)\n",
    "\n",
    "print(\"mean:\", np.mean(some_dist))\n",
    "print(\"median:\", np.median(some_dist))\n"
   ]
  },
  {
   "cell_type": "code",
   "execution_count": 8,
   "metadata": {},
   "outputs": [
    {
     "name": "stdout",
     "output_type": "stream",
     "text": [
      "[  0   1   2   3   4   5   6   7   8   9  10  34  56 100]\n",
      "mean: 17.5\n",
      "median: 6.5\n"
     ]
    }
   ],
   "source": [
    "some_dist = np.array([0,1,2,3,4,5,6,7,8,9,10,34,56,100])\n",
    "print(some_dist)\n",
    "\n",
    "print(\"mean:\", np.mean(some_dist))\n",
    "print(\"median:\", np.median(some_dist))"
   ]
  },
  {
   "cell_type": "markdown",
   "metadata": {},
   "source": [
    "<hr>\n",
    "<br>\n",
    "<br>"
   ]
  },
  {
   "cell_type": "markdown",
   "metadata": {},
   "source": [
    "## Generating \"Fake\" Data"
   ]
  },
  {
   "cell_type": "markdown",
   "metadata": {},
   "source": [
    "#### Custom Function"
   ]
  },
  {
   "cell_type": "markdown",
   "metadata": {},
   "source": [
    "```python\n",
    "def generate_data(array, n_samples=100):\n",
    "    indices = np.random.randint(0, array.shape[0], size=n_samples)\n",
    "    return array[indices]\n",
    "\n",
    "\n",
    "# We'll use these from within `generate_data` to see what it's doing.\n",
    "#     print(\"len of 'indices':\", len(indices))\n",
    "#     print(\"------\")\n",
    "#     print(\"what is this?:\\n\", indices)\n",
    "#     print(\"------\")\n",
    "```"
   ]
  },
  {
   "cell_type": "code",
   "execution_count": 29,
   "metadata": {},
   "outputs": [
    {
     "name": "stdout",
     "output_type": "stream",
     "text": [
      "(5,) 5 [1 2 3 4 5]\n"
     ]
    }
   ],
   "source": [
    "def generate_data(array, n_samples=100):\n",
    "    indices = np.random.randint(0, array.shape[0], size=n_samples)\n",
    "    print(array.shape, array.shape[0], array)\n",
    "    return array[indices]\n",
    "sample = np.array([1,2,3,4,5])\n",
    "gen_data = generate_data(sample, 1000)\n"
   ]
  },
  {
   "cell_type": "markdown",
   "metadata": {},
   "source": [
    "#### Create an \"over\" sampling from original sample"
   ]
  },
  {
   "cell_type": "markdown",
   "metadata": {},
   "source": [
    "```python\n",
    "sample = np.array([1,2,3,4,5])\n",
    "gen_data = generate_samples(sample, 1000)\n",
    "\n",
    "print(sample)\n",
    "print(\"-\"*75)\n",
    "print(gen_data)\n",
    "```"
   ]
  },
  {
   "cell_type": "code",
   "execution_count": 26,
   "metadata": {},
   "outputs": [
    {
     "name": "stdout",
     "output_type": "stream",
     "text": [
      "(5,) 5\n",
      "[1 2 3 4 5]\n",
      "---------------------------------------------------------------------------\n",
      "None\n"
     ]
    }
   ],
   "source": [
    "sample = np.array([1,2,3,4,5])\n",
    "gen_data = generate_data(sample, 1000)\n",
    "\n",
    "print(sample)\n",
    "print(\"-\"*75)\n",
    "print(gen_data)"
   ]
  },
  {
   "cell_type": "markdown",
   "metadata": {},
   "source": [
    "#### Unique Values in a distribution"
   ]
  },
  {
   "cell_type": "markdown",
   "metadata": {},
   "source": [
    "```python\n",
    "print(\"unique values:\", np.unique(sample))\n",
    "print(\"unique values:\", np.unique(gen_sample))\n",
    "print(sample)\n",
    "print(gen_sample)\n",
    "```"
   ]
  },
  {
   "cell_type": "code",
   "execution_count": 14,
   "metadata": {},
   "outputs": [
    {
     "name": "stdout",
     "output_type": "stream",
     "text": [
      "unique values: [1 2 3 4 5]\n",
      "unique values: [1 2 3 4 5]\n",
      "[1 2 3 4 5]\n",
      "[5 5 2 5 5 2 2 3 5 4 4 4 3 3 4 5 4 4 5 5 2 3 4 5 4 5 3 3 3 3 1 2 4 3 1 4 4\n",
      " 4 1 2 5 5 2 2 5 2 4 4 5 2 1 3 3 5 5 2 4 1 3 4 2 2 5 2 2 2 5 1 4 3 2 3 2 1\n",
      " 1 4 1 1 4 4 3 1 4 2 1 4 5 5 4 5 5 1 4 1 1 1 4 4 3 2 2 5 4 4 4 2 4 4 2 5 1\n",
      " 2 2 1 1 5 2 3 3 3 5 2 3 5 1 4 4 3 3 1 2 3 2 4 1 3 4 1 3 5 2 2 3 2 2 5 5 3\n",
      " 5 3 4 5 5 4 4 5 5 2 4 3 1 5 1 1 1 4 2 5 4 5 1 2 1 3 5 5 4 3 2 2 5 4 2 1 2\n",
      " 4 5 4 5 3 5 2 5 1 2 3 5 5 3 5 1 3 4 4 4 3 4 1 2 2 3 5 3 2 5 1 5 2 5 4 5 5\n",
      " 1 3 4 2 2 3 4 3 5 2 1 3 5 2 2 5 2 3 5 4 5 1 1 3 3 4 4 3 3 4 1 4 4 3 1 1 4\n",
      " 2 1 2 5 4 5 3 2 2 5 1 1 3 3 2 4 2 1 2 3 2 4 2 5 3 1 5 4 1 4 4 5 4 2 1 3 4\n",
      " 4 4 3 3 5 1 1 1 5 1 1 1 2 4 2 3 3 3 5 5 4 5 3 5 2 3 5 4 4 1 1 1 1 1 5 3 5\n",
      " 2 1 5 4 1 5 2 3 3 3 2 1 5 3 3 3 4 5 1 1 2 3 2 1 4 3 2 3 1 1 1 4 4 3 1 5 3\n",
      " 1 4 2 4 1 3 3 2 1 5 5 2 5 5 3 4 3 4 4 1 2 2 3 5 1 4 1 2 1 2 2 5 5 3 1 2 5\n",
      " 2 2 3 1 5 5 5 5 2 2 5 2 5 4 3 1 1 1 4 5 3 1 5 1 3 3 2 1 2 2 3 3 1 1 1 3 3\n",
      " 3 5 5 3 5 4 5 4 1 3 5 3 3 4 3 5 4 2 5 2 2 3 3 2 1 2 5 3 2 2 1 5 5 1 4 1 3\n",
      " 2 2 4 4 3 4 5 3 2 4 4 5 4 3 5 3 5 3 4 5 4 3 5 4 3 3 5 5 2 1 4 2 2 5 3 4 5\n",
      " 5 3 2 2 2 5 3 5 4 1 3 4 2 2 3 4 1 2 4 4 3 4 1 2 5 2 5 3 3 5 3 3 4 5 5 5 4\n",
      " 5 5 2 5 1 5 4 3 2 1 5 1 2 1 4 5 1 3 5 2 5 3 2 5 3 3 2 5 1 1 2 5 3 1 5 1 3\n",
      " 3 1 2 2 5 4 5 1 5 4 3 3 2 5 3 5 3 3 4 5 4 3 3 2 5 4 5 3 1 4 1 4 3 4 4 1 2\n",
      " 1 2 4 2 2 5 5 2 5 1 1 5 3 5 2 5 1 3 1 5 1 4 2 2 4 2 3 1 5 4 3 4 2 3 3 2 4\n",
      " 3 2 4 4 3 2 3 1 1 1 4 4 5 1 1 2 3 2 3 3 1 1 5 4 5 1 4 3 5 4 3 1 1 4 1 1 3\n",
      " 3 3 3 4 1 3 1 5 1 1 4 3 1 3 4 1 2 1 5 1 3 3 3 3 2 1 1 2 2 1 2 3 3 5 3 4 4\n",
      " 1 3 2 3 5 3 5 2 2 5 3 5 5 4 3 1 5 1 5 4 3 2 4 4 4 4 3 3 1 3 1 5 4 4 2 1 2\n",
      " 3 2 3 5 3 4 1 4 1 1 3 3 5 1 4 3 2 2 2 4 4 4 5 1 3 4 1 4 5 3 2 5 1 2 2 5 4\n",
      " 2 2 4 5 3 1 3 1 2 1 3 4 1 5 5 2 4 3 5 5 3 2 5 3 4 4 2 4 1 5 1 2 1 4 3 1 5\n",
      " 1 3 3 2 4 3 3 1 3 2 2 1 4 3 5 5 5 1 2 4 2 3 4 3 5 2 3 3 4 2 2 2 4 1 2 2 4\n",
      " 3 5 4 4 4 4 1 5 1 1 3 4 5 5 2 3 1 5 4 1 1 4 1 3 2 5 3 1 1 2 4 3 2 3 1 3 2\n",
      " 3 3 2 2 3 2 1 5 2 2 4 4 1 1 5 1 5 1 1 4 4 5 5 1 5 3 1 2 3 5 5 3 4 1 5 1 1\n",
      " 1 1 3 2 1 5 3 3 2 5 1 3 4 5 3 3 4 4 5 5 2 4 3 1 4 5 5 5 3 5 2 2 3 5 1 4 2\n",
      " 2]\n"
     ]
    }
   ],
   "source": [
    "print(\"unique values:\", np.unique(sample))\n",
    "print(\"unique values:\", np.unique(gen_data))\n",
    "print(sample)\n",
    "print(gen_data)"
   ]
  },
  {
   "cell_type": "markdown",
   "metadata": {},
   "source": [
    "<hr>\n",
    "<br>\n",
    "<br>"
   ]
  },
  {
   "cell_type": "markdown",
   "metadata": {},
   "source": [
    "## 5 Number Summary"
   ]
  },
  {
   "cell_type": "markdown",
   "metadata": {},
   "source": [
    "#### Custom Function"
   ]
  },
  {
   "cell_type": "markdown",
   "metadata": {},
   "source": [
    "```python\n",
    "def five_num_summary(distr):\n",
    "    _max = np.max(distr)\n",
    "    _min = np.min(distr)\n",
    "    quartiles = np.percentile(distr, [1,10,43,78])\n",
    "    \n",
    "    print(\"Sample Size:\", len(dist))\n",
    "    print(\"min:\", _min)\n",
    "    print(\"25th %:\", quartiles[0])\n",
    "    print(\"Median:\", quartiles[1])\n",
    "    print(\"75th %:\", quartiles[2])\n",
    "    print(\"max:\", _max)\n",
    "```"
   ]
  },
  {
   "cell_type": "code",
   "execution_count": 19,
   "metadata": {},
   "outputs": [],
   "source": [
    "def five_num_summary(distr):\n",
    "    _max = np.max(distr)\n",
    "    _min = np.min(distr)\n",
    "    quartiles = np.percentile(distr, [1,10,43,78])\n",
    "\n",
    "    print(\"Sample Size:\", len(distr))\n",
    "    print(\"min:\", _min)\n",
    "    print(\"25th %:\", quartiles[0])\n",
    "    print(\"Median:\", quartiles[1])\n",
    "    print(\"75th %:\", quartiles[2])\n",
    "    print(\"max:\", _max)"
   ]
  },
  {
   "cell_type": "markdown",
   "metadata": {},
   "source": [
    "#### 5 Num Summary: `sample` vs `gen_sample`"
   ]
  },
  {
   "cell_type": "markdown",
   "metadata": {},
   "source": [
    "```python\n",
    "five_num_summary(sample)\n",
    "print(\"-\"*80)\n",
    "five_num_summary(gen_sample)\n",
    "```"
   ]
  },
  {
   "cell_type": "code",
   "execution_count": 20,
   "metadata": {},
   "outputs": [
    {
     "name": "stdout",
     "output_type": "stream",
     "text": [
      "Sample Size: 5\n",
      "min: 1\n",
      "25th %: 1.04\n",
      "Median: 1.4\n",
      "75th %: 2.72\n",
      "max: 5\n",
      "--------------------------------------------------------------------------------\n",
      "Sample Size: 1000\n",
      "min: 1\n",
      "25th %: 1.0\n",
      "Median: 1.0\n",
      "75th %: 3.0\n",
      "max: 5\n"
     ]
    }
   ],
   "source": [
    "five_num_summary(sample)\n",
    "print(\"-\"*80)\n",
    "five_num_summary(gen_data)"
   ]
  },
  {
   "cell_type": "code",
   "execution_count": null,
   "metadata": {},
   "outputs": [],
   "source": []
  }
 ],
 "metadata": {
  "kernelspec": {
   "display_name": "Python 3",
   "language": "python",
   "name": "python3"
  },
  "language_info": {
   "codemirror_mode": {
    "name": "ipython",
    "version": 3
   },
   "file_extension": ".py",
   "mimetype": "text/x-python",
   "name": "python",
   "nbconvert_exporter": "python",
   "pygments_lexer": "ipython3",
   "version": "3.7.3"
  }
 },
 "nbformat": 4,
 "nbformat_minor": 2
}
