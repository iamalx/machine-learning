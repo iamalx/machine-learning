{
 "cells": [
  {
   "cell_type": "markdown",
   "metadata": {},
   "source": [
    "# Matplotlib Basics"
   ]
  },
  {
   "cell_type": "markdown",
   "metadata": {},
   "source": [
    "### Import `matplotlib.pyplot` package\n",
    "We use `as` to give the package an `alias`, aka we can reference the entire package with fewer characters."
   ]
  },
  {
   "cell_type": "markdown",
   "metadata": {},
   "source": [
    "```python\n",
    "import matplotlib.pyplot as plt\n",
    "```"
   ]
  },
  {
   "cell_type": "code",
   "execution_count": null,
   "metadata": {},
   "outputs": [],
   "source": []
  },
  {
   "cell_type": "markdown",
   "metadata": {},
   "source": [
    "<hr>\n",
    "<br>"
   ]
  },
  {
   "cell_type": "markdown",
   "metadata": {
    "collapsed": true
   },
   "source": [
    "## 0. Create \"Fake\" data\n",
    "\n",
    "Let's walk through a few simple examples using two `numpy` arrays. We will use a few interesting properties of numpy arrays to accomplish this...You can also use `python` `lists`, but most likely you'll be passing `numpy` `arrays` or `pandas` `Series` (*More on these later*)."
   ]
  },
  {
   "cell_type": "markdown",
   "metadata": {},
   "source": [
    "### First, Import `numpy` package\n",
    "We use the `as` keyword to give the package an alias, aka we can reference the entire package with fewer characters."
   ]
  },
  {
   "cell_type": "markdown",
   "metadata": {},
   "source": [
    "```python\n",
    "import numpy as np\n",
    "```"
   ]
  },
  {
   "cell_type": "code",
   "execution_count": null,
   "metadata": {},
   "outputs": [],
   "source": []
  },
  {
   "cell_type": "markdown",
   "metadata": {
    "collapsed": true
   },
   "source": [
    "**The data we want to plot:**"
   ]
  },
  {
   "cell_type": "markdown",
   "metadata": {},
   "source": [
    "```python\n",
    "\n",
    "x = np.linspace(0, 5, 11)\n",
    "y = x ** 2\n",
    "\n",
    "print(x)\n",
    "print(y)\n",
    "\n",
    "```"
   ]
  },
  {
   "cell_type": "code",
   "execution_count": null,
   "metadata": {},
   "outputs": [],
   "source": []
  },
  {
   "cell_type": "markdown",
   "metadata": {},
   "source": [
    "<hr>\n",
    "<br>\n",
    "<br>"
   ]
  },
  {
   "cell_type": "markdown",
   "metadata": {},
   "source": [
    "## 1. Basic Matplotlib Commands\n",
    "\n",
    "We can create a very simple line plots using the numpy arrays we created above."
   ]
  },
  {
   "cell_type": "markdown",
   "metadata": {},
   "source": [
    "### Single plot on a `figure` object"
   ]
  },
  {
   "cell_type": "markdown",
   "metadata": {},
   "source": [
    "**Simple Plot**\n",
    "\n",
    "```python\n",
    "# Set a figure\n",
    "fig = plt.figure()\n",
    "\n",
    "# grab the `ax` object\n",
    "ax = fig.gca()\n",
    "\n",
    "# Plot data\n",
    "ax.plot(x, y, 'r') # 'r' is the color red\n",
    "\n",
    "# Clean up output\n",
    "plt.show()\n",
    "```"
   ]
  },
  {
   "cell_type": "code",
   "execution_count": null,
   "metadata": {},
   "outputs": [],
   "source": []
  },
  {
   "cell_type": "markdown",
   "metadata": {},
   "source": [
    "**With Labels and Titles**\n",
    "\n",
    "```python\n",
    "# Set a figure\n",
    "fig = plt.figure()\n",
    "\n",
    "# Grab `ax` object\n",
    "ax = fig.gca()\n",
    "\n",
    "# Fig Title\n",
    "fig.suptitle(\"Canvas Title\")\n",
    "\n",
    "# Ax Title\n",
    "ax.set_title(\"Axis Title\")\n",
    "\n",
    "# Plot data\n",
    "ax.plot(x, y, 'r') # 'r' is the color red\n",
    "\n",
    "# Labels\n",
    "ax.set_xlabel(\"X-label\")\n",
    "ax.set_ylabel(\"y-label\")\n",
    "\n",
    "\n",
    "# Clean up output\n",
    "plt.show()\n",
    "```"
   ]
  },
  {
   "cell_type": "code",
   "execution_count": null,
   "metadata": {},
   "outputs": [],
   "source": []
  },
  {
   "cell_type": "markdown",
   "metadata": {},
   "source": [
    "<hr>\n",
    "<br>\n",
    "<br>"
   ]
  },
  {
   "cell_type": "markdown",
   "metadata": {},
   "source": [
    "### Multiple Plots on `suplots` object"
   ]
  },
  {
   "cell_type": "markdown",
   "metadata": {},
   "source": [
    "**Simple Plot**\n",
    "\n",
    "```python \n",
    "# Instantiate `subplots` object\n",
    "fig, ax = plt.subplots(1,2)\n",
    "\n",
    "# ax[0]\n",
    "ax[0].plot(x,y, \"r\")\n",
    "\n",
    "# ax[1]\n",
    "ax[1].plot(y,x, \"g--\")\n",
    "\n",
    "\n",
    "# Clean up `output`\n",
    "plt.show()\n",
    "```"
   ]
  },
  {
   "cell_type": "code",
   "execution_count": null,
   "metadata": {},
   "outputs": [],
   "source": []
  },
  {
   "cell_type": "markdown",
   "metadata": {},
   "source": [
    "**With Labels and Titles**\n",
    "\n",
    "``` python\n",
    "# Instantiate `subplots` object\n",
    "fig, ax = plt.subplots(1,2, constrained_layout=True)\n",
    "\n",
    "# Titles\n",
    "fig.suptitle('Figure/ Canvas Title')\n",
    "\n",
    "# ax[0]\n",
    "ax[0].plot(x,y, \"r\")\n",
    "ax[0].set_title('Left Title')\n",
    "ax[0].set_xlabel('X-Axis Title Here')\n",
    "ax[0].set_ylabel('Y-Axis Title Here')\n",
    "\n",
    "# ax[1]\n",
    "ax[1].plot(y,x, \"g--\")\n",
    "ax[1].set_title('Right Title')\n",
    "ax[1].set_xlabel('X-Axis Title Here')\n",
    "ax[1].set_ylabel('Y-Axis Title Here')\n",
    "\n",
    "# Clean up `output`\n",
    "plt.show()\n",
    "```"
   ]
  },
  {
   "cell_type": "code",
   "execution_count": null,
   "metadata": {},
   "outputs": [],
   "source": []
  },
  {
   "cell_type": "markdown",
   "metadata": {},
   "source": [
    "<hr>\n",
    "<br>\n",
    "<br>"
   ]
  },
  {
   "cell_type": "markdown",
   "metadata": {},
   "source": [
    "## 2. Saving figures\n",
    "Matplotlib can generate high-quality output in a number formats, including PNG, JPG, EPS, SVG, PGF and PDF. "
   ]
  },
  {
   "cell_type": "markdown",
   "metadata": {},
   "source": [
    "To save a figure to a file we can use the `savefig` method in the `Figure` class:"
   ]
  },
  {
   "cell_type": "markdown",
   "metadata": {},
   "source": [
    "```python\n",
    "fig.savefig(\"filename.png\")\n",
    "```"
   ]
  },
  {
   "cell_type": "code",
   "execution_count": null,
   "metadata": {},
   "outputs": [],
   "source": []
  },
  {
   "cell_type": "markdown",
   "metadata": {},
   "source": [
    "Here we can also optionally specify the DPI and choose between different output formats:"
   ]
  },
  {
   "cell_type": "markdown",
   "metadata": {},
   "source": [
    "```python\n",
    "fig.savefig(\"filename.png\", dpi=200)\n",
    "```"
   ]
  },
  {
   "cell_type": "code",
   "execution_count": null,
   "metadata": {},
   "outputs": [],
   "source": []
  },
  {
   "cell_type": "markdown",
   "metadata": {},
   "source": [
    "<hr>\n",
    "<br>\n",
    "<br>"
   ]
  },
  {
   "cell_type": "markdown",
   "metadata": {},
   "source": [
    "## 3. Titles, Axis Labels, and Legends"
   ]
  },
  {
   "cell_type": "markdown",
   "metadata": {},
   "source": [
    "Now that we have covered the basics of how to create a figure canvas and add axes instances to the canvas, let's look at how decorate a figure with titles, axis labels, and legends."
   ]
  },
  {
   "cell_type": "markdown",
   "metadata": {},
   "source": [
    "<br>"
   ]
  },
  {
   "cell_type": "markdown",
   "metadata": {},
   "source": [
    "### Figure titles\n",
    "\n",
    "A title can be added to each axis instance in a figure. To set the title, use the `set_title` method in the axes instance:"
   ]
  },
  {
   "cell_type": "markdown",
   "metadata": {},
   "source": [
    "```python\n",
    "ax[0].set_title(\"Left\")\n",
    "ax[1].set_title(\"Right\")\n",
    "```"
   ]
  },
  {
   "cell_type": "markdown",
   "metadata": {},
   "source": [
    "**In Context**\n",
    "\n",
    "```python\n",
    "# Instantiate figure and axis objects\n",
    "fig, ax = plt.subplots(1,2)\n",
    "\n",
    "# ax[0]\n",
    "ax[0].set_title(\"Left\")\n",
    "\n",
    "# ax[1]\n",
    "ax[1].set_title(\"Right\")\n",
    "\n",
    "\n",
    "# Clean up plt \"output\"\n",
    "plt.show()\n",
    "```"
   ]
  },
  {
   "cell_type": "code",
   "execution_count": null,
   "metadata": {},
   "outputs": [],
   "source": []
  },
  {
   "cell_type": "markdown",
   "metadata": {},
   "source": [
    "<br>"
   ]
  },
  {
   "cell_type": "markdown",
   "metadata": {},
   "source": [
    "### Axis labels\n",
    "\n",
    "Similarly, with the methods `set_xlabel` and `set_ylabel`, we can set the labels of the X and Y axes:"
   ]
  },
  {
   "cell_type": "markdown",
   "metadata": {},
   "source": [
    "```python\n",
    "ax[0].set_xlabel(\"x\",fontsize=30)\n",
    "ax[0].set_ylabel(\"y\", fontsize=30)\n",
    "\n",
    "ax[1].set_xlabel(\"x\",fontsize=20)\n",
    "ax[1].set_ylabel(\"y\", fontsize=20)\n",
    "```"
   ]
  },
  {
   "cell_type": "markdown",
   "metadata": {},
   "source": [
    "**In Context**\n",
    "\n",
    "```python\n",
    "# Instantiate figure and axes objects\n",
    "fig, ax = plt.subplots(1,2)\n",
    "# optional parameter: constrained_layout=True\n",
    "\n",
    "\n",
    "# ax[0]\n",
    "ax[0].set_title(\"Left\")\n",
    "ax[0].set_xlabel(\"x\",fontsize=30)\n",
    "ax[0].set_ylabel(\"y\", fontsize=30)\n",
    "\n",
    "\n",
    "# ax[1]\n",
    "ax[1].set_title(\"Right\")\n",
    "ax[1].set_xlabel(\"x\",fontsize=20)\n",
    "ax[1].set_ylabel(\"y\", fontsize=20)\n",
    "\n",
    "\n",
    "# Clean-up plt \"output\"\n",
    "plt.show()\n",
    "\n",
    "```"
   ]
  },
  {
   "cell_type": "code",
   "execution_count": null,
   "metadata": {},
   "outputs": [],
   "source": []
  },
  {
   "cell_type": "markdown",
   "metadata": {},
   "source": [
    "<br>"
   ]
  },
  {
   "cell_type": "markdown",
   "metadata": {},
   "source": [
    "### Legends"
   ]
  },
  {
   "cell_type": "markdown",
   "metadata": {},
   "source": [
    "You can use the **label=\"label text\"** keyword argument when plots or other objects are added to the figure, and then using the **legend** method without arguments to add the legend to the figure: "
   ]
  },
  {
   "cell_type": "markdown",
   "metadata": {},
   "source": [
    "```python\n",
    "\n",
    "fig = plt.figure(figsize=(12,4)) \n",
    "\n",
    "plt.plot(x, x**2, label=\"x^2\")\n",
    "plt.plot(x, x**3, label=\"x^3\")\n",
    "\n",
    "plt.legend(loc=\"upper left\")\n",
    "\n",
    "plt.show()\n",
    "\n",
    "```"
   ]
  },
  {
   "cell_type": "code",
   "execution_count": null,
   "metadata": {},
   "outputs": [],
   "source": []
  },
  {
   "cell_type": "markdown",
   "metadata": {},
   "source": [
    "<hr>\n",
    "<br>\n",
    "<br>"
   ]
  },
  {
   "cell_type": "markdown",
   "metadata": {},
   "source": [
    "## 4. Setting `color`, `linewidth`, and `linetype`\n",
    "\n",
    "Matplotlib gives you *a lot* of options for customizing colors, linewidths, and linetypes. \n",
    "\n",
    "There is the basic MATLAB like syntax (which I would suggest you avoid using for more clairty sake:"
   ]
  },
  {
   "cell_type": "markdown",
   "metadata": {},
   "source": [
    "### Colors with the `color` parameter"
   ]
  },
  {
   "cell_type": "markdown",
   "metadata": {},
   "source": [
    "We can also define colors by their names or RGB hex codes and optionally provide an alpha value using the `color` and `alpha` keyword arguments. Alpha indicates opacity."
   ]
  },
  {
   "cell_type": "markdown",
   "metadata": {},
   "source": [
    "```python\n",
    "fig, ax = plt.subplots()\n",
    "\n",
    "ax.plot(x, x+1, color=\"blue\", alpha=0.5) # half-transparant\n",
    "ax.plot(x, x+2, color=\"#8B008B\")        # RGB hex code\n",
    "ax.plot(x, x+3, color=\"#FF8C00\")        # RGB hex code \n",
    "\n",
    "plt.show()\n",
    "```"
   ]
  },
  {
   "cell_type": "code",
   "execution_count": null,
   "metadata": {},
   "outputs": [],
   "source": []
  },
  {
   "cell_type": "markdown",
   "metadata": {},
   "source": [
    "### `line` and `marker` styles"
   ]
  },
  {
   "cell_type": "markdown",
   "metadata": {},
   "source": [
    "To change the line width, we can use the `linewidth` or `lw` keyword argument. The line style can be selected using the `linestyle` or `ls` keyword arguments:"
   ]
  },
  {
   "cell_type": "markdown",
   "metadata": {},
   "source": [
    "```python\n",
    "\n",
    "fig, ax = plt.subplots(figsize=(12,6))\n",
    "\n",
    "# linewidth\n",
    "ax.plot(x, x+1, color= \"red\", linewidth= 0.25)\n",
    "ax.plot(x, x+2, color= \"red\", lw= 0.50)\n",
    "ax.plot(x, x+3, color= \"red\", lw= 1.00)\n",
    "ax.plot(x, x+4, color= \"red\", lw= 2.00)\n",
    "\n",
    "# possible linestype options ‘-‘, ‘–’, ‘-.’, ‘:’, ‘steps’\n",
    "ax.plot(x, x+5, color= \"green\", lw= 3, linestyle= '-')\n",
    "ax.plot(x, x+6, color= \"green\", lw= 3, ls= '-.')\n",
    "ax.plot(x, x+7, color= \"green\", lw= 3, ls= ':')\n",
    "\n",
    "# custom dash\n",
    "line, = ax.plot(x, x+8, color= \"black\", lw=1.50)\n",
    "line.set_dashes([5, 10, 15, 10]) # format: line length, space length, ...\n",
    "\n",
    "# possible marker symbols: marker = '+', 'o', '*', 's', ',', '.', '1', '2', '3', '4', ...\n",
    "ax.plot(x, x+ 9, color=\"blue\", lw=3, ls='-', marker='+')\n",
    "ax.plot(x, x+10, color=\"blue\", lw=3, ls='--', marker='o')\n",
    "ax.plot(x, x+11, color=\"blue\", lw=3, ls='-', marker='s')\n",
    "ax.plot(x, x+12, color=\"blue\", lw=3, ls='--', marker='x')\n",
    "\n",
    "# marker size and color\n",
    "ax.plot(x, x+13, color=\"purple\", lw=1, ls='-', marker='o', markersize=2)\n",
    "ax.plot(x, x+14, color=\"purple\", lw=1, ls='-', marker='o', ms=4, \n",
    "        markerfacecolor=\"white\")\n",
    "ax.plot(x, x+15, color=\"purple\", lw=1, ls='-', marker='o', ms=8, \n",
    "        mfc=\"orange\", markeredgewidth=3)\n",
    "ax.plot(x, x+16, color=\"purple\", lw=1, ls='-', marker='s', ms=8, \n",
    "        mfc=\"orange\", mew=1, mec=\"green\");\n",
    "\n",
    "```"
   ]
  },
  {
   "cell_type": "code",
   "execution_count": null,
   "metadata": {},
   "outputs": [],
   "source": []
  },
  {
   "cell_type": "markdown",
   "metadata": {},
   "source": [
    "<hr>\n",
    "<br>\n",
    "<br>"
   ]
  },
  {
   "cell_type": "markdown",
   "metadata": {},
   "source": [
    "## 5. Control over axis appearance"
   ]
  },
  {
   "cell_type": "markdown",
   "metadata": {},
   "source": [
    "**In this section we will look at controlling axis sizing properties in a matplotlib figure.**"
   ]
  },
  {
   "cell_type": "markdown",
   "metadata": {},
   "source": [
    "### `set_ylim` and `set_xlim`"
   ]
  },
  {
   "cell_type": "markdown",
   "metadata": {},
   "source": [
    "We can configure the ranges of the axes using the `set_ylim` and `set_xlim` methods in the axis object, or `axis('tight')` for automatically getting \"tightly fitted\" axes ranges:"
   ]
  },
  {
   "cell_type": "markdown",
   "metadata": {},
   "source": [
    "```python\n",
    "\n",
    "# Instantiate figure and axes objects\n",
    "fig, axes = plt.subplots(1, 3, figsize=(12, 4))\n",
    "\n",
    "# ax[0]\n",
    "axes[0].plot(x, x**2)\n",
    "axes[0].plot(x, x**3)\n",
    "axes[0].set_title(\"default axes ranges\")\n",
    "\n",
    "\n",
    "\n",
    "# ax[1]\n",
    "axes[1].plot(x, x**2)\n",
    "axes[1].plot(x, x**3)\n",
    "axes[1].set_title(\"tight axes\")\n",
    "\n",
    "# set axis range with .axis() method\n",
    "axes[1].axis('tight')\n",
    "\n",
    "\n",
    "\n",
    "# ax[2]\n",
    "axes[2].plot(x, x**2)\n",
    "axes[2].plot(x, x**3)\n",
    "axes[2].set_title(\"custom axes range\");\n",
    "\n",
    "# set axis range with `set_ylim()` and `set_xlim()` methods \n",
    "axes[2].set_ylim([0, 60])\n",
    "axes[2].set_xlim([2, 5])\n",
    "\n",
    "\n",
    "\n",
    "plt.show()\n",
    "\n",
    "```"
   ]
  },
  {
   "cell_type": "code",
   "execution_count": null,
   "metadata": {},
   "outputs": [],
   "source": []
  },
  {
   "cell_type": "markdown",
   "metadata": {},
   "source": [
    "<hr>\n",
    "<br>\n",
    "<br>"
   ]
  },
  {
   "cell_type": "markdown",
   "metadata": {},
   "source": [
    "## Resources "
   ]
  },
  {
   "cell_type": "markdown",
   "metadata": {},
   "source": [
    "* http://www.matplotlib.org - The project web page for matplotlib.\n",
    "* https://github.com/matplotlib/matplotlib - The source code for matplotlib.\n",
    "* http://matplotlib.org/gallery.html - A large gallery showcaseing various types of plots matplotlib can create. Highly recommended! \n",
    "* http://www.loria.fr/~rougier/teaching/matplotlib - A good matplotlib tutorial.\n",
    "* http://scipy-lectures.github.io/matplotlib/matplotlib.html - Another good matplotlib reference.\n"
   ]
  }
 ],
 "metadata": {
  "kernelspec": {
   "display_name": "Python 3",
   "language": "python",
   "name": "python3"
  },
  "language_info": {
   "codemirror_mode": {
    "name": "ipython",
    "version": 3
   },
   "file_extension": ".py",
   "mimetype": "text/x-python",
   "name": "python",
   "nbconvert_exporter": "python",
   "pygments_lexer": "ipython3",
   "version": "3.7.1"
  }
 },
 "nbformat": 4,
 "nbformat_minor": 1
}
